{
 "cells": [
  {
   "cell_type": "code",
   "execution_count": null,
   "metadata": {},
   "outputs": [],
   "source": [
    "from src.data import open_data\n",
    "from uwnet.wave import LinearResponseFunction, WaveEq, base_from_xarray, model_plus_damping\n",
    "import torch\n",
    "\n",
    "import xarray as xr\n",
    "\n",
    "import numpy as np\n",
    "\n",
    "from uwnet.thermo import ngaqua_y_to_lat\n",
    "import matplotlib.pyplot as plt\n",
    "\n",
    "plt.rcParams['savefig.dpi'] = 150"
   ]
  },
  {
   "cell_type": "code",
   "execution_count": null,
   "metadata": {},
   "outputs": [],
   "source": [
    "model_path = \"../../../nn/NNAll/20.pkl\"\n",
    "\n",
    "mean = open_data('mean')\n",
    "mean['rho'] = open_data('density')\n",
    "mean['lat'] = ngaqua_y_to_lat(mean.y)\n",
    "\n",
    "# need to wrap with this class or it fails\n",
    "model = model_plus_damping(torch.load(model_path).eval())\n",
    "\n",
    "def compute_lrf(loc):\n",
    "    mean = loc.mean('y')\n",
    "    base_state = base_from_xarray(mean)\n",
    "    return LinearResponseFunction.from_model(model, base_state)\n",
    "\n",
    "\n",
    "# compute lrfs in 7 different abs(lat) bins\n",
    "bins = 7\n",
    "lrfs = {y.mid: compute_lrf(loc) for y, loc in mean.groupby_bins(np.abs(mean.lat), bins=bins)}\n",
    "\n",
    "def plot_vary_lat(lrfs, ink, out):\n",
    "\n",
    "    n = len(lrfs)\n",
    "    p = mean.p.values\n",
    "    fig, axs = plt.subplots(1, bins, figsize=(10, 2), sharex=True, sharey=True)\n",
    "\n",
    "    for ax, (latitude, lrf) in zip(axs.flat, lrfs.items()):\n",
    "        im = ax.pcolormesh(p, p, 86400*lrf.panes[out][ink], vmax=1, vmin=-1, cmap='RdBu_r')\n",
    "        ax.text(1000, 10, \"lat = %.1f\"%latitude)\n",
    "        \n",
    "    fig.colorbar(im, ax=axs.tolist(), pad=.001)\n",
    "    ax.invert_yaxis()\n",
    "    ax.invert_xaxis()\n",
    "    plt.savefig(f\"LRFSVaryLat_in-{ink}_out-{out}.pdf\")"
   ]
  },
  {
   "cell_type": "code",
   "execution_count": null,
   "metadata": {},
   "outputs": [],
   "source": [
    "plot_vary_lat(lrfs, 'q', 'q')"
   ]
  },
  {
   "cell_type": "code",
   "execution_count": null,
   "metadata": {},
   "outputs": [],
   "source": [
    "plot_vary_lat(lrfs, 's', 's')"
   ]
  },
  {
   "cell_type": "code",
   "execution_count": null,
   "metadata": {},
   "outputs": [],
   "source": [
    "plot_vary_lat(lrfs, 'q', 's')"
   ]
  },
  {
   "cell_type": "code",
   "execution_count": null,
   "metadata": {},
   "outputs": [],
   "source": [
    "plot_vary_lat(lrfs, 's', 'q')"
   ]
  }
 ],
 "metadata": {
  "kernelspec": {
   "display_name": "Python 3",
   "language": "python",
   "name": "python3"
  },
  "language_info": {
   "codemirror_mode": {
    "name": "ipython",
    "version": 3
   },
   "file_extension": ".py",
   "mimetype": "text/x-python",
   "name": "python",
   "nbconvert_exporter": "python",
   "pygments_lexer": "ipython3",
   "version": "3.7.3"
  }
 },
 "nbformat": 4,
 "nbformat_minor": 4
}
