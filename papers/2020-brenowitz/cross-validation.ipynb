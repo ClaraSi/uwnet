{
 "cells": [
  {
   "cell_type": "code",
   "execution_count": 27,
   "metadata": {},
   "outputs": [],
   "source": [
    "import json\n",
    "import xarray\n",
    "import numpy as np\n",
    "\n",
    "from toolz.curried import valmap\n",
    "\n",
    "def mass_integrate(metrics, mass):\n",
    "    return {k: np.mean(mass * v)/np.mean(mass) for k, v in metrics.items()}"
   ]
  },
  {
   "cell_type": "code",
   "execution_count": 30,
   "metadata": {},
   "outputs": [
    {
     "name": "stdout",
     "output_type": "stream",
     "text": [
      "Training scores:\n",
      "{'mse_apparent_source_qt': 1.5068486214842003, 'mse_apparent_source_sli': 3.472172206949308}\n",
      "\n",
      " Testing scores:\n",
      "{'mse_apparent_source_qt': 1.4827829174154097, 'mse_apparent_source_sli': 3.4680856402055813}\n"
     ]
    }
   ],
   "source": [
    "with open(\"nn/NNAll/20.train.json\") as f:\n",
    "    metrics_train = json.load(f)\n",
    "    \n",
    "with open(\"nn/NNAll/20.test.json\") as f:\n",
    "    metrics_test = json.load(f)\n",
    "    \n",
    "ds = xarray.open_dataset(\"data/processed/training/noBlur.nc\")\n",
    "mass = ds.layer_mass.isel(time=0).values\n",
    "\n",
    "print(\"Training scores:\")\n",
    "print(valmap(np.sqrt, mass_integrate(metrics_train, mass)))\n",
    "\n",
    "print(\"\\n Testing scores:\")\n",
    "print(valmap(np.sqrt, mass_integrate(metrics_test, mass)))"
   ]
  }
 ],
 "metadata": {
  "kernelspec": {
   "display_name": "Python 3",
   "language": "python",
   "name": "python3"
  },
  "language_info": {
   "codemirror_mode": {
    "name": "ipython",
    "version": 3
   },
   "file_extension": ".py",
   "mimetype": "text/x-python",
   "name": "python",
   "nbconvert_exporter": "python",
   "pygments_lexer": "ipython3",
   "version": "3.7.7"
  }
 },
 "nbformat": 4,
 "nbformat_minor": 4
}
