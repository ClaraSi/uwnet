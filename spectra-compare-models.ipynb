{
 "cells": [
  {
   "cell_type": "markdown",
   "metadata": {},
   "source": [
    "Kuang found that the standing stability did not occur if radiation was exlcuded from the analysis. Is this true for our data as well."
   ]
  },
  {
   "cell_type": "code",
   "execution_count": null,
   "metadata": {},
   "outputs": [],
   "source": [
    "%matplotlib inline\n",
    "%load_ext autoreload\n",
    "%autoreload 2\n",
    "\n",
    "from spectra import *"
   ]
  },
  {
   "cell_type": "code",
   "execution_count": null,
   "metadata": {},
   "outputs": [],
   "source": [
    "k = 3e-5\n",
    "spectra_report(\n",
    "    \"../../nn/NNLowerNoQRAD/20.pkl\",\n",
    "    xlim_zoom=(-1, 1),\n",
    "    structure_plots=[\n",
    "        (k, .50, .6),\n",
    "        (k, 0, .4)\n",
    "    ]\n",
    ")"
   ]
  },
  {
   "cell_type": "code",
   "execution_count": null,
   "metadata": {},
   "outputs": [],
   "source": [
    "k = .00001\n",
    "spectra_report(\n",
    "    \"../../nn/NNLowerDecayLR/20.pkl\",\n",
    "    xlim_zoom=(-1, 1),\n",
    "    structure_plots=[\n",
    "        (k, .1, .2),\n",
    "        (6e-5, 0, .8)\n",
    "    ]\n",
    ")"
   ]
  },
  {
   "cell_type": "code",
   "execution_count": null,
   "metadata": {},
   "outputs": [],
   "source": [
    "spectra_report(\n",
    "    \"../../nn/NNAll/20.pkl\",\n",
    "    xlim_zoom=(-20, 20),\n",
    "    structure_plots=[\n",
    "        (1e-6, 50, 1.0),\n",
    "        (6e-5, 15, 0.4)\n",
    "    ]\n",
    ")"
   ]
  }
 ],
 "metadata": {
  "kernelspec": {
   "display_name": "Python 3",
   "language": "python",
   "name": "python3"
  },
  "language_info": {
   "codemirror_mode": {
    "name": "ipython",
    "version": 3
   },
   "file_extension": ".py",
   "mimetype": "text/x-python",
   "name": "python",
   "nbconvert_exporter": "python",
   "pygments_lexer": "ipython3",
   "version": "3.7.3"
  }
 },
 "nbformat": 4,
 "nbformat_minor": 4
}
