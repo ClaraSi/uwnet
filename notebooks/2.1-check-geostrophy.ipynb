{
 "cells": [
  {
   "cell_type": "markdown",
   "metadata": {},
   "source": [
    "In the last notebook, I showed that turning on the SGS and damping improves the surface winds, but the tropospheric winds are still doing crazy things. I did check that the winds in NGAqua almost obey geostrophic balance in [notebook 1.7](https://atmos.washington.edu/~nbren12/reports/uwnet/1.8-lower-atmosphere-nn.html#Prognose-U-and-V), but I will do so again here."
   ]
  },
  {
   "cell_type": "code",
   "execution_count": null,
   "metadata": {},
   "outputs": [],
   "source": [
    "import holoviews as hv\n",
    "hv.extension('matplotlib')\n",
    "\n",
    "%opts QuadMesh[colorbar=True](cmap='RdBu_r') \n",
    "%opts Image[colorbar=True](cmap='RdBu_r') "
   ]
  },
  {
   "cell_type": "code",
   "execution_count": null,
   "metadata": {},
   "outputs": [],
   "source": [
    "from uwnet.thermo import coriolis_ngaqua, ngaqua_y_to_lat, get_geostrophic_winds\n",
    "from gnl.xarray import centderiv"
   ]
  },
  {
   "cell_type": "code",
   "execution_count": null,
   "metadata": {},
   "outputs": [],
   "source": [
    "path = \"/Users/noah/workspace/research/uwnet/data/runs/dosfc_dodamp_dosgs/OUT_3D/*.nc\"\n",
    "c_sam_2d_path = '/Users/noah/workspace/research/uwnet/data/runs/dosfc_dodamp_dosgs/OUT_2D/*.nc'\n",
    "ngaqua_path = \"/Users/noah/Data/2018-05-30-NG_5120x2560x34_4km_10s_QOBS_EQX/\""
   ]
  },
  {
   "cell_type": "code",
   "execution_count": null,
   "metadata": {},
   "outputs": [],
   "source": [
    "# need to open original ng-aqua data to get PP\n",
    "ds_cent = xr.open_dataset(ngaqua_path + \"/coarse/3d/all.nc\", chunks={'time' : 1})\n",
    "ds_stag = xr.open_dataset(ngaqua_path + \"/stagger/3d/all.nc\", chunks={'time' : 1})\n",
    "\n",
    "rho = xr.open_dataset(ngaqua_path + \"stat.nc\").RHO[0]\n",
    "\n",
    "v_int = ds_stag.V.rename({'xc': 'x', 'ys': 'y'})\n",
    "\n",
    "# get coriolis force\n",
    "ug, vg = get_geostrophic_winds(ds_cent.PP, rho, min_cor=2e-5)"
   ]
  },
  {
   "cell_type": "code",
   "execution_count": null,
   "metadata": {},
   "outputs": [],
   "source": [
    "hv.Dataset(vg[0].load()).to(hv.QuadMesh, [\"y\", \"z\"], dynamic=True, label=\"VG\").redim.range(VG=(-40,40)) \\\n",
    "+hv.Dataset(v_int[0]).to(hv.QuadMesh, [\"y\", \"z\"], dynamic=True, label=\"V\").redim.range(V=(-40,40))"
   ]
  },
  {
   "cell_type": "code",
   "execution_count": null,
   "metadata": {},
   "outputs": [],
   "source": [
    "hv.Dataset(vg[0].load()).to(hv.Curve, \"y\", dynamic=True, label=\"VG\").redim.range(VG=(-40,40)) *\\\n",
    "hv.Dataset(v_int[0].load()).to(hv.Curve, \"y\", dynamic=True, label=\"V\").redim.range(VG=(-40,40)) "
   ]
  },
  {
   "cell_type": "code",
   "execution_count": null,
   "metadata": {},
   "outputs": [],
   "source": [
    "hv.Dataset(vg[0].mean('x')).to(hv.QuadMesh, [\"y\", \"z\"], dynamic=True, label=\"VG\").redim.range(VG=(-10,10)) \\\n",
    "+hv.Dataset(v_int[0].mean('x')).to(hv.QuadMesh, [\"y\", \"z\"], dynamic=True, label=\"V\").redim.range(V=(-10,10))"
   ]
  },
  {
   "cell_type": "markdown",
   "metadata": {},
   "source": [
    "The geostrophic winds in the "
   ]
  },
  {
   "cell_type": "code",
   "execution_count": null,
   "metadata": {},
   "outputs": [],
   "source": [
    "coarse_sam_nn = xr.open_mfdataset(path)\n",
    "\n",
    "ug, vg = get_geostrophic_winds(coarse_sam_nn.PP, rho)"
   ]
  },
  {
   "cell_type": "code",
   "execution_count": null,
   "metadata": {},
   "outputs": [],
   "source": [
    "%%output size=200\n",
    "\n",
    "hv.Dataset(vg).to.image([\"x\", \"y\"], dynamic=True).redim.range(VG=(-20,20))\n",
    "# hv.Dataset(coarse_sam_nn.V).to.image([\"x\", \"y\"], dynamic=True)"
   ]
  },
  {
   "cell_type": "code",
   "execution_count": null,
   "metadata": {},
   "outputs": [],
   "source": [
    "%%output size=200\n",
    "dmap = hv.Dataset(coarse_sam_nn.V).to.image([\"x\", \"y\"], dynamic=True, label=\"SAM\").redim.range(V=(-20,20)) +\\\n",
    "hv.Dataset(v_int).to.image([\"x\", \"y\"], dynamic=True, label=\"NGAqua\").redim.range(V=(-20,20))"
   ]
  },
  {
   "cell_type": "code",
   "execution_count": null,
   "metadata": {},
   "outputs": [],
   "source": [
    "dmap.redim.values(time=coarse_sam_nn.time, z=[11116]).cols(1)"
   ]
  },
  {
   "cell_type": "code",
   "execution_count": null,
   "metadata": {},
   "outputs": [],
   "source": []
  },
  {
   "cell_type": "raw",
   "metadata": {},
   "source": [
    "%%output size=200\n",
    "%%opts Image.PS(cmap='viridis')\n",
    "\n",
    "\n",
    "ds_2d = xr.open_mfdataset(c_sam_2d_path)\n",
    "hv.Dataset(ds_2d.W500).to.image([\"x\", \"y\"]).redim.range(W500=(-.10, .10)) \\\n",
    "+hv.Dataset(ds_2d.PSFC).to.image([\"x\", \"y\"], group=\"PS\").redim.range(PSFC=(980, 1020))"
   ]
  }
 ],
 "metadata": {
  "kernelspec": {
   "display_name": "Python 3",
   "language": "python",
   "name": "python3"
  },
  "language_info": {
   "codemirror_mode": {
    "name": "ipython",
    "version": 3
   },
   "file_extension": ".py",
   "mimetype": "text/x-python",
   "name": "python",
   "nbconvert_exporter": "python",
   "pygments_lexer": "ipython3",
   "version": "3.6.6"
  }
 },
 "nbformat": 4,
 "nbformat_minor": 2
}
