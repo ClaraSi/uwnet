{
 "cells": [
  {
   "cell_type": "markdown",
   "metadata": {},
   "source": [
    "In the last notebook, I found that SAM is computing a drastically wrong forcing in the boundary layer. How do we fix this? I have a couple of idea about the cause\n",
    "\n",
    "1. The wind fields are imcompatible in the PBL, perhaps because the horizontal velocities are interface averages, but the vertical velocity is an average over a whole block.\n",
    "2. The sub-grid-scale scheme makes very large errors.\n",
    "\n",
    "Let's load and plot the training data to see, if either of these errors seems more obvious."
   ]
  },
  {
   "cell_type": "code",
   "execution_count": null,
   "metadata": {},
   "outputs": [],
   "source": [
    "%matplotlib inline\n",
    "\n",
    "import xarray as xr\n",
    "from os.path import join, abspath\n",
    "import os, sys\n",
    "from toolz import pipe\n",
    "import numpy as np\n",
    "import matplotlib.pyplot as plt\n",
    "\n",
    "sys.path.insert(0, abspath(\"../\"))\n",
    "sys.path\n",
    "\n",
    "import holoviews as hv\n",
    "hv.extension('bokeh')\n",
    "%opts Image[width=500, height=300, colorbar=True](cmap='magma') \n",
    "%opts QuadMesh[width=300,  height=150, colorbar=True](cmap='viridis')\n",
    "%opts Curve[width=500, height=int(500/1.61)]\n",
    "\n",
    "\n",
    "\n",
    "# PATHS\n",
    "DATA = abspath(os.getenv('RUN', '../data/processed/training.nc'))\n",
    "NGROOT = \"/Users/noah/Data/2018-05-30-NG_5120x2560x34_4km_10s_QOBS_EQX/\"\n",
    "# open data\n",
    "ds = xr.open_dataset(DATA)\n",
    "# only need to work with first time step\n",
    "ds0 = ds.isel(time=0)\n",
    "ds0"
   ]
  },
  {
   "cell_type": "code",
   "execution_count": null,
   "metadata": {},
   "outputs": [],
   "source": [
    "lay = hv.Image(ds0.V[0], label='V') + hv.Image(ds0.U[0], label='U') + hv.Image(ds0.W[1], label='W')\n",
    "lay.cols(2)"
   ]
  },
  {
   "cell_type": "markdown",
   "metadata": {},
   "source": [
    "What does the horizontal divergence in the first layer look like?"
   ]
  },
  {
   "cell_type": "code",
   "execution_count": null,
   "metadata": {},
   "outputs": [],
   "source": [
    "!pip install -U git+https://github.com/nbren12/gnl@master#subdirectory=python\n"
   ]
  },
  {
   "cell_type": "code",
   "execution_count": null,
   "metadata": {},
   "outputs": [],
   "source": [
    "from gnl.xarray.sam.regrid import diff_bc, shift_bc"
   ]
  },
  {
   "cell_type": "code",
   "execution_count": null,
   "metadata": {},
   "outputs": [],
   "source": [
    "d = 160e3\n",
    "\n",
    "def compute_div(ds0, rho):\n",
    "\n",
    "    rhow = (rho.shift(z=1).fillna(rho[0]) + rho)/2\n",
    "    rhodz = ds.layer_mass\n",
    "\n",
    "    hdiv = (ds0.V.shift(y=-1).fillna(0.0) - ds0.V)/d + (shift_bc(ds0.U, 1, 'x', boundary='wrap') - ds0.U)/d\n",
    "    hdiv.name = 'divergence'\n",
    "\n",
    "    vdiv = ((ds0.W*rhow).shift(z=-1)-(rhow*ds0.W))/rhodz\n",
    "    vdiv.name = 'Vertical Divergence'\n",
    "\n",
    "    total_div = hdiv + vdiv\n",
    "    total_div.name = 'Total Div'\n",
    "    \n",
    "    return hdiv, vdiv, total_div\n",
    "\n",
    "hdiv, vdiv, total_div = compute_div(ds0, ds.rho)"
   ]
  },
  {
   "cell_type": "code",
   "execution_count": null,
   "metadata": {},
   "outputs": [],
   "source": [
    "hv.Dataset(-hdiv[0]).to.image([\"x\", \"y\"]) + hv.Dataset(vdiv[0]).to.image([\"x\", \"y\"])"
   ]
  },
  {
   "cell_type": "code",
   "execution_count": null,
   "metadata": {},
   "outputs": [],
   "source": [
    "%%opts Image{+framewise}\n",
    "hv.Dataset(total_div).to.image([\"x\", \"y\"], dynamic=True)"
   ]
  },
  {
   "cell_type": "markdown",
   "metadata": {},
   "source": [
    "The divergence is not exactly 0, to machine precision. The relative error is about 1e-3. What happens if I process these inputs with SAM?\n",
    "\n",
    "Here is a bunch of code to process the first sample of the NGAqua data."
   ]
  },
  {
   "cell_type": "code",
   "execution_count": null,
   "metadata": {},
   "outputs": [],
   "source": [
    "from sam.case import get_ngqaua_ic, InitialConditionCase\n",
    "\n",
    "ic = get_ngqaua_ic(NGROOT, 0)\n",
    "\n",
    "def process_ic(ic, **kwargs):\n",
    "\n",
    "    # open initial conditions\n",
    "    case = InitialConditionCase(ic=ic)\n",
    "\n",
    "    # configure the sam run\n",
    "    case.prm['parameters'].update({\n",
    "        'dosgs': False,\n",
    "        'dowally': True,\n",
    "        'nstop': 2,\n",
    "        'nsave3d': 1,\n",
    "        'nstat': 2,\n",
    "        'nstatfrq': 1,\n",
    "        'dt': 30\n",
    "    })\n",
    "    \n",
    "    case.prm['parameters'].update(kwargs)\n",
    "\n",
    "    case.save()\n",
    "\n",
    "    # Run the model\n",
    "    print(case.path)\n",
    "    !cd {case.path} &&  bash -c './run.sh > out  2> err'\n",
    "    # !cd {case.path} &&  bash -c './run.sh'\n",
    "\n",
    "    # open the 3d outputs\n",
    "    sam_processed = xr.open_mfdataset(join(case.path, 'OUT_3D', '*.nc'), concat_dim='time').load()\n",
    "    assert len(sam_processed.time) > 1\n",
    "\n",
    "    # clean up the working directory\n",
    "    !rm -rf {case.path}\n",
    "    \n",
    "    return sam_processed\n",
    "\n",
    "\n",
    "def compute_forcings(sam_processed):\n",
    "    # compute FSLI\n",
    "    SLI = sam_processed.SLI\n",
    "    fsli = SLI.diff('time')/SLI.time.diff('time')\n",
    "    fsli.name = 'FSLI'\n",
    "\n",
    "    # compute FQT\n",
    "    QT = sam_processed.QT\n",
    "    FQT = QT.diff('time')/QT.time.diff('time')\n",
    "    FQT.name = 'FQT'\n",
    "    \n",
    "    return fsli, FQT\n",
    "\n",
    "sam_processed = process_ic(ic)\n",
    "fsli, FQT = compute_forcings(sam_processed)"
   ]
  },
  {
   "cell_type": "markdown",
   "metadata": {},
   "source": [
    "I ran SAM for 2 time-steps, and here I am plotting SLI(1) - SLI(0) and SLI(2)-SLI(1),  which are two estimates of the forcing. I plot both to see if the problem is unique to forcing computed on the first time step."
   ]
  },
  {
   "cell_type": "code",
   "execution_count": null,
   "metadata": {},
   "outputs": [],
   "source": [
    "%%opts Image {-framewise}\n",
    "\n",
    "hv.Dataset(fsli).to.image([\"x\", \"y\"], dynamic=True).layout('time').cols(1)"
   ]
  },
  {
   "cell_type": "code",
   "execution_count": null,
   "metadata": {},
   "outputs": [],
   "source": [
    "%%opts Image {-framewise}\n",
    "\n",
    "hv.Dataset(FQT).to.image([\"x\", \"y\"], dynamic=True).layout('time').cols(1)"
   ]
  },
  {
   "cell_type": "markdown",
   "metadata": {},
   "source": [
    "The problem is much more obvious in the temperature field than it is for humidity, but the issue is still present."
   ]
  },
  {
   "cell_type": "markdown",
   "metadata": {},
   "source": [
    "Here is the divergence field. Should this be smaller?"
   ]
  },
  {
   "cell_type": "code",
   "execution_count": null,
   "metadata": {},
   "outputs": [],
   "source": [
    "%%opts Image{+framewise}\n",
    "\n",
    "hdiv, vdiv, total_div = compute_div(sam_processed.isel(time=0), ds.rho)\n",
    "\n",
    "hv.Dataset(total_div).to.image([\"x\", \"y\"], dynamic=True)"
   ]
  },
  {
   "cell_type": "markdown",
   "metadata": {},
   "source": [
    "Is the problem related to SLI?"
   ]
  },
  {
   "cell_type": "code",
   "execution_count": null,
   "metadata": {},
   "outputs": [],
   "source": [
    "%%opts Image{+framewise}\n",
    "\n",
    "hv.Dataset(sam_processed.SLI[0,:4]).to.image([\"x\", \"y\"])"
   ]
  },
  {
   "cell_type": "markdown",
   "metadata": {},
   "source": [
    "SLI looks fine. I don't see what the problem could be."
   ]
  },
  {
   "cell_type": "markdown",
   "metadata": {},
   "source": [
    "# Chris ideas\n",
    "\n",
    "I spoke to Chris and he has some ideas about what might be causing our problem.\n",
    "1. Reference density profile is off\n",
    "2. some problem with lower boundary condition\n",
    "3. some problem with north/south boundaries"
   ]
  }
 ],
 "metadata": {
  "kernelspec": {
   "display_name": "Python 3",
   "language": "python",
   "name": "python3"
  },
  "language_info": {
   "codemirror_mode": {
    "name": "ipython",
    "version": 3
   },
   "file_extension": ".py",
   "mimetype": "text/x-python",
   "name": "python",
   "nbconvert_exporter": "python",
   "pygments_lexer": "ipython3",
   "version": "3.6.6"
  }
 },
 "nbformat": 4,
 "nbformat_minor": 2
}
