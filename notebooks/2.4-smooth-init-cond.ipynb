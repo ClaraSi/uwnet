{
 "cells": [
  {
   "cell_type": "markdown",
   "metadata": {},
   "source": [
    "Open initial condition file. Download from olympus if necessary."
   ]
  },
  {
   "cell_type": "code",
   "execution_count": null,
   "metadata": {},
   "outputs": [],
   "source": [
    "%matplotlib inline\n",
    "import matplotlib.pyplot as plt\n",
    "import holoviews as hv\n",
    "hv.extension('bokeh', 'matplotlib')"
   ]
  },
  {
   "cell_type": "code",
   "execution_count": null,
   "metadata": {},
   "outputs": [],
   "source": [
    "url = \"http://atmos.washington.edu/~nbren12/data/ic.nc\"\n",
    "![[ -e ic.nc ]] || wget {url}\n",
    "ic = xr.open_dataset(\"ic.nc\")"
   ]
  },
  {
   "cell_type": "code",
   "execution_count": null,
   "metadata": {},
   "outputs": [],
   "source": [
    "from sam.case import InitialConditionCase\n",
    "import tempfile, os, shutil\n",
    "from os.path import join\n",
    "\n",
    "def process_ngaqua(ic):\n",
    "    \"\"\"Diagnose the vertical velocity using SAM's pressure solver\"\"\"\n",
    "\n",
    "    path = tempfile.mkdtemp(dir=os.getcwd(), prefix='.tmp')\n",
    "    case = InitialConditionCase(ic=ic, path=path)\n",
    "    case.prm['parameters']['nstop'] = 0\n",
    "    case.prm['parameters']['dodamping'] = True\n",
    "    case.prm['parameters']['dosgs'] = True\n",
    "    \n",
    "    case.save()\n",
    "\n",
    "    !docker run -v {case.path}:/run -w /run  nbren12/uwnet ./run.sh\n",
    "    !docker run -v {case.path}:/run -w /run/OUT_3D  nbren12/uwnet bin3D2nc CASE__1_0000000000.bin3D > /dev/null\n",
    "    processed = xr.open_dataset(join(case.path, 'OUT_3D', 'CASE__1_0000000000.nc'))\n",
    "    shutil.rmtree(case.path)\n",
    "    \n",
    "    return processed"
   ]
  },
  {
   "cell_type": "markdown",
   "metadata": {},
   "source": [
    "# Blurring the initial condition\n",
    "\n",
    "V is staggered to the bottom and U to the right."
   ]
  },
  {
   "cell_type": "code",
   "execution_count": null,
   "metadata": {},
   "outputs": [],
   "source": [
    "v = ic.V.values"
   ]
  },
  {
   "cell_type": "code",
   "execution_count": null,
   "metadata": {},
   "outputs": [],
   "source": [
    "from scipy.ndimage import gaussian_filter1d\n",
    "\n",
    "def pad_south_v(v, n):\n",
    "    v[:,0,:] = 0 \n",
    "    return np.pad(v, [(0,0), (n,0), (0,0)], mode='reflect', reflect_type='odd')\n",
    "\n",
    "def pad_north_v(v, n):\n",
    "    \n",
    "    v = np.pad(v, [(0,0), (0,1), (0,0)], mode='constant')\n",
    "    return np.pad(v, [(0,0), (0,n-1), (0,0)], mode='reflect', reflect_type='odd')\n",
    "\n",
    "def pad_v(v,n):\n",
    "    return pad_north_v(pad_south_v(v, n), n)\n",
    "\n",
    "def blur_staggered_y(v, sigma, n=None):\n",
    "    if n is None:\n",
    "        n = max(int(3*sigma), 3)\n",
    "    v_pad = pad_v(v, n)\n",
    "    return gaussian_filter1d(\n",
    "        gaussian_filter1d(v_pad, sigma, axis=-2)[:,n:-n,:],\n",
    "        sigma,\n",
    "        mode='wrap', axis=-1)\n",
    "    \n",
    "def blur_centered_y(f, sigma):\n",
    "    return gaussian_filter1d(\n",
    "        gaussian_filter1d(f, sigma, axis=-2, mode='nearest'),\n",
    "        sigma,\n",
    "        mode='wrap', axis=-1)\n",
    "\n",
    "\n",
    "class BlurXarray:\n",
    "    \n",
    "    def blur_staggered_y(V, sigma):\n",
    "        return xr.apply_ufunc(blur_staggered_y, V,\n",
    "                   input_core_dims=[['z', 'y' ,'x']],\n",
    "                   output_core_dims=[['z', 'y' ,'x']],\n",
    "                   kwargs=dict(sigma=sigma))\n",
    "    \n",
    "    def blur_centered_y(U, sigma):\n",
    "        return xr.apply_ufunc(blur_centered_y, U,\n",
    "                   input_core_dims=[['z', 'y' ,'x']],\n",
    "                   output_core_dims=[['z', 'y' ,'x']],\n",
    "                   kwargs=dict(sigma=sigma))\n",
    "    \n",
    "    @classmethod\n",
    "    def blur(cls, ds, sigma):\n",
    "        data = {}\n",
    "        for key in ds.data_vars:\n",
    "            if {'x','y'} < set(ds[key].dims):\n",
    "                if key == 'V':\n",
    "                    data[key] = cls.blur_staggered_y(ds[key], sigma)\n",
    "                else:\n",
    "                    data[key] =  cls.blur_centered_y(ds[key], sigma)\n",
    "            else:\n",
    "                data[key] = ds[key]\n",
    "        return xr.Dataset(data)"
   ]
  },
  {
   "cell_type": "code",
   "execution_count": null,
   "metadata": {},
   "outputs": [],
   "source": [
    "np.testing.assert_array_equal(pad_v(v, 10)[:,10:-10,:], v)"
   ]
  },
  {
   "cell_type": "code",
   "execution_count": null,
   "metadata": {},
   "outputs": [],
   "source": [
    "plt.pcolormesh(blur_staggered_y(v, sigma=1.0)[5])"
   ]
  },
  {
   "cell_type": "code",
   "execution_count": null,
   "metadata": {},
   "outputs": [],
   "source": [
    "plt.pcolormesh(blur_centered_y(ic.U.values, sigma=1.0)[5])"
   ]
  },
  {
   "cell_type": "code",
   "execution_count": null,
   "metadata": {},
   "outputs": [],
   "source": [
    "u_b = BlurXarray.blur_centered_y(ic.U, 1)\n",
    "v_b = BlurXarray.blur_staggered_y(ic.V, 1)"
   ]
  },
  {
   "cell_type": "code",
   "execution_count": null,
   "metadata": {},
   "outputs": [],
   "source": [
    "ic_b = BlurXarray.blur(ic, 1.0)\n",
    "\n",
    "\n",
    "fig, (a,b) = plt.subplots(2, 1)\n",
    "ic_b.V[5].plot(ax=a)\n",
    "ic_b.U[5].plot(ax=b)"
   ]
  },
  {
   "cell_type": "code",
   "execution_count": null,
   "metadata": {},
   "outputs": [],
   "source": [
    "ic_b_n = process_ngaqua(ic_b)"
   ]
  },
  {
   "cell_type": "code",
   "execution_count": null,
   "metadata": {},
   "outputs": [],
   "source": [
    "ic_b_n.W[0,12].plot()"
   ]
  },
  {
   "cell_type": "code",
   "execution_count": null,
   "metadata": {},
   "outputs": [],
   "source": [
    "%%output size=200\n",
    "%%opts Image[width=300, height=150](cmap='RdBu_r') {-framewise -axiswise}\n",
    "ds = hv.Dataset(ic_b_n.W[0])\n",
    "ds.to.image([\"x\", \"y\"])"
   ]
  },
  {
   "cell_type": "raw",
   "metadata": {},
   "source": [
    "%%output backend='bokeh', size=300\n",
    "%%opts QuadMesh[width=200, height=100, colorbar=True](cmap='RdBu_r') {-framewise}\n",
    "ds.to(hv.QuadMesh, [\"x\", \"z\"], dynamic=True).redim.range(W=(-.1, .1))"
   ]
  },
  {
   "cell_type": "markdown",
   "metadata": {},
   "source": [
    "## Run with blurred initial condition"
   ]
  },
  {
   "cell_type": "code",
   "execution_count": null,
   "metadata": {},
   "outputs": [],
   "source": [
    "86400 / 100"
   ]
  },
  {
   "cell_type": "code",
   "execution_count": null,
   "metadata": {},
   "outputs": [],
   "source": [
    "# path = tempfile.mkdtemp(dir=os.getcwd(), prefix='.tmp')\n",
    "case = InitialConditionCase(ic=ic_b, path=path)\n",
    "case.prm['parameters']['dt'] = 100\n",
    "case.prm['parameters']['nstop'] = 864\n",
    "case.prm['parameters']['dodamping'] = True\n",
    "case.prm['parameters']['dosgs'] = True\n",
    "case.prm['parameters']['nstatfrq'] = 1\n",
    "case.prm['parameters']['nstat'] = 36\n",
    "case.prm['parameters']['nsave3d'] = 78\n",
    "case.prm['parameters']['nsave2d'] = 78\n",
    "case.prm['parameters']['khyp'] = 1e17\n",
    "\n",
    "\n",
    "case.save()\n",
    "\n",
    "!docker run -v {case.path}:/run -w /run  nbren12/uwnet ./run.sh\n",
    "# !docker run -v {case.path}:/run -w /run/OUT_3D  nbren12/uwnet bin3D2nc CASE__1_0000000000.bin3D > /dev/null\n",
    "# processed = xr.open_dataset(join(case.path, 'OUT_3D', 'CASE__1_0000000000.nc'))\n",
    "# shutil.rmtree(case.path)\n",
    "!docker run -v {case.path}:/run -w /run  nbren12/uwnet /opt/sam/docker/convert_files.sh > /dev/null"
   ]
  },
  {
   "cell_type": "code",
   "execution_count": null,
   "metadata": {},
   "outputs": [],
   "source": [
    "ds_3d = xr.open_mfdataset(f\"{path}/OUT_3D/*.nc\")"
   ]
  },
  {
   "cell_type": "markdown",
   "metadata": {},
   "source": [
    "Here is the zonal mean meridional winds. The response looks similar to the simulations with non-blurred initial conditions."
   ]
  },
  {
   "cell_type": "code",
   "execution_count": null,
   "metadata": {},
   "outputs": [],
   "source": [
    "ds_3d.V.mean('x').plot(col='time', col_wrap=4)"
   ]
  },
  {
   "cell_type": "code",
   "execution_count": null,
   "metadata": {},
   "outputs": [],
   "source": [
    "ds_3d.V.isel(x=0).plot(col='time', col_wrap=4)"
   ]
  },
  {
   "cell_type": "markdown",
   "metadata": {},
   "source": [
    "And for a single slice"
   ]
  },
  {
   "cell_type": "markdown",
   "metadata": {},
   "source": [
    "Here is the vertical velocity. It looks like there is some kind of wave which starts at the center of the domain and propagates outward very rapidly (at around 50 m /s). I am not sure if this is the kind of response one would expect from turning of the diabatic forcing suddenly."
   ]
  },
  {
   "cell_type": "code",
   "execution_count": null,
   "metadata": {},
   "outputs": [],
   "source": [
    "ds_3d.W.mean('x').plot(col='time', col_wrap=4)"
   ]
  },
  {
   "cell_type": "markdown",
   "metadata": {},
   "source": [
    "This propogation is even more clear in this hovmoller diagram  zonally averaged vertical vecloity at z=7763 m."
   ]
  },
  {
   "cell_type": "code",
   "execution_count": null,
   "metadata": {},
   "outputs": [],
   "source": [
    "ds_3d.W.isel(z=16).mean('x').plot(y='y')"
   ]
  },
  {
   "cell_type": "markdown",
   "metadata": {},
   "source": [
    "Here is the zonally averaged temperature."
   ]
  },
  {
   "cell_type": "code",
   "execution_count": null,
   "metadata": {},
   "outputs": [],
   "source": [
    "\n",
    "levels = np.r_[:11]*10+273\n",
    "ds_3d.SLI.mean('x').plot.contourf(col='time', col_wrap=4, levels=levels)"
   ]
  },
  {
   "cell_type": "markdown",
   "metadata": {},
   "source": [
    "These are snapshots of $W$ at z = 6555."
   ]
  },
  {
   "cell_type": "code",
   "execution_count": null,
   "metadata": {},
   "outputs": [],
   "source": [
    "ds_3d.W[:,15].plot(col='time', col_wrap=4)"
   ]
  },
  {
   "cell_type": "markdown",
   "metadata": {},
   "source": [
    "And V"
   ]
  },
  {
   "cell_type": "code",
   "execution_count": null,
   "metadata": {},
   "outputs": [],
   "source": [
    "ds_3d.V[:,15].plot(col='time', col_wrap=4)"
   ]
  },
  {
   "cell_type": "markdown",
   "metadata": {},
   "source": [
    "The hyperdiffusivity is fairly high."
   ]
  },
  {
   "cell_type": "code",
   "execution_count": null,
   "metadata": {},
   "outputs": [],
   "source": [
    "! grep -i khyp {path}/CASE/*.nml "
   ]
  },
  {
   "cell_type": "markdown",
   "metadata": {},
   "source": [
    "# Conclusions\n",
    "\n",
    "Blurring the initial conditions does not make the meridional velocity fields behave better. \n",
    "\n",
    "$ b_t - N^2 v_y =  S$\n",
    "\n",
    "$ v_t + b_y = 0$\n"
   ]
  }
 ],
 "metadata": {
  "kernelspec": {
   "display_name": "Python 3",
   "language": "python",
   "name": "python3"
  },
  "language_info": {
   "codemirror_mode": {
    "name": "ipython",
    "version": 3
   },
   "file_extension": ".py",
   "mimetype": "text/x-python",
   "name": "python",
   "nbconvert_exporter": "python",
   "pygments_lexer": "ipython3",
   "version": "3.6.6"
  }
 },
 "nbformat": 4,
 "nbformat_minor": 2
}
