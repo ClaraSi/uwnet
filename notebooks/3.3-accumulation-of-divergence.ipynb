{
 "cells": [
  {
   "cell_type": "markdown",
   "metadata": {},
   "source": [
    "Digital filter initialization is one way around the mass imbalance issues we have with the NG-Aqua input data. \n",
    "\n",
    "First, we should see if the transient problems in the boundary layer disappear at the end of 3-6 hour integration."
   ]
  },
  {
   "cell_type": "code",
   "execution_count": null,
   "metadata": {},
   "outputs": [],
   "source": [
    "import holoviews as hv\n",
    "hv.extension('bokeh')\n",
    "%opts Image[width=500, height=300, colorbar=True](cmap='magma') \n",
    "%opts QuadMesh[width=300,  height=150, colorbar=True](cmap='viridis')\n",
    "%opts Curve[width=500, height=int(500/1.61)]\n",
    "\n",
    "%matplotlib inline\n",
    "import matplotlib.pyplot as plt"
   ]
  },
  {
   "cell_type": "code",
   "execution_count": null,
   "metadata": {},
   "outputs": [],
   "source": [
    "from sam.case import get_ngqaua_ic, InitialConditionCase\n",
    "import xarray as xr\n",
    "from os.path import join\n",
    "import numpy as np\n",
    "from uwnet.thermo import layer_mass\n",
    "\n",
    "\n",
    "def process_ic(ic, **kwargs):\n",
    "\n",
    "    # open initial conditions\n",
    "    case = InitialConditionCase(ic=ic)\n",
    "\n",
    "    # configure the sam run\n",
    "    case.prm['parameters'].update({\n",
    "        'dosgs': False,\n",
    "        'dowally': True,\n",
    "        'nstop': 180,\n",
    "        'nsave3d': 30,\n",
    "        'nsave2d': 30,\n",
    "        'nsave2dstart': 0 ,\n",
    "        'nstat': 15,\n",
    "        'nstatfrq': 1,\n",
    "        'dt': 120,\n",
    "    })\n",
    "    \n",
    "    case.prm['parameters'].update(kwargs)\n",
    "\n",
    "    case.save()\n",
    "\n",
    "    # Run the model\n",
    "    print(case.path)\n",
    "    !cd {case.path} &&  bash -c './run.sh > out  2> err'\n",
    "    # !cd {case.path} &&  bash -c './run.sh'\n",
    "\n",
    "    # open the 3d outputs\n",
    "    data_3d = xr.open_mfdataset(join(case.path, 'OUT_3D', '*.nc'), concat_dim='time').load()\n",
    "    assert len(data_3d.time) > 1\n",
    "    \n",
    "    data_2d = xr.open_mfdataset(join(case.path, 'OUT_2D', '*.nc'), concat_dim='time').load()\n",
    "    \n",
    "    stat = xr.open_mfdataset(join(case.path, 'OUT_STAT', '*.nc'), concat_dim='time').load()\n",
    "    \n",
    "    # clean up the working directory\n",
    "    !rm -rf {case.path}\n",
    "    \n",
    "    return data_3d, data_2d, stat\n",
    "\n",
    "\n",
    "def plot_diffs(sam_processed):\n",
    "    dsam = sam_processed.diff('time')\n",
    "\n",
    "    # get the surface level\n",
    "    dsam_sfc = dsam.isel(z=0)\n",
    "    \n",
    "    lay = hv.Dataset(dsam_sfc.TABS).to.image([\"x\", \"y\"], label=\"T(i+1) - T(i)\") \\\n",
    "     + hv.Dataset(dsam_sfc.QT).to.image([\"x\", \"y\"], label=\"QT(i+1) - Qt(i)\")\n",
    "\n",
    "    return lay.cols(1)"
   ]
  },
  {
   "cell_type": "markdown",
   "metadata": {},
   "source": [
    "Load the initial condition and run for 6 hours"
   ]
  },
  {
   "cell_type": "code",
   "execution_count": null,
   "metadata": {},
   "outputs": [],
   "source": [
    "NGROOT = \"/Users/noah/Data/2018-05-30-NG_5120x2560x34_4km_10s_QOBS_EQX/\"\n",
    "STATFILE = join(NGROOT, 'stat.nc')\n",
    "\n",
    "stat = xr.open_mfdataset(STATFILE)\n",
    "rho = stat.RHO[0]\n",
    "\n",
    "# layer mass\n",
    "dm = layer_mass(rho)\n",
    "\n",
    "# get the initial condition at first time step\n",
    "# the winds are staggered\n",
    "ic = get_ngqaua_ic(NGROOT, 0)\n",
    "\n",
    "# Process this initial conditions using SAM\n",
    "data_3d_cori, data_2d, stat = process_ic(ic, dt=120, nstop=360, nsave3d=30, nsave2d=30, nstat=15)"
   ]
  },
  {
   "cell_type": "code",
   "execution_count": null,
   "metadata": {},
   "outputs": [],
   "source": [
    "# Take the difference in time.\n",
    "dsam = data_3d_cori.diff('time')\n",
    "\n",
    "# get the surface level\n",
    "dsam_sfc = dsam.isel(z=0)"
   ]
  },
  {
   "cell_type": "code",
   "execution_count": null,
   "metadata": {},
   "outputs": [],
   "source": [
    "%%opts Image{+framewise}\n",
    "\n",
    "lay = hv.Dataset(dsam_sfc.TABS).to.image([\"x\", \"y\"], label=\"T(i+1) - T(i)\") \\\n",
    " + hv.Dataset(dsam_sfc.QT).to.image([\"x\", \"y\"], label=\"QT(i+1) - Qt(i)\")\n",
    "\n",
    "lay.cols(1)"
   ]
  },
  {
   "cell_type": "code",
   "execution_count": null,
   "metadata": {},
   "outputs": [],
   "source": [
    "plt.pcolor(data_3d_cori.W.mean(['x', 'y']).T)"
   ]
  },
  {
   "cell_type": "markdown",
   "metadata": {},
   "source": [
    "This shows that divergence is accumulating in the simulation.Chris again thinks this is because the model does not actually use a projection method. Therefore, using the wrong boundary conditions will allow divergence to accumulate in time. Does this actually happen?"
   ]
  },
  {
   "cell_type": "markdown",
   "metadata": {},
   "source": [
    "Does the problem get better if I turn off the coriolis force?"
   ]
  },
  {
   "cell_type": "code",
   "execution_count": null,
   "metadata": {},
   "outputs": [],
   "source": [
    "# Process this initial conditions using SAM\n",
    "sam_processed = process_ic(ic, dt=120, nstop=360, nsave3d=60, nsave2d=60, nstat=30, docoriolis=False)"
   ]
  },
  {
   "cell_type": "code",
   "execution_count": null,
   "metadata": {},
   "outputs": [],
   "source": [
    "plot_diffs(sam_processed[0])"
   ]
  },
  {
   "cell_type": "code",
   "execution_count": null,
   "metadata": {},
   "outputs": [],
   "source": [
    "div = sam_processed[0].W.mean(['x', 'y'])"
   ]
  },
  {
   "cell_type": "code",
   "execution_count": null,
   "metadata": {},
   "outputs": [],
   "source": [
    "plt.pcolor(div.values.T, cmap='RdBu_r')\n",
    "plt.colorbar()"
   ]
  },
  {
   "cell_type": "markdown",
   "metadata": {},
   "source": [
    "We can see that the first time step removes all the divergence, then there is a peak of divergence, which is ultimately damped to nothing."
   ]
  },
  {
   "cell_type": "markdown",
   "metadata": {},
   "source": [
    "# Pressure gradient at boundary\n",
    "\n",
    "From the $y$ momentum equation we known that the balance $ f u = - p_x/\\rho_0 $ should be true on the boundary. How well is this satisfied?"
   ]
  },
  {
   "cell_type": "code",
   "execution_count": null,
   "metadata": {},
   "outputs": [],
   "source": [
    "from uwnet.thermo import coriolis_ngaqua\n",
    "\n",
    "# open data\n",
    "ng_3d = xr.open_mfdataset(join(NGROOT, 'coarse', '3d', 'all.nc')).isel(time=0)\n",
    "rho = xr.open_mfdataset(join(NGROOT, 'stat.nc')).RHO[0]\n",
    "\n",
    "# compute Py an\n",
    "py = -(ng_3d.PP.isel(y=1) - ng_3d.PP.isel(y=0))/160e3/rho\n",
    "fcori = coriolis_ngaqua(ng_3d.y)\n",
    "fu = ng_3d.U.isel(y=0) * fcori[0]\n",
    "\n",
    "lay = hv.Dataset(py, vdims=['py'], label='-P_y/rho').to.curve(\"x\")\\\n",
    "*hv.Dataset(fu, vdims=['py'], label='f * U').to.curve(\"x\")"
   ]
  },
  {
   "cell_type": "markdown",
   "metadata": {},
   "source": [
    "Note that the pressure gradient I compute here is located between the first and second pressure points, which is $1.5 \\cdot 160$ km away from the boundary."
   ]
  },
  {
   "cell_type": "code",
   "execution_count": null,
   "metadata": {},
   "outputs": [],
   "source": [
    "%%output size=150\n",
    "%%opts Curve[width=300, height=161]\n",
    "lay[::5].layout().cols(2)"
   ]
  },
  {
   "cell_type": "markdown",
   "metadata": {},
   "source": [
    "We can see that the pressure gradient near the boundary is furthest from geostrophic balance at the lower heights. Maybe that is why the signal is most degraded there."
   ]
  },
  {
   "cell_type": "markdown",
   "metadata": {},
   "source": [
    "Here is the zonal velocity near the southern boundary:"
   ]
  },
  {
   "cell_type": "code",
   "execution_count": null,
   "metadata": {},
   "outputs": [],
   "source": [
    "fu.plot()"
   ]
  },
  {
   "cell_type": "markdown",
   "metadata": {},
   "source": [
    "And the meridional gradient of pressure. I might expect this gradient to be closer to zero since it is only one grid point away from the boundary."
   ]
  },
  {
   "cell_type": "code",
   "execution_count": null,
   "metadata": {},
   "outputs": [],
   "source": [
    "py.plot()"
   ]
  },
  {
   "cell_type": "markdown",
   "metadata": {},
   "source": [
    "# Conclusions\n",
    "\n",
    "These results do seem to indicate that Chris could be right that the y-boundary conditions for the pressure solver are causing the zonal striping problems. \n",
    "\n",
    "Here is the code for computing the pressure right hand side:\n",
    "\n",
    "```fortran\n",
    "do k=1,nzm\n",
    " kc=k+1 \n",
    " rdz=1./(adz(k)*dz)\n",
    " rup = rhow(kc)/rho(k)*rdz\n",
    " rdn = rhow(k)/rho(k)*rdz\n",
    " do j=1,ny\n",
    "  jc=j+1 \n",
    "  do i=1,nx\n",
    "   ic=i+1\n",
    "   p(i,j,k)=(rdx*(u(ic,j,k)-u(i,j,k))+ &\n",
    "             rdy*(v(i,jc,k)-v(i,j,k))+ &\n",
    "             (w(i,j,kc)*rup-w(i,j,k)*rdn) )*dta + &\t\n",
    "            (rdx*(dudt(ic,j,k,na)-dudt(i,j,k,na))+ &\n",
    "             rdy*(dvdt(i,jc,k,na)-dvdt(i,j,k,na))+ &\n",
    "             (dwdt(i,j,kc,na)*rup-dwdt(i,j,k,na)*rdn) ) + &\n",
    "       btat*(rdx*(dudt(ic,j,k,nb)-dudt(i,j,k,nb))+ &\n",
    "             rdy*(dvdt(i,jc,k,nb)-dvdt(i,j,k,nb))+ &\n",
    "             (dwdt(i,j,kc,nb)*rup-dwdt(i,j,k,nb)*rdn) ) + &\n",
    "       ctat*(rdx*(dudt(ic,j,k,nc)-dudt(i,j,k,nc))+ &\n",
    "             rdy*(dvdt(i,jc,k,nc)-dvdt(i,j,k,nc))+ &\n",
    "             (dwdt(i,j,kc,nc)*rup-dwdt(i,j,k,nc)*rdn) )\n",
    "   p(i,j,k)=p(i,j,k)*rho(k)\n",
    "  end do\n",
    " end do\n",
    "end do\n",
    "\n",
    "```\n",
    "\n",
    "This appears include a contribution from the divergence (the first three lines), and then a section which includes the tendency information. So when `dudt` and the other tendencies are zero, the method is the same as a projection method. This explains why the first snapshot of these simulation has no divergence. Therefore, why not just remove this extra terms? What benefit do they provide? Higher order of accuracy?\n",
    "\n",
    "## How to fix this?\n",
    "\n",
    "1. Fix the boundary condition on the north south boundaries, and/or\n",
    "2. Damp the winds towards near the boundaries. This should make $u=0$ there, so then the proper boundary condition would satisfied."
   ]
  }
 ],
 "metadata": {
  "kernelspec": {
   "display_name": "Python 3",
   "language": "python",
   "name": "python3"
  },
  "language_info": {
   "codemirror_mode": {
    "name": "ipython",
    "version": 3
   },
   "file_extension": ".py",
   "mimetype": "text/x-python",
   "name": "python",
   "nbconvert_exporter": "python",
   "pygments_lexer": "ipython3",
   "version": "3.6.6"
  }
 },
 "nbformat": 4,
 "nbformat_minor": 2
}
