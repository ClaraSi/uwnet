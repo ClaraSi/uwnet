{
 "cells": [
  {
   "cell_type": "code",
   "execution_count": null,
   "metadata": {},
   "outputs": [],
   "source": [
    "import holoviews as hv\n",
    "hv.extension('bokeh')\n",
    "%opts Image[width=500, height=300, colorbar=True](cmap='magma') \n",
    "%opts QuadMesh[width=300,  height=150, colorbar=True](cmap='viridis')\n",
    "%opts Curve[width=500, height=int(500/1.61)]\n",
    "\n",
    "%matplotlib inline\n",
    "import matplotlib.pyplot as plt\n",
    "\n",
    "import xarray as xr\n",
    "\n",
    "\n",
    "# download the data\n",
    "![ -e vmean.nc ] || curl -O https://atmos.washington.edu/~nbren12/data/vmean.nc\n",
    "![ -e tabsx0.nc ] || curl -O https://atmos.washington.edu/~nbren12/data/tabsx0.nc"
   ]
  },
  {
   "cell_type": "markdown",
   "metadata": {},
   "source": [
    "Here is a function for plotting the data:"
   ]
  },
  {
   "cell_type": "code",
   "execution_count": null,
   "metadata": {},
   "outputs": [],
   "source": [
    "def plot_t_boundaries(T):\n",
    "    T = T.copy()\n",
    "\n",
    "    T['y'] /= 1000\n",
    "    T.y.attrs['units'] ='km'\n",
    "\n",
    "    lay = hv.Dataset(T.sel(y=slice(0,500))).to.curve(\"y\").relabel(\"Southern Boundary\") \\\n",
    "    +hv.Dataset(T.isel(y=slice(-50,None))).to.curve(\"y\").relabel(\"Northern Boundary\")\n",
    "\n",
    "    return lay.cols(1).opts('Curve {+framewise +axiswise}')"
   ]
  },
  {
   "cell_type": "markdown",
   "metadata": {},
   "source": [
    "Let's look at the temperature near the southern boundary in the high resolution data."
   ]
  },
  {
   "cell_type": "markdown",
   "metadata": {},
   "source": [
    "# X=0\n",
    "\n",
    "Let's look at the temperature for a given meridional slice (x=0). You can scroll through the various heights."
   ]
  },
  {
   "cell_type": "code",
   "execution_count": null,
   "metadata": {},
   "outputs": [],
   "source": [
    "ds = xr.open_dataset('tabsx0.nc')\n",
    "plot_t_boundaries(ds.TABS)"
   ]
  },
  {
   "cell_type": "markdown",
   "metadata": {},
   "source": [
    "## Zonal Mean\n",
    "\n",
    "These oscillations are even more apparent in the zonal mean temperature."
   ]
  },
  {
   "cell_type": "code",
   "execution_count": null,
   "metadata": {},
   "outputs": [],
   "source": [
    "ds = xr.open_dataset('vmean.nc')\n",
    "plot_t_boundaries(ds.TABS)"
   ]
  }
 ],
 "metadata": {
  "kernelspec": {
   "display_name": "Python 3",
   "language": "python",
   "name": "python3"
  },
  "language_info": {
   "codemirror_mode": {
    "name": "ipython",
    "version": 3
   },
   "file_extension": ".py",
   "mimetype": "text/x-python",
   "name": "python",
   "nbconvert_exporter": "python",
   "pygments_lexer": "ipython3",
   "version": "3.6.6"
  }
 },
 "nbformat": 4,
 "nbformat_minor": 2
}
