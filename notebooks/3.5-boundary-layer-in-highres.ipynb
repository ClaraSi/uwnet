{
 "cells": [
  {
   "cell_type": "code",
   "execution_count": null,
   "metadata": {},
   "outputs": [],
   "source": [
    "import holoviews as hv\n",
    "hv.extension('bokeh')\n",
    "%opts Image[width=500, height=300, colorbar=True](cmap='magma') \n",
    "%opts QuadMesh[width=300,  height=150, colorbar=True](cmap='viridis')\n",
    "%opts Curve[width=500, height=int(500/1.61)]\n",
    "\n",
    "%matplotlib inline\n",
    "import matplotlib.pyplot as plt\n",
    "\n",
    "import xarray as xr\n",
    "\n",
    "\n",
    "# download the data\n",
    "![ -e vmean.nc ] || curl -O https://atmos.washington.edu/~nbren12/data/vmean.nc\n",
    "![ -e tabsx0.nc ] || curl -O https://atmos.washington.edu/~nbren12/data/tabsx0.nc"
   ]
  },
  {
   "cell_type": "markdown",
   "metadata": {},
   "source": [
    "Let's look at the temperature near the southern boundary in the high resolution data."
   ]
  },
  {
   "cell_type": "code",
   "execution_count": null,
   "metadata": {},
   "outputs": [],
   "source": [
    "%%opts Curve {+framewise}\n",
    "\n",
    "ds = xr.open_dataset('vmean.nc')\n",
    "\n",
    "T = ds.TABS[0]\n",
    "\n",
    "\n",
    "T['y'] /= 1000\n",
    "T.y.attrs['units'] ='km'\n",
    "mu = T.mean('y')\n",
    "\n",
    "hv.Dataset((T-mu).sel(y=slice(0,500))).to.curve(\"y\")"
   ]
  },
  {
   "cell_type": "markdown",
   "metadata": {},
   "source": [
    "Some oscillations are obvious near the boundary. The problem is worse in the boundary layer, probably because the wind shear there is much stronger, so thermal wind balance $fU_z \\propto -T_y$ is more imcompatible with the $p_y=0$ boundary condition. "
   ]
  }
 ],
 "metadata": {
  "kernelspec": {
   "display_name": "Python 3",
   "language": "python",
   "name": "python3"
  },
  "language_info": {
   "codemirror_mode": {
    "name": "ipython",
    "version": 3
   },
   "file_extension": ".py",
   "mimetype": "text/x-python",
   "name": "python",
   "nbconvert_exporter": "python",
   "pygments_lexer": "ipython3",
   "version": "3.6.6"
  }
 },
 "nbformat": 4,
 "nbformat_minor": 2
}
