{
 "cells": [
  {
   "cell_type": "markdown",
   "metadata": {},
   "source": [
    "Following Chris' advice, I added hyper-diffusion to the SAM model using Matt Wyantt's code. After some trial and error, I settled upon a diffusion parameter of \n",
    "\n",
    "$$ k = .5  U \\Delta x^3,$$ \n",
    "where $U$ is the typical velocity scale of 50 m/s. This is chosen so that\n",
    "$Re = (L^3 U)/ k \\approx 1$ when $L$ is the grid-scale $\\Delta x$."
   ]
  },
  {
   "cell_type": "code",
   "execution_count": null,
   "metadata": {},
   "outputs": [],
   "source": [
    "%matplotlib inline"
   ]
  },
  {
   "cell_type": "code",
   "execution_count": null,
   "metadata": {},
   "outputs": [],
   "source": [
    "ds = xr.open_mfdataset(\"../data/runs/tmp/OUT_2D/*.nc\")"
   ]
  },
  {
   "cell_type": "code",
   "execution_count": null,
   "metadata": {},
   "outputs": [],
   "source": [
    "ds.V200[::12].plot(col='time', col_wrap=3)"
   ]
  },
  {
   "cell_type": "code",
   "execution_count": null,
   "metadata": {},
   "outputs": [],
   "source": [
    "ds.U850[::12].plot(col='time', col_wrap=3)"
   ]
  },
  {
   "cell_type": "markdown",
   "metadata": {},
   "source": [
    "The velocity field are markedly smoother."
   ]
  },
  {
   "cell_type": "code",
   "execution_count": null,
   "metadata": {},
   "outputs": [],
   "source": [
    "ds.PW[::12].plot(col='time', col_wrap=3)"
   ]
  },
  {
   "cell_type": "markdown",
   "metadata": {},
   "source": [
    "this might be too much diffusion. Jablownowski suggest the CAM default hyper-diffusivity is around 1e15 for 160km resolutions."
   ]
  },
  {
   "cell_type": "code",
   "execution_count": null,
   "metadata": {},
   "outputs": [],
   "source": [
    "ds = xr.open_mfdataset(\"../data/runs/khyp_1e15/OUT_2D/*.nc\")"
   ]
  },
  {
   "cell_type": "code",
   "execution_count": null,
   "metadata": {},
   "outputs": [],
   "source": [
    "ds.V200[::12].plot(col='time', col_wrap=3)"
   ]
  },
  {
   "cell_type": "code",
   "execution_count": null,
   "metadata": {},
   "outputs": [],
   "source": [
    "ds.V850[::12].plot(col='time', col_wrap=3)"
   ]
  },
  {
   "cell_type": "markdown",
   "metadata": {},
   "source": [
    "Convert the SAM output"
   ]
  },
  {
   "cell_type": "markdown",
   "metadata": {},
   "source": [
    "!docker run  -w $(pwd) -v /Users:/Users nbren12/uwnet 2Dbin2nc ../khyp_1e16/OUT_2D/*.2Dbin >/dev/null"
   ]
  },
  {
   "cell_type": "markdown",
   "metadata": {},
   "source": [
    "Open it"
   ]
  },
  {
   "cell_type": "code",
   "execution_count": null,
   "metadata": {},
   "outputs": [],
   "source": [
    "ds = xr.open_mfdataset(\"../data/runs/khyp_1e16/OUT_2D/*.nc\")"
   ]
  },
  {
   "cell_type": "code",
   "execution_count": null,
   "metadata": {},
   "outputs": [],
   "source": [
    "ds.V200[::12].plot(col='time', col_wrap=3)"
   ]
  },
  {
   "cell_type": "code",
   "execution_count": null,
   "metadata": {},
   "outputs": [],
   "source": [
    "ds.V850[::12].plot(col='time', col_wrap=3)"
   ]
  },
  {
   "cell_type": "markdown",
   "metadata": {},
   "source": [
    "I was also able to use a 100 second time step with this level of diffusion. Unfortunately, there is still visible evidence of gibbs phenomena in these solutions. See the strong patch of northerly flow near x= 1.5e7m in the first three panels. For now, this seem like a decent value of the hyper diffusivity. Maybe I should smooth the initial conditions somewhat as well.\n",
    "\n",
    "Let's find a trained neural network to use"
   ]
  },
  {
   "cell_type": "code",
   "execution_count": null,
   "metadata": {},
   "outputs": [],
   "source": [
    "import pymongo\n",
    "from bson.objectid import ObjectId\n",
    "\n",
    "\n",
    "db = pymongo.MongoClient()\n",
    "runs = db.uwnet.run"
   ]
  },
  {
   "cell_type": "code",
   "execution_count": null,
   "metadata": {},
   "outputs": [],
   "source": [
    "import re"
   ]
  },
  {
   "cell_type": "code",
   "execution_count": null,
   "metadata": {},
   "outputs": [],
   "source": [
    "runs_sorted = runs\\\n",
    ".find({\"args.input\": {\"$not\": re.compile('subset\\.nc')}, 'config.outputs': {\"$ne\": ('U', 28)}})\\\n",
    ".sort([('start_timestamp', pymongo.DESCENDING)])"
   ]
  },
  {
   "cell_type": "code",
   "execution_count": null,
   "metadata": {},
   "outputs": [],
   "source": [
    "df = pd.DataFrame(list(runs_sorted))"
   ]
  },
  {
   "cell_type": "code",
   "execution_count": null,
   "metadata": {},
   "outputs": [],
   "source": [
    "df['n_epochs'] = df.args.apply(lambda x: x['n_epochs'])"
   ]
  },
  {
   "cell_type": "code",
   "execution_count": null,
   "metadata": {},
   "outputs": [],
   "source": [
    "print(df[['_id', 'n_epochs', 'start_timestamp']].head())"
   ]
  },
  {
   "cell_type": "code",
   "execution_count": null,
   "metadata": {},
   "outputs": [],
   "source": [
    "run_id = ObjectId('5b92ab0fe6060eef257d450a')\n",
    "# run_id = ObjectId('5b92d2bbe6060eb1f80f945e')\n",
    "\n",
    "epoch = db.uwnet.epoch.find_one({'run_id': run_id, 'epoch': 2})\n",
    "run = db.uwnet.run.find_one({'_id': run_id})"
   ]
  },
  {
   "cell_type": "code",
   "execution_count": null,
   "metadata": {},
   "outputs": [],
   "source": [
    "import os"
   ]
  },
  {
   "cell_type": "code",
   "execution_count": null,
   "metadata": {},
   "outputs": [],
   "source": [
    "model_dir_name = os.path.dirname(epoch['model'])\n",
    "# model_dir_name = ''\n",
    "column_file = f\"{model_dir_name}/cols.nc\"\n",
    "\n",
    "if not os.path.exists(column_file):\n",
    "    %run -m uwnet.columns {epoch['model']} ../data/subset.nc $column_file\n",
    "\n",
    "cols_ds = xr.open_dataset(column_file)"
   ]
  },
  {
   "cell_type": "code",
   "execution_count": null,
   "metadata": {},
   "outputs": [],
   "source": [
    "loc = cols_ds.isel(x=0, y=0)"
   ]
  },
  {
   "cell_type": "code",
   "execution_count": null,
   "metadata": {},
   "outputs": [],
   "source": [
    "loc.QN.plot(x='time')"
   ]
  },
  {
   "cell_type": "code",
   "execution_count": null,
   "metadata": {},
   "outputs": [],
   "source": [
    "loc.QT.plot(x='time')"
   ]
  },
  {
   "cell_type": "markdown",
   "metadata": {},
   "source": [
    "There is some problem with the humidity field near z=7500 m."
   ]
  },
  {
   "cell_type": "markdown",
   "metadata": {},
   "source": [
    "# NN + SAM + Hyperdiffusion"
   ]
  },
  {
   "cell_type": "markdown",
   "metadata": {},
   "source": [
    "Let's now run this neural network inside SAM"
   ]
  },
  {
   "cell_type": "code",
   "execution_count": null,
   "metadata": {},
   "outputs": [],
   "source": [
    "%%script env model={epoch['model']} model_dir_name={model_dir_name} assets=../assets  bash \n",
    "\n",
    "sam_dir_name=$model_dir_name/SAM\n",
    "\n",
    "# make running directory\n",
    "if [[ -d $sam_dir_name ]]\n",
    "then\n",
    "    echo $sam_dir_name \"already exists. Stopping execution\"\n",
    "    exit 1\n",
    "fi\n",
    "\n",
    "mkdir $sam_dir_name\n",
    "\n",
    "echo \"Running SAM in $sam_dir_name\"\n",
    "\n",
    "# setup necessary files for running SAM\n",
    "cp -r $assets/NG1 $sam_dir_name\n",
    "\n",
    "# run same\n",
    "(cd $sam_dir_name\n",
    " /Users/noah/workspace/research/uwnet/bin/run_sam_nn_docker.sh $model > out 2> err\n",
    ")"
   ]
  },
  {
   "cell_type": "markdown",
   "metadata": {},
   "source": [
    "Convert and load the two dimensional output data."
   ]
  },
  {
   "cell_type": "code",
   "execution_count": null,
   "metadata": {},
   "outputs": [],
   "source": [
    "output_2d_dir = f'{model_dir_name}/SAM/OUT_2D'\n",
    "output_3d_dir = f'{model_dir_name}/SAM/OUT_3D'\n",
    "\n",
    "ds2d = xr.open_mfdataset(f\"{output_2d_dir}/*.nc\")\n",
    "ds3d_nn = xr.open_mfdataset(f\"{output_3d_dir}/*.nc\")\n",
    "\n",
    "# add anomaly field\n",
    "anom_nn = ds3d_nn - ds3d_nn.mean(['x', 'time'])"
   ]
  },
  {
   "cell_type": "markdown",
   "metadata": {},
   "source": [
    "What does the preicpitation field look like?"
   ]
  },
  {
   "cell_type": "code",
   "execution_count": null,
   "metadata": {},
   "outputs": [],
   "source": [
    "ds2d.PW[::12].plot(col='time')"
   ]
  },
  {
   "cell_type": "code",
   "execution_count": null,
   "metadata": {},
   "outputs": [],
   "source": [
    "ds2d.Prec[::12].plot(col='time')"
   ]
  },
  {
   "cell_type": "markdown",
   "metadata": {},
   "source": [
    "There are some grid point storms in this simulation. What does the vertical structure of this instability look like?"
   ]
  },
  {
   "cell_type": "code",
   "execution_count": null,
   "metadata": {},
   "outputs": [],
   "source": [
    "anom_nn.QT.isel(y=32)[::12].plot(x='x', y='z', col='time')"
   ]
  },
  {
   "cell_type": "markdown",
   "metadata": {},
   "source": [
    "There is an excessively moist column!"
   ]
  },
  {
   "cell_type": "code",
   "execution_count": null,
   "metadata": {},
   "outputs": [],
   "source": [
    "anom_nn.W.isel(y=32)[::12].plot(x='x', y='z', col='time')"
   ]
  },
  {
   "cell_type": "markdown",
   "metadata": {},
   "source": [
    "Which has a large vertical velocity."
   ]
  },
  {
   "cell_type": "code",
   "execution_count": null,
   "metadata": {},
   "outputs": [],
   "source": [
    "anom_nn.SLI.isel(y=32)[::12].plot(x='x', y='z', col='time')"
   ]
  },
  {
   "cell_type": "markdown",
   "metadata": {},
   "source": [
    "The aren't any large anomalies in the temperature field. "
   ]
  },
  {
   "cell_type": "code",
   "execution_count": null,
   "metadata": {},
   "outputs": [],
   "source": [
    "ds_ng = xr.open_mfdataset(\"/Users/noah/Data/2018-05-30-NG_5120x2560x34_4km_10s_QOBS_EQX/coarse/2d/all.nc\").sortby('time')"
   ]
  },
  {
   "cell_type": "code",
   "execution_count": null,
   "metadata": {},
   "outputs": [],
   "source": [
    "ds_ng.Prec.mean(['x' ,'y'])[:100].plot()"
   ]
  },
  {
   "cell_type": "code",
   "execution_count": null,
   "metadata": {},
   "outputs": [],
   "source": [
    "ds_ng.PW.mean(['x' ,'y'])[:100].plot()"
   ]
  },
  {
   "cell_type": "markdown",
   "metadata": {},
   "source": [
    "## Model trained for 9 epochs"
   ]
  },
  {
   "cell_type": "code",
   "execution_count": null,
   "metadata": {},
   "outputs": [],
   "source": [
    "path = '/Users/noah/workspace/research/uwnet/trained_models/5b/92d2bbe6060eb1f80f945e/SAM/OUT_2D'\n",
    "file = 'NG1_test_1.2Dbin'\n",
    "# !docker run -v /Users:/Users -w {path} nbren12/uwnet 2Dbin2nc {file} > /dev/null"
   ]
  },
  {
   "cell_type": "code",
   "execution_count": null,
   "metadata": {},
   "outputs": [],
   "source": [
    "ds_9epoch = xr.open_mfdataset(os.path.join(path, '*.nc'))"
   ]
  },
  {
   "cell_type": "code",
   "execution_count": null,
   "metadata": {},
   "outputs": [],
   "source": [
    "ds_9epoch.Prec[::12].plot(col='time', vmax=100)"
   ]
  },
  {
   "cell_type": "code",
   "execution_count": null,
   "metadata": {},
   "outputs": [],
   "source": [
    "ds_9epoch.PW[::12].plot(col='time', vmax=100)"
   ]
  },
  {
   "cell_type": "markdown",
   "metadata": {},
   "source": [
    "The problem is still here. Also there seems to be a strong latitudinal dependence with horizontal striations. Is this caused by using SOLIN and SST as inputs. What happens if I remove them."
   ]
  },
  {
   "cell_type": "code",
   "execution_count": null,
   "metadata": {},
   "outputs": [],
   "source": [
    "ds_9epoch.PW.mean(['x', 'y']).plot()"
   ]
  },
  {
   "cell_type": "markdown",
   "metadata": {},
   "source": [
    "the precipitable water is increasing way too much in this simulation."
   ]
  },
  {
   "cell_type": "code",
   "execution_count": null,
   "metadata": {},
   "outputs": [],
   "source": [
    "ds_9epoch.Prec.mean(['x', 'y']).plot()"
   ]
  },
  {
   "cell_type": "markdown",
   "metadata": {},
   "source": [
    "The diurnal cycle of precip is all wrong."
   ]
  },
  {
   "cell_type": "code",
   "execution_count": null,
   "metadata": {},
   "outputs": [],
   "source": [
    "ds_9epoch.PW[-1].mean(['x']).plot()\n",
    "ds_ng.PW.sel(time=103.625).mean('x').plot()"
   ]
  },
  {
   "cell_type": "code",
   "execution_count": null,
   "metadata": {},
   "outputs": [],
   "source": [
    "ds_9epoch.VSFC[::12].plot(col='time',  col_wrap=3, vmax=40)"
   ]
  },
  {
   "cell_type": "code",
   "execution_count": null,
   "metadata": {},
   "outputs": [],
   "source": [
    "ds_ng.VSFC[:12*6:12].plot(col='time',  col_wrap=3, vmax=40)"
   ]
  },
  {
   "cell_type": "code",
   "execution_count": null,
   "metadata": {},
   "outputs": [],
   "source": [
    "ds_9epoch.VSFC.mean('x').plot(y='y')"
   ]
  },
  {
   "cell_type": "code",
   "execution_count": null,
   "metadata": {},
   "outputs": [],
   "source": [
    "ds_9epoch.W500.mean('x').plot(y='y', vmax=.01)"
   ]
  },
  {
   "cell_type": "code",
   "execution_count": null,
   "metadata": {},
   "outputs": [],
   "source": [
    "ds_9epoch.W500[::6].plot(col='time', col_wrap=5, vmax=.2)"
   ]
  },
  {
   "cell_type": "markdown",
   "metadata": {},
   "source": [
    "Why are the zonally averaged meridional winds so drastically altered."
   ]
  },
  {
   "cell_type": "code",
   "execution_count": null,
   "metadata": {},
   "outputs": [],
   "source": [
    "ds_ng.VSFC.mean('x').sel(time=slice(None, 103.5)).plot(y='y')"
   ]
  },
  {
   "cell_type": "code",
   "execution_count": null,
   "metadata": {},
   "outputs": [],
   "source": [
    "ds_ng.W500.mean('x').sel(time=slice(None, 103.5)).plot(y='y')"
   ]
  },
  {
   "cell_type": "markdown",
   "metadata": {},
   "source": [
    "Does this also happen when the neural network physics aren't on?"
   ]
  },
  {
   "cell_type": "code",
   "execution_count": null,
   "metadata": {},
   "outputs": [],
   "source": [
    "ds_no = xr.open_mfdataset(\"../data/runs/khyp_1e16/OUT_2D/NG1_test_1.2Dbin_1.nc\")"
   ]
  },
  {
   "cell_type": "code",
   "execution_count": null,
   "metadata": {},
   "outputs": [],
   "source": [
    "ds_no.VSFC.mean('x').plot(y='y')"
   ]
  },
  {
   "cell_type": "code",
   "execution_count": null,
   "metadata": {},
   "outputs": [],
   "source": [
    "ds_no.W500.mean('x').plot(y='y', vmax=.01)"
   ]
  },
  {
   "cell_type": "markdown",
   "metadata": {},
   "source": [
    "The vertical velocity on the equator seems to disappear very quickly."
   ]
  },
  {
   "cell_type": "code",
   "execution_count": null,
   "metadata": {},
   "outputs": [],
   "source": [
    "ds_9epoch.Prec.mean('x').plot(y='y', vmax=18)"
   ]
  },
  {
   "cell_type": "code",
   "execution_count": null,
   "metadata": {},
   "outputs": [],
   "source": [
    "ds_ng.Prec.mean('x').sel(time=slice(None, 103.5)).plot(y='y', vmax=18)"
   ]
  },
  {
   "cell_type": "markdown",
   "metadata": {},
   "source": [
    "# Try removing SOLIN and SST as inputs\n",
    "\n",
    "This might help with horizontal striations in this data.\n",
    "\n",
    "\n",
    "`trained_models/5b/92fc43e6060e6a470454ec`"
   ]
  },
  {
   "cell_type": "code",
   "execution_count": null,
   "metadata": {},
   "outputs": [],
   "source": [
    "path = '/Users/noah/workspace/research/uwnet/trained_models/5b/92fc43e6060e6a470454ec/SAM/OUT_2D'\n",
    "file = 'NG1_test_1.2Dbin'\n",
    "!docker run -v /Users:/Users -w {path} nbren12/uwnet 2Dbin2nc {file} > /dev/null"
   ]
  },
  {
   "cell_type": "code",
   "execution_count": null,
   "metadata": {},
   "outputs": [],
   "source": [
    "ds2d_nosolin = xr.open_mfdataset(path + '/*.nc')"
   ]
  },
  {
   "cell_type": "code",
   "execution_count": null,
   "metadata": {},
   "outputs": [],
   "source": [
    "ds2d_nosolin.Prec[::6].plot(col='time', col_wrap=5)"
   ]
  },
  {
   "cell_type": "code",
   "execution_count": null,
   "metadata": {},
   "outputs": [],
   "source": [
    "ds_ng.Prec[:50:6].plot(col='time', col_wrap=5, vmax=100)"
   ]
  },
  {
   "cell_type": "code",
   "execution_count": null,
   "metadata": {},
   "outputs": [],
   "source": [
    "ds2d_nosolin.W500[::6].plot(col='time', col_wrap=5)"
   ]
  },
  {
   "cell_type": "code",
   "execution_count": null,
   "metadata": {},
   "outputs": [],
   "source": [
    "ds2d_nosolin.VSFC.mean('x').plot(y='y')"
   ]
  },
  {
   "cell_type": "code",
   "execution_count": null,
   "metadata": {},
   "outputs": [],
   "source": [
    "ds2d_nosolin.W500.mean('x').plot(y='y', vmax=.01)"
   ]
  },
  {
   "cell_type": "markdown",
   "metadata": {},
   "source": [
    "It looks like it is happening again, even though the simulation is not finished yet. I need to figure out why the scheme is not able to sustain upward motion in the tropics. It might be easier to start from a zonally homogeneous profile or something, to see what the scheme does. Part of my guess is that the vertical velocity is so speckled in the initial conditions, that the neural network is accustomed to forcings which far exceed what it sees in the model."
   ]
  }
 ],
 "metadata": {
  "kernelspec": {
   "display_name": "Python 3",
   "language": "python",
   "name": "python3"
  },
  "language_info": {
   "codemirror_mode": {
    "name": "ipython",
    "version": 3
   },
   "file_extension": ".py",
   "mimetype": "text/x-python",
   "name": "python",
   "nbconvert_exporter": "python",
   "pygments_lexer": "ipython3",
   "version": "3.6.6"
  }
 },
 "nbformat": 4,
 "nbformat_minor": 2
}
