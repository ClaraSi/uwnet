{
 "cells": [
  {
   "cell_type": "code",
   "execution_count": null,
   "metadata": {},
   "outputs": [],
   "source": [
    "import holoviews as hv\n",
    "import gnl.xarray.ndimage as nd\n",
    "from sam.case import get_ngqaua_ic\n",
    "hv.extension('bokeh')"
   ]
  },
  {
   "cell_type": "code",
   "execution_count": null,
   "metadata": {},
   "outputs": [],
   "source": [
    "ds = get_ngqaua_ic(\"../data/raw/2018-05-30-NG_5120x2560x34_4km_10s_QOBS_EQX/\", 0)"
   ]
  },
  {
   "cell_type": "code",
   "execution_count": null,
   "metadata": {},
   "outputs": [],
   "source": [
    "def blur(x, sigma):\n",
    "    return nd.gaussian_filter1d(\n",
    "        nd.gaussian_filter1d(x, sigma=sigma, dim='x', mode='wrap'),\n",
    "        sigma=sigma, dim='y', mode='reflect')\n",
    "    \n",
    "    \n",
    "def image(key, z, sigma):\n",
    "    x_b = blur(ds[key].sel(z=z), sigma)\n",
    "    x_b.name = key\n",
    "    return hv.Image(x_b.squeeze())"
   ]
  },
  {
   "cell_type": "code",
   "execution_count": null,
   "metadata": {},
   "outputs": [],
   "source": [
    "\n",
    "%%opts Image[width=600, height=300, colorbar=True](cmap='RdBu_r')\n",
    "\n",
    "hv.DynamicMap(image, kdims=['key', 'z', 'sigma'])\\\n",
    ".redim.values(key=ds.data_vars, z=ds.z).redim.range(sigma=(0.1, 5.0))\\\n",
    ".redim.range(W=(-.2, .2))"
   ]
  }
 ],
 "metadata": {
  "kernelspec": {
   "display_name": "Python 3",
   "language": "python",
   "name": "python3"
  },
  "language_info": {
   "codemirror_mode": {
    "name": "ipython",
    "version": 3
   },
   "file_extension": ".py",
   "mimetype": "text/x-python",
   "name": "python",
   "nbconvert_exporter": "python",
   "pygments_lexer": "ipython3",
   "version": "3.6.6"
  }
 },
 "nbformat": 4,
 "nbformat_minor": 2
}
