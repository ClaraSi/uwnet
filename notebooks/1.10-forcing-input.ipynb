{
 "cells": [
  {
   "cell_type": "code",
   "execution_count": null,
   "metadata": {},
   "outputs": [],
   "source": [
    "import uwnet\n",
    "\n",
    "ds = xr.open_dataset(\"../data/subset.nc\")\n",
    "\n",
    "# equatorial location\n",
    "loc = ds.isel(x=slice(0,1))\n",
    "\n",
    "\n",
    "\n",
    "\n",
    "def run_model(path):\n",
    "    mod = uwnet.MLP.from_path(path)\n",
    "    return uwnet.run_column(mod, loc).squeeze()\n",
    "\n",
    "def plot_columns(col):\n",
    "    for key in 'U V SLI QT'.split():\n",
    "        fig, (nn, obs) = plt.subplots(1, 2, figsize=(8,2))\n",
    "        col[key].plot(x='time', ax=nn)\n",
    "        col[key + 'OBS'].plot(x='time', ax=obs)"
   ]
  },
  {
   "cell_type": "code",
   "execution_count": null,
   "metadata": {},
   "outputs": [],
   "source": [
    "ids = {\n",
    "    'ForcingInput': '../trained_models/5b/91a0c4e6060e0ca8d77e3e/19.pkl',\n",
    "    'NoForcingInput': '../trained_models/5b/91a2d9e6060e1f7f735494/19.pkl'\n",
    "}"
   ]
  },
  {
   "cell_type": "code",
   "execution_count": null,
   "metadata": {},
   "outputs": [],
   "source": [
    "plot_columns(run_model(ids['ForcingInput']))"
   ]
  },
  {
   "cell_type": "code",
   "execution_count": null,
   "metadata": {},
   "outputs": [],
   "source": [
    "plot_columns(run_model(ids['NoForcingInput']))"
   ]
  },
  {
   "cell_type": "markdown",
   "metadata": {},
   "source": [
    "The simulation does much better with the forcing as an input."
   ]
  }
 ],
 "metadata": {
  "kernelspec": {
   "display_name": "Python 3",
   "language": "python",
   "name": "python3"
  },
  "language_info": {
   "codemirror_mode": {
    "name": "ipython",
    "version": 3
   },
   "file_extension": ".py",
   "mimetype": "text/x-python",
   "name": "python",
   "nbconvert_exporter": "python",
   "pygments_lexer": "ipython3",
   "version": "3.6.6"
  }
 },
 "nbformat": 4,
 "nbformat_minor": 2
}
