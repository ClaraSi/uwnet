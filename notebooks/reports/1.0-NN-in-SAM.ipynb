{
 "cells": [
  {
   "cell_type": "markdown",
   "metadata": {},
   "source": [
    "In this notebook, I show the performance of a trained neural network when run within the SAM model. I show three main cases:\n",
    "\n",
    "1. The training dataset which is the NG-Aqua data post-processed by the SAM model. The post-processing does several things. First, it projects the velocity fields onto the divergence-free subspace. Second, it evolves these base-states 10 minutes into the future, and uses the difference between this new state and the divergence-free initial condition to compute the tendency due to SAM.\n",
    "2. A passive run with the dynamical core of SAM (w/ no SGS) evolving forward in time, with the neural network producing predictions, but not updating the state.\n",
    "3. An active run which full couples SAM and the neural network"
   ]
  },
  {
   "cell_type": "code",
   "execution_count": null,
   "metadata": {},
   "outputs": [],
   "source": [
    "import os\n",
    "import glob\n",
    "from toolz import get_in, valmap\n",
    "from uwnet.analysis.sam_debug import *\n",
    "\n",
    "\n",
    "# plotting libraries\n",
    "import holoviews as hv\n",
    "hv.extension('bokeh')\n",
    "\n",
    "# colorblind friendly defaults\n",
    "import gnl\n",
    "gnl.colorblind()\n",
    "\n",
    "%opts Image[colorbar=True, width=300, height=150](cmap='viridis')"
   ]
  },
  {
   "cell_type": "markdown",
   "metadata": {},
   "source": [
    "Load debugging data and training data into a single Dataset."
   ]
  },
  {
   "cell_type": "code",
   "execution_count": null,
   "metadata": {},
   "outputs": [],
   "source": [
    "training_data_path = \"../../data/training_data.nc\"\n",
    "ids = {\n",
    "    'passive': \"tender_curie\",\n",
    "    'active':  \"deadly_becquerel\"\n",
    "}\n",
    "paths = valmap(lambda x: os.path.join(\"../../data\", \"samNN\", x), ids)\n",
    "\n",
    "def _open_debug(t):\n",
    "    ds = open_debug_and_training_data(t, paths, training_data_path)\n",
    "    return t * 20*  30/3600, ds\n",
    "\n",
    "ds = concat_datasets([_open_debug(t) for t in [0, 5, 10]], name='t')"
   ]
  },
  {
   "cell_type": "code",
   "execution_count": null,
   "metadata": {},
   "outputs": [],
   "source": [
    "ds.Prec.plot(col=\"tag\", row=\"t\", aspect=2, vmax=100)"
   ]
  },
  {
   "cell_type": "markdown",
   "metadata": {},
   "source": [
    "It looks like the passive estimate of precip is pretty good, but the active scheme seems to show some blow up."
   ]
  },
  {
   "cell_type": "code",
   "execution_count": null,
   "metadata": {},
   "outputs": [],
   "source": [
    "w_vert = (ds.W * ds.layer_mass).sum('z')\n",
    "w_vert.plot(col=\"tag\", row=\"t\", aspect=2)"
   ]
  },
  {
   "cell_type": "markdown",
   "metadata": {},
   "source": [
    "the vertically integrated vertical velocity is a measure of mean upward motion. This plot shows that the active sheme is producing extremely large vertical velocities on very fast time."
   ]
  },
  {
   "cell_type": "code",
   "execution_count": null,
   "metadata": {},
   "outputs": [],
   "source": [
    "ds.Prec.mean(['x', 'y'])"
   ]
  },
  {
   "cell_type": "markdown",
   "metadata": {},
   "source": [
    "The precipitation predicted by the neural network in passive mode is also too strong."
   ]
  },
  {
   "cell_type": "code",
   "execution_count": null,
   "metadata": {},
   "outputs": [],
   "source": [
    "ds.RADSFC.plot(col=\"tag\", row=\"t\", aspect=2)"
   ]
  },
  {
   "cell_type": "markdown",
   "metadata": {},
   "source": [
    "there are some systematic biases with the predicted radiation. I think this is probably because SAM is not being fed the correct SOLIN."
   ]
  },
  {
   "cell_type": "code",
   "execution_count": null,
   "metadata": {},
   "outputs": [],
   "source": [
    "ds.SOLIN.isel(t=0, x=0).plot(hue='tag')"
   ]
  },
  {
   "cell_type": "markdown",
   "metadata": {},
   "source": [
    "Indeed, the SOLIN is not correct. This should be an easy fix in the model, and probably does not explain the fundamental problem with stability that we are seeing though. "
   ]
  },
  {
   "cell_type": "markdown",
   "metadata": {},
   "source": [
    "# Composites for high precipitation points"
   ]
  },
  {
   "cell_type": "markdown",
   "metadata": {},
   "source": [
    "To get some insight, let's composite the vertical velocity, FQT and FSL for precipitation rates within certain bins. These are the bin edges"
   ]
  },
  {
   "cell_type": "code",
   "execution_count": null,
   "metadata": {},
   "outputs": [],
   "source": [
    "bins = [0, 25, 50, 100, 150, 200]"
   ]
  },
  {
   "cell_type": "markdown",
   "metadata": {},
   "source": [
    "Here is the command to composite these things."
   ]
  },
  {
   "cell_type": "code",
   "execution_count": null,
   "metadata": {},
   "outputs": [],
   "source": [
    "composite = (ds.groupby_bins('Prec', bins)\n",
    "              .apply(lambda x: x.groupby('tag')\n",
    "                     .apply(lambda x: x.groupby('z').mean())\n",
    "                    ))\n"
   ]
  },
  {
   "cell_type": "code",
   "execution_count": null,
   "metadata": {},
   "outputs": [],
   "source": [
    "composite.W.plot(y='z', col='tag', hue='Prec_bins')\n",
    "plt.xlim([-.2, .2])"
   ]
  },
  {
   "cell_type": "markdown",
   "metadata": {},
   "source": [
    "The structure of vertical velocity is quite different for the points with precip > 150 mm/day for the model with an active NN. Specifically, the vertical velocity has a secondary peak above z=10 km. Note, no point as P > 150 for the passive or training data, so there are no corresponding blue curves.\n",
    "\n",
    "This change in vertical velocity has a very large influence on FSLI in the stratosphere. In fact, this field has a very unrealistic structure in the active model for lower values of precip."
   ]
  },
  {
   "cell_type": "code",
   "execution_count": null,
   "metadata": {},
   "outputs": [],
   "source": [
    "(composite.FSLI*86400).plot(y='z', col='tag', hue='Prec_bins')\n",
    "plt.xlim([-100, 50])"
   ]
  },
  {
   "cell_type": "code",
   "execution_count": null,
   "metadata": {},
   "outputs": [],
   "source": [
    "(composite.FQT*86400).plot(y='z', col='tag', hue='Prec_bins')\n",
    "plt.xlim([-1, 40])"
   ]
  },
  {
   "cell_type": "markdown",
   "metadata": {},
   "source": [
    "This change in vertical velocities also effects FQT, but in a less visibly drastic way."
   ]
  },
  {
   "cell_type": "markdown",
   "metadata": {},
   "source": [
    "# Conclusions\n",
    "\n",
    "1. I need to fix the SOLIN computation routine. There is probably something wrong with how I am computing the zenith angle.\n",
    "2. There is probably some numerical instability involving W-FSL-precipitation in the coupled model."
   ]
  }
 ],
 "metadata": {
  "kernelspec": {
   "display_name": "Python 3",
   "language": "python",
   "name": "python3"
  },
  "language_info": {
   "codemirror_mode": {
    "name": "ipython",
    "version": 3
   },
   "file_extension": ".py",
   "mimetype": "text/x-python",
   "name": "python",
   "nbconvert_exporter": "python",
   "pygments_lexer": "ipython3",
   "version": "3.6.6"
  }
 },
 "nbformat": 4,
 "nbformat_minor": 2
}
