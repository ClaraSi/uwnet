{
 "cells": [
  {
   "cell_type": "markdown",
   "metadata": {},
   "source": [
    "When evaluating the neural network scheme in SAM, I found some strange behavior in the meridional wind field. Specifically, the Hadley and Ferrel cells seems to disappear within 1 day.\n",
    "\n",
    "In the simulations below, I added hyper diffusion of varying strengths using some code that Matt Wyant gave me. I show three cases, each initialized with the same data.\n",
    "\n",
    "1. The \"True\" NGqua data\n",
    "2. A coarse resolution SAM (cSAM) simulation with hyper diffisuivity of 1e16 m^4/s.\n",
    "3. A cSAM simulation with active neural network and also hyper diffusivity. the neural network is trained for many samples, and uses SOLIN and SST as an input.\n",
    "4. Another neural network simulation, this time w/o SOLIN and SST as inputs."
   ]
  },
  {
   "cell_type": "code",
   "execution_count": null,
   "metadata": {},
   "outputs": [],
   "source": [
    "runs = {\n",
    "    'NGAqua': '/Users/noah/Data/2018-05-30-NG_5120x2560x34_4km_10s_QOBS_EQX/coarse/2d/all.nc',\n",
    "    'NoNN': '../../data/runs/khyp_1e16/OUT_2D/NG1_test_1.2Dbin_1.nc',\n",
    "    'NN': '/Users/noah/workspace/research/uwnet/trained_models/5b/92d2bbe6060eb1f80f945e/SAM/OUT_2D/NG1_test_1.2Dbin_1.nc',\n",
    "    'NN_noSOLIN': '/Users/noah/workspace/research/uwnet/trained_models/5b/92fc43e6060e6a470454ec/SAM/OUT_2D/NG1_test_1.2Dbin_1.nc'\n",
    "}\n",
    "\n",
    "\n",
    "time_range = slice(100, 103)\n",
    "\n",
    "\n",
    "# open data\n",
    "base =( xr.open_mfdataset(runs['NGAqua'])\n",
    "       .sortby('time')\n",
    "       .sel(time=time_range))\n",
    "\n",
    "datasets = {}\n",
    "for key, val in runs.items():\n",
    "    print(f\"Opening {key}\")\n",
    "    datasets[key] = xr.open_dataset(val).sortby('time').sel(time=base.time, method='nearest')"
   ]
  },
  {
   "cell_type": "markdown",
   "metadata": {},
   "source": [
    "What does the zonally averaged meridional wind look like for these datasets?"
   ]
  },
  {
   "cell_type": "code",
   "execution_count": null,
   "metadata": {},
   "outputs": [],
   "source": [
    "fig, axs = plt.subplots(2,2, figsize=(8,6), constrained_layout=True)\n",
    "\n",
    "for ax, (key, val) in zip(axs.flat, datasets.items()):\n",
    "    val.VSFC.mean('x').plot(x='time', ax=ax)\n",
    "    ax.set_title(key)"
   ]
  },
  {
   "cell_type": "markdown",
   "metadata": {},
   "source": [
    "As we can see the Ferrel cell quickly dissapears for all of the runs."
   ]
  },
  {
   "cell_type": "code",
   "execution_count": null,
   "metadata": {},
   "outputs": [],
   "source": [
    "fig, axs = plt.subplots(2,2, figsize=(8,6), constrained_layout=True)\n",
    "\n",
    "for ax, (key, val) in zip(axs.flat, datasets.items()):\n",
    "    val.W500.mean('x').plot(x='time', ax=ax)\n",
    "    ax.set_title(key)"
   ]
  },
  {
   "cell_type": "markdown",
   "metadata": {},
   "source": [
    "We see a correspondingly strange vertical velocity structure."
   ]
  },
  {
   "cell_type": "markdown",
   "metadata": {},
   "source": [
    "Here is precipitaton:"
   ]
  },
  {
   "cell_type": "code",
   "execution_count": null,
   "metadata": {},
   "outputs": [],
   "source": [
    "fig, axs = plt.subplots(2,2, figsize=(8,6), constrained_layout=True)\n",
    "\n",
    "for ax, (key, val) in zip(axs.flat, datasets.items()):\n",
    "    try:\n",
    "        val.Prec.mean('x').plot(x='time', ax=ax)\n",
    "    except:\n",
    "        pass\n",
    "    ax.set_title(key)"
   ]
  },
  {
   "cell_type": "code",
   "execution_count": null,
   "metadata": {},
   "outputs": [],
   "source": [
    "for key, val in datasets.items():\n",
    "    try:\n",
    "        val.Prec[::6].plot(col='time', col_wrap=4, vmax=100)\n",
    "        plt.suptitle(key, y=1.05)\n",
    "    except AttributeError:\n",
    "        pass"
   ]
  },
  {
   "cell_type": "code",
   "execution_count": null,
   "metadata": {},
   "outputs": [],
   "source": [
    "import holoviews as hv\n",
    "hv.extension('bokeh')\n",
    "\n",
    "%opts Image[colorbar=True, width=600, height=300](cmap='RdBu')"
   ]
  },
  {
   "cell_type": "code",
   "execution_count": null,
   "metadata": {},
   "outputs": [],
   "source": [
    "%%opts Image[colorbar=True, width=600, height=300](cmap='RdBu')\n",
    "\n",
    "plot_runs = dict(no_nn = xr.open_mfdataset(runs['NoNN']).VSFC,\n",
    "ngaqua = xr.open_mfdataset(runs['NGAqua']).sortby('time').VSFC.sel(time=time_range))\n",
    "\n",
    "\n",
    "def dplot(run, t):\n",
    "    return hv.Image(plot_runs[run].sel(time=t, method='nearest'))\n",
    "\n",
    "dmap = hv.DynamicMap(dplot, kdims=['run', 't'])\n",
    "dmap.redim.values(run=list(plot_runs.keys()), t=plot_runs['no_nn'].time.values).layout('run').cols(1).redim.range(VSFC=(-30,30))"
   ]
  },
  {
   "cell_type": "code",
   "execution_count": null,
   "metadata": {},
   "outputs": [],
   "source": [
    "plot_runs['ngaqua'].isel(y=50, time=0).plot()\n",
    "plot_runs['no_nn'].isel(y=50, time=0).plot()"
   ]
  },
  {
   "cell_type": "markdown",
   "metadata": {},
   "source": [
    "These just shows for a check that we are using the staggered data to initialize the simulations:"
   ]
  },
  {
   "cell_type": "code",
   "execution_count": null,
   "metadata": {},
   "outputs": [],
   "source": [
    "ic = xr.open_dataset('../../data/runs/khyp_1e16/NG1/ic.nc')\n",
    "\n",
    "ic_ng = xr.open_dataset(\"/Users/noah/Data/2018-05-30-NG_5120x2560x34_4km_10s_QOBS_EQX/stagger/3d/all.nc\").sel(time=ic.time)\n",
    "\n",
    "ic_ng.V.isel(z=1, ys=50).plot()\n",
    "ic.V.isel(z=1, y=50).plot()"
   ]
  },
  {
   "cell_type": "markdown",
   "metadata": {},
   "source": [
    "Is this initial data simply sharp or something?"
   ]
  }
 ],
 "metadata": {
  "kernelspec": {
   "display_name": "Python 3",
   "language": "python",
   "name": "python3"
  },
  "language_info": {
   "codemirror_mode": {
    "name": "ipython",
    "version": 3
   },
   "file_extension": ".py",
   "mimetype": "text/x-python",
   "name": "python",
   "nbconvert_exporter": "python",
   "pygments_lexer": "ipython3",
   "version": "3.6.6"
  }
 },
 "nbformat": 4,
 "nbformat_minor": 2
}
