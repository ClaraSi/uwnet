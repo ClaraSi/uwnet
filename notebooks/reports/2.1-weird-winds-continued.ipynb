{
 "cells": [
  {
   "cell_type": "markdown",
   "metadata": {},
   "source": [
    "# Weird winds continued\n",
    "\n",
    "\n",
    "Chris suggestes that a lack of vertical momentum mixing in the coarse resolution SAM could be causing a rapid degredation of the wind fields in the extra tropics when initialized with data from NG-Aqua.\n",
    "\n",
    "First, let's open the 2D outputs:"
   ]
  },
  {
   "cell_type": "code",
   "execution_count": null,
   "metadata": {},
   "outputs": [],
   "source": [
    "import xarray as xr"
   ]
  },
  {
   "cell_type": "code",
   "execution_count": null,
   "metadata": {},
   "outputs": [],
   "source": [
    "runs = {\n",
    "    'NGAqua': '/Users/noah/Data/2018-05-30-NG_5120x2560x34_4km_10s_QOBS_EQX/coarse/2d/all.nc',\n",
    "    'NoNN': '../../data/runs/khyp_1e16/OUT_2D/NG1_test_1.2Dbin_1.nc',\n",
    "    'NN': '/Users/noah/workspace/research/uwnet/trained_models/5b/92d2bbe6060eb1f80f945e/SAM/OUT_2D/NG1_test_1.2Dbin_1.nc',\n",
    "    'NN_noSOLIN': '/Users/noah/workspace/research/uwnet/trained_models/5b/92fc43e6060e6a470454ec/SAM/OUT_2D/NG1_test_1.2Dbin_1.nc'\n",
    "}\n",
    "\n",
    "\n",
    "time_range = slice(100, 103)\n",
    "\n",
    "\n",
    "# open data\n",
    "base =( xr.open_mfdataset(runs['NGAqua'])\n",
    "       .sortby('time')\n",
    "       .sel(time=time_range))\n",
    "\n",
    "datasets = {}\n",
    "for key, val in runs.items():\n",
    "    print(f\"Opening {key}\")\n",
    "    datasets[key] = xr.open_dataset(val).sortby('time').sel(time=base.time, method='nearest')"
   ]
  },
  {
   "cell_type": "markdown",
   "metadata": {},
   "source": [
    "## VSFC\n",
    "\n",
    "This is the plot I showed in the notebook, during our meeting. It shows the VSFC winds around y= 8000 km disappearing."
   ]
  },
  {
   "cell_type": "code",
   "execution_count": null,
   "metadata": {},
   "outputs": [],
   "source": [
    "fig, axs = plt.subplots(2,2, figsize=(8,6), constrained_layout=True)\n",
    "\n",
    "for ax, (key, val) in zip(axs.flat, datasets.items()):\n",
    "    val.VSFC.mean('x').plot(x='time', ax=ax)\n",
    "    ax.set_title(key)"
   ]
  },
  {
   "cell_type": "markdown",
   "metadata": {},
   "source": [
    "## V850\n",
    "\n",
    "Herea the 850 hPA y-winds. They show a substnatially different y structure."
   ]
  },
  {
   "cell_type": "code",
   "execution_count": null,
   "metadata": {},
   "outputs": [],
   "source": [
    "fig, axs = plt.subplots(2,2, figsize=(8,6), constrained_layout=True)\n",
    "\n",
    "for ax, (key, val) in zip(axs.flat, datasets.items()):\n",
    "    val.V850.mean('x').plot(x='time', ax=ax)\n",
    "    ax.set_title(key)"
   ]
  },
  {
   "cell_type": "markdown",
   "metadata": {},
   "source": [
    "The meridional winds at V850 look substantially different than the surface winds."
   ]
  },
  {
   "cell_type": "markdown",
   "metadata": {},
   "source": [
    "## 3D winds\n",
    "\n",
    "I plot the full 3D structure of the zonal mean winds at y= 8480 km here."
   ]
  },
  {
   "cell_type": "markdown",
   "metadata": {},
   "source": [
    "### Meridional winds"
   ]
  },
  {
   "cell_type": "code",
   "execution_count": null,
   "metadata": {},
   "outputs": [],
   "source": [
    "csam_no_nn_3d = xr.open_mfdataset(\"../../data/runs/khyp_1e16/OUT_3D/*.nc\", autoclose=True)\n",
    "csam_nn_3d = xr.open_mfdataset(\"/Users/noah/workspace/research/uwnet/trained_models/5b/92fc43e6060e6a470454ec/SAM/OUT_3D/*.nc\", autoclose=True)\n",
    "\n",
    "ng_3d = xr.open_dataset(\"/Users/noah/Data/2018-05-30-NG_5120x2560x34_4km_10s_QOBS_EQX/stagger/3d/all.nc\")\n",
    "ng_3d_centered = xr.open_dataset(\"/Users/noah/Data/2018-05-30-NG_5120x2560x34_4km_10s_QOBS_EQX/coarse/3d/all.nc\")\n",
    "\n",
    "\n",
    "def plot_v(v, a=2.0):\n",
    "    v.sel(time=slice(100,103)).plot(y='z', vmax=a, vmin=-a, cmap='RdBu_r')\n",
    "\n",
    "\n",
    "plot_v(csam_no_nn_3d.V.isel(y=53).mean('x'))\n",
    "plt.title(\"coarse SAM (cSAM)\")\n",
    "\n",
    "\n",
    "plt.figure()\n",
    "plot_v(ng_3d.V.isel(ys=53).mean('xc'))\n",
    "plt.title(\"NGAqua\")"
   ]
  },
  {
   "cell_type": "markdown",
   "metadata": {},
   "source": [
    "We can see here are big differences in the winds structure throught the atmosphere. Most obviously, the sponge layer does not appear to be on, so there are large variations in the upper troposphere of the cSAM simulation. There is also a regular oscillation at the surface."
   ]
  },
  {
   "cell_type": "markdown",
   "metadata": {},
   "source": [
    "### Zonal winds"
   ]
  },
  {
   "cell_type": "code",
   "execution_count": null,
   "metadata": {},
   "outputs": [],
   "source": [
    "plot_v(csam_no_nn_3d.U.isel(y=53).mean('x'), a=100)\n",
    "plt.title(\"coarse SAM\")\n",
    "\n",
    "\n",
    "plt.figure()\n",
    "plot_v(ng_3d.U.isel(yc=53).mean('xs'), a=100)\n",
    "plt.title(\"NGAqua\")\n"
   ]
  },
  {
   "cell_type": "markdown",
   "metadata": {},
   "source": [
    "## Zonal mean meridional wind plots for first 3 days"
   ]
  },
  {
   "cell_type": "markdown",
   "metadata": {},
   "source": [
    "### Coarse Resolution SAM (no NN)"
   ]
  },
  {
   "cell_type": "code",
   "execution_count": null,
   "metadata": {},
   "outputs": [],
   "source": [
    "csam_no_nn_3d.V[::4].mean('x').plot(col='time', col_wrap=4)"
   ]
  },
  {
   "cell_type": "markdown",
   "metadata": {},
   "source": [
    "### NGAqua"
   ]
  },
  {
   "cell_type": "code",
   "execution_count": null,
   "metadata": {},
   "outputs": [],
   "source": [
    "ng_3d.V[::4].sel(time=slice(100, 103.2)).mean('xc').plot(col='time', col_wrap=4)"
   ]
  },
  {
   "cell_type": "markdown",
   "metadata": {},
   "source": [
    "## Zonal mean plots"
   ]
  },
  {
   "cell_type": "markdown",
   "metadata": {},
   "source": [
    "### Coarse Res SAM"
   ]
  },
  {
   "cell_type": "code",
   "execution_count": null,
   "metadata": {},
   "outputs": [],
   "source": [
    "csam_no_nn_3d.U[::4].mean('x').plot(col='time', col_wrap=4)"
   ]
  },
  {
   "cell_type": "markdown",
   "metadata": {},
   "source": [
    "### NG-Aqua"
   ]
  },
  {
   "cell_type": "code",
   "execution_count": null,
   "metadata": {},
   "outputs": [],
   "source": [
    "ng_3d.U[::4].sel(time=slice(100, 103.2)).mean('xs').plot(col='time', col_wrap=4)"
   ]
  },
  {
   "cell_type": "markdown",
   "metadata": {},
   "source": [
    "# Conclusions\n",
    "\n",
    "1. I need to re-enable the gravity wave damper in the cSAM runs.\n",
    "2. I probably need to impose some boundary layer friction somehow, to ensure that $ -f V_{sfc} \\approx  \\text{zonal drag} $. This would maintain positive meridional velocity in the region of the surface westerlies."
   ]
  }
 ],
 "metadata": {
  "kernelspec": {
   "display_name": "Python 3",
   "language": "python",
   "name": "python3"
  },
  "language_info": {
   "codemirror_mode": {
    "name": "ipython",
    "version": 3
   },
   "file_extension": ".py",
   "mimetype": "text/x-python",
   "name": "python",
   "nbconvert_exporter": "python",
   "pygments_lexer": "ipython3",
   "version": "3.6.6"
  }
 },
 "nbformat": 4,
 "nbformat_minor": 2
}
