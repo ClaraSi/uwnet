{
 "cells": [
  {
   "cell_type": "code",
   "execution_count": null,
   "metadata": {},
   "outputs": [],
   "source": [
    "import os\n",
    "\n",
    "# plotting libraries\n",
    "import holoviews as hv\n",
    "from holoviews.operation.datashader import datashade, shade, dynspread, rasterize\n",
    "from toolz import valmap\n",
    "\n",
    "# colorblind friendly defaults\n",
    "import gnl\n",
    "from uwnet.analysis.sam_debug import *\n",
    "from uwnet.interface import step_with_xarray_inputs\n",
    "from uwnet.model import MLP\n",
    "\n",
    "hv.extension('bokeh')\n",
    "\n",
    "gnl.colorblind()"
   ]
  },
  {
   "cell_type": "code",
   "execution_count": null,
   "metadata": {},
   "outputs": [],
   "source": [
    "ids = {'active': 'compassionate_chandrasekhar', 'passive': 'romantic_volta'}\n",
    "training_data_path = \"../data/training_data.nc\"\n",
    "model_path = \"../data/samNN/compassionate_chandrasekhar/NG1/data.pkl\"\n",
    "\n",
    "\n",
    "paths = valmap(lambda x: os.path.join(\"../data\", \"samNN\", x), ids)\n",
    "\n",
    "\n",
    "def _open_debug(t):\n",
    "    ds = open_debug_and_training_data(t, paths, training_data_path)\n",
    "    return t * 30 / 60, ds\n",
    "\n",
    "\n",
    "training_ds = xr.open_dataset(training_data_path)\n",
    "ds = concat_datasets([_open_debug(t) for t in range(20)], name='t')\n",
    "model = MLP.from_dict(torch.load(model_path)['dict'])"
   ]
  },
  {
   "cell_type": "code",
   "execution_count": null,
   "metadata": {},
   "outputs": [],
   "source": [
    "ds"
   ]
  },
  {
   "cell_type": "markdown",
   "metadata": {},
   "source": [
    "Let's find a point with strong precipitation:"
   ]
  },
  {
   "cell_type": "markdown",
   "metadata": {},
   "source": [
    "# Precipitation"
   ]
  },
  {
   "cell_type": "code",
   "execution_count": null,
   "metadata": {},
   "outputs": [],
   "source": [
    "i, j = (ds.Prec.sel(tag='active')[-1] > 115).values.nonzero()\n",
    "loc = ds.isel(x=j, y=i).squeeze()"
   ]
  },
  {
   "cell_type": "code",
   "execution_count": null,
   "metadata": {},
   "outputs": [],
   "source": [
    "loc.Prec.plot(hue='tag')"
   ]
  },
  {
   "cell_type": "markdown",
   "metadata": {},
   "source": [
    "We can see that the initial precipitation is way to high for this point. Why? Let's compute the neural networks prediction of precip for every point in the training data."
   ]
  },
  {
   "cell_type": "code",
   "execution_count": null,
   "metadata": {},
   "outputs": [],
   "source": [
    "def _compute_precip(x):\n",
    "    out_ds = step_with_xarray_inputs(model.step, x, 10.0)\n",
    "    return out_ds.Prec\n",
    "\n",
    "prec = training_ds.groupby('time').apply(_compute_precip)"
   ]
  },
  {
   "cell_type": "markdown",
   "metadata": {},
   "source": [
    "And plot it:"
   ]
  },
  {
   "cell_type": "code",
   "execution_count": null,
   "metadata": {},
   "outputs": [],
   "source": [
    "x = prec.mean(['x', 'y'])\n",
    "y = training_ds.Prec.mean(['x', 'y'])\n",
    "\n",
    "scatter = hv.Scatter((x, y)) *\\\n",
    "hv.Curve([(x.min(), x.min()), (x.max(), x.max())])\n",
    "\n",
    "time_series = hv.Curve(x, label=\"NN\") * hv.Curve(y, label=\"NGAqua\")\n",
    "\n",
    "scatter.redim(x=\"NN Prec\", y=\"NGAqua Prec\") + time_series.opts(plot=dict(width=500))"
   ]
  },
  {
   "cell_type": "markdown",
   "metadata": {},
   "source": [
    "It actually looks like the neural network under-estimates the mean precipitation for the time points with higher domain averaged precip. The neural network struggles with the diurnal cycle of precipitation. The time points used for the two dimensional fields are probably mis-aligned in the training data."
   ]
  },
  {
   "cell_type": "code",
   "execution_count": null,
   "metadata": {},
   "outputs": [],
   "source": [
    "args  = tuple(np.ravel(x) for x in \n",
    "        xr.broadcast(prec, training_ds.Prec))\n",
    "datashade(hv.Scatter(args)).redim(x=\"NN\", y=\"Training Data\").relabel(\"Precipitation (mm/day)\")"
   ]
  },
  {
   "cell_type": "markdown",
   "metadata": {},
   "source": [
    "# Vertical Velocity\n",
    "\n",
    "What is $W$ doing:"
   ]
  },
  {
   "cell_type": "code",
   "execution_count": null,
   "metadata": {},
   "outputs": [],
   "source": [
    "loc.W.plot(row='tag', x='t', aspect=2)\n",
    "plt.xlabel('Minutes')"
   ]
  },
  {
   "cell_type": "markdown",
   "metadata": {},
   "source": [
    "We can see that this point has a very strong upward vertical velocity throughout the troposphere. In the active simulation, this vetical velocity increases dramatically within 10 minutes."
   ]
  },
  {
   "cell_type": "code",
   "execution_count": null,
   "metadata": {},
   "outputs": [],
   "source": [
    "loc.W.isel(z=8).plot(hue='tag')"
   ]
  },
  {
   "cell_type": "markdown",
   "metadata": {},
   "source": [
    "There is a nearly linear increase in W. I would expect this to look more exponential if it were some kind of neural network instability."
   ]
  },
  {
   "cell_type": "code",
   "execution_count": null,
   "metadata": {},
   "outputs": [],
   "source": [
    "sli_anom = loc.SLI - loc.SLI[0]\n",
    "sli_anom.plot(row='tag', x='t', aspect=2)\n",
    "plt.xlabel('Minutes')"
   ]
  },
  {
   "cell_type": "code",
   "execution_count": null,
   "metadata": {},
   "outputs": [],
   "source": [
    "qt_anom = loc.QT - loc.QT[0]\n",
    "qt_anom.plot(row='tag', x='t', aspect=2)\n",
    "plt.suptitle('QT anomaly from initial value (g/kg)', y=1.05)\n",
    "plt.xlabel('Minutes')"
   ]
  }
 ],
 "metadata": {
  "kernelspec": {
   "display_name": "Python 3",
   "language": "python",
   "name": "python3"
  },
  "language_info": {
   "codemirror_mode": {
    "name": "ipython",
    "version": 3
   },
   "file_extension": ".py",
   "mimetype": "text/x-python",
   "name": "python",
   "nbconvert_exporter": "python",
   "pygments_lexer": "ipython3",
   "version": "3.6.6"
  }
 },
 "nbformat": 4,
 "nbformat_minor": 2
}
