{
 "cells": [
  {
   "cell_type": "code",
   "execution_count": null,
   "metadata": {},
   "outputs": [],
   "source": [
    "%matplotlib inline\n",
    "\n",
    "import xarray as xr\n",
    "from os.path import join, abspath\n",
    "import os\n",
    "from scipy import quantile\n",
    "\n",
    "RUN = abspath(os.getenv('RUN', '../models/12/test'))\n",
    "\n",
    "\n",
    "data_2d_path = join(RUN, 'OUT_2D', '*.nc')\n",
    "data_3d_path = join(RUN, 'OUT_3D', '*.nc')\n",
    "data_stat_path = join(RUN, 'OUT_STAT', '*.nc')\n",
    "\n",
    "print(data_2d_path)\n",
    "data_2d = xr.open_mfdataset(data_2d_path)\n",
    "data_3d = xr.open_mfdataset(data_3d_path)\n",
    "stat = xr.open_mfdataset(data_stat_path)\n",
    "\n",
    "data_3d['FQTNN'] *= 86400\n",
    "data_3d['FQTNN'].attrs['units'] = 'g/kg/d'\n",
    "data_3d['FSLINN'] *= 86400\n",
    "data_3d['FSLINN'].attrs['units'] = 'K/d'"
   ]
  },
  {
   "cell_type": "code",
   "execution_count": null,
   "metadata": {},
   "outputs": [],
   "source": [
    "data_2d.PW[::12].plot(col='time', col_wrap=3)"
   ]
  },
  {
   "cell_type": "code",
   "execution_count": null,
   "metadata": {},
   "outputs": [],
   "source": [
    "data_2d.W500[::12].plot(col='time', col_wrap=3)"
   ]
  },
  {
   "cell_type": "markdown",
   "metadata": {},
   "source": [
    "# Forcing in a Single Location"
   ]
  },
  {
   "cell_type": "code",
   "execution_count": null,
   "metadata": {},
   "outputs": [],
   "source": [
    "for loc in [dict(x=0, y=32), dict(x=0, y=10)]:\n",
    "    for key in ['FQTNN', 'FSLINN', 'SLI', 'QT']:\n",
    "        plt.figure()\n",
    "        data_3d[key].isel(**loc).plot.contourf(x='time', levels=11)"
   ]
  },
  {
   "cell_type": "markdown",
   "metadata": {},
   "source": [
    "# Zonal-Means"
   ]
  },
  {
   "cell_type": "code",
   "execution_count": null,
   "metadata": {},
   "outputs": [],
   "source": [
    "data_3d['FQTNN']"
   ]
  },
  {
   "cell_type": "code",
   "execution_count": null,
   "metadata": {},
   "outputs": [],
   "source": [
    "def get_plot_kwargs(x):\n",
    "    kwargs = {}\n",
    "    a,b = quantile(x, [0.02, .98])\n",
    "    if a * b < 0:\n",
    "        cmap = 'RdBu_r'\n",
    "        m = max(abs(a), abs(b))\n",
    "        a = -m \n",
    "        b = m\n",
    "    else:\n",
    "        cmap = 'viridis'\n",
    "    return dict(levels=np.linspace(a, b, 11), cmap=cmap)\n",
    "\n",
    "for key in ['FQTNN', 'FSLINN', 'SLI', 'QT']:\n",
    "    plt.figure()\n",
    "    x = data_3d[key][::12].mean('x')\n",
    "    x.plot.contourf(col='time', **get_plot_kwargs(x))"
   ]
  }
 ],
 "metadata": {
  "kernelspec": {
   "display_name": "Python 3",
   "language": "python",
   "name": "python3"
  },
  "language_info": {
   "codemirror_mode": {
    "name": "ipython",
    "version": 3
   },
   "file_extension": ".py",
   "mimetype": "text/x-python",
   "name": "python",
   "nbconvert_exporter": "python",
   "pygments_lexer": "ipython3",
   "version": "3.6.6"
  }
 },
 "nbformat": 4,
 "nbformat_minor": 2
}
