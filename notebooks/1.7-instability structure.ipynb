{
 "cells": [
  {
   "cell_type": "code",
   "execution_count": null,
   "metadata": {},
   "outputs": [],
   "source": [
    "import holoviews as hv\n",
    "hv.extension('bokeh')"
   ]
  },
  {
   "cell_type": "markdown",
   "metadata": {},
   "source": [
    "## Structure of the instability\n",
    "\n",
    "Chris recommends analyzing the structure of the instability"
   ]
  },
  {
   "cell_type": "code",
   "execution_count": null,
   "metadata": {},
   "outputs": [],
   "source": [
    "import logging\n",
    "logging.basicConfig(level=logging.WARN)"
   ]
  },
  {
   "cell_type": "code",
   "execution_count": null,
   "metadata": {},
   "outputs": [],
   "source": [
    "from uwnet.analysis.sam_debug import *"
   ]
  },
  {
   "cell_type": "code",
   "execution_count": null,
   "metadata": {},
   "outputs": [],
   "source": [
    "files = !ls ~/Data/0/f3/91f3038360fe0bea70c33ab27a0903/NG1*.pkl # damping\n",
    "\n",
    "\n",
    "out = open_debug_files_as_numpy(files)"
   ]
  },
  {
   "cell_type": "code",
   "execution_count": null,
   "metadata": {},
   "outputs": [],
   "source": [
    "sli = xr.DataArray(out['SLI'], dims='time z y x'.split())\n",
    "sli_anom = sli - sli.mean('x').isel(time=0)\n",
    "sli_anom.name = 'SLIp'\n",
    "w = xr.DataArray(out['W'], dims='time z y x'.split(), name='W')"
   ]
  },
  {
   "cell_type": "code",
   "execution_count": null,
   "metadata": {},
   "outputs": [],
   "source": [
    "%%opts Image[width=400](cmap='RdBu_r')\n",
    "\n",
    "lay = hv.Dataset(expand_dims(sli_anom).isel(y=32)).to.image([\"x\", \"z\"]).relabel(\"SLI\") \\\n",
    "+ hv.Dataset(expand_dims(w).isel(y=32)).to.image([\"x\", \"z\"]).relabel(\"W\") \n",
    "lay.cols(1).redim.range(SLIp=(-20, 20))"
   ]
  },
  {
   "cell_type": "markdown",
   "metadata": {},
   "source": [
    "There are very large problems with SLI in the top few grid points."
   ]
  }
 ],
 "metadata": {
  "kernelspec": {
   "display_name": "Python 3",
   "language": "python",
   "name": "python3"
  },
  "language_info": {
   "codemirror_mode": {
    "name": "ipython",
    "version": 3
   },
   "file_extension": ".py",
   "mimetype": "text/x-python",
   "name": "python",
   "nbconvert_exporter": "python",
   "pygments_lexer": "ipython3",
   "version": "3.6.6"
  }
 },
 "nbformat": 4,
 "nbformat_minor": 2
}
