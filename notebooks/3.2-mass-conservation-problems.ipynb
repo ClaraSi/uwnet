{
 "cells": [
  {
   "cell_type": "markdown",
   "metadata": {},
   "source": [
    "In the last notebook we saw a big problem with the forcings computed using SAM. This appeared as a meridional oscillations, which we call \"zonal\" striping. In this notebook, I show that these oscillations are probably caused by NGAqua's lack of mass conservation."
   ]
  },
  {
   "cell_type": "markdown",
   "metadata": {},
   "source": [
    "# Code\n",
    "\n",
    "Here are some necesary imports and code:"
   ]
  },
  {
   "cell_type": "code",
   "execution_count": null,
   "metadata": {},
   "outputs": [],
   "source": [
    "import holoviews as hv\n",
    "hv.extension('bokeh')\n",
    "%opts Image[width=500, height=300, colorbar=True](cmap='magma') \n",
    "%opts QuadMesh[width=300,  height=150, colorbar=True](cmap='viridis')\n",
    "%opts Curve[width=500, height=int(500/1.61)]\n",
    "\n",
    "%matplotlib inline\n",
    "import matplotlib.pyplot as plt"
   ]
  },
  {
   "cell_type": "code",
   "execution_count": null,
   "metadata": {},
   "outputs": [],
   "source": [
    "from sam.case import get_ngqaua_ic, InitialConditionCase\n",
    "import xarray as xr\n",
    "from os.path import join\n",
    "import numpy as np\n",
    "from uwnet.thermo import layer_mass\n",
    "\n",
    "\n",
    "def process_ic(ic, **kwargs):\n",
    "\n",
    "    # open initial conditions\n",
    "    case = InitialConditionCase(ic=ic)\n",
    "\n",
    "    # configure the sam run\n",
    "    case.prm['parameters'].update({\n",
    "        'dosgs': False,\n",
    "        'dowally': True,\n",
    "        'nstop': 2,\n",
    "        'nsave3d': 1,\n",
    "        'nstat': 2,\n",
    "        'nstatfrq': 1,\n",
    "        'dt': 30\n",
    "    })\n",
    "    \n",
    "    case.prm['parameters'].update(kwargs)\n",
    "\n",
    "    case.save()\n",
    "\n",
    "    # Run the model\n",
    "    print(case.path)\n",
    "    !cd {case.path} &&  bash -c './run.sh > out  2> err'\n",
    "    # !cd {case.path} &&  bash -c './run.sh'\n",
    "\n",
    "    # open the 3d outputs\n",
    "    sam_processed = xr.open_mfdataset(join(case.path, 'OUT_3D', '*.nc'), concat_dim='time').load()\n",
    "    assert len(sam_processed.time) > 1\n",
    "\n",
    "    # clean up the working directory\n",
    "    !rm -rf {case.path}\n",
    "    \n",
    "    return sam_processed"
   ]
  },
  {
   "cell_type": "markdown",
   "metadata": {},
   "source": [
    "# Load and Process Data\n",
    "\n",
    "Here I load the initial data from NGAqua, and use it to initialize a SAM simulation. As part of my initialization code in SAM, I call the pressure solver to correct the velocities before any physics occur."
   ]
  },
  {
   "cell_type": "code",
   "execution_count": null,
   "metadata": {},
   "outputs": [],
   "source": [
    "NGROOT = \"/Users/noah/Data/2018-05-30-NG_5120x2560x34_4km_10s_QOBS_EQX/\"\n",
    "STATFILE = join(NGROOT, 'stat.nc')\n",
    "\n",
    "stat = xr.open_mfdataset(STATFILE)\n",
    "rho = stat.RHO[0]\n",
    "\n",
    "# layer mass\n",
    "dm = layer_mass(rho)\n",
    "\n",
    "# get the initial condition at first time step\n",
    "# the winds are staggered\n",
    "ic = get_ngqaua_ic(NGROOT, 0)\n",
    "\n",
    "# Process this initial conditions using SAM\n",
    "sam_processed = process_ic(ic, dt=.01).assign_coords(time=np.arange(3))"
   ]
  },
  {
   "cell_type": "markdown",
   "metadata": {},
   "source": [
    "What does the pressure in the first time step look like? If the initial data is divergent free, this pressure should vanish for the \"0th\" output if the initial data conserve mass."
   ]
  },
  {
   "cell_type": "code",
   "execution_count": null,
   "metadata": {},
   "outputs": [],
   "source": [
    "hv.Dataset(sam_processed.PP[:,::5]).to.image([\"x\", \"y\"])"
   ]
  },
  {
   "cell_type": "markdown",
   "metadata": {},
   "source": [
    "What does the zonal mean of this pressure correcting velocity look like?"
   ]
  },
  {
   "cell_type": "code",
   "execution_count": null,
   "metadata": {},
   "outputs": [],
   "source": [
    "(sam_processed.PP.mean('x')[0,::5]/rho).plot()\n",
    "plt.title(r\"$-p'/\\rho_0$ (Pa)\")"
   ]
  },
  {
   "cell_type": "markdown",
   "metadata": {},
   "source": [
    "The pressure is constant in height. What is the corresponding adjustment to $V$."
   ]
  },
  {
   "cell_type": "code",
   "execution_count": null,
   "metadata": {},
   "outputs": [],
   "source": [
    "v_p = sam_processed.V - ic.V.assign_coords(x=sam_processed.x, y=sam_processed.y)\n",
    "v_p.name = 'V - Init cond'\n",
    "v_p.mean('x')[0].plot()"
   ]
  },
  {
   "cell_type": "markdown",
   "metadata": {},
   "source": [
    "**The difference in velocity between the initial conditions and the pressure-corrected data is almost perfectly constant in height.** How could this happen? The zonal and vertical average of mass conservations implies that $<\\bar{V}>_y = 0$. However, this is probably not satisfied for this initial data, since we are skipping many grid-cells."
   ]
  },
  {
   "cell_type": "code",
   "execution_count": null,
   "metadata": {},
   "outputs": [],
   "source": [
    "v_barotropic = (ic.V.mean('x') * dm).sum('z')/dm.sum()\n",
    "v_barotropic.plot()\n",
    "plt.title(\"Zonal/Vertical Average of V\");"
   ]
  },
  {
   "cell_type": "markdown",
   "metadata": {},
   "source": [
    "Indeed, there is a large fluctuation of the zonal/barotropic average $V$. Is there a correspondingly large deviation in the zonal velocity?"
   ]
  },
  {
   "cell_type": "code",
   "execution_count": null,
   "metadata": {},
   "outputs": [],
   "source": [
    "u_barotropic = (ic.U.mean('y') * dm).sum('z')/dm.sum()\n",
    "hv.Curve(u_barotropic, vdims=['U']).redim.unit(U='m/s')"
   ]
  },
  {
   "cell_type": "code",
   "execution_count": null,
   "metadata": {},
   "outputs": [],
   "source": [
    "plt.rcParams['axes.formatter.useoffset'] = False\n",
    "u_barotropic.plot()"
   ]
  },
  {
   "cell_type": "markdown",
   "metadata": {},
   "source": [
    "$U$ flucutuates a similar amount about its mean value as $V$ does. However, the mean value need not vanish, so the percent fluctuations are much smaller.\n",
    "\n",
    "\n",
    "These should both be constant. That they aren't most likely means that I am using the wrong layer mass to compute the meridional divergence. Luckily, the true density can be backwards engineered by solving a linear system for rho. For each latitude $i$, $\\sum_k\\bar{V}_k^i m_k =0$ where $m_k$ is the layer mass of level $k$. Because there are 64 latitudes, and only 34 vertical levels, I can solve a linear system to find $m$. The matrix to do this is $A_{ij} = \\bar{V}_{ij}$. So $Am=0$ is the linear system to solve. To do this, we need to find the null space of the matrix $A$, which we can easily do using the SVD."
   ]
  },
  {
   "cell_type": "code",
   "execution_count": null,
   "metadata": {},
   "outputs": [],
   "source": [
    "from scipy.linalg import svd, null_space\n",
    "\n",
    "A = np.vstack([ic.V.mean('x').T.values, ic.U.mean('y').diff('x').T.values])\n",
    "\n",
    "U, S, Vt = svd(A, full_matrices=False)\n",
    "m = Vt[-1] * Vt[-1][0]"
   ]
  },
  {
   "cell_type": "code",
   "execution_count": null,
   "metadata": {},
   "outputs": [],
   "source": [
    "plt.plot(m)\n",
    "plt.title(f\"Last singular vector, Singular value = {S[-1]:.2e}, max sing val={S[0]:.2e}\")"
   ]
  },
  {
   "cell_type": "markdown",
   "metadata": {},
   "source": [
    "this looks a lot like the layer mass."
   ]
  },
  {
   "cell_type": "code",
   "execution_count": null,
   "metadata": {},
   "outputs": [],
   "source": [
    "plt.plot(dm)"
   ]
  },
  {
   "cell_type": "markdown",
   "metadata": {},
   "source": [
    "## Vertical velocity\n",
    "\n",
    "In a previous notebook, I showed the domain average vertical velocity in NGAqua does not vanish:"
   ]
  },
  {
   "cell_type": "code",
   "execution_count": null,
   "metadata": {},
   "outputs": [],
   "source": [
    "ic.W.mean(['x', 'y']).plot(y='z')"
   ]
  },
  {
   "cell_type": "markdown",
   "metadata": {},
   "source": [
    "# Conclusions\n",
    "\n",
    "The NG-Aqua data does not seem to conserve mass. This appeared in a previous notebook when the domain averaged vertical velocity did not vanish, and in this context there is net mass transport through circles of latitude. These problems do not harm the advection forcing much if computed using the advection form $\\mathbf v \\cdot\\nabla f$, but in divergence form these problems can wreak havoc."
   ]
  }
 ],
 "metadata": {
  "kernelspec": {
   "display_name": "Python 3",
   "language": "python",
   "name": "python3"
  },
  "language_info": {
   "codemirror_mode": {
    "name": "ipython",
    "version": 3
   },
   "file_extension": ".py",
   "mimetype": "text/x-python",
   "name": "python",
   "nbconvert_exporter": "python",
   "pygments_lexer": "ipython3",
   "version": "3.6.6"
  }
 },
 "nbformat": 4,
 "nbformat_minor": 2
}
