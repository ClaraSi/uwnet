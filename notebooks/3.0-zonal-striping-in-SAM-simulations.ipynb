{
 "cells": [
  {
   "cell_type": "code",
   "execution_count": null,
   "metadata": {},
   "outputs": [],
   "source": [
    "%matplotlib inline\n",
    "\n",
    "import xarray as xr\n",
    "from os.path import join, abspath\n",
    "import os\n",
    "from scipy import quantile\n",
    "\n",
    "RUN = abspath(os.getenv('RUN', '../models/13-sst_solin_qt_sl/test/'))\n",
    "MODEL = abspath(os.getenv('RUN', '../models/13-sst_solin_qt_sl/1.pkl'))\n",
    "DATA = abspath(os.getenv('RUN', '../data/processed/training.nc'))\n",
    "NGROOT = \"/Users/noah/Data/2018-05-30-NG_5120x2560x34_4km_10s_QOBS_EQX/\"\n",
    "\n",
    "\n",
    "data_2d_path = join(RUN, 'OUT_2D', '*.nc')\n",
    "data_3d_path = join(RUN, 'OUT_3D', '*.nc')\n",
    "data_stat_path = join(RUN, 'OUT_STAT', '*.nc')\n",
    "\n",
    "print(data_2d_path)\n",
    "data_2d = xr.open_mfdataset(data_2d_path)\n",
    "data_3d = xr.open_mfdataset(data_3d_path)\n",
    "stat = xr.open_mfdataset(data_stat_path)\n",
    "\n",
    "data_3d['FQTNN'] *= 86400\n",
    "data_3d['FQTNN'].attrs['units'] = 'g/kg/d'\n",
    "data_3d['FSLINN'] *= 86400\n",
    "data_3d['FSLINN'].attrs['units'] = 'K/d'\n",
    "\n",
    "\n",
    "\n",
    "# Holoviews options\n",
    "import holoviews as hv\n",
    "hv.extension('bokeh')\n",
    "\n",
    "%opts Image.PW[width=500, height=300, colorbar=True](cmap='magma')\n",
    "%opts Image[width=500, height=300, colorbar=True](cmap='magma') "
   ]
  },
  {
   "cell_type": "markdown",
   "metadata": {},
   "source": [
    "# Predicted Heating in SAM simulation"
   ]
  },
  {
   "cell_type": "code",
   "execution_count": null,
   "metadata": {},
   "outputs": [],
   "source": [
    "fqt_im = hv.Dataset(data_3d.FQTNN[1:24, :10:2]).to.image([\"x\", \"y\"], label='FQTNN')\n",
    "fsl_im = hv.Dataset(data_3d.FSLINN[1:24, :10:2]).to.image([\"x\", \"y\"], label='FSLINN')"
   ]
  },
  {
   "cell_type": "code",
   "execution_count": null,
   "metadata": {},
   "outputs": [],
   "source": [
    "%%opts Image {+framewise}\n",
    "\n",
    "(fqt_im + fsl_im).cols(1)"
   ]
  },
  {
   "cell_type": "markdown",
   "metadata": {},
   "source": [
    "There is striping in the lower level heating and moistening in both simulations. The problem is much worse for the FSLINN, which has noticeble issues for all levels below 1km. On the other hand, FQTNN seems okay above for 395m and above."
   ]
  },
  {
   "cell_type": "markdown",
   "metadata": {},
   "source": [
    "# Column Run\n",
    "\n",
    "Let's see if the column simulation also has the zonal-striping"
   ]
  },
  {
   "cell_type": "code",
   "execution_count": null,
   "metadata": {},
   "outputs": [],
   "source": [
    "import torch\n",
    "from uwnet.model import MLP\n",
    "from uwnet.columns import run_column\n",
    "\n",
    "model = MLP.from_path(MODEL)\n",
    "ngaqua = xr.open_dataset(DATA).sel(time=slice(100, 110))"
   ]
  },
  {
   "cell_type": "markdown",
   "metadata": {},
   "source": [
    "This cell takes about 2 minutes to run if the column run has not already been performed."
   ]
  },
  {
   "cell_type": "code",
   "execution_count": null,
   "metadata": {},
   "outputs": [],
   "source": [
    "column_path = \".tmpcol89398.nc\"\n",
    "if not os.path.isfile(column_path):\n",
    "\n",
    "    columns_run = run_column(model, ngaqua)\n",
    "    columns_run.to_netcdf(column_path)\n",
    "else:\n",
    "    columns_run = xr.open_dataset(column_path)"
   ]
  },
  {
   "cell_type": "markdown",
   "metadata": {},
   "source": [
    "## Precipitable Water"
   ]
  },
  {
   "cell_type": "code",
   "execution_count": null,
   "metadata": {},
   "outputs": [],
   "source": [
    "%%opts Image[width=500, height=300, colorbar=True](cmap='magma')\n",
    "\n",
    "PW = (columns_run.layer_mass * columns_run.QT).sum('z')/1000\n",
    "PW.name = 'PW'\n",
    "hv.Dataset(PW[::6]).to.image([\"x\", \"y\"]).redim.range(PW=(0, 60))"
   ]
  },
  {
   "cell_type": "markdown",
   "metadata": {},
   "source": [
    "The narrowing of the moist region also, appears in the column simulation, this can be seen in a plot of the zonal mean:"
   ]
  },
  {
   "cell_type": "code",
   "execution_count": null,
   "metadata": {},
   "outputs": [],
   "source": [
    "%%opts Image[width=500, height=300, colorbar=True](cmap='magma')\n",
    "hv.Image(PW.mean('x'), kdims=[\"time\", \"y\"])"
   ]
  },
  {
   "cell_type": "markdown",
   "metadata": {},
   "source": [
    "That said the stripping is not nearly as bad as before. On the other hand, FSLINN and FQTNN do show some evidence of striping. You can see this by playing around with the sliders below."
   ]
  },
  {
   "cell_type": "markdown",
   "metadata": {},
   "source": [
    "## Predicted Heating and Moistening"
   ]
  },
  {
   "cell_type": "code",
   "execution_count": null,
   "metadata": {},
   "outputs": [],
   "source": [
    "%%opts Image [width=550] {+framewise}\n",
    "\n",
    "sl_im = hv.Dataset(columns_run.FSLINN[::3,:20:3]).to.image([\"x\", \"y\"], label='FSLINN')\n",
    "qt_im = hv.Dataset(columns_run.FQTNN[::3,:20:3]).to.image([\"x\", \"y\"], label='FQTNN')\n",
    "(sl_im + qt_im).cols(1)"
   ]
  },
  {
   "cell_type": "markdown",
   "metadata": {},
   "source": [
    "The heating rate in has severe striping in the boundary layer. I believe this is because the large-scale forcing computed by SAM also has some issues there."
   ]
  },
  {
   "cell_type": "code",
   "execution_count": null,
   "metadata": {},
   "outputs": [],
   "source": [
    "hv.Dataset(columns_run.FSLI[0,:10:2])\\\n",
    ".to.image([\"x\", \"y\"])\\\n",
    ".layout(\"z\")\\\n",
    ".cols(2)\\\n",
    ".redim.range(FSLI=(-40/86400, 40/86400))"
   ]
  },
  {
   "cell_type": "code",
   "execution_count": null,
   "metadata": {},
   "outputs": [],
   "source": [
    "hv.extension('bokeh')"
   ]
  },
  {
   "cell_type": "markdown",
   "metadata": {},
   "source": [
    "There is also a problem with the inputs in the boundary layer varying dramatically."
   ]
  },
  {
   "cell_type": "markdown",
   "metadata": {},
   "source": [
    "# Comparing methods for Computing the forcing.\n",
    "\n",
    "The zonal-striping in the original simulation caused by problems with the large-scale temperature forcing in the lowest few levels of the model. Let's compare three methods for computing this large-scale forcing\n",
    "\n",
    "1. Staggered grid aware divergence calculation\n",
    "2. Advection form with U,V,W and SLI evaluated averaged over the whole cell.\n",
    "3. SAM based computation. SAM is initialized with the interface averages of the velocities and cell centered averages of the scalar variables."
   ]
  },
  {
   "cell_type": "code",
   "execution_count": null,
   "metadata": {},
   "outputs": [],
   "source": [
    "from src.data.compute_forcings_finite_difference import compute_advection_tedency_xarray\n",
    "from gnl.xarray import centderiv\n",
    "\n",
    "\n",
    "\n",
    "# Compute advection forcing with staggered form of divergence\n",
    "FSLI_stag =compute_advection_tedency_xarray(ngaqua.isel(time=slice(0,100)), 'SLI')/86400\n",
    "FSLI_stag.name = 'FSLI'\n",
    "\n",
    "# Compute advection forcing using centered differences\n",
    "ds = xr.open_dataset(join(NGROOT, 'coarse', '3d', 'all.nc')).sel(time=ngaqua.time)\n",
    "u, v, w = ds.U, ds.V, ds.W\n",
    "f = ngaqua.SLI\n",
    "FSLI_cent = -(u * centderiv(f, 'x') + v * centderiv(f, 'y', boundary='nearest')\n",
    "                        + w * centderiv(f, 'z', boundary='nearest'))\n",
    "FSLI_cent.name = 'FSLI'\n",
    "\n",
    "\n",
    "# combine these\n",
    "plot_me = xr.Dataset({'STAG': FSLI_stag, 'Cent': FSLI_cent.compute(), 'SAM': ngaqua.FSLI})\\\n",
    ".to_array(name='FSLI', dim='Method')"
   ]
  },
  {
   "cell_type": "code",
   "execution_count": null,
   "metadata": {},
   "outputs": [],
   "source": [
    "%%opts Image {+framewise}\n",
    "\n",
    "def hv_slices(x, name=None, dynamic=True):\n",
    "    if not x.name:\n",
    "        x.name = name\n",
    "    return hv.Dataset(x).to.image([\"x\", \"y\"], dynamic=dynamic)\n",
    "\n",
    "\n",
    "hv_slices(plot_me.sel(z=[37, 1000, 10000], time=[100, 108.12], method='nearest'), dynamic=False).layout('Method').cols(1)"
   ]
  },
  {
   "cell_type": "markdown",
   "metadata": {},
   "source": [
    "All three methods agree pretty well in the free troposphere, but the centered differences computation is much smoother near the boundary layer. This indicates that we should could use Cent for training purposes. Unfortunately, that SAM has so much striping indicates that our initialization strategy is not working in the boundary layer. Our goal is to make **SAM behave like the centered differences**."
   ]
  }
 ],
 "metadata": {
  "kernelspec": {
   "display_name": "Python 3",
   "language": "python",
   "name": "python3"
  },
  "language_info": {
   "codemirror_mode": {
    "name": "ipython",
    "version": 3
   },
   "file_extension": ".py",
   "mimetype": "text/x-python",
   "name": "python",
   "nbconvert_exporter": "python",
   "pygments_lexer": "ipython3",
   "version": "3.6.6"
  }
 },
 "nbformat": 4,
 "nbformat_minor": 2
}
