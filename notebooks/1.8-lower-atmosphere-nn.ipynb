{
 "cells": [
  {
   "cell_type": "markdown",
   "metadata": {},
   "source": [
    "In this notebook, I show the result of training/using the neural network only on the lowest 28 grid points."
   ]
  },
  {
   "cell_type": "code",
   "execution_count": null,
   "metadata": {},
   "outputs": [],
   "source": [
    "%matplotlib inline"
   ]
  },
  {
   "cell_type": "code",
   "execution_count": null,
   "metadata": {},
   "outputs": [],
   "source": [
    "import xarray as xr\n",
    "import uwnet\n",
    "import holoviews as hv\n",
    "from gnl.xarray import centderiv\n",
    "from uwnet.thermo import coriolis_ngaqua, ngaqua_y_to_lat\n",
    "\n",
    "hv.extension('bokeh')\n",
    "from gnl.colorblind import colorblind\n",
    "colorblind()"
   ]
  },
  {
   "cell_type": "markdown",
   "metadata": {},
   "source": [
    "# Short time simulation"
   ]
  },
  {
   "cell_type": "code",
   "execution_count": null,
   "metadata": {},
   "outputs": [],
   "source": [
    "id = \"kickass_baekeland\"\n",
    "# id = \"elated_leavitt\"\n",
    "def open_id(id):\n",
    "    ds3d = xr.open_mfdataset(f\"../data/samNN/{id}/OUT_3D/*.nc\")\n",
    "    ds2d = xr.open_mfdataset(f\"../data/samNN/{id}/OUT_2D/*.nc\")\n",
    "\n",
    "    return xr.merge([ds3d, ds2d])"
   ]
  },
  {
   "cell_type": "code",
   "execution_count": null,
   "metadata": {},
   "outputs": [],
   "source": [
    "ds = open_id(id)"
   ]
  },
  {
   "cell_type": "code",
   "execution_count": null,
   "metadata": {},
   "outputs": [],
   "source": [
    "ds.W[::3,5].plot(col='time', col_wrap=5)"
   ]
  },
  {
   "cell_type": "code",
   "execution_count": null,
   "metadata": {},
   "outputs": [],
   "source": [
    "ds.SLI[::3,5].plot(col='time', col_wrap=5)"
   ]
  },
  {
   "cell_type": "code",
   "execution_count": null,
   "metadata": {},
   "outputs": [],
   "source": [
    "ds.Prec[::6].plot(col='time', col_wrap=5)"
   ]
  },
  {
   "cell_type": "code",
   "execution_count": null,
   "metadata": {},
   "outputs": [],
   "source": [
    "ds.Prec[::5].mean(['x']).plot(x='y', hue='time');"
   ]
  },
  {
   "cell_type": "markdown",
   "metadata": {},
   "source": [
    "#  Longer simulation\n",
    "\n",
    "I tried to run a 100 day simulation, but it died after only 6 days"
   ]
  },
  {
   "cell_type": "code",
   "execution_count": null,
   "metadata": {},
   "outputs": [],
   "source": [
    "d2d = xr.open_mfdataset(\"/Users/noah/Data/0/7a/194be4f48e151e4391a229780b0e69/OUT_2D/*.nc\")"
   ]
  },
  {
   "cell_type": "code",
   "execution_count": null,
   "metadata": {},
   "outputs": [],
   "source": [
    "d2d.time.max()"
   ]
  },
  {
   "cell_type": "markdown",
   "metadata": {},
   "source": [
    "This shows the simulation only lasted about 8 days. I am not sure why it stopped running."
   ]
  },
  {
   "cell_type": "code",
   "execution_count": null,
   "metadata": {},
   "outputs": [],
   "source": [
    "d2d.Prec[::24].plot(col='time', col_wrap=3)"
   ]
  },
  {
   "cell_type": "code",
   "execution_count": null,
   "metadata": {},
   "outputs": [],
   "source": [
    "d2d.PW[::24].plot(col='time', col_wrap=3)"
   ]
  },
  {
   "cell_type": "markdown",
   "metadata": {},
   "source": [
    "Eventually the precipitable water field becomes very grainy."
   ]
  },
  {
   "cell_type": "code",
   "execution_count": null,
   "metadata": {},
   "outputs": [],
   "source": [
    "d2d.LHF[::24].plot(col='time', col_wrap=3)"
   ]
  },
  {
   "cell_type": "markdown",
   "metadata": {},
   "source": [
    "the other fields are also super grainy."
   ]
  },
  {
   "cell_type": "code",
   "execution_count": null,
   "metadata": {},
   "outputs": [],
   "source": [
    "d2d.V200[:72:12].plot(col='time', col_wrap=3)"
   ]
  },
  {
   "cell_type": "code",
   "execution_count": null,
   "metadata": {},
   "outputs": [],
   "source": [
    "d2d.U200[::24].plot(col='time', col_wrap=3)"
   ]
  },
  {
   "cell_type": "markdown",
   "metadata": {},
   "source": [
    "It seems like the model is not dissipative enough. I should run it withhout the neural network to see what happens. The graininess is very clear after 3 days, so that should be long enough."
   ]
  },
  {
   "cell_type": "code",
   "execution_count": null,
   "metadata": {},
   "outputs": [],
   "source": [
    "d2d.U850[::24].plot(col='time', col_wrap=3)"
   ]
  },
  {
   "cell_type": "markdown",
   "metadata": {},
   "source": [
    "# Initial value, no physics\n",
    "\n",
    "```\n",
    "dopython = .false.\n",
    "dosgs = .false.\n",
    "dodamping = .false.\n",
    "```"
   ]
  },
  {
   "cell_type": "code",
   "execution_count": null,
   "metadata": {},
   "outputs": [],
   "source": [
    "ds = xr.open_mfdataset(\"../data/samNN/mad_noyce/OUT_2D/*.nc\")"
   ]
  },
  {
   "cell_type": "code",
   "execution_count": null,
   "metadata": {},
   "outputs": [],
   "source": [
    "ds.PW[::24].plot(col='time', col_wrap=3)"
   ]
  },
  {
   "cell_type": "code",
   "execution_count": null,
   "metadata": {},
   "outputs": [],
   "source": [
    "ds.V200[::12].plot(col='time', col_wrap=3)"
   ]
  },
  {
   "cell_type": "markdown",
   "metadata": {},
   "source": [
    "Without the neural network, the fields are not as grainy, but there still seems to be too little dissipation. I will try running the scheme with the active NN and upper atmospheric damping."
   ]
  },
  {
   "cell_type": "markdown",
   "metadata": {},
   "source": [
    "# NN on with sponge layer"
   ]
  },
  {
   "cell_type": "code",
   "execution_count": null,
   "metadata": {},
   "outputs": [],
   "source": [
    "ds = xr.open_mfdataset(\"../data/samNN/prickly_brattain/OUT_2D/*.nc\")"
   ]
  },
  {
   "cell_type": "markdown",
   "metadata": {},
   "source": [
    "Here is the precipitation field:"
   ]
  },
  {
   "cell_type": "code",
   "execution_count": null,
   "metadata": {},
   "outputs": [],
   "source": [
    "ds.Prec[::12].plot(col='time', col_wrap=3)"
   ]
  },
  {
   "cell_type": "code",
   "execution_count": null,
   "metadata": {},
   "outputs": [],
   "source": [
    "ds.V200[::12].plot(col='time', col_wrap=3)"
   ]
  },
  {
   "cell_type": "markdown",
   "metadata": {},
   "source": [
    "Compared to the older simulation with damping off:"
   ]
  },
  {
   "cell_type": "code",
   "execution_count": null,
   "metadata": {},
   "outputs": [],
   "source": [
    "d2d.V200[:72:12].plot(col='time', col_wrap=3)"
   ]
  },
  {
   "cell_type": "markdown",
   "metadata": {},
   "source": [
    "The simulation with the sponge layeris slightly less grainy. But the model is still not dissipative enough. Chris has repeatedly mentioned that we will need to parametrize the momentum source. Maybe that would help damp this model adequately. I don't think this is a grid-scale instability because the precipitation field is not diverging too quickly."
   ]
  },
  {
   "cell_type": "markdown",
   "metadata": {},
   "source": [
    "# Prognose U and V"
   ]
  },
  {
   "cell_type": "markdown",
   "metadata": {},
   "source": [
    "I trained a model which prognoses U and V in addition to QT and SLI. Let's load the model and run a single column model simulation for the location x,y = (0, 51), which is in the model midlatitudes."
   ]
  },
  {
   "cell_type": "code",
   "execution_count": null,
   "metadata": {},
   "outputs": [],
   "source": [
    "path = \"/Users/noah/Data/0/8a/13a4068f3166269eef9b0bc1ce0103/1.pkl\"\n",
    "ds = xr.open_dataset(\"../data/training_data_lower_atmos.nc\")\n",
    "loc = ds.isel(x=slice(0,1), y=slice(50, 51))\n",
    "\n",
    "mod = uwnet.MLP.from_path(path)\n",
    "col = uwnet.run_column(mod, loc).squeeze()"
   ]
  },
  {
   "cell_type": "code",
   "execution_count": null,
   "metadata": {},
   "outputs": [],
   "source": [
    "fig, axs = plt.subplots(2,2, figsize=(7,5))\n",
    "\n",
    "\n",
    "col.U.squeeze().plot(x='time', ax=axs[0,0])\n",
    "col.UOBS.squeeze().plot(x='time', ax=axs[0,1])\n",
    "col.V.squeeze().plot(x='time', ax=axs[1,0])\n",
    "col.VOBS.squeeze().plot(x='time', ax=axs[1,1])\n",
    "plt.tight_layout()\n",
    "\n",
    "axs[0,0].set_title(\"NN\")\n",
    "axs[0,1].set_title(\"NGAqua\")"
   ]
  },
  {
   "cell_type": "markdown",
   "metadata": {},
   "source": [
    "We can see the predicted wind field, differs pretty dramatically from the training data. Could this be a problem with the forcing data?"
   ]
  },
  {
   "cell_type": "code",
   "execution_count": null,
   "metadata": {},
   "outputs": [],
   "source": [
    "col.FU.plot(x='time')"
   ]
  },
  {
   "cell_type": "code",
   "execution_count": null,
   "metadata": {},
   "outputs": [],
   "source": [
    "col.FV.plot(x='time')"
   ]
  },
  {
   "cell_type": "markdown",
   "metadata": {},
   "source": [
    "I am a little surprised the large-scale forcings of U and V are so noisy given how coherent the structures in the winds are. What do the forcings look like without any advection contribution? For the $U$ equation lets' look at\n",
    "$ -p_x + f V $."
   ]
  },
  {
   "cell_type": "code",
   "execution_count": null,
   "metadata": {},
   "outputs": [],
   "source": [
    "\n",
    "ds = xr.open_dataset(\"/Users/noah/Data/2018-05-30-NG_5120x2560x34_4km_10s_QOBS_EQX/coarse/3d/all.nc\", chunks={'x': 2, 'y': 2})\n",
    "rho = xr.open_dataset(\"/Users/noah/Data/2018-05-30-NG_5120x2560x34_4km_10s_QOBS_EQX/stat.nc\").RHO[0]\n",
    "\n",
    "\n",
    "# get coriolis force\n",
    "fcor = coriolis_ngaqua(ds.y)\n",
    "px = centderiv(ds.PP, dim='x')/rho\n",
    "fv = fcor * ds.V\n",
    "\n",
    "# advection terms\n",
    "adv = centderiv(ds.U, dim='x') * ds.U + ds.V*centderiv(ds.U, dim='y') + ds.W * centderiv(ds.U, dim='z')"
   ]
  },
  {
   "cell_type": "code",
   "execution_count": null,
   "metadata": {},
   "outputs": [],
   "source": [
    "fv.isel(x=0,y=50).sel(z=col.z).plot(x='time')"
   ]
  },
  {
   "cell_type": "code",
   "execution_count": null,
   "metadata": {},
   "outputs": [],
   "source": [
    "px.isel(x=0,y=50).sel(z=col.z).plot(x='time')"
   ]
  },
  {
   "cell_type": "code",
   "execution_count": null,
   "metadata": {},
   "outputs": [],
   "source": [
    "adv.isel(x=0,y=50).sel(z=col.z).plot(x='time')"
   ]
  },
  {
   "cell_type": "markdown",
   "metadata": {},
   "source": [
    "We can see that the pressure gradients approximately balance the coriolis force as expected, and that the nonlinear advection also plays an important role. Here is what the sum of all these terms looks like:"
   ]
  },
  {
   "cell_type": "code",
   "execution_count": null,
   "metadata": {},
   "outputs": [],
   "source": [
    "g_U = -px + fv - adv"
   ]
  },
  {
   "cell_type": "code",
   "execution_count": null,
   "metadata": {},
   "outputs": [],
   "source": [
    "g_U.isel(x=0,y=50).sel(z=col.z).plot(x='time')"
   ]
  },
  {
   "cell_type": "markdown",
   "metadata": {},
   "source": [
    "As we can see, this is similarly noisy as the forcings that were computed using SAM. Therefore, I think the problems with the column performance of horizontal wind budgets probably aren't related to the forcings. Rather, the issue could be that dominant balances in the momentum budget obscure the role of Q3. Perhaps our sampling interval is not short enough to capture the importance of momentum mixing processes?"
   ]
  }
 ],
 "metadata": {
  "kernelspec": {
   "display_name": "Python 3",
   "language": "python",
   "name": "python3"
  },
  "language_info": {
   "codemirror_mode": {
    "name": "ipython",
    "version": 3
   },
   "file_extension": ".py",
   "mimetype": "text/x-python",
   "name": "python",
   "nbconvert_exporter": "python",
   "pygments_lexer": "ipython3",
   "version": "3.6.6"
  }
 },
 "nbformat": 4,
 "nbformat_minor": 2
}
