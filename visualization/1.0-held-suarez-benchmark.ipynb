{
 "cells": [
  {
   "cell_type": "code",
   "execution_count": null,
   "metadata": {},
   "outputs": [],
   "source": [
    "%matplotlib inline"
   ]
  },
  {
   "cell_type": "markdown",
   "metadata": {},
   "source": [
    "I was having a lot of trouble getting a numerically stable simulation based upon the QOBS SST profile. Even with a time step as small as 15 seconds, these simulations ulimately gave some sort of instability. The problem was worsened when the equator-to-pole SST gradient was larger. I suspect this is due to \n",
    "\n",
    "1. initializing the model very far from radiative convective equilibrium, and\n",
    "2. the lack of convection parametrization leads to grid-scale precipitation.\n",
    "\n",
    "To remove the second issue, I decided to test the dry dynamics of SAM using the standard Held Suarez benchmark [1]. \n",
    "In this notebook, I plot the results of a forcing the dry-dynamics of SAM with the Held-Suarez benchmark forcing. The goal of this forcing is to show the models ability to generate typical jet-like structures when forced towards a baroclincally unstable temperature distribution. I ran the SAM model with a resolution of $\\Delta x = 160$ km and a time step of 120 seconds. Despite the small time step, this code ran relatively quickly because SAMs advection routines are cheap, and could generate 100 days of output in a couple of hours on a single processor.\n",
    "\n",
    "[1]: Held, I. M. & Suarez, M. J. A Proposal for the Intercomparison of the Dynamical Cores of Atmospheric General Circulation Models. Bull. Am. Meteorol. Soc. 75, 1825–1830 (1994)."
   ]
  },
  {
   "cell_type": "code",
   "execution_count": null,
   "metadata": {},
   "outputs": [],
   "source": [
    "# import glob, os\n",
    "# caseid = \"HeldSuarez_dt120\"\n",
    "# paths = glob.glob(f\"../OUT_3D/{caseid}*.bin3D\")\n",
    "# path = paths[-1][3:]\n",
    "# path = os.path.splitext(path)[0]\n",
    "\n",
    "# ncpath = \"../\" + path + \".nc\"\n",
    "# !docker run -v  $(pwd)/../:/tmp -w /tmp nbren12/sam bin3D2nc {path}.bin3D\n",
    "\n",
    "# ds = xr.open_dataset(ncpath)"
   ]
  },
  {
   "cell_type": "code",
   "execution_count": null,
   "metadata": {},
   "outputs": [],
   "source": [
    "caseid = \"HeldSuarez_dt120\"\n",
    "out_3d_path = \"/Users/noah/workspace/models/SAMUWgh/OUT_3D\""
   ]
  },
  {
   "cell_type": "code",
   "execution_count": null,
   "metadata": {},
   "outputs": [],
   "source": [
    "ds = xr.open_mfdataset(f\"{out_3d_path}/{caseid}_*.nc\", autoclose=True)"
   ]
  },
  {
   "cell_type": "markdown",
   "metadata": {},
   "source": [
    "# Climate"
   ]
  },
  {
   "cell_type": "code",
   "execution_count": null,
   "metadata": {},
   "outputs": [],
   "source": [
    "mean = ds.sel(time=slice(70, None))\\\n",
    "         .mean(['time', 'x'])"
   ]
  },
  {
   "cell_type": "code",
   "execution_count": null,
   "metadata": {},
   "outputs": [],
   "source": [
    "p = mean.p\n",
    "tm = mean.TABS\n",
    "\n",
    "tht  = tm * (1000/p)**(2/7)\n",
    "\n",
    "levels = np.r_[270:350:5]\n",
    "\n",
    "im = plt.contourf(tht.y, p, tht, levels=levels, extend='both')\n",
    "plt.colorbar()\n",
    "plt.clabel(im, colors='black', inline=False, fmt=\"%.0f\")\n",
    "plt.ylim([1000, 10])\n",
    "plt.title(\"Potential Temperature\")\n",
    "plt.xlabel(\"y\")\n",
    "plt.ylabel(\"p\")\n",
    "# tht.plot.contourf(levels=levels)"
   ]
  },
  {
   "cell_type": "code",
   "execution_count": null,
   "metadata": {},
   "outputs": [],
   "source": [
    "plt.contourf(tm.y, p, tm)\n",
    "plt.ylim([1000,10])\n",
    "plt.colorbar()\n",
    "plt.title(\"Absolute Temperature\")\n",
    "plt.xlabel(\"y\")\n",
    "plt.ylabel(\"p\");"
   ]
  },
  {
   "cell_type": "code",
   "execution_count": null,
   "metadata": {},
   "outputs": [],
   "source": [
    "im = plt.contourf(mean.y, mean.p, mean.U,\n",
    "                  levels=np.r_[-40:45:5], cmap='RdBu_r',\n",
    "                  extend='both')\n",
    "\n",
    "\n",
    "plt.contour(mean.y, mean.p, mean.U, levels=[-10, -8,-6,-4,-2,0], colors='k')\n",
    "plt.ylim([1000,10])\n",
    "plt.colorbar(im)\n",
    "plt.title(\"Zonal Velocity\")\n",
    "plt.xlabel(\"y\")\n",
    "plt.ylabel(\"p\");"
   ]
  },
  {
   "cell_type": "markdown",
   "metadata": {},
   "source": [
    "# Spin-up\n",
    "\n",
    "Now I plot the temporal evolution of some different fields at a lower atmosphere height as the simulation spins up"
   ]
  },
  {
   "cell_type": "markdown",
   "metadata": {},
   "source": [
    "Here is the zonal velocity"
   ]
  },
  {
   "cell_type": "code",
   "execution_count": null,
   "metadata": {},
   "outputs": [],
   "source": [
    "ds.U[::20, 5].plot(col='time', col_wrap=4)"
   ]
  },
  {
   "cell_type": "markdown",
   "metadata": {},
   "source": [
    "and the meridional velocity"
   ]
  },
  {
   "cell_type": "code",
   "execution_count": null,
   "metadata": {},
   "outputs": [],
   "source": [
    "ds.V[::20, 5].plot(col='time', col_wrap=4)"
   ]
  },
  {
   "cell_type": "markdown",
   "metadata": {},
   "source": [
    "and the absolute temperature"
   ]
  },
  {
   "cell_type": "code",
   "execution_count": null,
   "metadata": {},
   "outputs": [],
   "source": [
    "ds.TABS[::20, 5].plot(col='time', col_wrap=4)"
   ]
  }
 ],
 "metadata": {
  "kernelspec": {
   "display_name": "Python [conda env:geoviews]",
   "language": "python",
   "name": "conda-env-geoviews-py"
  },
  "language_info": {
   "codemirror_mode": {
    "name": "ipython",
    "version": 3
   },
   "file_extension": ".py",
   "mimetype": "text/x-python",
   "name": "python",
   "nbconvert_exporter": "python",
   "pygments_lexer": "ipython3",
   "version": "3.6.5"
  },
  "toc": {
   "nav_menu": {},
   "number_sections": true,
   "sideBar": true,
   "skip_h1_title": false,
   "title_cell": "Table of Contents",
   "title_sidebar": "Contents",
   "toc_cell": false,
   "toc_position": {},
   "toc_section_display": true,
   "toc_window_display": false
  },
  "varInspector": {
   "cols": {
    "lenName": 16,
    "lenType": 16,
    "lenVar": 40
   },
   "kernels_config": {
    "python": {
     "delete_cmd_postfix": "",
     "delete_cmd_prefix": "del ",
     "library": "var_list.py",
     "varRefreshCmd": "print(var_dic_list())"
    },
    "r": {
     "delete_cmd_postfix": ") ",
     "delete_cmd_prefix": "rm(",
     "library": "var_list.r",
     "varRefreshCmd": "cat(var_dic_list()) "
    }
   },
   "types_to_exclude": [
    "module",
    "function",
    "builtin_function_or_method",
    "instance",
    "_Feature"
   ],
   "window_display": false
  }
 },
 "nbformat": 4,
 "nbformat_minor": 2
}
