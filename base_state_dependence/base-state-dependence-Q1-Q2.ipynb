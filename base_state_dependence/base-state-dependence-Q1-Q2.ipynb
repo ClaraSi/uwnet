{
 "cells": [
  {
   "cell_type": "markdown",
   "metadata": {},
   "source": [
    "# Plot Q1 for different base states\n",
    "\n",
    "We can start with mid tropospheric humidity as the relevant quantity."
   ]
  },
  {
   "cell_type": "code",
   "execution_count": null,
   "metadata": {},
   "outputs": [],
   "source": [
    "import torch\n",
    "import numpy as np\n",
    "\n",
    "from src.data import open_data\n",
    "from uwnet.thermo import *\n",
    "\n",
    "\n",
    "def groupby_and_compute_nn(tropics, model, key, bins):\n",
    "    bins_key = key + '_bins'\n",
    "    averages = (tropics\n",
    "     .stack(gridcell=['x', 'y', 'time'])\n",
    "     .groupby_bins(key, bins=bins)\n",
    "     .mean('gridcell'))\n",
    "\n",
    "    # compute NN output\n",
    "    # need to rename the extra dimension to \"time\" for call_with_xr\n",
    "    avgs_expanded = averages.rename({bins_key: 'time'}).expand_dims(['x', 'y'], [-1, -2])\n",
    "    output = model.call_with_xr(avgs_expanded).rename({'time': bins_key}).squeeze()\n",
    "    \n",
    "    for key in output:\n",
    "        NNkey = 'NN' + key\n",
    "        averages[NNkey] = output[key]\n",
    "        \n",
    "    return averages\n",
    "\n",
    "def plot_line_cmap(arr, lower_val=4, key='path_bins'):\n",
    "    val = [bin.mid for bin in arr[key].values]\n",
    "    for it, arr in arr.groupby(key):\n",
    "        label = it.mid\n",
    "        arr.plot(y='z', hue=key, color=plt.cm.inferno((it.mid + lower_val)/(25+lower_val)), label=label)\n",
    "    plt.legend()\n",
    "\n",
    "\n",
    "model = torch.load(\"../../nn/NNLowerDecayLR/5.pkl\")\n",
    "ds = open_data('training').sel(time=slice(120,140))\n",
    "\n",
    "p = open_data('pressure')\n",
    "\n",
    "lat = ngaqua_y_to_lat(ds.y)\n",
    "# compute LTS and Mid Trop moisture\n",
    "ds['lts'] = lower_tropospheric_stability(ds.TABS, p, ds.SST, ds.Ps)\n",
    "ds['path'] = midtropospheric_moisture(ds.QV, p, bottom=850, top=600)\n",
    "\n",
    "tropics = ds.isel(y=(np.abs(lat)<  11))\n",
    "tropical_mean = tropics.mean(['x', 'time', 'y']).swap_dims({'z': 'p'})"
   ]
  },
  {
   "cell_type": "code",
   "execution_count": null,
   "metadata": {},
   "outputs": [],
   "source": [
    "i = np.abs((tropical_mean.TABS - 273.15)).argmin()\n",
    "\n",
    "tropical_mean.QV.plot(y='p', yincrease=False, label='QV')\n",
    "plt.axhline(p[i], c='k', ls='--', label='Freezing level')\n",
    "plt.legend()"
   ]
  },
  {
   "cell_type": "markdown",
   "metadata": {},
   "source": [
    "The freezing level is at 600mb, so we define the mid tropospheric moisture as the water vapor path between 850mb and 600 mb."
   ]
  },
  {
   "cell_type": "code",
   "execution_count": null,
   "metadata": {},
   "outputs": [],
   "source": [
    "ds['path'].plot()"
   ]
  },
  {
   "cell_type": "code",
   "execution_count": null,
   "metadata": {},
   "outputs": [],
   "source": [
    "moisture_bins = np.r_[:28:2.5]\n",
    "output = groupby_and_compute_nn(tropics, model, 'path', moisture_bins)"
   ]
  },
  {
   "cell_type": "code",
   "execution_count": null,
   "metadata": {},
   "outputs": [],
   "source": [
    "plot_line_cmap(output.NNQT)"
   ]
  },
  {
   "cell_type": "code",
   "execution_count": null,
   "metadata": {},
   "outputs": [],
   "source": [
    "plot_line_cmap(output.NNSLI)"
   ]
  },
  {
   "cell_type": "markdown",
   "metadata": {},
   "source": [
    "## Dependence on lower tropospheric stability.\n",
    "\n",
    "LTS seems easier to calculute that estimated inversion strength (EIS). This analysis is isolated to the tropics, so we are less worried about the temperature dependence of LTS."
   ]
  },
  {
   "cell_type": "code",
   "execution_count": null,
   "metadata": {},
   "outputs": [],
   "source": [
    "ds['lts'].plot();"
   ]
  },
  {
   "cell_type": "code",
   "execution_count": null,
   "metadata": {},
   "outputs": [],
   "source": [
    "lts_bins = np.r_[2:20:1]"
   ]
  },
  {
   "cell_type": "code",
   "execution_count": null,
   "metadata": {},
   "outputs": [],
   "source": [
    "output_lts_binned = groupby_and_compute_nn(tropics, model=model, key='lts', bins=lts_bins)"
   ]
  },
  {
   "cell_type": "code",
   "execution_count": null,
   "metadata": {},
   "outputs": [],
   "source": [
    "plot_line_cmap(output_lts_binned.NNSLI, key='lts_bins')"
   ]
  },
  {
   "cell_type": "code",
   "execution_count": null,
   "metadata": {},
   "outputs": [],
   "source": [
    "plot_line_cmap(output_lts_binned.NNQT, key='lts_bins')"
   ]
  },
  {
   "cell_type": "markdown",
   "metadata": {},
   "source": [
    "Smaller LTS corresponds to stronger and deeper heating/drying."
   ]
  }
 ],
 "metadata": {
  "kernelspec": {
   "display_name": "Python 3",
   "language": "python",
   "name": "python3"
  },
  "language_info": {
   "codemirror_mode": {
    "name": "ipython",
    "version": 3
   },
   "file_extension": ".py",
   "mimetype": "text/x-python",
   "name": "python",
   "nbconvert_exporter": "python",
   "pygments_lexer": "ipython3",
   "version": "3.7.3"
  }
 },
 "nbformat": 4,
 "nbformat_minor": 4
}
