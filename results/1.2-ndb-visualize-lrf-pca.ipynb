{
 "cells": [
  {
   "cell_type": "code",
   "execution_count": null,
   "metadata": {},
   "outputs": [],
   "source": [
    "%matplotlib inline\n",
    "import matplotlib.pyplot as plt"
   ]
  },
  {
   "cell_type": "code",
   "execution_count": null,
   "metadata": {},
   "outputs": [],
   "source": [
    "import xarray as xr\n",
    "import numpy as np\n",
    "import pandas as pd\n",
    "\n",
    "from sklearn.externals import joblib\n",
    "import holoviews as hv\n",
    "from lib.models import plot_lrf\n",
    "hv.extension('bokeh')"
   ]
  },
  {
   "cell_type": "markdown",
   "metadata": {},
   "source": [
    "# Visualizing lrfs"
   ]
  },
  {
   "cell_type": "code",
   "execution_count": null,
   "metadata": {},
   "outputs": [],
   "source": [
    "def get_lrf(lm_data):\n",
    "    lrf, in_idx, out_idx = lm_data['mat'], lm_data['features']['in'], lm_data['features']['out']\n",
    "    return pd.DataFrame(lrf, index=in_idx, columns=out_idx)"
   ]
  },
  {
   "cell_type": "code",
   "execution_count": null,
   "metadata": {},
   "outputs": [],
   "source": [
    "w = np.asarray(xr.open_dataarray(\"../data/processed/ngaqua/w.nc\"))\n",
    "\n",
    "\n",
    "lm_data = joblib.load(\"../data/ml/ngaqua/linear_model.pkl\")\n",
    "lrf = get_lrf(lm_data)\n",
    "\n",
    "p = xr.open_dataset(\"../data/ngaqua/stat.nc\").p\n",
    "plot_lrf(lrf, p, input_vars=['QT', 'SL', 'LHF', 'SHF'],\n",
    "         output_vars=['Q1c', 'Q2']);"
   ]
  },
  {
   "cell_type": "markdown",
   "metadata": {},
   "source": [
    "def myquad(key, **kwargs):    \n",
    "    m,n = lrf_pane.shape\n",
    "    return quadmesh((p[:n], p[:m], lrf_pane), **kwargs)\n",
    "\n",
    "\n",
    "def make_row(output_var, lrf, p):\n",
    "    row = myquad(lrf[(output_var, 'qt')], p, label=\"QT\", group=output_var) + \\\n",
    "          myquad(lrf[(output_var, 'sl')], p, label=\"SL\",  group=output_var) + \\\n",
    "          hv.Curve(lrf[(output_var, 'shf')][0,:], label=\"SHF\",  group=output_var) * \\\n",
    "          hv.Curve(lrf[(output_var, 'lhf')][0,:], label=\"LHF\",  group=output_var)\n",
    "    \n",
    "    return row\n",
    "\n",
    "\n",
    "opts = {'Curve': {'plot': dict(invert_axes=True, width=200),\n",
    "                 'norm': dict(axiswise=True)},\n",
    "        'QuadMesh':{'plot': dict(colorbar=True, invert_yaxis=True, invert_xaxis=True, invert_axes=True),\n",
    "                   'style': dict(cmap='viridis'),\n",
    "                   'norm': dict(axiswise=True)}}\n",
    "\n",
    "\n",
    "def plot_lrf(lrf, p):\n",
    "    return (make_row('Q1c', lrf, p) + make_row('Q2', lrf, p)).cols(3).opts(opts)\n",
    "    \n"
   ]
  },
  {
   "cell_type": "markdown",
   "metadata": {},
   "source": [
    "plot_lrf(lrf, p)"
   ]
  },
  {
   "cell_type": "markdown",
   "metadata": {},
   "source": [
    "## First weighting the LRF by the projection operator\n",
    "\n",
    "This is achieved by $\\phi^{\\dagger} \\phi M$.  Where $\\phi$ has shape (n_components, n_features). And $\\phi^{\\dagger}$ is the pseudo inverse after weighting and scaling."
   ]
  },
  {
   "cell_type": "code",
   "execution_count": null,
   "metadata": {},
   "outputs": [],
   "source": [
    "data = joblib.load(\"../data/ml/ngaqua/data.pkl\")\n",
    "mca_data = joblib.load(\"../data/ml/ngaqua/mca.pkl\")\n",
    "lm_data = joblib.load(\"../data/ml/ngaqua/linear_model.pkl\")\n",
    "\n",
    "# get indexes\n",
    "feats,outs  = lm_data['features']['in'], lm_data['features']['out']\n",
    "\n",
    "# make dataframes representing the linear ops\n",
    "lrf = pd.DataFrame(lm_data['mat'], index=feats, columns=outs)\n",
    "proj = pd.DataFrame(mca_data['projection'], index=feats, columns=feats)"
   ]
  },
  {
   "cell_type": "markdown",
   "metadata": {},
   "source": [
    "## Projection operator\n",
    "\n",
    "Here is a messy plot of the projection operator. Note that the variables cannot be projected independently because this operator applies to the whole feature vector. Ideally this would look like a smoothed version of the identity matrix."
   ]
  },
  {
   "cell_type": "code",
   "execution_count": null,
   "metadata": {},
   "outputs": [],
   "source": [
    "%%opts Raster[colorbar=True](cmap='viridis') Curve[invert_axes=True width=150] {+axiswise}\n",
    "_p = np.asarray(proj)\n",
    "hv.Raster(_p[:,:-2]) + hv.Curve(_p[:,-1],) * hv.Curve(_p[:,-2])"
   ]
  },
  {
   "cell_type": "markdown",
   "metadata": {},
   "source": [
    "## Projected LRF"
   ]
  },
  {
   "cell_type": "code",
   "execution_count": null,
   "metadata": {},
   "outputs": [],
   "source": [
    "lrf_proj = np.asarray(proj)@np.asarray(lrf)\n",
    "lrf_proj = pd.DataFrame(lrf_proj, index=feats, columns=outs)"
   ]
  },
  {
   "cell_type": "code",
   "execution_count": null,
   "metadata": {},
   "outputs": [],
   "source": [
    "plot_lrf(lrf_proj, p, input_vars=['QT', 'SL', 'LHF', 'SHF'],\n",
    "         output_vars=['Q1c', 'Q2']);"
   ]
  },
  {
   "cell_type": "markdown",
   "metadata": {},
   "source": [
    "I am not exactly sure why the units on the right are so different. Maybe it's because they were not scaled properly in the mca analysis."
   ]
  }
 ],
 "metadata": {
  "kernelspec": {
   "display_name": "Python 3",
   "language": "python",
   "name": "python3"
  },
  "language_info": {
   "codemirror_mode": {
    "name": "ipython",
    "version": 3
   },
   "file_extension": ".py",
   "mimetype": "text/x-python",
   "name": "python",
   "nbconvert_exporter": "python",
   "pygments_lexer": "ipython3",
   "version": "3.6.3"
  }
 },
 "nbformat": 4,
 "nbformat_minor": 2
}
