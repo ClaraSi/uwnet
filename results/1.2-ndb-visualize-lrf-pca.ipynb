{
 "cells": [
  {
   "cell_type": "code",
   "execution_count": null,
   "metadata": {},
   "outputs": [],
   "source": [
    "%matplotlib inline\n",
    "import matplotlib.pyplot as plt"
   ]
  },
  {
   "cell_type": "code",
   "execution_count": null,
   "metadata": {},
   "outputs": [],
   "source": [
    "import xarray as xr\n",
    "import numpy as np\n",
    "import pandas as pd\n",
    "\n",
    "from sklearn.externals import joblib\n",
    "import holoviews as hv\n",
    "from lib.models import plot_lrf\n",
    "hv.extension('bokeh')"
   ]
  },
  {
   "cell_type": "markdown",
   "metadata": {},
   "source": [
    "# MCA"
   ]
  },
  {
   "cell_type": "code",
   "execution_count": null,
   "metadata": {},
   "outputs": [],
   "source": [
    "mca = joblib.load(\"../data/ml/ngaqua/mca.pkl\")"
   ]
  },
  {
   "cell_type": "code",
   "execution_count": null,
   "metadata": {},
   "outputs": [],
   "source": [
    "mca_mod = mca['model'].named_steps['mca']"
   ]
  },
  {
   "cell_type": "code",
   "execution_count": null,
   "metadata": {},
   "outputs": [],
   "source": [
    "mca_mod.x_components_.shape"
   ]
  },
  {
   "cell_type": "code",
   "execution_count": null,
   "metadata": {},
   "outputs": [],
   "source": [
    "hv.HoloMap({k: hv.Curve(c) for k, c in enumerate(mca_mod.x_components_.T)})"
   ]
  },
  {
   "cell_type": "markdown",
   "metadata": {},
   "source": [
    "# Visualizing lrfs"
   ]
  },
  {
   "cell_type": "code",
   "execution_count": null,
   "metadata": {},
   "outputs": [],
   "source": [
    "def get_lrf(lm_data):\n",
    "    lrf, in_idx, out_idx = lm_data['mat'], lm_data['features']['in'], lm_data['features']['out']\n",
    "    return pd.DataFrame(lrf, index=in_idx, columns=out_idx)"
   ]
  },
  {
   "cell_type": "code",
   "execution_count": null,
   "metadata": {},
   "outputs": [],
   "source": [
    "w = np.asarray(xr.open_dataarray(\"../data/processed/ngaqua/w.nc\"))\n",
    "\n",
    "\n",
    "lm_data = joblib.load(\"../data/ml/ngaqua/linear_model.pkl\")\n",
    "lrf = get_lrf(lm_data)\n",
    "\n",
    "p = xr.open_dataset(\"../data/ngaqua/stat.nc\").p\n",
    "plot_lrf(lrf, p, input_vars=['QT', 'SL', 'LHF', 'SHF'],\n",
    "         output_vars=['Q1c', 'Q2']);"
   ]
  },
  {
   "cell_type": "code",
   "execution_count": null,
   "metadata": {},
   "outputs": [],
   "source": [
    "def myquad(key, **kwargs):    \n",
    "    m,n = lrf_pane.shape\n",
    "    return quadmesh((p[:n], p[:m], lrf_pane), **kwargs)\n",
    "\n",
    "\n",
    "def make_row(output_var, lrf, p):\n",
    "    row = myquad(lrf[(output_var, 'qt')], p, label=\"QT\", group=output_var) + \\\n",
    "          myquad(lrf[(output_var, 'sl')], p, label=\"SL\",  group=output_var) + \\\n",
    "          hv.Curve(lrf[(output_var, 'shf')][0,:], label=\"SHF\",  group=output_var) * \\\n",
    "          hv.Curve(lrf[(output_var, 'lhf')][0,:], label=\"LHF\",  group=output_var)\n",
    "    \n",
    "    return row\n",
    "\n",
    "\n",
    "opts = {'Curve': {'plot': dict(invert_axes=True, width=200),\n",
    "                 'norm': dict(axiswise=True)},\n",
    "        'QuadMesh':{'plot': dict(colorbar=True, invert_yaxis=True, invert_xaxis=True, invert_axes=True),\n",
    "                   'style': dict(cmap='viridis'),\n",
    "                   'norm': dict(axiswise=True)}}\n",
    "\n",
    "\n",
    "def plot_lrf(lrf, p):\n",
    "    return (make_row('Q1c', lrf, p) + make_row('Q2', lrf, p)).cols(3).opts(opts)\n",
    "    \n"
   ]
  },
  {
   "cell_type": "markdown",
   "metadata": {},
   "source": [
    "plot_lrf(lrf, p)"
   ]
  },
  {
   "cell_type": "markdown",
   "metadata": {},
   "source": [
    "## First weighting the LRF by the projection operator\n",
    "\n",
    "This is achieved by $\\phi^{\\dagger} \\phi M$.  Where $\\phi$ has shape (n_components, n_features)"
   ]
  },
  {
   "cell_type": "code",
   "execution_count": null,
   "metadata": {},
   "outputs": [],
   "source": [
    "data = joblib.load(\"../data/ml/ngaqua/data.pkl\")\n",
    "mca_data = joblib.load(\"../data/ml/ngaqua/mca.pkl\")\n",
    "lm_data = joblib.load(\"../data/ml/ngaqua/linear_model.pkl\")\n",
    "\n",
    "lrf = get_lrf(lm_data)\n",
    "\n",
    "feats = lm_data['features']['in']\n",
    "mca = pd.DataFrame(mca_data['projection'], index=feats, columns=feats)"
   ]
  },
  {
   "cell_type": "code",
   "execution_count": null,
   "metadata": {},
   "outputs": [],
   "source": [
    "plot_lrf(lrf, p, input_vars=)"
   ]
  },
  {
   "cell_type": "code",
   "execution_count": null,
   "metadata": {},
   "outputs": [],
   "source": [
    "import pandas as pd"
   ]
  },
  {
   "cell_type": "code",
   "execution_count": null,
   "metadata": {},
   "outputs": [],
   "source": [
    "pd."
   ]
  },
  {
   "cell_type": "code",
   "execution_count": null,
   "metadata": {},
   "outputs": [],
   "source": [
    "projection = mca_data['projection']"
   ]
  },
  {
   "cell_type": "markdown",
   "metadata": {},
   "source": [
    "This means that each pane as size (nfeats, nout)"
   ]
  },
  {
   "cell_type": "code",
   "execution_count": null,
   "metadata": {},
   "outputs": [],
   "source": [
    "output_vars = ['Q1c', 'Q2']\n",
    "input_vars = ['qt', 'sl', 'shf', 'lhf']\n",
    "\n",
    "\n",
    "def pad_to_match(lrf, mca, input_vars, output_vars):\n",
    "    \"\"\"Pad lrf to match mca\"\"\"\n",
    "\n",
    "    lrf_padded = {}\n",
    "\n",
    "    for in_var in input_vars:\n",
    "        n_mca = mca[in_var].shape[0]\n",
    "        n_lrf = lrf[('Q1c', in_var)].shape[0]\n",
    "\n",
    "        for out_var in output_vars:\n",
    "            key = (out_var, in_var)\n",
    "            padded_pane = np.pad(lrf[key], ((0, n_mca-n_lrf), (0,0)), 'constant')\n",
    "            lrf_padded[key] = padded_pane\n",
    "            \n",
    "    return lrf_padded"
   ]
  },
  {
   "cell_type": "code",
   "execution_count": null,
   "metadata": {},
   "outputs": [],
   "source": [
    "lrf_padded = pad_to_match(lrf, mca_data['mat'],\n",
    "                         input_vars, output_vars)\n",
    "\n",
    "\n",
    "phi_dict = mca_data['mat']\n",
    "phi = np.hstack(phi_dict[key].T for key in input_vars)\n",
    "\n",
    "M  = np.vstack(np.hstack(lrf_padded[(out_var, in_var)].T for in_var in input_vars)\n",
    "                    for out_var in output_vars).T\n",
    "\n",
    "M_filt = projection @ M"
   ]
  },
  {
   "cell_type": "markdown",
   "metadata": {},
   "source": [
    "Let's visualize this projection operator."
   ]
  },
  {
   "cell_type": "code",
   "execution_count": null,
   "metadata": {},
   "outputs": [],
   "source": [
    "hv.Raster(projection[:-2,:-2])"
   ]
  },
  {
   "cell_type": "code",
   "execution_count": null,
   "metadata": {},
   "outputs": [],
   "source": [
    "%%opts Raster[invert_axes=True, invert_yaxis=True colorbar=True](cmap='viridis')\n",
    "%%opts Curve [invert_axes=True width=150] {+axiswise}\n",
    "hv.Raster(M_filt[:-2,:])  + hv.Curve(M_filt[-2,:]) * hv.Curve(M_filt[-1,:])"
   ]
  },
  {
   "cell_type": "markdown",
   "metadata": {},
   "source": [
    "When using the projection operator associated with only two modes, the linear response functions are somewhat cleaned up and show some gross features of the LRF. Namely, QT (left half) tends to promote convection whereas SL (right half) supresses convection."
   ]
  }
 ],
 "metadata": {
  "kernelspec": {
   "display_name": "Python 3",
   "language": "python",
   "name": "python3"
  },
  "language_info": {
   "codemirror_mode": {
    "name": "ipython",
    "version": 3
   },
   "file_extension": ".py",
   "mimetype": "text/x-python",
   "name": "python",
   "nbconvert_exporter": "python",
   "pygments_lexer": "ipython3",
   "version": "3.6.3"
  }
 },
 "nbformat": 4,
 "nbformat_minor": 2
}
