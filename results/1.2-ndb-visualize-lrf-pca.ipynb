{
 "cells": [
  {
   "cell_type": "code",
   "execution_count": null,
   "metadata": {},
   "outputs": [],
   "source": [
    "import xarray as xr\n",
    "\n",
    "from sklearn.externals import joblib\n",
    "import holoviews as hv\n",
    "hv.extension('bokeh')"
   ]
  },
  {
   "cell_type": "markdown",
   "metadata": {},
   "source": [
    "# Compute PCA"
   ]
  },
  {
   "cell_type": "code",
   "execution_count": null,
   "metadata": {},
   "outputs": [],
   "source": [
    "data3d = \"../data/ngaqua/3d/*.nc\"\n",
    "data2d = \"../data/ngaqua/2d/*.nc\"\n",
    "weight = \"../data/processed/ngaqua/w.nc\"\n",
    "\n",
    "\n",
    "def load_data(data3d = \"../data/ngaqua/3d/*.nc\",\n",
    "    data2d = \"../data/ngaqua/2d/*.nc\",\n",
    "    weight = \"../data/processed/ngaqua/w.nc\",\n",
    "    **kwargs):\n",
    "    \"\"\"Load and merge 2d and 3d datasets\n",
    "    \"\"\"\n",
    "    D = xr.open_mfdataset(data3d)\n",
    "    D2 = xr.open_mfdataset(data2d)\n",
    "    w = xr.open_dataarray(weight)\n",
    "\n",
    "    D = D.merge(D2, join='inner')\n",
    "\n",
    "    return D, w\n"
   ]
  },
  {
   "cell_type": "code",
   "execution_count": null,
   "metadata": {},
   "outputs": [],
   "source": [
    "\n",
    "pca_output = joblib.load(\"../data/ml/ngaqua/pca.pkl\")\n",
    "\n",
    "mod  = pca_output['model']\n",
    "D, w = load_data(**pca_output)\n",
    "\n",
    "sig = D.std(['x', 'y', 'time']).load()\n",
    "mu = D.mean(['x', 'y', 'time']).load()"
   ]
  },
  {
   "cell_type": "code",
   "execution_count": null,
   "metadata": {},
   "outputs": [],
   "source": [
    "pca = mod.named_steps['pca']"
   ]
  },
  {
   "cell_type": "code",
   "execution_count": null,
   "metadata": {},
   "outputs": [],
   "source": [
    "from sklearn.decomposition import PCA\n",
    "from sklearn.pipeline import make_pipeline\n",
    "from xnoah.sklearn import Stacker, Weighter, Normalizer, Select"
   ]
  },
  {
   "cell_type": "code",
   "execution_count": null,
   "metadata": {},
   "outputs": [],
   "source": [
    "pipe.fit(D)"
   ]
  },
  {
   "cell_type": "code",
   "execution_count": null,
   "metadata": {},
   "outputs": [],
   "source": [
    "comp = pipe.named_steps['pca'].components_"
   ]
  },
  {
   "cell_type": "code",
   "execution_count": null,
   "metadata": {},
   "outputs": [],
   "source": [
    "%%opts Curve[invert_axes=True]\n",
    "hv.HoloMap({k: hv.Curve(y/np.sqrt(w)) for k,y in enumerate(comp)})"
   ]
  },
  {
   "cell_type": "markdown",
   "metadata": {},
   "source": [
    "The PCA modes are pretty noisy. Maybe the MCA modes are better."
   ]
  },
  {
   "cell_type": "markdown",
   "metadata": {},
   "source": [
    "# MCA"
   ]
  },
  {
   "cell_type": "code",
   "execution_count": null,
   "metadata": {},
   "outputs": [],
   "source": [
    "mca = joblib.load(\"../data/ml/ngaqua/mca.pkl\")"
   ]
  },
  {
   "cell_type": "code",
   "execution_count": null,
   "metadata": {},
   "outputs": [],
   "source": [
    "mca_mod = mca.named_steps['mca']"
   ]
  },
  {
   "cell_type": "code",
   "execution_count": null,
   "metadata": {},
   "outputs": [],
   "source": [
    "mca_mod.x_components_.shape"
   ]
  },
  {
   "cell_type": "code",
   "execution_count": null,
   "metadata": {},
   "outputs": [],
   "source": [
    "hv.HoloMap({k: hv.Curve(c) for k, c in enumerate(mca_mod.x_components_.T)})"
   ]
  },
  {
   "cell_type": "markdown",
   "metadata": {},
   "source": [
    "# Linear regession"
   ]
  },
  {
   "cell_type": "code",
   "execution_count": null,
   "metadata": {},
   "outputs": [],
   "source": [
    "lm_data = joblib.load(\"../data/ml/ngaqua/linear_model.pkl\")"
   ]
  },
  {
   "cell_type": "code",
   "execution_count": null,
   "metadata": {},
   "outputs": [],
   "source": [
    "lm_data['test_score']"
   ]
  }
 ],
 "metadata": {
  "kernelspec": {
   "display_name": "Python 3",
   "language": "python",
   "name": "python3"
  },
  "language_info": {
   "codemirror_mode": {
    "name": "ipython",
    "version": 3
   },
   "file_extension": ".py",
   "mimetype": "text/x-python",
   "name": "python",
   "nbconvert_exporter": "python",
   "pygments_lexer": "ipython3",
   "version": "3.6.3"
  }
 },
 "nbformat": 4,
 "nbformat_minor": 2
}
