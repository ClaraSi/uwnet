{
 "cells": [
  {
   "cell_type": "code",
   "execution_count": null,
   "metadata": {},
   "outputs": [],
   "source": [
    "%matplotlib inline"
   ]
  },
  {
   "cell_type": "code",
   "execution_count": null,
   "metadata": {},
   "outputs": [],
   "source": [
    "import xarray as xr\n",
    "import torch\n",
    "from lib.models.torch import interface\n",
    "from lib.advection import vertical_advection"
   ]
  },
  {
   "cell_type": "code",
   "execution_count": null,
   "metadata": {},
   "outputs": [],
   "source": [
    "def _compute_residual(x, f):\n",
    "    dt = x.time[1]-x.time[0]\n",
    "    return (f-f.shift(time=-1))/dt - f\n",
    "\n",
    "\n",
    "def compute_residuals(inputs, forcings):\n",
    "    \"\"\"Compute Q1 and Q2\"\"\"\n",
    "    ds = xr.Dataset({key: _compute_residual(inputs[key], forcings[key])\n",
    "                for key in ['qt', 'sl']})\n",
    "    \n",
    "    return ds\n",
    "\n",
    "\n",
    "\n",
    "\n",
    "def compare_srcs(src, resid, **kw):\n",
    "    \"\"\"Compare the x and time averaged source terms\"\"\"\n",
    "    \n",
    "    kw.update(dict(x=\"y\", y=\"z\"))\n",
    "    fig, axs = plt.subplots(2, 2, figsize=(8, 6), sharey=True, sharex=True)\n",
    "    src.sl.mean(['x', 'time']).plot(ax=axs[0,0], **kw)\n",
    "    resid.sl.mean(['x', 'time']).plot(ax=axs[0,1], **kw)\n",
    "\n",
    "\n",
    "    src.qt.mean(['x', 'time']).plot(ax=axs[1,0], **kw)\n",
    "    resid.qt.mean(['x', 'time']).plot(ax=axs[1,1], **kw)\n",
    "\n",
    "    for ax, title in zip(axs.flat,[\"NN Q1\", \"Q1\", \"NN Q2\", \"Q2\"]):\n",
    "        ax.set_title(title)"
   ]
  },
  {
   "cell_type": "code",
   "execution_count": null,
   "metadata": {},
   "outputs": [],
   "source": [
    "inputs = xr.open_dataset(\"../data/processed/inputs.nc\")\n",
    "forcings = xr.open_dataset(\"../data/processed/forcings.nc\")\n",
    "\n",
    "resid = compute_residuals(inputs, forcings)"
   ]
  },
  {
   "cell_type": "code",
   "execution_count": null,
   "metadata": {},
   "outputs": [],
   "source": [
    "model = torch.load(\"../data/output/model.test/1.torch\")\n",
    "src = interface.rhs(model, inputs, forcings)"
   ]
  },
  {
   "cell_type": "code",
   "execution_count": null,
   "metadata": {},
   "outputs": [],
   "source": [
    "compare_srcs(src, resid)"
   ]
  },
  {
   "cell_type": "markdown",
   "metadata": {},
   "source": [
    "There are some very big differences between the prediction and the observed residuals. I bet this is because I perform this verification without first adding the forcing term. The actual time stepping taken by the neural network looks like\n",
    "$$ x^* = x^n + \\frac{h}{2}(g^{n+1} + g^n),\\quad x^{n+1} = x^* + h f(x^*) $$\n",
    "where $g^n$ is the advection forcing at time step $n$. There are probably very big splitting errors because I am using $h=3$ hours, which means that the statistics of $x^*$ might be very different from the statistics of $x^n$. This could have a large impact on the output of the neural network. To do this let's first apply the advection terms to the input data."
   ]
  },
  {
   "cell_type": "code",
   "execution_count": null,
   "metadata": {},
   "outputs": [],
   "source": [
    "def trapezoid_step(x, g, h=.125):\n",
    "    return x + h * (g + g.shift(time=1))/2\n",
    "\n",
    "xst = inputs.apply(lambda x: trapezoid_step(x, forcings[x.name]) if x.name in ['sl', 'qt'] else x)\n",
    "gavg = (forcings + forcings.shift(time=1))/2"
   ]
  },
  {
   "cell_type": "markdown",
   "metadata": {},
   "source": [
    "Now let's compare the mean of $x^*$ and $x^n$."
   ]
  },
  {
   "cell_type": "code",
   "execution_count": null,
   "metadata": {},
   "outputs": [],
   "source": [
    "bias = xst.mean(['x', 'time']) - inputs.mean(['x', 'time'])"
   ]
  },
  {
   "cell_type": "code",
   "execution_count": null,
   "metadata": {},
   "outputs": [],
   "source": [
    "fig, (aq, at)  = plt.subplots(1, 2, figsize=(8,3), sharey=True)\n",
    "\n",
    "bias.qt.plot(ax=aq)\n",
    "bias.sl.plot(ax=at)\n",
    "\n",
    "aq.set_title(\"QT diff (g/kg)\")\n",
    "aq.set_title(\"SL diff (K)\")"
   ]
  },
  {
   "cell_type": "markdown",
   "metadata": {},
   "source": [
    "These differences are actually pretty small, so I would be surprised if they are causing the problem, but let's just see what the Neural network predicts the source terms will be."
   ]
  },
  {
   "cell_type": "code",
   "execution_count": null,
   "metadata": {},
   "outputs": [],
   "source": [
    "src = interface.rhs(model, xst, gavg)"
   ]
  },
  {
   "cell_type": "code",
   "execution_count": null,
   "metadata": {},
   "outputs": [],
   "source": [
    "compare_srcs(src, resid)"
   ]
  },
  {
   "cell_type": "markdown",
   "metadata": {},
   "source": [
    "This made a big difference! It turns out the splitting error actually matters a lot in this scenario."
   ]
  }
 ],
 "metadata": {
  "kernelspec": {
   "display_name": "Python 3",
   "language": "python",
   "name": "python3"
  },
  "language_info": {
   "codemirror_mode": {
    "name": "ipython",
    "version": 3
   },
   "file_extension": ".py",
   "mimetype": "text/x-python",
   "name": "python",
   "nbconvert_exporter": "python",
   "pygments_lexer": "ipython3",
   "version": "3.6.3"
  },
  "toc": {
   "nav_menu": {},
   "number_sections": true,
   "sideBar": true,
   "skip_h1_title": false,
   "title_cell": "Table of Contents",
   "title_sidebar": "Contents",
   "toc_cell": false,
   "toc_position": {},
   "toc_section_display": true,
   "toc_window_display": false
  },
  "varInspector": {
   "cols": {
    "lenName": 16,
    "lenType": 16,
    "lenVar": 40
   },
   "kernels_config": {
    "python": {
     "delete_cmd_postfix": "",
     "delete_cmd_prefix": "del ",
     "library": "var_list.py",
     "varRefreshCmd": "print(var_dic_list())"
    },
    "r": {
     "delete_cmd_postfix": ") ",
     "delete_cmd_prefix": "rm(",
     "library": "var_list.r",
     "varRefreshCmd": "cat(var_dic_list()) "
    }
   },
   "types_to_exclude": [
    "module",
    "function",
    "builtin_function_or_method",
    "instance",
    "_Feature"
   ],
   "window_display": false
  }
 },
 "nbformat": 4,
 "nbformat_minor": 2
}
