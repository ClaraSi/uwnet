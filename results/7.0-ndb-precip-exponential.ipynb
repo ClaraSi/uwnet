{
 "cells": [
  {
   "cell_type": "markdown",
   "metadata": {},
   "source": [
    "In this notebook, I try to compute the precipitation estimated by the neural network cumulus convective scheme. I compare the precipitations estimated from the temperature source and moisture sink, and also look at their exponential dependence compared to PW and column relative humidity."
   ]
  },
  {
   "cell_type": "code",
   "execution_count": null,
   "metadata": {},
   "outputs": [],
   "source": [
    "import dask.array as da\n",
    "import holoviews as hv\n",
    "import matplotlib.pyplot as plt\n",
    "import numpy as np\n",
    "import xarray as xr\n",
    "from holoviews.operation.datashader import datashade, dynspread\n",
    "from matplotlib.colors import LogNorm\n",
    "from sklearn.externals import joblib\n",
    "\n",
    "import torch\n",
    "from lib.evaluation.single_column import predict\n",
    "from lib.models.torch.preprocess import stacked_data, unstacked_data\n",
    "from lib.thermo import (column_rh, liquid_water_temperature, mass_integrate,\n",
    "                        total_water)\n",
    "from metpy.calc import mixed_layer, relative_humidity_from_mixing_ratio\n",
    "from metpy.units import units as u\n",
    "\n",
    "%matplotlib inline\n",
    "hv.extension('matplotlib')"
   ]
  },
  {
   "cell_type": "markdown",
   "metadata": {},
   "source": [
    "# Computing precipitation"
   ]
  },
  {
   "cell_type": "code",
   "execution_count": null,
   "metadata": {},
   "outputs": [],
   "source": [
    "# load torch stepper\n",
    "stepper = torch.load(\"../data/ml/ngaqua/multistep_objective.torch\")\n",
    "\n",
    "# load coarse-grained data\n",
    "data_3d = xr.open_mfdataset(\"../data/raw/ngaqua/coarse/3d/*.nc\",\n",
    "                            preprocess=lambda x: x.drop('p')).isel(y=slice(24,40)).compute()\n",
    "p = xr.open_dataset(\"../data/raw/ngaqua/stat.nc\").p\n",
    "p.attrs['units'] = 'hPa'\n",
    "\n",
    "# compute the inputs for the torch stepper\n",
    "inputs = xr.Dataset(dict(sl=liquid_water_temperature(data_3d.TABS, data_3d.QN, data_3d.QP), \n",
    "                     qt=total_water(data_3d.QV, data_3d.QN)))\n",
    "X = stacked_data(inputs.transpose('time', 'y', 'x', 'z'))\n",
    "\n",
    "# make the prediction of heatings\n",
    "Q = predict(stepper.rhs, X)\n",
    "Q = unstacked_data(Q)\n",
    "Q = xr.Dataset({\n",
    "    'Q1': (['time', 'y', 'x', 'z'], Q['sl']*1005/2.5e6),\n",
    "    'Q2': (['time', 'y', 'x', 'z'], Q['qt']/1000)},\n",
    "    coords=data_3d.coords)\n",
    "\n",
    "# compute diagnostics\n",
    "# PW, column RH, Q1 and Q2 int\n",
    "pw = mass_integrate(p, inputs.qt/1000)\n",
    "q_int = mass_integrate(p, Q)\n",
    "rh_col = column_rh(data_3d.QV, data_3d.TABS, p)\n",
    "\n",
    "ds = xr.Dataset({'PW': pw, 'PRECQ': -q_int.Q2, 'PRECT': q_int.Q1, 'RH': rh_col})\n",
    "ds.time.attrs['units'] = 'days since 2000-01-01'\n",
    "ds = xr.decode_cf(ds)"
   ]
  },
  {
   "cell_type": "code",
   "execution_count": null,
   "metadata": {},
   "outputs": [],
   "source": [
    "%%output size=300\n",
    "%%opts Image[colorbar=True](cmap='inferno')\n",
    "\n",
    "mu = ds.mean('time')\n",
    "\n",
    "hv.HoloMap({'PRECQ': hv.Dataset(mu.PRECQ).to(hv.Image),\n",
    "            'PRECT': hv.Dataset(mu.PRECT).to(hv.Image)})\n"
   ]
  },
  {
   "cell_type": "code",
   "execution_count": null,
   "metadata": {},
   "outputs": [],
   "source": [
    "%%output size=300\n",
    "%%opts Curve[aspect=5](linewidth=.5)\n",
    "hv.Dataset(q_int.mean(['x', 'y'])).to.curve(\"time\")"
   ]
  },
  {
   "cell_type": "code",
   "execution_count": null,
   "metadata": {},
   "outputs": [],
   "source": [
    "mu = ds.mean(['x' ,'time'])[['PRECQ', 'PRECT']]\n",
    "\n",
    "mu.to_dataframe().plot()"
   ]
  },
  {
   "cell_type": "markdown",
   "metadata": {},
   "source": [
    "The difference between these curves is probably just $LHF-(SHF + QRAD)$"
   ]
  },
  {
   "cell_type": "markdown",
   "metadata": {},
   "source": [
    "# Relationship between precip and PW"
   ]
  },
  {
   "cell_type": "markdown",
   "metadata": {},
   "source": [
    "From Bretherton, Peters, and Back (2004) precipitation should show an approximately exponential relationship with RH."
   ]
  },
  {
   "cell_type": "code",
   "execution_count": null,
   "metadata": {},
   "outputs": [],
   "source": [
    "def plot_scatter(x, y):\n",
    "    plt.hexbin(x, y,  norm=LogNorm())\n",
    "    plt.ylim([-20, 200])\n",
    "    plt.colorbar()\n",
    "    plt.xlabel(x.name)\n",
    "    plt.ylabel(y.name)\n",
    "\n",
    "plot_scatter(ds.RH, ds.PRECT)"
   ]
  },
  {
   "cell_type": "markdown",
   "metadata": {},
   "source": [
    "From this plot we can see this is almost the case."
   ]
  },
  {
   "cell_type": "code",
   "execution_count": null,
   "metadata": {},
   "outputs": [],
   "source": [
    "plot_scatter(ds.PW, ds.PRECT)"
   ]
  },
  {
   "cell_type": "markdown",
   "metadata": {},
   "source": [
    "The relationship is also visible when PW is used to stratify the precipitation."
   ]
  }
 ],
 "metadata": {
  "kernelspec": {
   "display_name": "Python 3",
   "language": "python",
   "name": "python3"
  },
  "language_info": {
   "codemirror_mode": {
    "name": "ipython",
    "version": 3
   },
   "file_extension": ".py",
   "mimetype": "text/x-python",
   "name": "python",
   "nbconvert_exporter": "python",
   "pygments_lexer": "ipython3",
   "version": "3.6.3"
  }
 },
 "nbformat": 4,
 "nbformat_minor": 2
}
