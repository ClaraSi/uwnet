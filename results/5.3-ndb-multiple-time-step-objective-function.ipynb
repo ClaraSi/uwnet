{
 "cells": [
  {
   "cell_type": "markdown",
   "metadata": {},
   "source": [
    "In this notebook, I try using the multiple time step objective function. This is given by\n",
    "\n",
    "$$ \\sum_{j=1}^{m} | x^j - \\tilde{x}^j|^2,$$\n",
    "where the approximate time series is defined recursively by $\\tilde{x}^0 = x^0$, $\\tilde{x}^j=f(\\tilde{x}^{j-1}) + (g^i + g^{i+1})\\frac{h}{2}$ for $j>1$. Here, $f$ will be approximated using a neural network."
   ]
  },
  {
   "cell_type": "code",
   "execution_count": null,
   "metadata": {},
   "outputs": [],
   "source": [
    "import numpy as np\n",
    "import xarray as xr\n",
    "import torch\n",
    "from scipy.linalg import eigvals\n",
    "from torch.autograd import Variable\n",
    "\n",
    "from lib.models.torch_models import predict, jacobian, train_euler_network"
   ]
  },
  {
   "cell_type": "code",
   "execution_count": null,
   "metadata": {},
   "outputs": [],
   "source": [
    "import holoviews as hv\n",
    "from lib.hvops import quadmesh\n",
    "hv.extension('matplotlib')\n",
    "\n",
    "invert_opts = dict(plot=dict(invert_yaxis=True, invert_axes=True))\n"
   ]
  },
  {
   "cell_type": "markdown",
   "metadata": {},
   "source": [
    "Let's load the data."
   ]
  },
  {
   "cell_type": "code",
   "execution_count": null,
   "metadata": {},
   "outputs": [],
   "source": [
    "data = np.load(\"../data/ml/ngaqua/time_series_data.npz\")\n",
    "\n",
    "\n",
    "X = data['X']\n",
    "G = data['G']\n",
    "scale = data['scales']\n",
    "w = data['w']\n",
    "\n",
    "# # we need to grap the pressure field from a different path\n",
    "p = xr.open_dataset(\"../data/raw/ngaqua/stat.nc\").p.values\n",
    "# t = dt * np.arange(X.shape[0])"
   ]
  },
  {
   "cell_type": "markdown",
   "metadata": {},
   "source": [
    "and compute the mean."
   ]
  },
  {
   "cell_type": "code",
   "execution_count": null,
   "metadata": {},
   "outputs": [],
   "source": [
    "mu = np.apply_over_axes(np.mean, X, axes=(0,1,2)).ravel()\n",
    "mu = mu[:-14]\n",
    "\n",
    "\n",
    "sig = np.apply_over_axes(np.std, X, axes=(0,1,2)).ravel()\n",
    "sig = sig[:-14]\n",
    "\n",
    "x_mean = np.apply_over_axes(np.mean, X, axes=(0,1,2)).reshape((2,-1))\n",
    "x_std = np.apply_over_axes(np.std, X, axes=(0,1,2)).reshape((2,-1))"
   ]
  },
  {
   "cell_type": "code",
   "execution_count": null,
   "metadata": {},
   "outputs": [],
   "source": [
    "import matplotlib.pyplot as plt\n",
    "%matplotlib inline"
   ]
  },
  {
   "cell_type": "markdown",
   "metadata": {},
   "source": [
    "Let's make some interpolators for the forcing as well as the observed time series"
   ]
  },
  {
   "cell_type": "markdown",
   "metadata": {},
   "source": [
    "# Multiple time step objective function"
   ]
  },
  {
   "cell_type": "code",
   "execution_count": null,
   "metadata": {},
   "outputs": [],
   "source": [
    "def plot_soln(x, y):\n",
    "    \n",
    "    fig, axs = plt.subplots(2,2, figsize=(8,5), sharey=True)\n",
    "    qt_levs = np.arange(11)*2.5\n",
    "\n",
    "\n",
    "    t_levs = np.arange(12)*25 + 275\n",
    "    t_im = axs[0,0].contourf(x[:,:34].T, levels=t_levs)\n",
    "    axs[0,1].contourf(y[:,:34].T, levels=t_levs)\n",
    "    q_im = axs[1,0].contourf(x[:,34:].T, levels=qt_levs)\n",
    "    axs[1,1].contourf(y[:,34:].T, levels=qt_levs)\n",
    "\n",
    "    plt.colorbar(t_im, ax=axs[0,:].tolist())\n",
    "    plt.colorbar(q_im, ax=axs[1,:].tolist())\n",
    "    \n",
    "    axs[0,1].set_title(\"Prediction\")\n",
    "    axs[0,0].set_title(\"Truth\")\n",
    "    \n",
    "    axs[0,0].set_ylabel('sl')\n",
    "    axs[1,0].set_ylabel('qt')\n",
    "\n",
    "def runsteps(step, x, n):\n",
    "    \"\"\"Perform n steps using\"\"\"\n",
    "    out = np.zeros((n+1, x.shape[0]), dtype=x.dtype)\n",
    "    out[0] = x\n",
    "    \n",
    "    for i in range(n):\n",
    "        x = predict(step, x)\n",
    "        out[i] = x\n",
    "        \n",
    "    return out\n",
    "    \n",
    "\n",
    "def runforcedsteps(step, x, g, n):\n",
    "    \"\"\"Perform n steps using\"\"\"\n",
    "    out = np.zeros((n, x.shape[0]), dtype=x.dtype)\n",
    "    out[0] = x\n",
    "    \n",
    "    for i in range(n-1):\n",
    "        x = predict(step, x) + (g[i] + g[i+1])/2\n",
    "        out[i] = x\n",
    "        \n",
    "    return out"
   ]
  },
  {
   "cell_type": "markdown",
   "metadata": {},
   "source": [
    "We train the neural network outside of this notebook because it takes a long time to run. We use a 10 time step long window to compute the loss (i.e. $m=10$)."
   ]
  },
  {
   "cell_type": "code",
   "execution_count": null,
   "metadata": {},
   "outputs": [],
   "source": [
    "ms_obj_stepper = torch.load(\"../data/ml/ngaqua/multistep_objective.torch\")"
   ]
  },
  {
   "cell_type": "code",
   "execution_count": null,
   "metadata": {},
   "outputs": [],
   "source": [
    "# grab a specific location\n",
    "loc = [slice(None), 8, 0, slice(0, -14)]\n",
    "x = X[loc]\n",
    "g = G[loc]"
   ]
  },
  {
   "cell_type": "code",
   "execution_count": null,
   "metadata": {},
   "outputs": [],
   "source": [
    "y = runsteps(ms_obj_stepper, x[0], x.shape[0])\n",
    "plot_soln(x, y)"
   ]
  },
  {
   "cell_type": "markdown",
   "metadata": {},
   "source": [
    "As we can see the unforced model appears to approach a reasonable steady state value."
   ]
  },
  {
   "cell_type": "markdown",
   "metadata": {},
   "source": [
    "Forced stepper"
   ]
  },
  {
   "cell_type": "code",
   "execution_count": null,
   "metadata": {},
   "outputs": [],
   "source": [
    "# run the neural network forward\n",
    "y = runforcedsteps(ms_obj_stepper, x[0], g*.125, n=x.shape[0])\n",
    "plot_soln(x, y)"
   ]
  }
 ],
 "metadata": {
  "kernelspec": {
   "display_name": "Python 3",
   "language": "python",
   "name": "python3"
  },
  "language_info": {
   "codemirror_mode": {
    "name": "ipython",
    "version": 3
   },
   "file_extension": ".py",
   "mimetype": "text/x-python",
   "name": "python",
   "nbconvert_exporter": "python",
   "pygments_lexer": "ipython3",
   "version": "3.6.3"
  }
 },
 "nbformat": 4,
 "nbformat_minor": 2
}
