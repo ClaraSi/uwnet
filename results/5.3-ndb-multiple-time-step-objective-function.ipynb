{
 "cells": [
  {
   "cell_type": "markdown",
   "metadata": {},
   "source": [
    "In this notebook, I try using the multiple time step objective function. This is given by\n",
    "\n",
    "$$ \\sum_{j=1}^{m} | x^j - \\tilde{x}^j|^2,$$\n",
    "where the approximate time series is defined recursively by $\\tilde{x}^0 = x^0$, $\\tilde{x}^j=f(\\tilde{x}^{j-1}) + (g^i + g^{i+1})\\frac{h}{2}$ for $j>1$. Here, $f$ will be approximated using a neural network."
   ]
  },
  {
   "cell_type": "code",
   "execution_count": null,
   "metadata": {},
   "outputs": [],
   "source": [
    "%matplotlib inline\n",
    "import matplotlib.pyplot as plt\n",
    "import xarray as xr\n",
    "import numpy as np\n",
    "import torch\n",
    "from sklearn.externals import joblib\n",
    "\n",
    "\n",
    "from lib.evaluation.single_column import runsteps, forced_step, step"
   ]
  },
  {
   "cell_type": "markdown",
   "metadata": {},
   "source": [
    "Let's load the data."
   ]
  },
  {
   "cell_type": "code",
   "execution_count": null,
   "metadata": {},
   "outputs": [],
   "source": [
    "ms_obj_stepper = torch.load(\"../data/ml/ngaqua/model.2.torch\")\n",
    "\n",
    "data = joblib.load(\"../data/ml/ngaqua/time_series_data.pkl\")\n",
    "\n",
    "X = data['X']\n",
    "G = data['G']\n",
    "scale = data['scales']\n",
    "w = data['w']\n",
    "\n",
    "# # we need to grap the pressure field from a different path\n",
    "p = xr.open_dataset(\"../data/raw/ngaqua/stat.nc\").p.values\n",
    "# t = dt * np.arange(X.shape[0])"
   ]
  },
  {
   "cell_type": "markdown",
   "metadata": {},
   "source": [
    "and compute the mean."
   ]
  },
  {
   "cell_type": "markdown",
   "metadata": {},
   "source": [
    "Let's make some interpolators for the forcing as well as the observed time series"
   ]
  },
  {
   "cell_type": "markdown",
   "metadata": {},
   "source": [
    "# Multiple time step objective function"
   ]
  },
  {
   "cell_type": "code",
   "execution_count": null,
   "metadata": {},
   "outputs": [],
   "source": [
    "def plot_soln(x, y):\n",
    "    \n",
    "    fig, axs = plt.subplots(2,2, figsize=(8,5), sharey=True)\n",
    "    qt_levs = np.arange(11)*2.5\n",
    "\n",
    "\n",
    "    t_levs = np.arange(12)*25 + 275\n",
    "    t_im = axs[0,0].contourf(x[:,:34].T, levels=t_levs)\n",
    "    axs[0,1].contourf(y[:,:34].T, levels=t_levs)\n",
    "    q_im = axs[1,0].contourf(x[:,34:].T, levels=qt_levs, extend='both')\n",
    "    axs[1,1].contourf(y[:,34:].T, levels=qt_levs, extend='both')\n",
    "\n",
    "    plt.colorbar(t_im, ax=axs[0,:].tolist())\n",
    "    plt.colorbar(q_im, ax=axs[1,:].tolist())\n",
    "    \n",
    "    axs[0,1].set_title(\"Prediction\")\n",
    "    axs[0,0].set_title(\"Truth\")\n",
    "    \n",
    "    axs[0,0].set_ylabel('sl')\n",
    "    axs[1,0].set_ylabel('qt')\n"
   ]
  },
  {
   "cell_type": "markdown",
   "metadata": {},
   "source": [
    "We train the neural network outside of this notebook because it takes a long time to run. We use a 10 time step long window to compute the loss (i.e. $m=10$)."
   ]
  },
  {
   "cell_type": "code",
   "execution_count": null,
   "metadata": {},
   "outputs": [],
   "source": [
    "# grab a specific location\n",
    "loc = [slice(None), 8, 0, slice(None)]\n",
    "x = X[loc]\n",
    "g = G[loc]"
   ]
  },
  {
   "cell_type": "code",
   "execution_count": null,
   "metadata": {},
   "outputs": [],
   "source": [
    "y = runsteps(step(ms_obj_stepper), x[0], x.shape[0])\n",
    "plot_soln(x, y)"
   ]
  },
  {
   "cell_type": "markdown",
   "metadata": {},
   "source": [
    "As we can see the unforced model appears to approach a reasonable steady state value."
   ]
  },
  {
   "cell_type": "markdown",
   "metadata": {},
   "source": [
    "Forced stepper"
   ]
  },
  {
   "cell_type": "code",
   "execution_count": null,
   "metadata": {},
   "outputs": [],
   "source": [
    "y = runsteps(forced_step(ms_obj_stepper, g), x[0], x.shape[0])\n",
    "plot_soln(x, y)"
   ]
  }
 ],
 "metadata": {
  "kernelspec": {
   "display_name": "Python 3",
   "language": "python",
   "name": "python3"
  },
  "language_info": {
   "codemirror_mode": {
    "name": "ipython",
    "version": 3
   },
   "file_extension": ".py",
   "mimetype": "text/x-python",
   "name": "python",
   "nbconvert_exporter": "python",
   "pygments_lexer": "ipython3",
   "version": "3.6.3"
  }
 },
 "nbformat": 4,
 "nbformat_minor": 2
}
