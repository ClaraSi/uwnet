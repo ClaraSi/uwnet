{
 "cells": [
  {
   "cell_type": "code",
   "execution_count": null,
   "metadata": {},
   "outputs": [],
   "source": [
    "%pylab inline"
   ]
  },
  {
   "cell_type": "code",
   "execution_count": null,
   "metadata": {},
   "outputs": [],
   "source": [
    "import numpy as np\n",
    "\n",
    "class Asinh(object):\n",
    "    def fit(self, y):\n",
    "        tht = np.linspace(.001, 1.0, 100)\n",
    "        \n",
    "        ftht = [self._neglog(y, x) for x in tht]\n",
    "\n",
    "        ls = tht[np.argmax(ftht)]\n",
    "        \n",
    "        self.optim_ = ls\n",
    "        \n",
    "    def transform(self, y):\n",
    "        return self._f(y, self.optim_)\n",
    "        \n",
    "    \n",
    "    def _f(self, y, theta):\n",
    "        if abs(theta) < 1e-5:\n",
    "            return y\n",
    "        else:\n",
    "            return np.arcsinh(theta*y)/theta\n",
    "\n",
    "    def _neglog(self, y, theta):\n",
    "        ft = self._f(y, theta)\n",
    "        val = - .5 * np.log(ft.dot(ft-ft.mean())) \\\n",
    "              - .5 * np.mean(np.log(1+(theta*y)**2))\n",
    "            \n",
    "        return val"
   ]
  },
  {
   "cell_type": "code",
   "execution_count": null,
   "metadata": {},
   "outputs": [],
   "source": [
    "import xarray as xr"
   ]
  },
  {
   "cell_type": "code",
   "execution_count": null,
   "metadata": {},
   "outputs": [],
   "source": [
    "q1 = xr.open_dataset(\"wd/ml/Y.nc\").q1\n",
    "q1 = q1-q1.mean(['x', 'time'])\n",
    "\n",
    "q1 = q1.isel(time=slice(-50,None))\n",
    "\n",
    "# data for distribution\n",
    "y = q1.values.ravel()\n",
    "yrand = np.random.choice(y, 20000, replace=False)"
   ]
  },
  {
   "cell_type": "code",
   "execution_count": null,
   "metadata": {},
   "outputs": [],
   "source": [
    "import scipy.stats as stats"
   ]
  },
  {
   "cell_type": "markdown",
   "metadata": {},
   "source": [
    "You can see that the distribution of Q1 has extremely fat tails"
   ]
  },
  {
   "cell_type": "code",
   "execution_count": null,
   "metadata": {},
   "outputs": [],
   "source": [
    "stats.probplot(q1.values.ravel(), plot=pyplot)"
   ]
  },
  {
   "cell_type": "code",
   "execution_count": null,
   "metadata": {},
   "outputs": [],
   "source": [
    "theta= .16\n",
    "y= q1.values.ravel()\n",
    "\n",
    "y_normalized = np.arcsinh(theta*y)/theta\n",
    "stats.probplot(y_normalized, plot=pyplot)\n"
   ]
  },
  {
   "cell_type": "code",
   "execution_count": null,
   "metadata": {},
   "outputs": [],
   "source": [
    "mod = Asinh()\n",
    "mod.fit(y)"
   ]
  },
  {
   "cell_type": "code",
   "execution_count": null,
   "metadata": {},
   "outputs": [],
   "source": [
    "mod.optim_"
   ]
  },
  {
   "cell_type": "code",
   "execution_count": null,
   "metadata": {},
   "outputs": [],
   "source": [
    "mod._neglog(y, .16)"
   ]
  },
  {
   "cell_type": "code",
   "execution_count": null,
   "metadata": {},
   "outputs": [],
   "source": [
    "mod._neglog(y, -.001)"
   ]
  },
  {
   "cell_type": "code",
   "execution_count": null,
   "metadata": {},
   "outputs": [],
   "source": [
    "y_normalized = mod.transform(y)\n",
    "stats.probplot(y_normalized, plot=pyplot);"
   ]
  },
  {
   "cell_type": "markdown",
   "metadata": {},
   "source": [
    "What about this Tunkey-Lambda ccf plot"
   ]
  },
  {
   "cell_type": "code",
   "execution_count": null,
   "metadata": {},
   "outputs": [],
   "source": [
    "stats.ppcc_plot(yrand, -1, 1, plot=plt);"
   ]
  },
  {
   "cell_type": "markdown",
   "metadata": {},
   "source": [
    "the maximum value is given by"
   ]
  },
  {
   "cell_type": "code",
   "execution_count": null,
   "metadata": {},
   "outputs": [],
   "source": [
    "lam_max = stats.ppcc_max(yrand)\n",
    "lam_max"
   ]
  },
  {
   "cell_type": "code",
   "execution_count": null,
   "metadata": {},
   "outputs": [],
   "source": [
    "y_transformed = np.sign(yrand) * np.abs(yrand)**lam_max"
   ]
  }
 ],
 "metadata": {
  "kernelspec": {
   "display_name": "Python 3",
   "language": "python",
   "name": "python3"
  },
  "language_info": {
   "codemirror_mode": {
    "name": "ipython",
    "version": 3
   },
   "file_extension": ".py",
   "mimetype": "text/x-python",
   "name": "python",
   "nbconvert_exporter": "python",
   "pygments_lexer": "ipython3",
   "version": "3.6.1"
  }
 },
 "nbformat": 4,
 "nbformat_minor": 2
}
