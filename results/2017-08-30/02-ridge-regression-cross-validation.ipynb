{
 "cells": [
  {
   "cell_type": "code",
   "execution_count": null,
   "metadata": {},
   "outputs": [],
   "source": [
    "%pylab inline"
   ]
  },
  {
   "cell_type": "code",
   "execution_count": null,
   "metadata": {
    "inputs": [
     "ml/x.npz",
     "ml/y.npz"
    ]
   },
   "outputs": [],
   "source": [
    "def get_data(d):\n",
    "    x = np.load(f\"{d}/x.npz\")['arr_0']\n",
    "    y = np.load(f\"{d}/y.npz\")['arr_0']\n",
    "    \n",
    "    return x,y\n",
    "\n",
    "x, y= get_data(\"ml\")\n"
   ]
  },
  {
   "cell_type": "code",
   "execution_count": null,
   "metadata": {},
   "outputs": [],
   "source": [
    "from sklearn.linear_model import Ridge"
   ]
  },
  {
   "cell_type": "code",
   "execution_count": null,
   "metadata": {},
   "outputs": [],
   "source": [
    "from sklearn.cross_validation import cross_val_score\n",
    "from sklearn.model_selection import GridSearchCV"
   ]
  },
  {
   "cell_type": "markdown",
   "metadata": {},
   "source": [
    "KFold Cross-validation"
   ]
  },
  {
   "cell_type": "code",
   "execution_count": null,
   "metadata": {},
   "outputs": [],
   "source": [
    "mod = Ridge(1.0)\n",
    "\n",
    "cv = GridSearchCV(mod, {'alpha': np.logspace(-1,5, 6)}, verbose=1, n_jobs=6)\n",
    "cv.fit(x, y)"
   ]
  },
  {
   "cell_type": "code",
   "execution_count": null,
   "metadata": {},
   "outputs": [],
   "source": [
    "cv.cv_results_['mean_test_score']"
   ]
  },
  {
   "cell_type": "markdown",
   "metadata": {},
   "source": [
    "train-set test-set cross validation."
   ]
  },
  {
   "cell_type": "code",
   "execution_count": null,
   "metadata": {},
   "outputs": [],
   "source": [
    "\n",
    "n = x.shape[0]\n",
    "percent_train = .6\n",
    "ntrain = int(percent_train * n)\n",
    "\n",
    "train_idx = np.arange(ntrain)\n",
    "test_idx = np.arange(ntrain, n)\n",
    "\n",
    "x_train, y_train = x[train_idx], y[train_idx]\n",
    "x_test, y_test = x[test_idx], y[test_idx]\n",
    "\n",
    "mse_mean = np.mean((y_test-y_test.mean(axis=0))**2)\n",
    "for alpha in np.logspace(-5,5, 15):\n",
    "    mod.set_params(alpha=alpha)\n",
    "    mod.fit(x_train, y_train)\n",
    "    yt = mod.predict(x_test)\n",
    "    mse = np.mean((yt-y_test)**2)\n",
    "    r2 = 1 - mse/mse_mean\n",
    "    print(f\"alpha = {alpha}; test_mse = {mse}, r2 = {r2}\")"
   ]
  },
  {
   "cell_type": "code",
   "execution_count": null,
   "metadata": {},
   "outputs": [],
   "source": [
    "mod.set_params(alpha=150)\n",
    "mod.fit(x, y)\n",
    "\n",
    "plt.pcolormesh(mod.coef_)"
   ]
  },
  {
   "cell_type": "code",
   "execution_count": null,
   "metadata": {},
   "outputs": [],
   "source": [
    "plt.plot(mod.coef_[:,-2:])\n",
    "plt.legend(['LHF', 'SHF'])"
   ]
  }
 ],
 "metadata": {
  "celltoolbar": "Edit Metadata",
  "kernelspec": {
   "display_name": "Python 3",
   "language": "python",
   "name": "python3"
  },
  "language_info": {
   "codemirror_mode": {
    "name": "ipython",
    "version": 3
   },
   "file_extension": ".py",
   "mimetype": "text/x-python",
   "name": "python",
   "nbconvert_exporter": "python",
   "pygments_lexer": "ipython3",
   "version": "3.6.1"
  }
 },
 "nbformat": 4,
 "nbformat_minor": 2
}
