{
 "cells": [
  {
   "cell_type": "markdown",
   "metadata": {},
   "source": [
    "In this notebook I explore algorithms for clustering the samples, which I can ultimately use to develop stochastic convetive parameterizations.\n",
    "\n",
    "I can model the transitions between clusters using a markov process, just as Eurika Kaiser does."
   ]
  },
  {
   "cell_type": "code",
   "execution_count": null,
   "metadata": {},
   "outputs": [],
   "source": [
    "%matplotlib inline"
   ]
  },
  {
   "cell_type": "code",
   "execution_count": null,
   "metadata": {},
   "outputs": [],
   "source": [
    "import xarray as xr\n",
    "import numpy as np\n",
    "import pandas as pd\n",
    "from sklearn.preprocessing import StandardScaler\n",
    "from sklearn.externals import joblib\n",
    "from sklearn.metrics import r2_score\n",
    "import matplotlib.pyplot as plt\n",
    "from matplotlib.colors import SymLogNorm\n",
    "from matplotlib.mlab import griddata\n",
    "\n",
    "\n",
    "\n",
    "from sklearn.cluster import KMeans"
   ]
  },
  {
   "cell_type": "code",
   "execution_count": null,
   "metadata": {},
   "outputs": [],
   "source": [
    "def rms(x, axis=-1):\n",
    "    return np.sqrt((x**2).mean(axis=axis))"
   ]
  },
  {
   "cell_type": "code",
   "execution_count": null,
   "metadata": {},
   "outputs": [],
   "source": [
    "import holoviews as hv\n",
    "hv.extension('bokeh')"
   ]
  },
  {
   "cell_type": "code",
   "execution_count": null,
   "metadata": {},
   "outputs": [],
   "source": [
    "data_dict = joblib.load(\"../data/ml/ngaqua/data.pkl\")\n",
    "data_dict.keys()"
   ]
  },
  {
   "cell_type": "code",
   "execution_count": null,
   "metadata": {},
   "outputs": [],
   "source": [
    "def get_inputs(data):\n",
    "    return data['train'][1]/data['scale'][1] * np.sqrt(data['w'][1])"
   ]
  },
  {
   "cell_type": "code",
   "execution_count": null,
   "metadata": {},
   "outputs": [],
   "source": [
    "y = get_inputs(data_dict)\n",
    "y.shape"
   ]
  },
  {
   "cell_type": "markdown",
   "metadata": {},
   "source": [
    "# K-Means clustering"
   ]
  },
  {
   "cell_type": "markdown",
   "metadata": {},
   "source": [
    "Clustering is pretty slow, so we should only perform the fit on a subset of the data"
   ]
  },
  {
   "cell_type": "code",
   "execution_count": null,
   "metadata": {},
   "outputs": [],
   "source": [
    "np.random.seed(30)\n",
    "idx = np.random.choice(y.shape[0], 10000, replace=False)"
   ]
  },
  {
   "cell_type": "code",
   "execution_count": null,
   "metadata": {},
   "outputs": [],
   "source": [
    "kmeans = KMeans(n_clusters=90).fit(y[idx])"
   ]
  },
  {
   "cell_type": "code",
   "execution_count": null,
   "metadata": {},
   "outputs": [],
   "source": [
    "clusters = pd.DataFrame(kmeans.cluster_centers_.T,\n",
    "                        index=y.indexes['features'])\n",
    "\n",
    "clusters.head()"
   ]
  },
  {
   "cell_type": "markdown",
   "metadata": {},
   "source": [
    "Let's plot all the cluster centers"
   ]
  },
  {
   "cell_type": "code",
   "execution_count": null,
   "metadata": {},
   "outputs": [],
   "source": [
    "%%opts Curve[invert_axes=True]{+framewise}\n",
    "\n",
    "plotme = pd.melt(clusters.reset_index(), id_vars=[\"variable\", \"z\"], var_name=\"mode\")\n",
    "\n",
    "tab = hv.Table(plotme, kdims=[\"variable\", \"z\", \"mode\"], vdims=[\"value\"])\n",
    "tab.to.curve(\"z\")"
   ]
  },
  {
   "cell_type": "code",
   "execution_count": null,
   "metadata": {},
   "outputs": [],
   "source": [
    "y_pred = np.take(kmeans.cluster_centers_, kmeans.predict(y), axis=0)\n",
    "r2_score(y, y_pred)"
   ]
  },
  {
   "cell_type": "markdown",
   "metadata": {},
   "source": [
    "Many of the clusters in k-means are just scaled versions of each other."
   ]
  },
  {
   "cell_type": "markdown",
   "metadata": {},
   "source": [
    "Let's look at the number of members in each cluster."
   ]
  },
  {
   "cell_type": "code",
   "execution_count": null,
   "metadata": {},
   "outputs": [],
   "source": [
    "bincounts = np.bincount(kmeans.predict(y))\n",
    "hv.Curve(np.sort(bincounts)[::-1], kdims=\"cluster number\", vdims=[\"population\"])"
   ]
  },
  {
   "cell_type": "markdown",
   "metadata": {},
   "source": [
    "There is no clear cutoff here. "
   ]
  },
  {
   "cell_type": "markdown",
   "metadata": {},
   "source": [
    "## Weighted clustering\n",
    "\n",
    "In the simulation, few sample points have very strong precipitation, but they can strongly impact the total amount of precipitation. \n",
    "\n",
    "If we weight the samples with the strength of precipitation, the k-means algorithm will focus more on the events with large precipitation. "
   ]
  },
  {
   "cell_type": "code",
   "execution_count": null,
   "metadata": {},
   "outputs": [],
   "source": [
    "sample_weights = rms(y.data, axis=1).compute()\n",
    "# sample_weights = np.abs(np.sum(y.data, axis=1)).compute()\n",
    "\n",
    "sample_weights/=sample_weights.mean()\n",
    "sample_weights.shape = (-1, 1)"
   ]
  },
  {
   "cell_type": "code",
   "execution_count": null,
   "metadata": {},
   "outputs": [],
   "source": [
    "kmeans_w = KMeans(30).fit(y[idx]*sample_weights[idx]**.1)"
   ]
  },
  {
   "cell_type": "code",
   "execution_count": null,
   "metadata": {},
   "outputs": [],
   "source": [
    "\n",
    "hv.Curve(np.sort(rms(kmeans_w.cluster_centers_)), label=\"Weighted\",\n",
    "         kdims=[\"cluster label\"], vdims=[\"RMS\"]) \\\n",
    "*hv.Curve(np.sort(rms(kmeans.cluster_centers_)), label=\"Not Weighted\",\n",
    "        extents=(0,None,30,None))"
   ]
  },
  {
   "cell_type": "markdown",
   "metadata": {},
   "source": [
    "What is the population of these RMS weighted clusters"
   ]
  },
  {
   "cell_type": "code",
   "execution_count": null,
   "metadata": {},
   "outputs": [],
   "source": [
    "rms_cent =  rms(kmeans_w.cluster_centers_)\n",
    "pop =  np.bincount(kmeans_w.predict(y))\n",
    "df = pd.DataFrame({'pop':pd.Series(pop),'rms': pd.Series(rms_cent)})\\\n",
    ".fillna(0)"
   ]
  },
  {
   "cell_type": "code",
   "execution_count": null,
   "metadata": {},
   "outputs": [],
   "source": [
    "%%opts Scatter[logy=True width=500]\n",
    "hv.Scatter(df)"
   ]
  },
  {
   "cell_type": "markdown",
   "metadata": {},
   "source": [
    "## Other clustering algorithms\n",
    "\n",
    "Sklearn's affinity propogation is too slow even for relatively small numbers of samples. DBSCAN probably runs very slowly also."
   ]
  },
  {
   "cell_type": "markdown",
   "metadata": {},
   "source": [
    "# Feature selection\n",
    "\n",
    "Let's use orthogonal matching pursuit and Lasso to help make sparse representations of the data.\n",
    "\n",
    "Let's use PC as a dictionary"
   ]
  },
  {
   "cell_type": "code",
   "execution_count": null,
   "metadata": {},
   "outputs": [],
   "source": [
    "from sklearn.decomposition import PCA\n",
    "from sklearn.linear_model import Lasso, OrthogonalMatchingPursuit"
   ]
  },
  {
   "cell_type": "code",
   "execution_count": null,
   "metadata": {},
   "outputs": [],
   "source": [
    "y_pcs = PCA(n_components=30, whiten=True).fit_transform(y)"
   ]
  },
  {
   "cell_type": "code",
   "execution_count": null,
   "metadata": {},
   "outputs": [],
   "source": [
    "lasso = Lasso(.2).fit(y_pcs[idx], y[idx])"
   ]
  },
  {
   "cell_type": "code",
   "execution_count": null,
   "metadata": {},
   "outputs": [],
   "source": [
    "%%opts Curve[invert_axes=True]{+framewise}\n",
    "coef = pd.DataFrame(lasso.coef_,\n",
    "                        index=y.indexes['features'])\n",
    "\n",
    "plotme = pd.melt(coef.reset_index(), id_vars=[\"variable\", \"z\"], var_name=\"mode\")\n",
    "\n",
    "tab = hv.Table(plotme, kdims=[\"variable\", \"z\", \"mode\"], vdims=[\"value\"])\n",
    "tab.to.curve(\"z\")"
   ]
  },
  {
   "cell_type": "markdown",
   "metadata": {},
   "source": [
    "We can see that these components are now sparsified."
   ]
  }
 ],
 "metadata": {
  "kernelspec": {
   "display_name": "Python 3",
   "language": "python",
   "name": "python3"
  },
  "language_info": {
   "codemirror_mode": {
    "name": "ipython",
    "version": 3
   },
   "file_extension": ".py",
   "mimetype": "text/x-python",
   "name": "python",
   "nbconvert_exporter": "python",
   "pygments_lexer": "ipython3",
   "version": "3.6.3"
  }
 },
 "nbformat": 4,
 "nbformat_minor": 2
}
