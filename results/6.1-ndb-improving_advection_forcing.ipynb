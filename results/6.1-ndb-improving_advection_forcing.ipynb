{
 "cells": [
  {
   "cell_type": "markdown",
   "metadata": {},
   "source": [
    "In the notebook at `reports/1.0-ndb-chris-slides.ipynb` I found that the advection forcings used in the model are extremely noisy, and probably inaccurate. The liquid water temperature forcing is especially noisy near the tropopause of the model. The goal of this notebook is to develop a more stable method for computing this vertical terms."
   ]
  },
  {
   "cell_type": "code",
   "execution_count": null,
   "metadata": {},
   "outputs": [],
   "source": [
    "import matplotlib.pyplot as plt\n",
    "%matplotlib inline\n",
    "\n",
    "import numpy as np\n",
    "import xarray as xr\n",
    "from lib.advection import material_derivative\n",
    "from lib.thermo import liquid_water_temperature\n",
    "\n",
    "import holoviews as hv\n",
    "from lib.holoviews import quadmesh\n",
    "\n",
    "hv.extension('matplotlib')"
   ]
  },
  {
   "cell_type": "code",
   "execution_count": null,
   "metadata": {},
   "outputs": [],
   "source": [
    "def loc(x):\n",
    "    return x.isel(x=0, y=8)\n",
    "\n",
    "\n",
    "def plot_tz(x, **kwargs):\n",
    "    plt.figure(dpi=125, figsize=(6,2))\n",
    "    return x.transpose('z', 'time').plot(**kwargs)"
   ]
  },
  {
   "cell_type": "code",
   "execution_count": null,
   "metadata": {},
   "outputs": [],
   "source": [
    "    \n",
    "fields_3d = xr.open_mfdataset(\"../data/raw/2/NG_5120x2560x34_4km_10s_QOBS_EQX/coarse/3d/*.nc\",\n",
    "                     preprocess=lambda x: x.drop('p')).isel(y=slice(24,40)).compute()\n",
    "\n",
    "fields_loc = loc(fields_3d).compute()\n",
    "sl = fields_loc.pipe(lambda x: liquid_water_temperature(x.TABS, x.QN, x.QP))"
   ]
  },
  {
   "cell_type": "markdown",
   "metadata": {},
   "source": [
    "Here is the vertical velocity field. It seems pretty reasonable."
   ]
  },
  {
   "cell_type": "code",
   "execution_count": null,
   "metadata": {},
   "outputs": [],
   "source": [
    "fields_loc.W.sel(time=slice(100, 120)).pipe(plot_tz)"
   ]
  },
  {
   "cell_type": "markdown",
   "metadata": {},
   "source": [
    "Let's compute $\\frac{ds_l}{dz}$ using centered differnces"
   ]
  },
  {
   "cell_type": "code",
   "execution_count": null,
   "metadata": {},
   "outputs": [],
   "source": [
    "dsldz =sl.centderiv('z')"
   ]
  },
  {
   "cell_type": "code",
   "execution_count": null,
   "metadata": {},
   "outputs": [],
   "source": [
    "dsldz.sel(time=slice(100, 120)).pipe(plot_tz, vmax=.02)"
   ]
  },
  {
   "cell_type": "code",
   "execution_count": null,
   "metadata": {},
   "outputs": [],
   "source": [
    "(dsldz*fields_loc.W).sel(time=slice(100, 120)).pipe(plot_tz)"
   ]
  },
  {
   "cell_type": "markdown",
   "metadata": {},
   "source": [
    "Clearly, the the very strong stratification anomalies near the tropopause of the simulation amplify small vertical velocities there and make the vertical advection noisy overall."
   ]
  },
  {
   "cell_type": "code",
   "execution_count": null,
   "metadata": {},
   "outputs": [],
   "source": [
    "sl = fields_3d.pipe(lambda x: liquid_water_temperature(x.TABS, x.QN, x.QP))\n",
    "w = fields_3d.W\n",
    "\n",
    "vert_adv = (sl.centderiv('z') * w).compute()"
   ]
  },
  {
   "cell_type": "code",
   "execution_count": null,
   "metadata": {},
   "outputs": [],
   "source": [
    "from scipy.ndimage import gaussian_filter"
   ]
  },
  {
   "cell_type": "code",
   "execution_count": null,
   "metadata": {},
   "outputs": [],
   "source": [
    "vert_adv.dims"
   ]
  },
  {
   "cell_type": "code",
   "execution_count": null,
   "metadata": {},
   "outputs": [],
   "source": [
    "X_xr = vert_adv.stack(samples=['time' ,'x', 'y']).transpose('samples', 'z')\n",
    "X = X_xr.values\n",
    "\n",
    "dm = (X - X.mean(axis=0))/.0005"
   ]
  },
  {
   "cell_type": "markdown",
   "metadata": {},
   "source": [
    "# Denoising using autoencoders"
   ]
  },
  {
   "cell_type": "markdown",
   "metadata": {},
   "source": [
    "Here I train an auto-encoder which ignores the top 10 grid points as inputs, and has a internal hidden layer with  5 nodes."
   ]
  },
  {
   "cell_type": "code",
   "execution_count": null,
   "metadata": {},
   "outputs": [],
   "source": [
    "from keras.models import Sequential\n",
    "from keras.layers import Dense, Activation, Dropout,  BatchNormalization\n",
    "model = Sequential([\n",
    "    Dense(34, input_shape=(34-10,)),\n",
    "    Activation('relu'),\n",
    "    Dense(5),\n",
    "    Activation('relu'),\n",
    "    Dense(34),\n",
    "    Activation('relu'),\n",
    "    Dense(34)]\n",
    "    )\n",
    "\n",
    "\n",
    "# For a mean squared error regression problem\n",
    "model.compile(optimizer='rmsprop', \n",
    "              loss='mse')\n",
    "\n",
    "model.fit(dm[:,:-10], dm, epochs=1)"
   ]
  },
  {
   "cell_type": "code",
   "execution_count": null,
   "metadata": {},
   "outputs": [],
   "source": [
    "denoised = model.predict(dm[:,:-10])*.0005 + X.mean(axis=0)\n",
    "denoised = xr.DataArray(denoised, coords=X_xr.coords).unstack('samples')"
   ]
  },
  {
   "cell_type": "code",
   "execution_count": null,
   "metadata": {},
   "outputs": [],
   "source": [
    "denoised.isel(x=0,y=8).sel(time=slice(100, 120)).pipe(plot_tz)"
   ]
  },
  {
   "cell_type": "markdown",
   "metadata": {},
   "source": [
    "As you can see, this data is substantially denoised, and might be a better forcing dataset. An alternative could be to alter the objective function to make the model fit slack."
   ]
  }
 ],
 "metadata": {
  "kernelspec": {
   "display_name": "Python 3",
   "language": "python",
   "name": "python3"
  },
  "language_info": {
   "codemirror_mode": {
    "name": "ipython",
    "version": 3
   },
   "file_extension": ".py",
   "mimetype": "text/x-python",
   "name": "python",
   "nbconvert_exporter": "python",
   "pygments_lexer": "ipython3",
   "version": "3.6.3"
  }
 },
 "nbformat": 4,
 "nbformat_minor": 2
}
