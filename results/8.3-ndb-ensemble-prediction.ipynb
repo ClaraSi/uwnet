{
 "cells": [
  {
   "cell_type": "markdown",
   "metadata": {},
   "source": [
    "This notebook shows how to take an average over an ensemble of neural networks. This does not actually work particularly well, but serves as a useful proof of concept."
   ]
  },
  {
   "cell_type": "code",
   "execution_count": null,
   "metadata": {},
   "outputs": [],
   "source": [
    "import glob\n",
    "from lib.plots.single_column_initial_value import column_run\n",
    "from pathlib import Path\n",
    "import torch\n",
    "from torch import nn \n",
    "from functools import reduce\n",
    "\n",
    "from lib.models.torch.multiple_step_objective import ForcedStepper\n",
    "\n",
    "\n",
    "def _sum_rhs(x, y, n=1):\n",
    "    return [\n",
    "        {key: xx[key] + yy[key] for key in xx}\n",
    "        for xx, yy in zip(x, y)\n",
    "    ]\n",
    "\n",
    "def _normalize(x, n):\n",
    "    return [\n",
    "        {key: xx[key]/n for key in xx}\n",
    "        for xx in x\n",
    "    ]\n",
    "\n",
    "class Mean(nn.ModuleList):        \n",
    "    def forward(self, *args, **kwargs):\n",
    "        s =  reduce(_sum_rhs, (mod(*args, **kwargs) for mod in self))\n",
    "        return _normalize(s, len(self))\n",
    "\n",
    "        \n",
    "\n",
    "def mean_model(models):\n",
    "    rhs = Mean([model.rhs for model in models])\n",
    "    \n",
    "    stepper = models[0]\n",
    "    stepper = ForcedStepper(rhs, stepper.h, stepper.nsteps,\n",
    "                            interactive_vertical_adv=stepper.interactive_vertical_adv)\n",
    "    \n",
    "    return stepper\n",
    "    \n",
    "\n"
   ]
  },
  {
   "cell_type": "code",
   "execution_count": null,
   "metadata": {},
   "outputs": [],
   "source": [
    "inputs = xr.open_dataset(\"../data/processed/inputs.nc\").stack(batch=['x', 'y'])\n",
    "forcings = xr.open_dataset(\"../data/processed/forcings.nc\").stack(batch=['x', 'y'])"
   ]
  },
  {
   "cell_type": "code",
   "execution_count": null,
   "metadata": {},
   "outputs": [],
   "source": [
    "model_id = Path(\"../data/output/model.VaryNHid-128\")\n",
    "models = [torch.load(f) for f in glob.glob(str(model_id / \"*.torch\"))]\n",
    "stepper = mean_model(models)\n",
    "\n",
    "data = column_run(stepper, inputs, forcings)"
   ]
  },
  {
   "cell_type": "code",
   "execution_count": null,
   "metadata": {},
   "outputs": [],
   "source": [
    "%matplotlib inline"
   ]
  },
  {
   "cell_type": "code",
   "execution_count": null,
   "metadata": {},
   "outputs": [],
   "source": [
    "ds = xr.Dataset(data[0]).unstack('batch')\n",
    "tru = inputs.unstack('batch')"
   ]
  },
  {
   "cell_type": "code",
   "execution_count": null,
   "metadata": {},
   "outputs": [],
   "source": [
    "bias = (ds-tru).mean(['x', 'time'])"
   ]
  },
  {
   "cell_type": "code",
   "execution_count": null,
   "metadata": {},
   "outputs": [],
   "source": [
    "bias.qt.isel(y=8).plot()"
   ]
  },
  {
   "cell_type": "code",
   "execution_count": null,
   "metadata": {},
   "outputs": [],
   "source": [
    "bias.sl.isel(y=8).plot()"
   ]
  },
  {
   "cell_type": "markdown",
   "metadata": {},
   "source": [
    "We see that "
   ]
  }
 ],
 "metadata": {
  "kernelspec": {
   "display_name": "Python 3",
   "language": "python",
   "name": "python3"
  },
  "language_info": {
   "codemirror_mode": {
    "name": "ipython",
    "version": 3
   },
   "file_extension": ".py",
   "mimetype": "text/x-python",
   "name": "python",
   "nbconvert_exporter": "python",
   "pygments_lexer": "ipython3",
   "version": "3.6.3"
  },
  "toc": {
   "nav_menu": {},
   "number_sections": true,
   "sideBar": true,
   "skip_h1_title": false,
   "title_cell": "Table of Contents",
   "title_sidebar": "Contents",
   "toc_cell": false,
   "toc_position": {},
   "toc_section_display": true,
   "toc_window_display": false
  },
  "varInspector": {
   "cols": {
    "lenName": 16,
    "lenType": 16,
    "lenVar": 40
   },
   "kernels_config": {
    "python": {
     "delete_cmd_postfix": "",
     "delete_cmd_prefix": "del ",
     "library": "var_list.py",
     "varRefreshCmd": "print(var_dic_list())"
    },
    "r": {
     "delete_cmd_postfix": ") ",
     "delete_cmd_prefix": "rm(",
     "library": "var_list.r",
     "varRefreshCmd": "cat(var_dic_list()) "
    }
   },
   "types_to_exclude": [
    "module",
    "function",
    "builtin_function_or_method",
    "instance",
    "_Feature"
   ],
   "window_display": false
  }
 },
 "nbformat": 4,
 "nbformat_minor": 2
}
