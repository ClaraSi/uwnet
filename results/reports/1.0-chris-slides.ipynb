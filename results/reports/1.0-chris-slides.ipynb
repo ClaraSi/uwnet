{
 "cells": [
  {
   "cell_type": "code",
   "execution_count": null,
   "metadata": {},
   "outputs": [],
   "source": [
    "%matplotlib inline"
   ]
  },
  {
   "cell_type": "code",
   "execution_count": null,
   "metadata": {},
   "outputs": [],
   "source": [
    "import xarray as xr\n",
    "import matplotlib.pyplot as plt\n",
    "\n",
    "from lib.models.torch import wrap\n",
    "import torch\n",
    "import holoviews as hv\n",
    "hv.extension('matplotlib')\n",
    "\n",
    "plt.rcParams['savefig.dpi'] = 125"
   ]
  },
  {
   "cell_type": "markdown",
   "metadata": {},
   "source": [
    "Some utility plotting functions."
   ]
  },
  {
   "cell_type": "code",
   "execution_count": null,
   "metadata": {},
   "outputs": [],
   "source": [
    "def prog_plot(phi, autolevels=False, figsize=(8, 4)):\n",
    "    \n",
    "    if not autolevels:\n",
    "        qt_kw = dict(levels=np.arange(11) * 2.5, extend='both')\n",
    "        t_kw = dict(levels=np.arange(12)*5 + 275, extend='both')\n",
    "    else:\n",
    "        qt_kw = {}\n",
    "        t_kw = {}\n",
    "\n",
    "    fig, axs = plt.subplots(2, 1, sharex=True, sharey=True, figsize=figsize, facecolor='w',\n",
    "                           dpi=100)\n",
    "    \n",
    "    t_im = axs[0].contourf(phi.time, phi.p, phi.qt.T, **qt_kw)\n",
    "    q_im = axs[1].contourf(phi.time, phi.p, phi.sl.T, **t_kw)\n",
    "\n",
    "    plt.colorbar(t_im, ax=axs[0])\n",
    "    plt.colorbar(q_im, ax=axs[1])\n",
    "\n",
    "    axs[0].set_ylabel('sl')\n",
    "    axs[1].set_ylabel('qt')    \n",
    "    axs[0].invert_yaxis()\n",
    "    \n",
    "    for ax in axs:\n",
    "        ax.set_ylabel('p [hPa]')\n",
    "    \n",
    "    axs[-1].set_xlabel('days')\n",
    "    \n",
    "    \n",
    "    bbox = dict(color='w')\n",
    "    axs[1].text(105, 250, r\"$s_l$ [K]\", bbox=bbox)\n",
    "    axs[0].text(105, 250, r\"$q_T$ [g/kg]\", bbox=bbox)        \n",
    "    return axs"
   ]
  },
  {
   "cell_type": "code",
   "execution_count": null,
   "metadata": {},
   "outputs": [],
   "source": [
    "phi = xr.open_dataset(\"../../data/processed/inputs.nc\")\n",
    "g = xr.open_dataset(\"../../data/processed/forcings.nc\")\n",
    "mod = torch.load(\"../../data/ml/ngaqua/model.1.torch\")\n",
    "\n",
    "phi_loc = phi.isel(x=0, y=8)\n",
    "g_loc = g.isel(x=0, y=8)"
   ]
  },
  {
   "cell_type": "markdown",
   "metadata": {},
   "source": [
    "# Slide 12"
   ]
  },
  {
   "cell_type": "markdown",
   "metadata": {},
   "source": [
    "This is the truth"
   ]
  },
  {
   "cell_type": "code",
   "execution_count": null,
   "metadata": {},
   "outputs": [],
   "source": [
    "prog_plot(phi_loc);"
   ]
  },
  {
   "cell_type": "markdown",
   "metadata": {},
   "source": [
    "This is the forcing"
   ]
  },
  {
   "cell_type": "code",
   "execution_count": null,
   "metadata": {},
   "outputs": [],
   "source": [
    "prog_plot(g_loc.assign(p=phi.p), autolevels=True);"
   ]
  },
  {
   "cell_type": "markdown",
   "metadata": {},
   "source": [
    "This is the unforced example. this shows the simulation has a stable RCE"
   ]
  },
  {
   "cell_type": "code",
   "execution_count": null,
   "metadata": {},
   "outputs": [],
   "source": [
    "pred_unforced = wrap(mod)(phi_loc, 0*g_loc).assign(p=phi.p)\n",
    "prog_plot(pred_unforced);"
   ]
  },
  {
   "cell_type": "code",
   "execution_count": null,
   "metadata": {},
   "outputs": [],
   "source": [
    "pred_forced = wrap(mod)(phi_loc, g_loc).assign(p=phi.p)\n",
    "prog_plot(pred_forced);"
   ]
  },
  {
   "cell_type": "code",
   "execution_count": null,
   "metadata": {},
   "outputs": [],
   "source": [
    "phi_loc"
   ]
  },
  {
   "cell_type": "markdown",
   "metadata": {},
   "source": [
    "# Precipitation"
   ]
  },
  {
   "cell_type": "code",
   "execution_count": null,
   "metadata": {},
   "outputs": [],
   "source": [
    "from lib.thermo import precip_from_ds, precip_from_dq, mse, mass_integrate"
   ]
  },
  {
   "cell_type": "code",
   "execution_count": null,
   "metadata": {},
   "outputs": [],
   "source": [
    "fields_2d = xr.open_dataset(\"../../data/raw/2/NG_5120x2560x34_4km_10s_QOBS_EQX/coarse/2d/all.nc\")\n",
    "fields_3d = xr.open_dataset(\"../../data/raw/2/NG_5120x2560x34_4km_10s_QOBS_EQX/coarse/3d/QRAD.nc\")\\\n",
    "              .drop('p')\n",
    "data = xr.merge((phi, fields_2d, fields_3d), join='inner')"
   ]
  },
  {
   "cell_type": "code",
   "execution_count": null,
   "metadata": {},
   "outputs": [],
   "source": [
    "phi = phi.transpose('time', 'x', 'y', 'z')"
   ]
  },
  {
   "cell_type": "code",
   "execution_count": null,
   "metadata": {},
   "outputs": [],
   "source": [
    "Q = wrap(mod.step.rhs)(phi)"
   ]
  },
  {
   "cell_type": "code",
   "execution_count": null,
   "metadata": {},
   "outputs": [],
   "source": [
    "prect = precip_from_ds(Q.sl, data.QRAD, data.SHF, data.p)\n",
    "precq = precip_from_dq(Q.qt, data.LHF, data.p)\n",
    "prec = xr.Dataset(dict(prect=prect, precq=precq, prec=data.Prec))"
   ]
  },
  {
   "cell_type": "code",
   "execution_count": null,
   "metadata": {},
   "outputs": [],
   "source": [
    "def loc_plot(prec):\n",
    "    plt.figure(figsize=(8, 4))\n",
    "    prec.prec.plot(label='Truth', c='k')\n",
    "    prec.prect.plot(label='Precip from Q1', c='b')\n",
    "    prec.precq.plot(label='Precip from Q2', c='g')\n",
    "    plt.ylabel('mm/day')\n",
    "    plt.legend()\n",
    "    plt.xlim([100,150])\n",
    "    \n",
    "loc_plot(prec.isel(x=0, y=8))"
   ]
  },
  {
   "cell_type": "markdown",
   "metadata": {},
   "source": [
    "Why does it looks like there is a diurnal cycle in the Q1 derived precipitation?"
   ]
  },
  {
   "cell_type": "code",
   "execution_count": null,
   "metadata": {},
   "outputs": [],
   "source": [
    "plt.figure(figsize=(6,3), dpi=120, facecolor='w')\n",
    "q1_vert_int = mass_integrate(phi.p, Q.sl) * 1004/2.5e6\n",
    "q1_vert_int.isel(x=0,y=8).plot(label=r'$\\langle Q_{1} \\rangle$')\n",
    "plt.legend()"
   ]
  },
  {
   "cell_type": "markdown",
   "metadata": {},
   "source": [
    "Because this mass weighted vertical intergral of $Q_1$ does not show this diurnal behaviour, this is clearly a function of the convective scheme not accurately capturing the diurnal cycle of precipitation correctly."
   ]
  },
  {
   "cell_type": "code",
   "execution_count": null,
   "metadata": {},
   "outputs": [],
   "source": [
    "%%output size=100\n",
    "%%opts Scatter(alpha=.25)\n",
    "\n",
    "def hmap_loc(prec):\n",
    "    hmap = hv.HoloMap({\n",
    "        'Prec from Q2': hv.Scatter((prec.precq, prec.prec)),\n",
    "        'Prec from Q1': hv.Scatter((prec.prect, prec.prec))\n",
    "    })\n",
    "    \n",
    "    return hmap\n",
    "\n",
    "hmap = hmap_loc(prec.isel(x=0, y=8))\n",
    "hmap.layout().cols(1).redim.label(x=\"Prediction\", y=\"Truth\")"
   ]
  },
  {
   "cell_type": "code",
   "execution_count": null,
   "metadata": {},
   "outputs": [],
   "source": [
    "prec.mean(['x', 'time']).to_dataframe().plot()"
   ]
  }
 ],
 "metadata": {
  "kernelspec": {
   "display_name": "Python 3",
   "language": "python",
   "name": "python3"
  },
  "language_info": {
   "codemirror_mode": {
    "name": "ipython",
    "version": 3
   },
   "file_extension": ".py",
   "mimetype": "text/x-python",
   "name": "python",
   "nbconvert_exporter": "python",
   "pygments_lexer": "ipython3",
   "version": "3.6.3"
  }
 },
 "nbformat": 4,
 "nbformat_minor": 2
}
