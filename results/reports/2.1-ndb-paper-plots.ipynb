{
 "cells": [
  {
   "cell_type": "code",
   "execution_count": null,
   "metadata": {},
   "outputs": [],
   "source": [
    "%matplotlib inline\n",
    "import matplotlib.pyplot as plt\n",
    "from lib.plots import load_data, climatology, single_column_initial_value"
   ]
  },
  {
   "cell_type": "markdown",
   "metadata": {},
   "source": [
    "I put the styling commands in the following few boxes"
   ]
  },
  {
   "cell_type": "code",
   "execution_count": null,
   "metadata": {},
   "outputs": [],
   "source": [
    "%%file paper.style\n",
    "\n",
    "image.cmap : viridis\n",
    "lines.linewidth : 1.0\n",
    "savefig.bbox : tight\n",
    "axes.labelsize      : 10\n",
    "\n",
    "xtick.labelsize : 8\n",
    "ytick.labelsize : 8"
   ]
  },
  {
   "cell_type": "code",
   "execution_count": null,
   "metadata": {},
   "outputs": [],
   "source": [
    "plt.style.use([\"default\", \"paper.style\"])\n",
    "width = 5.5\n",
    "dpi = 100\n",
    "# this magic needs to happen after I reset the rcParams\n",
    "plt.rc(\"figure\", dpi=dpi)"
   ]
  },
  {
   "cell_type": "markdown",
   "metadata": {},
   "source": [
    "Here, I load the data and select the testing region."
   ]
  },
  {
   "cell_type": "code",
   "execution_count": null,
   "metadata": {},
   "outputs": [],
   "source": [
    "ds = load_data()\n",
    "ds_test = ds.isel(x=slice(0,64))"
   ]
  },
  {
   "cell_type": "markdown",
   "metadata": {},
   "source": [
    "# Figure 6: Forced Single Column"
   ]
  },
  {
   "cell_type": "code",
   "execution_count": null,
   "metadata": {},
   "outputs": [],
   "source": [
    "\n",
    "def plot_t_vs_p(loc, axs, cax=None,\n",
    "    models = ('Truth', 'Neural Network', 'CAM'),\n",
    "    levels = np.arange(11)*2):\n",
    "    \n",
    "\n",
    "    for model, ax in zip(models, axs.flat):\n",
    "        val = loc.sel(model=model)\n",
    "        im = ax.contourf(val.time, val.p, val.T, levels=levels, extend='both')\n",
    "        \n",
    "        # add labels\n",
    "        plt.text(.04, .8, model, transform=ax.transAxes,\n",
    "                bbox=dict(color='white'), fontsize=8)\n",
    "\n",
    "#     axs[0].invert_yaxis()\n",
    "    \n",
    "    if cax is None:\n",
    "        cbar_kwargs = dict(ax=axs.tolist())\n",
    "    else:\n",
    "        cbar_kwargs = dict(cax=cax)\n",
    "    \n",
    "    plt.colorbar(im, orientation='vertical', pad=.01, **cbar_kwargs, )"
   ]
  },
  {
   "cell_type": "code",
   "execution_count": null,
   "metadata": {},
   "outputs": [],
   "source": [
    "loc = ds.isel(x=10, y=8)\n",
    "\n",
    "gridspec_kw = dict(hspace=0.05, )\n",
    "fig, axs = plt.subplots(6, 1, figsize=(width, 7), sharex=True, sharey=True,\n",
    "                        gridspec_kw=gridspec_kw)\n",
    "\n",
    "plt.tight_layout()\n",
    "plot_t_vs_p(loc.qt, axs[:3])\n",
    "plot_t_vs_p(loc.sl, axs[3:], levels=np.arange(11)*5 + 290)\n",
    "\n",
    "axs[0].invert_yaxis()\n",
    "\n",
    "\n",
    "plt.savefig(\"/Users/noah/Desktop/fig7.png\")\n",
    "fig.set_size_inches(width, 7)"
   ]
  },
  {
   "cell_type": "markdown",
   "metadata": {},
   "source": [
    "# Figure 7:  Equilibrium"
   ]
  },
  {
   "cell_type": "code",
   "execution_count": null,
   "metadata": {},
   "outputs": [],
   "source": [
    "climatology.plot(ds_test, width=width)\n",
    "plt.savefig(\"/Users/noah/Desktop/fig7.pdf\")"
   ]
  }
 ],
 "metadata": {
  "kernelspec": {
   "display_name": "Python 3",
   "language": "python",
   "name": "python3"
  },
  "language_info": {
   "codemirror_mode": {
    "name": "ipython",
    "version": 3
   },
   "file_extension": ".py",
   "mimetype": "text/x-python",
   "name": "python",
   "nbconvert_exporter": "python",
   "pygments_lexer": "ipython3",
   "version": "3.6.3"
  },
  "toc": {
   "nav_menu": {},
   "number_sections": true,
   "sideBar": true,
   "skip_h1_title": false,
   "title_cell": "Table of Contents",
   "title_sidebar": "Contents",
   "toc_cell": false,
   "toc_position": {},
   "toc_section_display": true,
   "toc_window_display": false
  },
  "varInspector": {
   "cols": {
    "lenName": 16,
    "lenType": 16,
    "lenVar": 40
   },
   "kernels_config": {
    "python": {
     "delete_cmd_postfix": "",
     "delete_cmd_prefix": "del ",
     "library": "var_list.py",
     "varRefreshCmd": "print(var_dic_list())"
    },
    "r": {
     "delete_cmd_postfix": ") ",
     "delete_cmd_prefix": "rm(",
     "library": "var_list.r",
     "varRefreshCmd": "cat(var_dic_list()) "
    }
   },
   "types_to_exclude": [
    "module",
    "function",
    "builtin_function_or_method",
    "instance",
    "_Feature"
   ],
   "window_display": false
  }
 },
 "nbformat": 4,
 "nbformat_minor": 2
}
