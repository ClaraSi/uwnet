{
 "cells": [
  {
   "cell_type": "code",
   "execution_count": null,
   "metadata": {},
   "outputs": [],
   "source": [
    "%matplotlib inline\n",
    "import matplotlib.pyplot as plt\n",
    "from lib.plots import load_data, climatology, single_column_initial_value\n",
    "\n",
    "import seaborn as sns\n",
    "\n",
    "\n",
    "width = 5.5\n",
    "dpi = 100\n",
    "\n",
    "sns.set_context(\"paper\")\n",
    "sns.set_style(\"white\", {\n",
    "    'figure.figsize' : (5.51, 5.51/1.61),\n",
    "    'figure.dpi': 100,\n",
    "    'image.cmap': 'viridis',\n",
    "    'xtick.major.size': 3.5,\n",
    "    'xtick.major.size': 3.5,\n",
    "    'xtick.minor.size' : 1.75,\n",
    "    'xtick.minor.visible' : True,\n",
    "    'ytick.major.size': 3.5,\n",
    "})\n"
   ]
  },
  {
   "cell_type": "markdown",
   "metadata": {},
   "source": [
    "I put the styling commands in the following few boxes"
   ]
  },
  {
   "cell_type": "code",
   "execution_count": null,
   "metadata": {},
   "outputs": [],
   "source": [
    "%%file paper.style\n",
    "\n",
    "image.cmap : viridis\n",
    "lines.linewidth : 1.0\n",
    "savefig.bbox : tight\n",
    "axes.labelsize      : small\n",
    "\n",
    "xtick.labelsize : x-small\n",
    "ytick.labelsize : x-small"
   ]
  },
  {
   "cell_type": "code",
   "execution_count": null,
   "metadata": {},
   "outputs": [],
   "source": [
    "# plt.style.use([\"default\", \"paper.style\"])\n",
    "width = 5.5\n",
    "dpi = 100\n",
    "# this magic needs to happen after I reset the rcParams\n",
    "plt.rc(\"figure\", dpi=150)"
   ]
  },
  {
   "cell_type": "markdown",
   "metadata": {},
   "source": [
    "Here, I load the data and select the testing region."
   ]
  },
  {
   "cell_type": "code",
   "execution_count": null,
   "metadata": {},
   "outputs": [],
   "source": [
    "ds = load_data()\n",
    "ds_test = ds.isel(x=slice(0,64))"
   ]
  },
  {
   "cell_type": "markdown",
   "metadata": {},
   "source": [
    "# Figure 6: Forced Single Column"
   ]
  },
  {
   "cell_type": "code",
   "execution_count": null,
   "metadata": {},
   "outputs": [],
   "source": [
    "import holoviews as hv\n",
    "from holoviews.operation import contours\n",
    "hv.extension('matplotlib')"
   ]
  },
  {
   "cell_type": "code",
   "execution_count": null,
   "metadata": {},
   "outputs": [],
   "source": [
    "\n",
    "def plot_t_vs_p(loc, axs, cax=None,\n",
    "    models = ('Truth', 'Neural Network', 'CAM'),\n",
    "    levels = np.arange(11)*2, text_kwargs=dict(),\n",
    "             **kwargs,):\n",
    "    \n",
    "\n",
    "    for model, ax in zip(models, axs):\n",
    "        val = loc.sel(model=model)\n",
    "        im = ax.contourf(val.time, val.p, val.T, levels=levels, **kwargs)\n",
    "        ax.contour(val.time, val.p, val.T, levels=levels, linewidths=.1, **kwargs)\n",
    "    \n",
    "        # add labels\n",
    "        plt.text(.04, .8, model, transform=ax.transAxes, fontsize=10, **text_kwargs)\n",
    "\n",
    "#     axs[0].invert_yaxis()\n",
    "\n",
    "\n",
    "#     plt.colorbar(im, orientation='vertical', pad=.01, **cbar_kwargs, )\n",
    "    \n",
    "    return im"
   ]
  },
  {
   "cell_type": "code",
   "execution_count": null,
   "metadata": {},
   "outputs": [],
   "source": [
    "loc = ds.isel(x=10, y=8)\n",
    "\n",
    "from matplotlib import gridspec\n",
    "\n",
    "\n",
    "fig = plt.figure(figsize=(width, 6))\n",
    "gs = gridspec.GridSpec(7, 2, width_ratios=(.95, .03),\n",
    "                      height_ratios=[1]*7,\n",
    "                       wspace=.05,\n",
    "                      hspace=.1,\n",
    "                      bottom=.07, top=.99)\n",
    "\n",
    "# precip\n",
    "axp = fig.add_subplot(gs[0, 0])\n",
    "colors = {'Truth': 'k', 'CAM': 'g', 'Neural Network': 'b'}\n",
    "for model, value in loc.groupby('model'):\n",
    "    axp.plot(value.time, value.prec.squeeze(), label='model',\n",
    "            linewidth=1.0, c=colors[model], alpha=.5)\n",
    "    \n",
    "for spine in set(axp.spines):\n",
    "    axp.spines[spine].set_color('none')\n",
    "axp.xaxis.set_visible(False)\n",
    "axp.set_yticks([0, 50, 100])\n",
    "axp.set_ylabel(\"mm/day\")\n",
    "axp.grid(axis='y')\n",
    "axp.text(100, 110, 'Precipitation')\n",
    "axp.set_xlim([ds.time.min(), ds.time.max()])\n",
    "\n",
    "# humidity\n",
    "axsq = [fig.add_subplot(gs[i, 0], sharex=axp) for i in range(1,4)]\n",
    "imq = plot_t_vs_p(loc.qt, axsq, extend='min', text_kwargs={'color': 'white'})\n",
    "cb = fig.colorbar(imq, cax=fig.add_subplot(gs[1:4, 1]))\n",
    "cb.set_label(r\"$q_T$ (g/kg)\")\n",
    "\n",
    "# temperature\n",
    "axst = [fig.add_subplot(gs[i, 0], sharex=axp) for i in range(4,7)]\n",
    "plot_t_vs_p(loc.sl, axst, extend='max', levels=np.arange(11)*5 + 290)\n",
    "cb = fig.colorbar(imq, cax=fig.add_subplot(gs[4:, 1]))\n",
    "cb.set_label(r\"$s_L$ (K)\")\n",
    "\n",
    "\n",
    "# fix axes\n",
    "for ax in axsq + axst:\n",
    "    ax.set_ylabel('p (hPa)')\n",
    "    ax.set_yticks([1000, 750, 500, 250])\n",
    "    ax.set_ylim([1000, 0])\n",
    "    \n",
    "#     ax.set_xticklabels([1])\n",
    "    \n",
    "axp.set_xlim([100.625, 160])\n",
    "axp.set_xticks(np.r_[105:160:5])\n",
    "\n",
    "axst[-1].set_xlabel(\"time (days)\")\n",
    "\n",
    "plt.savefig(\"/Users/noah/Dropbox/fig6.pdf\", bbox='tight')"
   ]
  },
  {
   "cell_type": "markdown",
   "metadata": {},
   "source": [
    "# Figure 7:  Equilibrium"
   ]
  },
  {
   "cell_type": "code",
   "execution_count": null,
   "metadata": {},
   "outputs": [],
   "source": [
    "with plt.rc_context({'axes.titlepad': 8.0}):\n",
    "    climatology.plot(ds_test, width=width)\n",
    "    plt.savefig(\"/Users/noah/Dropbox/fig7.pdf\")"
   ]
  }
 ],
 "metadata": {
  "kernelspec": {
   "display_name": "Python 3",
   "language": "python",
   "name": "python3"
  },
  "language_info": {
   "codemirror_mode": {
    "name": "ipython",
    "version": 3
   },
   "file_extension": ".py",
   "mimetype": "text/x-python",
   "name": "python",
   "nbconvert_exporter": "python",
   "pygments_lexer": "ipython3",
   "version": "3.6.3"
  },
  "toc": {
   "nav_menu": {},
   "number_sections": true,
   "sideBar": true,
   "skip_h1_title": false,
   "title_cell": "Table of Contents",
   "title_sidebar": "Contents",
   "toc_cell": false,
   "toc_position": {},
   "toc_section_display": true,
   "toc_window_display": false
  },
  "varInspector": {
   "cols": {
    "lenName": 16,
    "lenType": 16,
    "lenVar": 40
   },
   "kernels_config": {
    "python": {
     "delete_cmd_postfix": "",
     "delete_cmd_prefix": "del ",
     "library": "var_list.py",
     "varRefreshCmd": "print(var_dic_list())"
    },
    "r": {
     "delete_cmd_postfix": ") ",
     "delete_cmd_prefix": "rm(",
     "library": "var_list.r",
     "varRefreshCmd": "cat(var_dic_list()) "
    }
   },
   "types_to_exclude": [
    "module",
    "function",
    "builtin_function_or_method",
    "instance",
    "_Feature"
   ],
   "window_display": false
  }
 },
 "nbformat": 4,
 "nbformat_minor": 2
}
