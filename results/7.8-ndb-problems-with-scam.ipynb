{
 "cells": [
  {
   "cell_type": "code",
   "execution_count": null,
   "metadata": {},
   "outputs": [],
   "source": [
    "%matplotlib inline"
   ]
  },
  {
   "cell_type": "markdown",
   "metadata": {},
   "source": [
    "I have been trying to make SCAM give reasonable results with the forcings from NGAqua, but I have not had much success. I configure the SCAM model by calling \n",
    "\n",
    "```\n",
    "$camcfg/configure -scam  -nlev 30 -fc gfortran \\\n",
    "   -nospmd -nospm -dyn eul \\\n",
    "   -res 1x1 -fflags '-fbacktrace -fcheck=all' \\\n",
    "   -chem none -ocn aquaplanet\n",
    "```\n",
    "\n",
    "I am providing the model data using the Intensive Observation Period (IOP) netCDF format described [here](http://www.cesm.ucar.edu/models/atm-cam/docs/scam/)."
   ]
  },
  {
   "cell_type": "markdown",
   "metadata": {},
   "source": [
    "# CAM Included datasets\n",
    "\n",
    "I first test the performance of the SCAM on some of the sample IOP datasets included with CAM."
   ]
  },
  {
   "cell_type": "code",
   "execution_count": null,
   "metadata": {},
   "outputs": [],
   "source": [
    "from xnoah import centderiv, integrate, swap_coord\n",
    "from lib.cam import load_cam\n",
    "from lib.thermo import mass_integrate\n",
    "\n",
    "import glob, re\n",
    "\n",
    "\n",
    "def decode_date(units):\n",
    "    match = re.search(r\"(\\w+) since (\\d\\d+)-(\\d\\d)-(\\d\\d) (\\d\\d:\\d\\d:\\d\\d)\",\n",
    "                      units)\n",
    "    \n",
    "    unit = match.group(1)\n",
    "    y = match.group(2)\n",
    "    \n",
    "    if len(y) == 2:\n",
    "        y = '19' + y\n",
    "    elif y[:2] == '00':\n",
    "        y = '19' + y[2:]\n",
    "    m = match.group(3)\n",
    "    d = match.group(4)\n",
    "    time =match.group(5)\n",
    "    \n",
    "    return f\"{unit} since {y}-{m}-{d} {time}\"\n",
    "    \n",
    "\n",
    "def load_cam(files):\n",
    "    if isinstance(files, str):\n",
    "        files = glob.glob(files)\n",
    "    # load data\n",
    "\n",
    "    ds = xr.auto_combine([xr.open_dataset(f, decode_times=False)\n",
    "                          for f in files[:-1]], concat_dim='time')\\\n",
    "           .sortby('time')\n",
    "    ds.time.attrs['units'] = decode_date(ds.time.units)\n",
    "    ds = xr.decode_cf(ds)\n",
    "    return ds\n",
    "\n",
    "decode_date('days since 0069-06-25 00:00:00')\n"
   ]
  },
  {
   "cell_type": "markdown",
   "metadata": {},
   "source": [
    "In this section, I plot the difference between humidity from SCAM, and the observed humidity."
   ]
  },
  {
   "cell_type": "markdown",
   "metadata": {},
   "source": [
    "## BOMEX"
   ]
  },
  {
   "cell_type": "code",
   "execution_count": null,
   "metadata": {},
   "outputs": [],
   "source": [
    "bomex = load_cam(\"../ext/scam/run/bomex/camrun.cam.h0.*.nc\")\n",
    "bomex['QDIFF'].squeeze().T.plot.contourf()\n",
    "plt.xticks(rotation=30)\n",
    "plt.gca().invert_yaxis()"
   ]
  },
  {
   "cell_type": "markdown",
   "metadata": {},
   "source": [
    "Why does the model dry out soo much!"
   ]
  },
  {
   "cell_type": "markdown",
   "metadata": {},
   "source": [
    "## TWP"
   ]
  },
  {
   "cell_type": "code",
   "execution_count": null,
   "metadata": {},
   "outputs": [],
   "source": [
    "twp = load_cam(\"../ext/scam/run/twp/camrun.cam.h0.*.nc\")\n",
    "twp['QDIFF'].squeeze().T.plot.contourf()\n",
    "plt.xticks(rotation=45)\n",
    "plt.gca().invert_yaxis()"
   ]
  },
  {
   "cell_type": "markdown",
   "metadata": {},
   "source": [
    "In both the BOMEX and TWP cases, SCAM completely dries out the lower troposphere. After only 5 days in both cases there is nearly a -10 g/kg error in humidity below 800 hPa.\n",
    "\n",
    "If we look at the time series of precipitable water (PW), we see a similar trend."
   ]
  },
  {
   "cell_type": "code",
   "execution_count": null,
   "metadata": {},
   "outputs": [],
   "source": [
    "PW = integrate(twp['Q'], 'lev')*100/9.81\n",
    "PW.plot(label='CAM')\n",
    "\n",
    "PW1 = integrate(twp.Q - twp.QDIFF, 'lev')*100/9.81\n",
    "PW1.plot(label='observed')\n",
    "plt.legend()"
   ]
  },
  {
   "cell_type": "markdown",
   "metadata": {},
   "source": [
    "The surface temperature substantially decrease in this simulation. Why does this happen?"
   ]
  },
  {
   "cell_type": "code",
   "execution_count": null,
   "metadata": {},
   "outputs": [],
   "source": [
    "twp['T'].isel(lev=-1).plot()\n",
    "(twp['T']-twp.TDIFF).isel(lev=-1).plot()"
   ]
  },
  {
   "cell_type": "markdown",
   "metadata": {},
   "source": [
    "This huge drop in temperature does not make sense. The sum of horizontal and vertical advection tedencies is positive there."
   ]
  },
  {
   "cell_type": "markdown",
   "metadata": {},
   "source": [
    "# Moisture budget\n",
    "\n",
    "Why is this drying occuring? Let's look at the forcing file to find out."
   ]
  },
  {
   "cell_type": "code",
   "execution_count": null,
   "metadata": {},
   "outputs": [],
   "source": [
    "iop = xr.open_dataset(\"../ext/scam/run/twp/TWP06_4scam.nc\")\n",
    "iop = swap_coord(iop, {'time': 'tsec'})"
   ]
  },
  {
   "cell_type": "code",
   "execution_count": null,
   "metadata": {},
   "outputs": [],
   "source": [
    "prec = iop.Prec*86400\n",
    "evap = iop.lhflx*86400/2.51e6\n",
    "integrated_adv = integrate(iop.divq+iop.vertdivq, 'lev')/9.81*86400\n",
    "\n",
    "def time_mean(x):\n",
    "    return integrate(x, 'tsec')/(x.tsec[-1] - x.tsec[0])\n",
    "\n",
    "adv_time_mean = float(time_mean(integrated_adv))\n",
    "prec_time_mean = float(time_mean(prec))\n",
    "evap_time_mean = float(time_mean(evap))"
   ]
  },
  {
   "cell_type": "markdown",
   "metadata": {},
   "source": [
    "Here are these quantities in mm/day."
   ]
  },
  {
   "cell_type": "code",
   "execution_count": null,
   "metadata": {},
   "outputs": [],
   "source": [
    "adv_time_mean, prec_time_mean, evap_time_mean"
   ]
  },
  {
   "cell_type": "markdown",
   "metadata": {},
   "source": [
    "As we can see these terms approximately balance. The imbalance is only around .5 mm/day, which cannot possible explain the huge drop in PW seen in the single column model run."
   ]
  },
  {
   "cell_type": "code",
   "execution_count": null,
   "metadata": {},
   "outputs": [],
   "source": [
    "cam_prec =(twp.PRECC + twp.PRECL)*1000*86400\n",
    "cam_prec.plot()"
   ]
  },
  {
   "cell_type": "code",
   "execution_count": null,
   "metadata": {},
   "outputs": [],
   "source": [
    "(iop.Prec*86400).plot()"
   ]
  },
  {
   "cell_type": "markdown",
   "metadata": {},
   "source": [
    "We can see CAMs precipitation matches the observed precip fairly well. After looking at CAM, I am pretty sure that it is not adding the vertical moisture advection terms."
   ]
  },
  {
   "cell_type": "code",
   "execution_count": null,
   "metadata": {},
   "outputs": [],
   "source": [
    "divq3d_int = integrate(twp.DIVQ3D, 'lev')*100/9.81 *86400\n",
    "divq3d_int.mean('time')"
   ]
  },
  {
   "cell_type": "markdown",
   "metadata": {},
   "source": [
    "It seems like the right variable is in there, but there is probably not any advection actually happening in the model."
   ]
  },
  {
   "cell_type": "code",
   "execution_count": null,
   "metadata": {},
   "outputs": [],
   "source": [
    "twp.DCQ.plot()"
   ]
  },
  {
   "cell_type": "markdown",
   "metadata": {},
   "source": [
    "# NGAQUA\n",
    "\n",
    "I realizse that I need to include the adiabatic term in divT."
   ]
  },
  {
   "cell_type": "code",
   "execution_count": null,
   "metadata": {},
   "outputs": [],
   "source": [
    "iop = xr.open_dataset(\"../data/processed/iop/0-8/iop.nc\")\n",
    "ngaqua = xr.open_dataset(\"../data/processed/iop/0-8/cam.nc\")"
   ]
  },
  {
   "cell_type": "code",
   "execution_count": null,
   "metadata": {},
   "outputs": [],
   "source": [
    "(ngaqua.PRECC*86400*1000).plot()"
   ]
  },
  {
   "cell_type": "code",
   "execution_count": null,
   "metadata": {},
   "outputs": [],
   "source": [
    "(integrate(ngaqua.DIVQ3D, 'lev')/9.81 * 86400*100).plot()"
   ]
  },
  {
   "cell_type": "code",
   "execution_count": null,
   "metadata": {},
   "outputs": [],
   "source": [
    "(integrate(iop.Q_dten, 'lev')/9.81 * 86400).mean('tsec')"
   ]
  },
  {
   "cell_type": "code",
   "execution_count": null,
   "metadata": {},
   "outputs": [],
   "source": [
    "ngaqua['Q'].T.squeeze().plot.contourf(levels=np.arange(11)*.002)\n",
    "plt.gca().invert_yaxis()\n",
    "plt.xticks(rotation=30)"
   ]
  },
  {
   "cell_type": "code",
   "execution_count": null,
   "metadata": {},
   "outputs": [],
   "source": [
    "iop['q'].T.squeeze().plot.contourf(levels=np.arange(11)*.002)\n",
    "plt.gca().invert_yaxis()"
   ]
  }
 ],
 "metadata": {
  "kernelspec": {
   "display_name": "Python 3",
   "language": "python",
   "name": "python3"
  },
  "language_info": {
   "codemirror_mode": {
    "name": "ipython",
    "version": 3
   },
   "file_extension": ".py",
   "mimetype": "text/x-python",
   "name": "python",
   "nbconvert_exporter": "python",
   "pygments_lexer": "ipython3",
   "version": "3.6.3"
  }
 },
 "nbformat": 4,
 "nbformat_minor": 2
}
