{
 "cells": [
  {
   "cell_type": "code",
   "execution_count": null,
   "metadata": {},
   "outputs": [],
   "source": [
    "%pylab inline"
   ]
  },
  {
   "cell_type": "code",
   "execution_count": null,
   "metadata": {},
   "outputs": [],
   "source": [
    "import scipy.stats as ss\n",
    "import xarray as xr\n",
    "from gnl.plots import loghist"
   ]
  },
  {
   "cell_type": "code",
   "execution_count": null,
   "metadata": {},
   "outputs": [],
   "source": [
    "Prec = xr.open_dataarray(\"../2017-08-12/wd/A64/2d/Prec.nc\")"
   ]
  },
  {
   "cell_type": "markdown",
   "metadata": {},
   "source": [
    "# Normalzing precipitation\n",
    "\n",
    "A standard way to normalize positive non-gaussian distributions is using the so-called Box-Cox transform, but there are many fancier ways to do this."
   ]
  },
  {
   "cell_type": "code",
   "execution_count": null,
   "metadata": {},
   "outputs": [],
   "source": [
    "y = Prec.values[Prec.values>.005]"
   ]
  },
  {
   "cell_type": "code",
   "execution_count": null,
   "metadata": {},
   "outputs": [],
   "source": [
    "loghist(y)\n",
    "ylim([-10,0])"
   ]
  },
  {
   "cell_type": "code",
   "execution_count": null,
   "metadata": {},
   "outputs": [],
   "source": [
    "yt,_ = ss.boxcox(y)"
   ]
  },
  {
   "cell_type": "code",
   "execution_count": null,
   "metadata": {},
   "outputs": [],
   "source": [
    "plt.plot(np.random.choice(yt, 1000),'.')"
   ]
  },
  {
   "cell_type": "markdown",
   "metadata": {},
   "source": [
    "The box-cox transformation does a pretty good job for the strictly postive precipitation values."
   ]
  },
  {
   "cell_type": "code",
   "execution_count": null,
   "metadata": {},
   "outputs": [],
   "source": [
    "y = Prec.values.ravel()"
   ]
  },
  {
   "cell_type": "code",
   "execution_count": null,
   "metadata": {},
   "outputs": [],
   "source": [
    "import autograd.numpy as np\n",
    "from autograd import grad"
   ]
  },
  {
   "cell_type": "code",
   "execution_count": null,
   "metadata": {},
   "outputs": [],
   "source": [
    "def f(y, theta):\n",
    "    \n",
    "    if abs(theta) < 1e-5:\n",
    "        return y\n",
    "    else:\n",
    "        return np.arcsinh(theta*y)/theta\n",
    "\n",
    "def f(y, theta):\n",
    "    \n",
    "    if theta ==0:\n",
    "        return np.log(y)\n",
    "    else:\n",
    "        return (y**theta - 1)/theta\n",
    "    \n",
    "\n",
    "\n",
    "def negloglikelihood(theta, y=y):\n",
    "    ft = f(y, theta)\n",
    " \n",
    "    val = - .5 * np.log(ft.dot(ft-ft.mean())) \\\n",
    "          - .5 * np.mean(theta * np.log(y))\n",
    "        \n",
    "    return -val\n",
    "\n",
    "\n",
    "class BoxCox(object):\n",
    "    def fit(self, y):\n",
    "        yg = np.linspace(-1,1, 100)\n",
    "        \n",
    "        tht = np.r_[-1:0:50j]\n",
    "        ftht = [negloglikelihood(x, y[y>.01]) for x in tht]\n",
    "\n",
    "        ls = tht[np.argmin(ftht)]\n",
    "        \n",
    "        self.optim_ = ls\n",
    "        \n",
    "    def transform(self, y):\n",
    "        return self._f(y, self.optim_)\n",
    "        \n",
    "    \n",
    "    def _f(self, y, theta):\n",
    "        if theta ==0:\n",
    "            return np.log(y)\n",
    "        else:\n",
    "            return (y**theta - 1)/theta\n",
    "    \n",
    "\n",
    "    def _neglog(self, y, theta):\n",
    "        ft = self._f(y, theta)\n",
    "        val = - .5 * np.log(ft.dot(ft-ft.mean())) \\\n",
    "              - .5 * np.mean(theta * np.log(y))\n",
    "            \n",
    "        return val\n",
    "\n",
    "\n",
    "\n",
    "class Asinh(object):\n",
    "    def fit(self, y):\n",
    "        tht = np.linspace(.001, 20.0, 100)\n",
    "        \n",
    "        ftht = [negloglikelihood(x, y[y>.01]) for x in tht]\n",
    "\n",
    "        ls = tht[np.argmin(ftht)]\n",
    "        \n",
    "        self.optim_ = ls\n",
    "        \n",
    "    def transform(self, y):\n",
    "        return self._f(y, self.optim_)\n",
    "        \n",
    "    \n",
    "    def _f(self, y, theta):\n",
    "        if abs(theta) < 1e-5:\n",
    "            return y\n",
    "        else:\n",
    "            return np.arcsinh(theta*y)/theta\n",
    "\n",
    "    def _neglog(self, y, theta):\n",
    "        ft = self._f(y, theta)\n",
    "        val = - .5 * np.log(ft.dot(ft-ft.mean())) \\\n",
    "              - .5 * np.mean(np.log(1+(theta*y)**2))\n",
    "            \n",
    "        return val"
   ]
  },
  {
   "cell_type": "code",
   "execution_count": null,
   "metadata": {},
   "outputs": [],
   "source": [
    "mod = BoxCox()\n",
    "\n",
    "mod.fit(y[y>.001])\n",
    "yt = mod.transform(y[y>.001])\n",
    "plt.plot(np.random.choice(yt, 1000), '.')"
   ]
  },
  {
   "cell_type": "code",
   "execution_count": null,
   "metadata": {},
   "outputs": [],
   "source": [
    "loghist(yt)"
   ]
  },
  {
   "cell_type": "markdown",
   "metadata": {},
   "source": [
    "This is using the inverse sinh transform"
   ]
  },
  {
   "cell_type": "code",
   "execution_count": null,
   "metadata": {},
   "outputs": [],
   "source": [
    "mod = Asinh()\n",
    "\n",
    "mod.fit(y[y>.001])\n",
    "yt = mod.transform(y[y>.001])\n",
    "plt.plot(np.random.choice(yt, 1000), '.')"
   ]
  },
  {
   "cell_type": "markdown",
   "metadata": {},
   "source": [
    "It seems that the BoxCox transform performs the best for the nonzero precipitation values, but the Asinh transform will probably work well for Q1 and Q2."
   ]
  }
 ],
 "metadata": {
  "kernelspec": {
   "display_name": "Python 3",
   "language": "python",
   "name": "python3"
  },
  "language_info": {
   "codemirror_mode": {
    "name": "ipython",
    "version": 3
   },
   "file_extension": ".py",
   "mimetype": "text/x-python",
   "name": "python",
   "nbconvert_exporter": "python",
   "pygments_lexer": "ipython3",
   "version": "3.6.1"
  }
 },
 "nbformat": 4,
 "nbformat_minor": 2
}
