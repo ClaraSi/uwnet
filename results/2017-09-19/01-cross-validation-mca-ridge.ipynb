{
 "cells": [
  {
   "cell_type": "code",
   "execution_count": null,
   "metadata": {},
   "outputs": [],
   "source": [
    "%pylab inline\n",
    "import seaborn as sns\n",
    "sns.set_palette(\"colorblind\")"
   ]
  },
  {
   "cell_type": "code",
   "execution_count": null,
   "metadata": {},
   "outputs": [],
   "source": [
    "from io import StringIO\n",
    "import pandas as pd\n",
    "import json"
   ]
  },
  {
   "cell_type": "code",
   "execution_count": null,
   "metadata": {},
   "outputs": [],
   "source": [
    "def get_df(param_key, filename):\n",
    "\n",
    "\n",
    "    jq_cmd = \"\"\"[\"total\", \"q1\", \"q2\"] as $score_keys |\n",
    "    [.[] | .train_scores as $train |\n",
    "       (.test_scores | to_entries[] | {\"score_key\": $score_keys[.key], \"test_score\": .value, \"train_score\": $train[.key]})\n",
    "        + {\"param\": .params.%s}]\n",
    "    \"\"\"%param_key\n",
    "\n",
    "    data = !jq '{jq_cmd}' {filename}\n",
    "    \n",
    "    \n",
    "    return pd.read_json(''.join(data))\n",
    "\n",
    "\n",
    "def plot_cv(df, xlabel=r\"$\\alpha$\", plotter=plt.semilogx):\n",
    "    fg = sns.FacetGrid(df.reset_index(), hue=\"score_key\", aspect=1.5, size=4, legend_out=False)\n",
    "    fg.map(plotter, \"param\", \"test_score\")\n",
    "    fg.map(plotter, \"param\", \"train_score\", ls='--')\n",
    "\n",
    "    fg.add_legend()\n",
    "    plt.ylabel(r'$R^2$')\n",
    "    "
   ]
  },
  {
   "cell_type": "code",
   "execution_count": null,
   "metadata": {},
   "outputs": [],
   "source": [
    "cv_ridge = get_df(\"ridge__alpha\", \"cv/ridge/cv.json\")\n",
    "cv_mca = get_df(\"mca__n_components\", \"cv/mca/cv.json\")\n",
    "cv_pcr = get_df(\"pca__n_components\", \"cv/pcr/cv.json\")\n",
    "\n",
    "cv = pd.concat({\"pcr\":cv_pcr, \"mca\":cv_mca, \"ridge\": cv_ridge},\n",
    "               names=[\"model\"])\\\n",
    "        .reset_index()\\\n",
    "        .set_index([\"model\", \"score_key\"])\\\n",
    "        .drop('level_1', axis=1)"
   ]
  },
  {
   "cell_type": "markdown",
   "metadata": {},
   "source": [
    "Ridge regression performance"
   ]
  },
  {
   "cell_type": "code",
   "execution_count": null,
   "metadata": {},
   "outputs": [],
   "source": [
    "plot_cv(cv.loc[\"ridge\"])\n",
    "plt.title(\"\"\"Cross Validation performance of Ridge Regression\n",
    "test (-), train(--)\n",
    "\"\"\")\n",
    "plt.xlabel(r\"$\\alpha$\")"
   ]
  },
  {
   "cell_type": "markdown",
   "metadata": {},
   "source": [
    "MCA performance"
   ]
  },
  {
   "cell_type": "code",
   "execution_count": null,
   "metadata": {},
   "outputs": [],
   "source": [
    "plot_cv(cv.loc[\"mca\"], plotter=plt.plot)\n",
    "plt.title(\"\"\"Cross Validation performance of MCA Regression\n",
    "test (-), train(--)\n",
    "\"\"\")\n",
    "plt.xlabel(r\"number of modes retained\")"
   ]
  },
  {
   "cell_type": "markdown",
   "metadata": {},
   "source": [
    "The performance on the test dataset rapidly declines for a large number of modes. Both models have a best case total performance of around $R^2 = .15$"
   ]
  },
  {
   "cell_type": "markdown",
   "metadata": {},
   "source": [
    "PCR Performance"
   ]
  },
  {
   "cell_type": "code",
   "execution_count": null,
   "metadata": {},
   "outputs": [],
   "source": [
    "plot_cv(cv.loc[\"pcr\"], plotter=plt.plot)\n",
    "plt.title(\"\"\"Cross Validation performance of MCA Regression\n",
    "test (-), train(--)\n",
    "\"\"\")\n",
    "plt.xlabel(r\"number of modes retained\")"
   ]
  },
  {
   "cell_type": "markdown",
   "metadata": {},
   "source": [
    "PCR peforms similary to MCA, but with slightly worse statistics."
   ]
  },
  {
   "cell_type": "markdown",
   "metadata": {},
   "source": [
    "Now let's make a table comparing our cross validation options"
   ]
  },
  {
   "cell_type": "code",
   "execution_count": null,
   "metadata": {},
   "outputs": [],
   "source": [
    "def get_best_cv(cv):\n",
    "\n",
    "\n",
    "    def best(df):\n",
    "        dfr = df.set_index(\"param\")\n",
    "        idx = dfr.loc[dfr.score_key == \"total\"].test_score.argmax()\n",
    "        return dfr.loc[idx].reset_index()\n",
    "\n",
    "    return (cv.reset_index()\n",
    "             .groupby(\"model\")\n",
    "             .apply(best)\n",
    "             .set_index([\"model\", \"param\", \"score_key\"])\n",
    "             .unstack(level=2))\n",
    "best_df = get_best_cv(cv)\n",
    "best_df"
   ]
  },
  {
   "cell_type": "markdown",
   "metadata": {},
   "source": [
    "As you can see the ridge regression significantly outperforms the decomposition based approaches, but the $R^2$ is low for all options."
   ]
  }
 ],
 "metadata": {
  "kernelspec": {
   "display_name": "Python 3",
   "language": "python",
   "name": "python3"
  },
  "language_info": {
   "codemirror_mode": {
    "name": "ipython",
    "version": 3
   },
   "file_extension": ".py",
   "mimetype": "text/x-python",
   "name": "python",
   "nbconvert_exporter": "python",
   "pygments_lexer": "ipython3",
   "version": "3.6.1"
  }
 },
 "nbformat": 4,
 "nbformat_minor": 2
}
