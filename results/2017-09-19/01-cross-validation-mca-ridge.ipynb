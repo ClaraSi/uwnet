{
 "cells": [
  {
   "cell_type": "code",
   "execution_count": null,
   "metadata": {},
   "outputs": [],
   "source": [
    "%pylab inline\n",
    "import seaborn as sns\n",
    "sns.set_palette(\"colorblind\")\n",
    "sns.set_style(\"darkgrid\")"
   ]
  },
  {
   "cell_type": "code",
   "execution_count": null,
   "metadata": {},
   "outputs": [],
   "source": [
    "from io import StringIO\n",
    "import pandas as pd\n",
    "import json"
   ]
  },
  {
   "cell_type": "code",
   "execution_count": null,
   "metadata": {},
   "outputs": [],
   "source": [
    "def read_cv(file, param=None):\n",
    "    cv = json.load(open(file))\n",
    "    def parse_cv(cv):\n",
    "        for item in cv:\n",
    "            params = item['params']\n",
    "            for key in item['test_scores']:\n",
    "                yield (key, 'test', params[param], item['test_scores'][key])\n",
    "                yield (key, 'train', params[param], item['train_scores'][key])\n",
    "                \n",
    "    df = pd.DataFrame(parse_cv(cv), columns='variable score_type param value'.split(' '))\n",
    "    \n",
    "    dplot =df.set_index(['score_type', 'variable', 'param']).unstack(level=[0])\n",
    "    dplot.columns = dplot.columns.get_level_values(1)\n",
    "    \n",
    "    return dplot\n",
    "    \n",
    "    \n",
    "def plot_cv(df, xlabel=r\"$\\alpha$\", plotter=plt.semilogx):\n",
    "    \n",
    "#     cv.set_index([\"model\", \"score_type\", \"param\", \"variable\"]).unstack(1)\n",
    "    fg = sns.FacetGrid(df.reset_index(), hue=\"variable\", aspect=1.5, size=4, legend_out=False)\n",
    "    fg.map(plotter, \"param\", \"test\")\n",
    "    fg.map(plotter, \"param\", \"train\", ls='--')\n",
    "\n",
    "    fg.add_legend()\n",
    "    plt.ylabel(r'$R^2$')\n",
    "    "
   ]
  },
  {
   "cell_type": "code",
   "execution_count": null,
   "metadata": {},
   "outputs": [],
   "source": [
    "cv_ridge = read_cv(\"cv/ridge/cv.json\", \"ridge__alpha\")\n",
    "cv_mca = read_cv(\"cv/mca/cv.json\", \"mca__n_components\")\n",
    "cv_pcr = read_cv(\"cv/pcr/cv.json\", \"pca__n_components\")"
   ]
  },
  {
   "cell_type": "markdown",
   "metadata": {},
   "source": [
    "Ridge regression performance"
   ]
  },
  {
   "cell_type": "code",
   "execution_count": null,
   "metadata": {},
   "outputs": [],
   "source": [
    "cv_ridge.head()"
   ]
  },
  {
   "cell_type": "code",
   "execution_count": null,
   "metadata": {},
   "outputs": [],
   "source": [
    "plot_cv(cv_ridge)\n",
    "plt.title(\"\"\"Cross Validation performance of Ridge Regression\n",
    "test (-), train(--)\n",
    "\"\"\")\n",
    "plt.xlabel(r\"$\\alpha$\")"
   ]
  },
  {
   "cell_type": "markdown",
   "metadata": {},
   "source": [
    "MCA performance"
   ]
  },
  {
   "cell_type": "code",
   "execution_count": null,
   "metadata": {},
   "outputs": [],
   "source": [
    "plot_cv(cv_mca, plotter=plt.plot)\n",
    "plt.title(\"\"\"Cross Validation performance of MCA Regression\n",
    "test (-), train(--)\n",
    "\"\"\")\n",
    "plt.xlabel(r\"number of modes retained\")"
   ]
  },
  {
   "cell_type": "markdown",
   "metadata": {},
   "source": [
    "The performance on the test dataset rapidly declines for a large number of modes. Both models have a best case total performance of around $R^2 = .15$"
   ]
  },
  {
   "cell_type": "markdown",
   "metadata": {},
   "source": [
    "PCR Performance"
   ]
  },
  {
   "cell_type": "code",
   "execution_count": null,
   "metadata": {},
   "outputs": [],
   "source": [
    "plot_cv(cv_pcr, plotter=plt.plot)\n",
    "plt.title(\"\"\"Cross Validation performance of MCA Regression\n",
    "test (-), train(--)\n",
    "\"\"\")\n",
    "plt.xlabel(r\"number of modes retained\")"
   ]
  },
  {
   "cell_type": "markdown",
   "metadata": {},
   "source": [
    "PCR peforms similary to MCA, but with slightly worse statistics."
   ]
  },
  {
   "cell_type": "markdown",
   "metadata": {},
   "source": [
    "Now let's make a table comparing our cross validation options"
   ]
  },
  {
   "cell_type": "code",
   "execution_count": null,
   "metadata": {},
   "outputs": [],
   "source": [
    "cv = pd.concat({'ridge': cv_ridge, 'mca': cv_mca, 'pcr': cv_pcr}, names=['model'])"
   ]
  },
  {
   "cell_type": "code",
   "execution_count": null,
   "metadata": {},
   "outputs": [],
   "source": [
    "cv.head()"
   ]
  },
  {
   "cell_type": "code",
   "execution_count": null,
   "metadata": {},
   "outputs": [],
   "source": [
    "def f(df):\n",
    "    best_ind = df[df.variable == \"total\"].test.argmax()\n",
    "    del df['model']\n",
    "    return df.loc[best_ind].set_index('variable', append=True).unstack(level=1)\n",
    "\n",
    "cv.reset_index().set_index('param')\\\n",
    ".groupby('model')\\\n",
    ".apply(f)"
   ]
  },
  {
   "cell_type": "markdown",
   "metadata": {},
   "source": [
    "As you can see the ridge regression significantly outperforms the decomposition based approaches, but the $R^2$ is low for all options."
   ]
  }
 ],
 "metadata": {
  "kernelspec": {
   "display_name": "Python 3",
   "language": "python",
   "name": "python3"
  },
  "language_info": {
   "codemirror_mode": {
    "name": "ipython",
    "version": 3
   },
   "file_extension": ".py",
   "mimetype": "text/x-python",
   "name": "python",
   "nbconvert_exporter": "python",
   "pygments_lexer": "ipython3",
   "version": "3.6.2"
  },
  "snakemake_inputs": [
   "cv/ridge/cv.json",
   "cv/mca/cv.json",
   "cv/pcr/cv.json"
  ]
 },
 "nbformat": 4,
 "nbformat_minor": 2
}
