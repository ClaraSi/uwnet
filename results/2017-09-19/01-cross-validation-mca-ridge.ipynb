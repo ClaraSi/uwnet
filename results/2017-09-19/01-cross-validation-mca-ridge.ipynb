{
 "cells": [
  {
   "cell_type": "code",
   "execution_count": null,
   "metadata": {},
   "outputs": [],
   "source": [
    "%pylab inline\n",
    "import seaborn as sns\n",
    "sns.set_palette(\"colorblind\")"
   ]
  },
  {
   "cell_type": "code",
   "execution_count": null,
   "metadata": {},
   "outputs": [],
   "source": [
    "from io import StringIO\n",
    "import pandas as pd"
   ]
  },
  {
   "cell_type": "code",
   "execution_count": null,
   "metadata": {},
   "outputs": [],
   "source": [
    "def get_cv_scores():\n",
    "    data = !jq -f scripts/jq-ridge.txt cv/ridge/cv.json\n",
    "    \n",
    "    return pd.read_json('\\n'.join(data))#.set_index([\"score\", \"alpha\"])"
   ]
  },
  {
   "cell_type": "code",
   "execution_count": null,
   "metadata": {},
   "outputs": [],
   "source": [
    "df= get_cv_scores()\n",
    "df.head()"
   ]
  },
  {
   "cell_type": "code",
   "execution_count": null,
   "metadata": {},
   "outputs": [],
   "source": [
    "fg = sns.FacetGrid(df, hue=\"score\", aspect=1.5, size=4, legend_out=False)\n",
    "fg.map(plt.semilogx, \"alpha\", \"test_error\")\n",
    "fg.map(plt.semilogx, \"alpha\", \"train_error\", ls='--')\n",
    "\n",
    "fg.add_legend()\n",
    "plt.ylabel(r'$R^2$')\n",
    "plt.title(\"Cross Validation Performance for Ridge Regression\\n\"\n",
    "          \"training(--), test(-)\")"
   ]
  },
  {
   "cell_type": "markdown",
   "metadata": {},
   "source": [
    "The best value of the regularization parameter is between .1-.15."
   ]
  }
 ],
 "metadata": {
  "kernelspec": {
   "display_name": "Python 3",
   "language": "python",
   "name": "python3"
  },
  "language_info": {
   "codemirror_mode": {
    "name": "ipython",
    "version": 3
   },
   "file_extension": ".py",
   "mimetype": "text/x-python",
   "name": "python",
   "nbconvert_exporter": "python",
   "pygments_lexer": "ipython3",
   "version": "3.6.1"
  }
 },
 "nbformat": 4,
 "nbformat_minor": 2
}
