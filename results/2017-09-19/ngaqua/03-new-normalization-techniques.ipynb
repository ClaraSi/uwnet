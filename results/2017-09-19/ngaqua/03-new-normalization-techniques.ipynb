{
 "cells": [
  {
   "cell_type": "code",
   "execution_count": null,
   "metadata": {},
   "outputs": [],
   "source": [
    "%pylab inline\n",
    "\n",
    "import numpy as np\n",
    "from sklearn.externals import joblib\n",
    "import xarray as xr\n",
    "from xnoah.data_matrix import unstack_cat, stack_cat\n",
    "import pandas as pd"
   ]
  },
  {
   "cell_type": "code",
   "execution_count": null,
   "metadata": {},
   "outputs": [],
   "source": [
    "from sklearn.linear_model import LinearRegression, Ridge\n",
    "from sklearn.pipeline import make_pipeline\n",
    "from sklearn.decomposition import PCA"
   ]
  },
  {
   "cell_type": "code",
   "execution_count": null,
   "metadata": {},
   "outputs": [],
   "source": [
    "def mysel(x):\n",
    "    return x.isel(z=slice(0, 30))\n",
    "\n",
    "X = xr.open_dataset(\"X.nc\")#.pipe(mysel)\n",
    "Y = xr.open_dataset(\"Y.nc\").pipe(mysel)\n",
    "\n",
    "mu = X.mean(['time', 'x', 'y'])"
   ]
  },
  {
   "cell_type": "code",
   "execution_count": null,
   "metadata": {},
   "outputs": [],
   "source": [
    "X_scale = (X-mu)/(mu+ 1e-6)"
   ]
  },
  {
   "cell_type": "code",
   "execution_count": null,
   "metadata": {},
   "outputs": [],
   "source": [
    "\n",
    "def prepvar(X):\n",
    "   return  stack_cat(X, \"features\", ['z']).stack(samples=['time', 'x', 'y']).transpose(\"samples\", \"features\")\n",
    "\n",
    "\n",
    "xmat = prepvar(X_scale)\n",
    "ymat = prepvar(Y)\n",
    "n, m = xmat.shape"
   ]
  },
  {
   "cell_type": "code",
   "execution_count": null,
   "metadata": {},
   "outputs": [],
   "source": [
    "# mod = make_pipeline(PCA(n_components=20), LinearRegression())\n",
    "mod = Ridge(0.1)\n",
    "\n",
    "rand = np.random.choice(n, 10000 )\n",
    "mod.fit(xmat[rand], ymat[rand])\n",
    "mod.score(xmat[rand], ymat[rand])"
   ]
  },
  {
   "cell_type": "code",
   "execution_count": null,
   "metadata": {},
   "outputs": [],
   "source": [
    "lrf = mod.predict(np.eye(m)) - mod.predict(0*np.eye(m))\n",
    "\n",
    "row, col = xmat.indexes['features'], ymat.indexes['features']\n",
    "lrf = pd.DataFrame(lrf, index=row, columns=col)"
   ]
  },
  {
   "cell_type": "code",
   "execution_count": null,
   "metadata": {},
   "outputs": [],
   "source": [
    "plt.pcolormesh(lrf.loc[\"SL\"][\"Q1\"].T)\n",
    "plt.colorbar()"
   ]
  },
  {
   "cell_type": "code",
   "execution_count": null,
   "metadata": {},
   "outputs": [],
   "source": [
    "plt.pcolormesh(lrf.loc[\"QT\"][\"Q1\"].T)\n",
    "plt.colorbar()"
   ]
  },
  {
   "cell_type": "markdown",
   "metadata": {},
   "source": [
    "The linear response functions are much more reasonable when percent is used as a metric."
   ]
  },
  {
   "cell_type": "markdown",
   "metadata": {},
   "source": [
    "# turning w into a data matrix"
   ]
  },
  {
   "cell_type": "code",
   "execution_count": null,
   "metadata": {},
   "outputs": [],
   "source": [
    "w.loc[idx.levels[1][0]]"
   ]
  },
  {
   "cell_type": "code",
   "execution_count": null,
   "metadata": {},
   "outputs": [],
   "source": [
    "w = xr.open_dataarray(\"w.nc\").to_dataframe('w').drop('time',1)\n",
    "idx = xmat.indexes['features']\n",
    "\n",
    "def f(i):\n",
    "    if i < 0:\n",
    "        return 1.0\n",
    "    else:\n",
    "        return float(w.loc[idx.levels[1][i]])\n",
    "\n",
    "w_np = np.array([f(i) for i in idx.labels[1]])"
   ]
  }
 ],
 "metadata": {
  "kernelspec": {
   "display_name": "Python 3",
   "language": "python",
   "name": "python3"
  },
  "language_info": {
   "codemirror_mode": {
    "name": "ipython",
    "version": 3
   },
   "file_extension": ".py",
   "mimetype": "text/x-python",
   "name": "python",
   "nbconvert_exporter": "python",
   "pygments_lexer": "ipython3",
   "version": "3.6.2"
  }
 },
 "nbformat": 4,
 "nbformat_minor": 2
}
