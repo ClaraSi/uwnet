{
 "cells": [
  {
   "cell_type": "code",
   "execution_count": null,
   "metadata": {},
   "outputs": [],
   "source": [
    "%pylab inline\n",
    "\n",
    "import sys\n",
    "sys.path.insert(0, \"../\")\n",
    "\n",
    "import numpy as np\n",
    "from sklearn.externals import joblib\n",
    "import xarray as xr\n",
    "from xnoah.data_matrix import unstack_cat, stack_cat\n",
    "import pandas as pd"
   ]
  },
  {
   "cell_type": "code",
   "execution_count": null,
   "metadata": {},
   "outputs": [],
   "source": [
    "from lib.models import WeightedOutput, get_lrf\n",
    "from sklearn.linear_model import LinearRegression, Ridge\n",
    "from sklearn.pipeline import make_pipeline\n",
    "from sklearn.decomposition import PCA"
   ]
  },
  {
   "cell_type": "code",
   "execution_count": null,
   "metadata": {},
   "outputs": [],
   "source": [
    "X = xr.open_dataset(\"X.nc\")#.pipe(mysel)\n",
    "Y = xr.open_dataset(\"Y.nc\")#.pipe(mysel)\n",
    "w = xr.open_dataarray(\"w.nc\")\n",
    "\n",
    "# mu = X.mean(['time', 'x', 'y'])"
   ]
  },
  {
   "cell_type": "code",
   "execution_count": null,
   "metadata": {},
   "outputs": [],
   "source": [
    "d = WeightedOutput.quickfit(\"X.nc\", \"Y.nc\", \"w.nc\")\n",
    "x, y, mod = map(d.get, ['x', 'y', 'mod'])\n",
    "mod.score(x,y)"
   ]
  },
  {
   "cell_type": "code",
   "execution_count": null,
   "metadata": {},
   "outputs": [],
   "source": [
    "lrf = get_lrf(mod, x, y)\n",
    "\n",
    "plt.pcolormesh(lrf.loc[\"SL\"][\"Q1\"].T)\n",
    "plt.colorbar()"
   ]
  },
  {
   "cell_type": "code",
   "execution_count": null,
   "metadata": {},
   "outputs": [],
   "source": [
    "plt.pcolormesh(lrf.loc[\"QT\"][\"Q1\"].T)\n",
    "plt.colorbar()"
   ]
  },
  {
   "cell_type": "markdown",
   "metadata": {},
   "source": [
    "Why is this quantity so big and not smooth."
   ]
  },
  {
   "cell_type": "code",
   "execution_count": null,
   "metadata": {},
   "outputs": [],
   "source": [
    "lrf.loc[\"QT\"].iloc[:,1].reset_index()"
   ]
  },
  {
   "cell_type": "markdown",
   "metadata": {},
   "source": [
    "The height level of this point is 19800 m. The index corresponding to this height is 28. Let's look at what the data is like around there."
   ]
  },
  {
   "cell_type": "code",
   "execution_count": null,
   "metadata": {},
   "outputs": [],
   "source": [
    "def unprep(x):\n",
    "    x_d = unstack_cat(x, \"features\").unstack(\"samples\")\n",
    "    # need to fix the fact that x_d['z'] has dtype object\n",
    "    x_d['z'] = np.asarray(x_d['z'], dtype=float)\n",
    "    return x_d\n",
    "\n",
    "x_d = unprep(x)\n",
    "y_d = unprep(y)"
   ]
  },
  {
   "cell_type": "code",
   "execution_count": null,
   "metadata": {},
   "outputs": [],
   "source": [
    "x_d.isel(z=28, time=-21).QT.plot()"
   ]
  },
  {
   "cell_type": "code",
   "execution_count": null,
   "metadata": {},
   "outputs": [],
   "source": [
    "x_d.QT.isel(time=-21, y=8).plot()"
   ]
  },
  {
   "cell_type": "code",
   "execution_count": null,
   "metadata": {},
   "outputs": [],
   "source": [
    "qt = x_d.QT.mean(['x', 'y', 'time'])\n",
    "semilogx(qt, qt.z)\n",
    "plt.plot(qt[28], qt.z[28], '*', markersize=20)"
   ]
  },
  {
   "cell_type": "markdown",
   "metadata": {},
   "source": [
    "My guess is that 19800m is the highest level at which $q_t$ is still dynamically influenced and correlated with convection in some way. Because it is the highest level, it is also least moist so the corresponding cofficients in the linear response function must be very large. I am not sure why Zhiming Kuang did not have this problem. Did he constrain his analysis to the troposphere?\n",
    "\n",
    "Overall, this indicates that we needs a more effective way to normalize the data."
   ]
  }
 ],
 "metadata": {
  "kernelspec": {
   "display_name": "Python 3",
   "language": "python",
   "name": "python3"
  },
  "language_info": {
   "codemirror_mode": {
    "name": "ipython",
    "version": 3
   },
   "file_extension": ".py",
   "mimetype": "text/x-python",
   "name": "python",
   "nbconvert_exporter": "python",
   "pygments_lexer": "ipython3",
   "version": "3.6.2"
  },
  "snakemake_inputs": [
   "X.nc",
   "Y.nc",
   "w.nc"
  ]
 },
 "nbformat": 4,
 "nbformat_minor": 2
}
