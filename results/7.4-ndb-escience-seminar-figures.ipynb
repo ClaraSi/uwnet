{
 "cells": [
  {
   "cell_type": "code",
   "execution_count": null,
   "metadata": {},
   "outputs": [],
   "source": [
    "%matplotlib inline"
   ]
  },
  {
   "cell_type": "code",
   "execution_count": null,
   "metadata": {},
   "outputs": [],
   "source": [
    "import xarray as xr\n",
    "from lib.plots import plot_soln"
   ]
  },
  {
   "cell_type": "code",
   "execution_count": null,
   "metadata": {},
   "outputs": [],
   "source": [
    "cam = xr.open_dataset(\"../data/processed/iop0x32/cam.nc\")\n",
    "iop = xr.open_dataset(\"../data/processed/iop0x32/iop.nc\")"
   ]
  },
  {
   "cell_type": "code",
   "execution_count": null,
   "metadata": {},
   "outputs": [],
   "source": [
    "ds = xr.Dataset({\n",
    "    \"prec\": (cam.PRECC + cam.PRECL)*86400*1000,\n",
    "    \"sl\": cam['T']+cam['Z3']*9.81/1004,\n",
    "    'qt': cam.Q*1000\n",
    "}).rename({'lev': 'p'})"
   ]
  },
  {
   "cell_type": "markdown",
   "metadata": {},
   "source": [
    "# CAM Single Column Model"
   ]
  },
  {
   "cell_type": "code",
   "execution_count": null,
   "metadata": {},
   "outputs": [],
   "source": [
    "plot_soln(ds, fig=plt.figure(figsize=(8, 5), dpi=100))"
   ]
  },
  {
   "cell_type": "markdown",
   "metadata": {},
   "source": [
    "# Initial value problem"
   ]
  },
  {
   "cell_type": "code",
   "execution_count": null,
   "metadata": {},
   "outputs": [],
   "source": [
    "cam0 = ds.isel(time=0).squeeze()\n",
    "\n",
    "\n",
    "def plot_profiles(ds, axs=None, **kwargs):\n",
    "    if axs is None:\n",
    "        fig, axs = plt.subplots(1, 2, sharey=True, figsize=(4, 4), dpi=100)\n",
    "\n",
    "    axs[0].plot(ds.qt, ds.p, **kwargs)\n",
    "    axs[1].plot(ds.sl, ds.p, **kwargs)\n",
    "    axs[1].invert_yaxis()\n",
    "\n",
    "\n",
    "    axs[0].set_xlabel(r'$q_v$ (g/kg)')\n",
    "    axs[1].set_xlabel(r'$s = T + g z$ (K)')\n",
    "    axs[0].set_ylabel('p (hPa)')\n",
    "    \n",
    "plot_profiles(cam0)"
   ]
  },
  {
   "cell_type": "code",
   "execution_count": null,
   "metadata": {},
   "outputs": [],
   "source": [
    "force = iop.rename({'lev': 'p'}).squeeze().isel(tsec=0)\n",
    "fig, axs = plt.subplots(1, 2, sharey=True, figsize=(4, 4), dpi=100)\n",
    "\n",
    "axs[0].plot(force.vertdivq*86400*1000, force.p/100)\n",
    "axs[1].plot(force.vertdivT*86400, force.p/100)\n",
    "axs[1].invert_yaxis()\n",
    "\n",
    "\n",
    "axs[0].set_title(r'q forcing (g/kg/day)', size=12)\n",
    "axs[1].set_title(r'T forcing (K/day)', size=12)\n",
    "axs[0].set_ylabel('p (hPa)')"
   ]
  },
  {
   "cell_type": "code",
   "execution_count": null,
   "metadata": {},
   "outputs": [],
   "source": [
    "fig, axs = plt.subplots(1, 2, sharey=True, figsize=(4, 4), dpi=100)\n",
    "plot_profiles(ds.sel(time=101).squeeze(), axs=axs, label=\"Day 100\")\n",
    "plot_profiles(ds.sel(time=102).squeeze(), axs=axs, label=\"Day 102\",marker ='o',\n",
    "             markersize=3)\n",
    "axs[0].invert_yaxis()\n",
    "plt.legend()"
   ]
  },
  {
   "cell_type": "code",
   "execution_count": null,
   "metadata": {},
   "outputs": [],
   "source": [
    "fig, axs = plt.subplots(2, 1, figsize=(2, 6), sharey=True, dpi=100)\n",
    "                    \n",
    "plot_profiles(cam0, axs=axs, marker='o', markersize=3)\n",
    "plt.tight_layout()"
   ]
  },
  {
   "cell_type": "code",
   "execution_count": null,
   "metadata": {},
   "outputs": [],
   "source": [
    "plt.figure(figsize=(2, 6))\n",
    "plt.plot( np.concatenate((cam0.qt.values/10, cam0.sl.values/300)), np.arange(60),\n",
    "         lw=0, marker='o')\n",
    "plt.title(\"64 Inputs\")"
   ]
  }
 ],
 "metadata": {
  "kernelspec": {
   "display_name": "Python 3",
   "language": "python",
   "name": "python3"
  },
  "language_info": {
   "codemirror_mode": {
    "name": "ipython",
    "version": 3
   },
   "file_extension": ".py",
   "mimetype": "text/x-python",
   "name": "python",
   "nbconvert_exporter": "python",
   "pygments_lexer": "ipython3",
   "version": "3.6.3"
  }
 },
 "nbformat": 4,
 "nbformat_minor": 2
}
