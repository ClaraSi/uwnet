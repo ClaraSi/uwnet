{
 "cells": [
  {
   "cell_type": "code",
   "execution_count": null,
   "metadata": {},
   "outputs": [],
   "source": [
    "%matplotlib inline"
   ]
  },
  {
   "cell_type": "code",
   "execution_count": null,
   "metadata": {},
   "outputs": [],
   "source": [
    "import xarray as xr\n",
    "from lib.thermo import liquid_water_temperature, get_dz, mass_integrate\n",
    "from lib.advection import material_derivative\n",
    "\n",
    "stat = xr.open_dataset(\"../data/raw/2/NG_5120x2560x34_4km_10s_QOBS_EQX/stat.nc\")\n",
    "fields_3d = xr.open_mfdataset(\"../data/raw/2/NG_5120x2560x34_4km_10s_QOBS_EQX/coarse/3d/*.nc\")\n",
    "fields_2d = xr.open_dataset(\"../data/raw/2/NG_5120x2560x34_4km_10s_QOBS_EQX/coarse/2d/all.nc\")\n",
    "\n",
    "# for some reason the time values are all scrambled up.\n",
    "fields_2d = fields_2d.isel(time=fields_2d.time.values.argsort())\n",
    "data = xr.merge((fields_2d, fields_3d), join='inner').isel(y=slice(24, 40))\n",
    "\n",
    "p = stat.p\n",
    "rho = stat.RHO[0]\n",
    "dz = get_dz(rho.z)\n",
    "data  = data.assign(\n",
    "    sl=liquid_water_temperature(data.TABS, data.QN, data.QP),\n",
    "    qt=data.QV + data.QN\n",
    ")"
   ]
  },
  {
   "cell_type": "code",
   "execution_count": null,
   "metadata": {},
   "outputs": [],
   "source": []
  },
  {
   "cell_type": "code",
   "execution_count": null,
   "metadata": {},
   "outputs": [],
   "source": [
    "X = data[['sl', 'qt', 'SOLIN']]\n",
    "\n",
    "# mu = X.mean(['x', 'y', 'time'])\n",
    "# sig2 = ((X - mu)**2).mean()\n",
    "# sig  = sig2.compute().apply(np.sqrt)\n",
    "\n",
    "# X = (X-mu)/sig\n",
    "X = X.stack(batch=['x' ,'y' , 'time'])\n",
    "X = np.concatenate((X['qt'].T, X['sl'].T, X['SOLIN'].values[:,None]), axis=-1)\n",
    "y = data.QRAD.stack(batch=['x', 'y','time']).transpose('batch', 'z').values"
   ]
  },
  {
   "cell_type": "code",
   "execution_count": null,
   "metadata": {},
   "outputs": [],
   "source": [
    "import keras\n",
    "from keras.datasets import mnist\n",
    "from keras.models import Sequential\n",
    "from keras.layers import Dense, Dropout, BatchNormalization\n",
    "from keras.optimizers import Adam\n",
    "\n",
    "\n",
    "inds = np.random.choice(X.shape[0], 100000)\n",
    "\n",
    "model = Sequential()\n",
    "model.add(BatchNormalization(input_shape=(69,)))\n",
    "model.add(Dense(128, activation='relu'))\n",
    "model.add(BatchNormalization())\n",
    "model.add(Dense(128, activation='relu'))\n",
    "model.add(BatchNormalization())\n",
    "model.add(Dense(128, activation='relu'))\n",
    "model.add(Dense(34,activation='linear'))\n",
    "\n",
    "model.compile(loss='mse',\n",
    "              optimizer=Adam(),\n",
    "              metrics=['accuracy'])\n",
    "\n",
    "model.fit(X[inds], y[inds], epochs=5)"
   ]
  },
  {
   "cell_type": "code",
   "execution_count": null,
   "metadata": {},
   "outputs": [],
   "source": [
    "loc = data.isel(x=0, y=8)\n",
    "\n",
    "Xl = loc[['qt', 'sl', 'SOLIN']]\n",
    "# X = (X-mu)/sig\n",
    "Xl = Xl.stack(batch=['time'])\n",
    "\n",
    "# \n",
    "mu = Xl['SOLIN'].mean('batch').values\n",
    "\n",
    "\n",
    "Xl, mu = xr.broadcast(Xl, Xl.mean('batch'))\n",
    "\n",
    "# too see which variables are important you can swap the `Xl` values with `mu` below\n",
    "# when you do this you will see that the \n",
    "# 1. SOLIN allows the scheme to get the diurnal cycle\n",
    "# 2. QT is needed for accurate vertical profile\n",
    "# 3. SL doesn't matter\n",
    "\n",
    "Xl_np = np.concatenate((Xl['qt'], Xl['sl'], Xl['SOLIN'].values[:, 0:1]), axis=-1)\n",
    "yl = loc.QRAD.transpose('time', 'z')\n",
    "\n",
    "qrad_pred = model.predict(Xl_np)"
   ]
  },
  {
   "cell_type": "code",
   "execution_count": null,
   "metadata": {},
   "outputs": [],
   "source": [
    "plt.pcolormesh(qrad_pred.T)\n",
    "plt.colorbar()"
   ]
  },
  {
   "cell_type": "code",
   "execution_count": null,
   "metadata": {},
   "outputs": [],
   "source": [
    "plt.scatter(qrad_pred, yl, alpha=.05)\n",
    "plt.plot((0,7), (0,7), 'k')"
   ]
  },
  {
   "cell_type": "code",
   "execution_count": null,
   "metadata": {},
   "outputs": [],
   "source": [
    "plt.pcolormesh(yl.T)\n",
    "plt.colorbar()"
   ]
  },
  {
   "cell_type": "markdown",
   "metadata": {},
   "source": [
    "Here it is with SOLIN fixed at it's mean value"
   ]
  },
  {
   "cell_type": "code",
   "execution_count": null,
   "metadata": {},
   "outputs": [],
   "source": [
    "Xl_np = np.concatenate((Xl['qt'], Xl['sl'], mu['SOLIN'].values[:, 0:1]), axis=-1)\n",
    "yl = loc.QRAD.transpose('time', 'z')\n",
    "\n",
    "qrad_pred = model.predict(Xl_np)\n",
    "plt.pcolormesh(qrad_pred.T)\n",
    "plt.colorbar()"
   ]
  },
  {
   "cell_type": "markdown",
   "metadata": {},
   "source": [
    "You can see that the diurnal cycle is gone."
   ]
  },
  {
   "cell_type": "markdown",
   "metadata": {},
   "source": [
    "And qt fixed at the mean vlaue"
   ]
  },
  {
   "cell_type": "code",
   "execution_count": null,
   "metadata": {},
   "outputs": [],
   "source": [
    "Xl_np = np.concatenate((mu['qt'], Xl['sl'], Xl['SOLIN'].values[:, 0:1]), axis=-1)\n",
    "yl = loc.QRAD.transpose('time', 'z')\n",
    "\n",
    "qrad_pred = model.predict(Xl_np)\n",
    "plt.pcolormesh(qrad_pred.T)\n",
    "plt.colorbar()"
   ]
  },
  {
   "cell_type": "markdown",
   "metadata": {},
   "source": [
    "Ther vertical structure is very unrealistic."
   ]
  },
  {
   "cell_type": "markdown",
   "metadata": {},
   "source": [
    "As you can see, we obtain excellent performance. This indicates that we can train a neural network separately for radiation and the convection. Overall, this suggests we should use an objective function like\n",
    "$$ J(f_s, f_q, r) = \\frac{1}{T} \\sum_{m=1}^T||F^{m}(\\phi^n)  - \\phi^{n+m}||^2 + \\alpha||r(x^n) -Q_{rad}||^2  \n",
    "                      + \\beta|| c_p \\int( f_s(x^n) - r)\\frac{dp}{g} - SHF -  LP  ||^2\n",
    "                      + \\gamma||L\\int f_q(x^n) \\frac{dp}{g} + LHF -  LP  ||^2\n",
    "$$"
   ]
  }
 ],
 "metadata": {
  "kernelspec": {
   "display_name": "Python 3",
   "language": "python",
   "name": "python3"
  },
  "language_info": {
   "codemirror_mode": {
    "name": "ipython",
    "version": 3
   },
   "file_extension": ".py",
   "mimetype": "text/x-python",
   "name": "python",
   "nbconvert_exporter": "python",
   "pygments_lexer": "ipython3",
   "version": "3.6.3"
  }
 },
 "nbformat": 4,
 "nbformat_minor": 2
}
