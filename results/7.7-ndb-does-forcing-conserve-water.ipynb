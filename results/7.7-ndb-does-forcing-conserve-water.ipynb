{
 "cells": [
  {
   "cell_type": "code",
   "execution_count": null,
   "metadata": {},
   "outputs": [],
   "source": [
    "%matplotlib inline\n",
    "import matplotlib.pyplot as plt\n",
    "plt.style.use(\"ggplot\")"
   ]
  },
  {
   "cell_type": "code",
   "execution_count": null,
   "metadata": {},
   "outputs": [],
   "source": [
    "import xarray as xr\n",
    "from xnoah.xarray import integrate\n",
    "from xnoah.xcalc import centderiv"
   ]
  },
  {
   "cell_type": "code",
   "execution_count": null,
   "metadata": {},
   "outputs": [],
   "source": [
    "iop = xr.open_dataset(\"../data/processed/iop.nc\").squeeze().isel(lon=0,lat=8)"
   ]
  },
  {
   "cell_type": "code",
   "execution_count": null,
   "metadata": {},
   "outputs": [],
   "source": [
    "moisture_budget = xr.Dataset(dict(\n",
    "    qtend = integrate(iop.divq, axis='lev')/9.81 * 86400,\n",
    "    prec = iop.PREC,\n",
    "    LHF = iop.lhflx/2.51e6*86400\n",
    "))"
   ]
  },
  {
   "cell_type": "code",
   "execution_count": null,
   "metadata": {},
   "outputs": [],
   "source": [
    "imbalance = (moisture_budget.qtend-moisture_budget.prec + moisture_budget.LHF)"
   ]
  },
  {
   "cell_type": "code",
   "execution_count": null,
   "metadata": {},
   "outputs": [],
   "source": [
    "plt.figure(dpi=100)\n",
    "\n",
    "for key in moisture_budget.data_vars:\n",
    "    moisture_budget[key].plot()\n",
    "plt.legend()"
   ]
  },
  {
   "cell_type": "code",
   "execution_count": null,
   "metadata": {},
   "outputs": [],
   "source": [
    "moisture_budget.mean()"
   ]
  },
  {
   "cell_type": "markdown",
   "metadata": {},
   "source": [
    "Why is there an equilibrium imbalance of over 3 mm/day? Is it just that the vertical advection terms already implicitily include the evaporation? Do field campaigns do a similarly bad job? What does the temperature budget look like"
   ]
  },
  {
   "cell_type": "code",
   "execution_count": null,
   "metadata": {},
   "outputs": [],
   "source": [
    "temperature_budget = xr.Dataset(dict(\n",
    "    tend = integrate(iop.divT, axis='lev')/9.81 * 86400* 1004/2.51e6,\n",
    "    prec = iop.PREC,\n",
    "    SHF = iop.shflx/2.51e6*86400\n",
    "))"
   ]
  },
  {
   "cell_type": "code",
   "execution_count": null,
   "metadata": {},
   "outputs": [],
   "source": [
    "plt.figure(dpi=100)\n",
    "\n",
    "for key in temperature_budget.data_vars:\n",
    "    temperature_budget[key].plot()\n",
    "    \n",
    "plt.legend()"
   ]
  },
  {
   "cell_type": "code",
   "execution_count": null,
   "metadata": {},
   "outputs": [],
   "source": [
    "temperature_budget.mean()"
   ]
  },
  {
   "cell_type": "markdown",
   "metadata": {},
   "source": [
    "Note that I am not doing this for $s_L$ which is probably more approprite."
   ]
  },
  {
   "cell_type": "code",
   "execution_count": null,
   "metadata": {},
   "outputs": [],
   "source": [
    "import lib.thermo \n",
    "\n",
    "stat = xr.open_dataset(\"../data/raw/2/NG_5120x2560x34_4km_10s_QOBS_EQX/stat.nc\")\n",
    "force = xr.open_dataset(\"../data/processed/forcings.nc\").isel(x=0,y=8)\n",
    "rho = stat.RHO[-1]\n",
    "dz = lib.thermo.get_dz(rho.z)\n",
    "dm = rho * dz\n",
    "\n"
   ]
  },
  {
   "cell_type": "code",
   "execution_count": null,
   "metadata": {},
   "outputs": [],
   "source": [
    "sl_budget = xr.Dataset(dict(\n",
    "    tend = (dm*force.sl).sum('z') * 1004/2.51e6,\n",
    "    prec = force.Prec,\n",
    "    SHF = force.SHF/2.51e6*86400,\n",
    "    QRAD= (dm*force.QRAD).sum('z')*1004/2.51e6\n",
    "))"
   ]
  },
  {
   "cell_type": "code",
   "execution_count": null,
   "metadata": {},
   "outputs": [],
   "source": [
    "d3 = xr.open_dataset(\"../data/raw/2/NG_5120x2560x34_4km_10s_QOBS_EQX_1280/coarse/3d/all.nc\")\n",
    "d2 = xr.open_dataset(\"../data/raw/2/NG_5120x2560x34_4km_10s_QOBS_EQX_1280/coarse/2d/all.nc\")"
   ]
  },
  {
   "cell_type": "code",
   "execution_count": null,
   "metadata": {},
   "outputs": [],
   "source": [
    "divwater = d3.divQV + d3.divQN + d3.divQP\n",
    "\n",
    "(-(divwater * dm).sum('z').mean(['x', 'time'])/1000*86400).plot()\n",
    "(-d2.Prec.mean(['x', 'time']) +\n",
    "(d2.LHF.mean(['x', 'time'])*86400/2.51e6)).plot()"
   ]
  },
  {
   "cell_type": "markdown",
   "metadata": {},
   "source": [
    "These budgets pretty closely match"
   ]
  },
  {
   "cell_type": "code",
   "execution_count": null,
   "metadata": {},
   "outputs": [],
   "source": [
    "div1 = centderiv(d3.TABS * d3.U, 'x') + centderiv(d3.TABS*d3.V, 'y')\n",
    "div2 = -d3.divTABS\n",
    "adv = centderiv(d3.TABS,'x')*d3.U + centderiv(d3.TABS, 'y')*d3.V +\\\n",
    "      (centderiv(d3.TABS, 'z')) * d3.W\n",
    "\n",
    "\n",
    "def integrate(div):\n",
    "    return (div*dz*rho).sum('z').mean(['x', 'time'])"
   ]
  },
  {
   "cell_type": "code",
   "execution_count": null,
   "metadata": {},
   "outputs": [],
   "source": [
    "advection_terms = ((adv + 9.81/1004 * d3.W) * dm).sum('z').mean(['x', 'time'])\n",
    "\n",
    "(advection_terms * 1004/2.51e6*86400).plot()\n",
    "\n",
    "(d2.Prec.mean(['x', 'time']) +\n",
    "(d2.SHF.mean(['x', 'time'])*86400/2.51e6)+\n",
    " integrate(d3.QRAD)*1004/2.51e6\n",
    ").plot()"
   ]
  },
  {
   "cell_type": "markdown",
   "metadata": {},
   "source": [
    "The temperature budget does not match at all. it looks like some kind of scaling error. Shouldn't this quantity be small because temperature gradients are small?"
   ]
  },
  {
   "cell_type": "code",
   "execution_count": null,
   "metadata": {},
   "outputs": [],
   "source": [
    "integrate(div1).plot()\n",
    "integrate(div2).plot()\n",
    "integrate(adv).plot()"
   ]
  }
 ],
 "metadata": {
  "kernelspec": {
   "display_name": "Python 3",
   "language": "python",
   "name": "python3"
  },
  "language_info": {
   "codemirror_mode": {
    "name": "ipython",
    "version": 3
   },
   "file_extension": ".py",
   "mimetype": "text/x-python",
   "name": "python",
   "nbconvert_exporter": "python",
   "pygments_lexer": "ipython3",
   "version": "3.6.3"
  }
 },
 "nbformat": 4,
 "nbformat_minor": 2
}
