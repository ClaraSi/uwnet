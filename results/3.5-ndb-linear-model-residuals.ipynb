{
 "cells": [
  {
   "cell_type": "code",
   "execution_count": null,
   "metadata": {},
   "outputs": [],
   "source": [
    "import holoviews as hv\n",
    "\n",
    "hv.extension('bokeh')"
   ]
  },
  {
   "cell_type": "code",
   "execution_count": null,
   "metadata": {},
   "outputs": [],
   "source": [
    "import xarray as xr\n",
    "import numpy as np\n",
    "from sklearn.externals import joblib\n",
    "\n",
    "from lib.models import get_linear_model, get_mca_mod\n",
    "from lib.util import mat_to_xarray, output_to_xr, dict_to_xr\n",
    "from lib.plots.model_evaluation import scatter_plot_z\n",
    "\n",
    "\n",
    "def resid_from_data(get_model, data):\n",
    "    mod = get_model(data)\n",
    "    mod.fit(*data['train'])\n",
    "    \n",
    "    x, y = data['train']\n",
    "    \n",
    "    # get prediction\n",
    "    y_pred = mod.predict(x)\n",
    "\n",
    "    # unstack\n",
    "    return output_to_xr(y_pred, y.coords)\n",
    "\n"
   ]
  },
  {
   "cell_type": "code",
   "execution_count": null,
   "metadata": {},
   "outputs": [],
   "source": [
    "# load data\n",
    "data = joblib.load(\"../data/ml/ngaqua/data.pkl\")\n",
    "\n",
    "\n",
    "resid_lm = resid_from_data(get_linear_model, data)\n",
    "resid_mcr = resid_from_data(get_mca_mod, data)"
   ]
  },
  {
   "cell_type": "code",
   "execution_count": null,
   "metadata": {},
   "outputs": [],
   "source": [
    "# get output\n",
    "_, y = data['train']\n",
    "y = output_to_xr(y, y.coords)\n",
    "data = dict_to_xr({'lm': resid_lm, 'true': y, 'mcr': resid_mcr}, dim_name=\"model\")"
   ]
  },
  {
   "cell_type": "code",
   "execution_count": null,
   "metadata": {},
   "outputs": [],
   "source": [
    "%%opts Curve[invert_axes=True] {+framewise}\n",
    "lay = hv.Dataset(data.Q1c.isel(x=0,y=8))\\\n",
    ".to.curve(\"z\", dynamic=True)\\\n",
    ".overlay(\"model\")\n",
    "lay"
   ]
  },
  {
   "cell_type": "code",
   "execution_count": null,
   "metadata": {},
   "outputs": [],
   "source": [
    "%%output dpi=150\n",
    "%%opts Image[colorbar=True, width=400](cmap='viridis') \n",
    "%%opts GridSpace[shared_xaxis=True, shared_yaxis=True, xaxis=None]\n",
    "hv.Dataset(data.Q1c.isel(y=8,x=120))\\\n",
    ".to.image([\"time\", \"z\"])\\\n",
    ".add_dimension(\"nil\", 0, \"\")\\\n",
    ".grid()"
   ]
  },
  {
   "cell_type": "markdown",
   "metadata": {},
   "source": [
    "We can see that MCR performs much worse than the lienar regression. And that the raw linear regression actually performs pretty well. Even though the linear response function of linear regression looks ugly it does yield a good prediction."
   ]
  },
  {
   "cell_type": "code",
   "execution_count": null,
   "metadata": {},
   "outputs": [],
   "source": [
    "scatter_plot_z(data.Q1c, \"lm\", \"true\", \"model\")"
   ]
  },
  {
   "cell_type": "markdown",
   "metadata": {},
   "source": [
    "The linear model tends to underestimate the heating for large heating rates"
   ]
  }
 ],
 "metadata": {
  "kernelspec": {
   "display_name": "Python [conda env:uw-machine-learning]",
   "language": "python",
   "name": "conda-env-uw-machine-learning-py"
  },
  "language_info": {
   "codemirror_mode": {
    "name": "ipython",
    "version": 3
   },
   "file_extension": ".py",
   "mimetype": "text/x-python",
   "name": "python",
   "nbconvert_exporter": "python",
   "pygments_lexer": "ipython3",
   "version": "3.6.3"
  }
 },
 "nbformat": 4,
 "nbformat_minor": 2
}
