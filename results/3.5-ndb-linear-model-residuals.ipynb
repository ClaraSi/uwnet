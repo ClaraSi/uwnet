{
 "cells": [
  {
   "cell_type": "code",
   "execution_count": null,
   "metadata": {},
   "outputs": [],
   "source": [
    "import holoviews as hv\n",
    "from holoviews.operation.datashader import aggregate, shade, datashade, dynspread\n",
    "\n",
    "hv.extension('bokeh')"
   ]
  },
  {
   "cell_type": "code",
   "execution_count": null,
   "metadata": {},
   "outputs": [],
   "source": [
    "import xarray as xr\n",
    "import pandas as pd\n",
    "import numpy as np\n",
    "from sklearn.externals import joblib\n",
    "from lib.models import get_linear_model, get_mca_mod\n",
    "from lib.util import mat_to_xarray\n",
    "from lib.hvops import percent\n",
    "\n",
    "from xnoah.data_matrix import unstack_cat\n",
    "\n",
    "\n",
    "def output_to_xr(y, coords):\n",
    "    res =  xr.DataArray(y, coords)\n",
    "    return unstack_cat(res, \"features\").unstack(\"samples\")\n",
    "\n",
    "def resid_from_data(get_model, data):\n",
    "    mod = get_model(data)\n",
    "    mod.fit(*data['train'])\n",
    "    \n",
    "    x, y = data['train']\n",
    "    \n",
    "    # get prediction\n",
    "    y_pred = mod.predict(x)\n",
    "\n",
    "    # unstack\n",
    "    y, y_pred= [output_to_xr(a, y.coords) for a in [y, y_pred]]\n",
    "    \n",
    "\n",
    "    return y, y_pred\n"
   ]
  },
  {
   "cell_type": "code",
   "execution_count": null,
   "metadata": {},
   "outputs": [],
   "source": [
    "# load data\n",
    "data = joblib.load(\"../data/ml/ngaqua/data.pkl\")\n",
    "\n",
    "resid_lm = resid_from_data(get_linear_model, data)\n",
    "resid_mcr = resid_from_data(get_mca_mod, data)\n",
    "\n",
    "data = xr.concat(resid_lm + (resid_mcr[1],), dim=pd.Index([\"true\", \"lm\", \"mcr\"], name=\"model\"))"
   ]
  },
  {
   "cell_type": "code",
   "execution_count": null,
   "metadata": {},
   "outputs": [],
   "source": [
    "%%opts Curve[invert_axes=True] {+framewise}\n",
    "lay = hv.Dataset(data.Q1c.isel(x=0,y=8))\\\n",
    ".to.curve(\"z\", dynamic=True)\\\n",
    ".overlay(\"model\")\n",
    "lay"
   ]
  },
  {
   "cell_type": "code",
   "execution_count": null,
   "metadata": {},
   "outputs": [],
   "source": [
    "%%output dpi=150\n",
    "%%opts Image[colorbar=True, width=400](cmap='viridis') \n",
    "%%opts GridSpace[shared_xaxis=True, shared_yaxis=True, xaxis=None]\n",
    "hv.Dataset(data.Q1c.isel(y=8,x=120))\\\n",
    ".to.image([\"time\", \"z\"])\\\n",
    ".add_dimension(\"nil\", 0, \"\")\\\n",
    ".grid()"
   ]
  },
  {
   "cell_type": "markdown",
   "metadata": {},
   "source": [
    "We can see that MCR performs much worse than the lienar regression. And that the raw linear regression actually performs pretty well. Even though the linear response function of linear regression looks ugly it does yield a good prediction."
   ]
  },
  {
   "cell_type": "code",
   "execution_count": null,
   "metadata": {},
   "outputs": [],
   "source": [
    "df = data.Q1c.to_dataset(dim=\"model\").to_dataframe()"
   ]
  },
  {
   "cell_type": "code",
   "execution_count": null,
   "metadata": {},
   "outputs": [],
   "source": [
    "tab = hv.Table(df.reset_index())\n",
    "scat  = (tab.to.scatter(kdims=[\"lm\"], vdims=[\"true\"], groupby=\"z\"))"
   ]
  },
  {
   "cell_type": "markdown",
   "metadata": {},
   "source": [
    "The linear model tends to underestimate the heating for large heating rates"
   ]
  },
  {
   "cell_type": "code",
   "execution_count": null,
   "metadata": {},
   "outputs": [],
   "source": [
    "%%opts Curve(color=\"black\")\n",
    "datashade(percent(scat), cmap=\"blue\")\\\n",
    ".redim.range(true=(0,1), lm=(0,1)) \\\n",
    ".redim.unit(lm=\"%\", true=\"%\")\\\n",
    "* hv.Curve(((0,1),(0,1)))"
   ]
  }
 ],
 "metadata": {
  "kernelspec": {
   "display_name": "Python 3",
   "language": "python",
   "name": "python3"
  },
  "language_info": {
   "codemirror_mode": {
    "name": "ipython",
    "version": 3
   },
   "file_extension": ".py",
   "mimetype": "text/x-python",
   "name": "python",
   "nbconvert_exporter": "python",
   "pygments_lexer": "ipython3",
   "version": "3.6.3"
  }
 },
 "nbformat": 4,
 "nbformat_minor": 2
}
