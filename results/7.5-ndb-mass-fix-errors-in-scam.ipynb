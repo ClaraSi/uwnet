{
 "cells": [
  {
   "cell_type": "markdown",
   "metadata": {},
   "source": [
    "SCAM gives the following error when I include the horizontal advection terms of humidity:\n",
    "\n",
    "    QNEG3 from TFILT_MASSFIX:m=  1 lat/lchnk=      1 Min. mixing ratio violated at    1 points.  Reset to  1.0E-12 Worst =-1.2E-05 at i,k=   1 17\n",
    "\n",
    "This is pretty surprising considering that there are no problems with the vertical advection. Let's try and figure out what is causing this error."
   ]
  },
  {
   "cell_type": "code",
   "execution_count": null,
   "metadata": {},
   "outputs": [],
   "source": [
    "import holoviews as hv\n",
    "hv.extension('bokeh')"
   ]
  },
  {
   "cell_type": "code",
   "execution_count": null,
   "metadata": {},
   "outputs": [],
   "source": [
    "import xarray as xr\n",
    "iop = xr.open_dataset(\"../data/processed/iop0x32/iop.nc\")"
   ]
  },
  {
   "cell_type": "code",
   "execution_count": null,
   "metadata": {},
   "outputs": [],
   "source": [
    "divq = iop[['divq', 'vertdivq']].to_array().to_dataset(name='src').squeeze()\n",
    "\n",
    "ds = hv.Dataset(divq*1000*86400)"
   ]
  },
  {
   "cell_type": "code",
   "execution_count": null,
   "metadata": {},
   "outputs": [],
   "source": [
    "%%opts Curve[invert_axes=True, invert_yaxis=True, xrotation=45] {+framewise}\n",
    "ds[(9.1044e6, 'divq')].to.curve(\"lev\").redim.unit(src=\"g/kg/d\")"
   ]
  },
  {
   "cell_type": "markdown",
   "metadata": {},
   "source": [
    "this noisiness for height points could be part of the problem."
   ]
  },
  {
   "cell_type": "code",
   "execution_count": null,
   "metadata": {},
   "outputs": [],
   "source": [
    "plt.plot(iop.z, iop.lev/100)\n",
    "ax = plt.gca()\n",
    "ax.invert_yaxis()"
   ]
  }
 ],
 "metadata": {
  "kernelspec": {
   "display_name": "Python 3",
   "language": "python",
   "name": "python3"
  },
  "language_info": {
   "codemirror_mode": {
    "name": "ipython",
    "version": 3
   },
   "file_extension": ".py",
   "mimetype": "text/x-python",
   "name": "python",
   "nbconvert_exporter": "python",
   "pygments_lexer": "ipython3",
   "version": "3.6.3"
  }
 },
 "nbformat": 4,
 "nbformat_minor": 2
}
