{
 "cells": [
  {
   "cell_type": "code",
   "execution_count": null,
   "metadata": {},
   "outputs": [],
   "source": [
    "%matplotlib inline\n",
    "import matplotlib.pyplot as plt\n",
    "\n",
    "plt.style.use(\"seaborn-colorblind\")\n",
    "import holoviews as hv\n",
    "hv.extension('bokeh')"
   ]
  },
  {
   "cell_type": "code",
   "execution_count": null,
   "metadata": {},
   "outputs": [],
   "source": [
    "import xarray as xr\n",
    "from lib.thermo import liquid_water_temperature, get_dz, mass_integrate\n",
    "from lib.advection import material_derivative\n",
    "\n",
    "stat = xr.open_dataset(\"../data/raw/2/NG_5120x2560x34_4km_10s_QOBS_EQX/stat.nc\")\n",
    "fields_3d = xr.open_mfdataset(\"../data/raw/2/NG_5120x2560x34_4km_10s_QOBS_EQX/coarse/3d/*.nc\")\n",
    "fields_2d = xr.open_dataset(\"../data/raw/2/NG_5120x2560x34_4km_10s_QOBS_EQX/coarse/2d/all.nc\")\n",
    "\n",
    "# for some reason the time values are all scrambled up.\n",
    "fields_2d = fields_2d.isel(time=fields_2d.time.values.argsort())\n",
    "data = xr.merge((fields_2d, fields_3d), join='inner').isel(y=slice(24, 40))\n",
    "\n",
    "p = stat.p\n",
    "rho = stat.RHO[0]\n",
    "dz = get_dz(rho.z)\n",
    "data  = data.assign(\n",
    "    sl=liquid_water_temperature(data.TABS, data.QN, data.QP),\n",
    "    qt=data.QV + data.QN\n",
    ")"
   ]
  },
  {
   "cell_type": "code",
   "execution_count": null,
   "metadata": {},
   "outputs": [],
   "source": [
    "def precip_from_fsl(fsl, shf):\n",
    "    return ((fsl-data.QRAD) *rho * dz).sum('z') * 1004/2.51e6 - shf/2.51e6 *86400\n",
    "\n",
    "def precip_from_fqt(fqt, lhf):\n",
    "    return -(fqt * rho * dz).sum('z').compute()/1000 + lhf/2.51e6*86400"
   ]
  },
  {
   "cell_type": "code",
   "execution_count": null,
   "metadata": {},
   "outputs": [],
   "source": [
    "dqt = material_derivative(data.U, data.V, data.W, data.qt)*86400 + data.qt.diff('time')/.125\n",
    "prec_pred = precip_from_fqt(dqt, data.LHF)\n",
    "\n",
    "dsl = material_derivative(data.U, data.V, data.W, data.sl)*86400 + data.sl.diff('time')/.125\n",
    "prec_pred_t = precip_from_fsl(dsl, data.SHF)\n",
    "\n",
    "\n",
    "precip = xr.Dataset({'truth': data.Prec, 'prec_budg': prec_pred, 'prec_budg_t': prec_pred_t})"
   ]
  },
  {
   "cell_type": "code",
   "execution_count": null,
   "metadata": {},
   "outputs": [],
   "source": [
    "import torch\n",
    "from lib.models.torch import wrap\n",
    "from toolz import pipe\n",
    "from toolz.curried import valmap\n",
    "import torch\n",
    "from torch.autograd import Variable\n",
    "\n",
    "def wrap(torch_model):\n",
    "    def fun(*args):\n",
    "        torch_args = [pipe(x, _dataset_to_dict,\n",
    "                           valmap(torch.FloatTensor),\n",
    "                           valmap(Variable))\n",
    "                      for x in args]\n",
    "        y = torch_model(*torch_args)\n",
    "        y = valmap(lambda x: x.cpu().data.numpy(), y)\n",
    "\n",
    "        # get coords from inputs\n",
    "        x = args[0]\n",
    "\n",
    "        return xr.Dataset(valmap(\n",
    "            lambda arr: xr.DataArray(arr, coords=x.coords, dims=x.dims),\n",
    "            y\n",
    "        ))\n",
    "\n",
    "    return fun\n",
    "\n",
    "def _dataset_to_dict(ds: xr.Dataset):\n",
    "    return {key: prepare_array(ds[key]) for key in ds.data_vars}\n",
    "\n",
    "def prepare_array(x):\n",
    "\n",
    "    return x.transpose('batch', 'time', 'z').values\n",
    "\n",
    "\n",
    "calc_src =  wrap(torch.load(\"../data/ml/ngaqua/model.1.torch\").rhs)"
   ]
  },
  {
   "cell_type": "code",
   "execution_count": null,
   "metadata": {},
   "outputs": [],
   "source": [
    "din = data[['qt', 'sl']].stack(batch=['x', 'y'])\n",
    "\n",
    "\n",
    "src = calc_src(din).unstack('batch')"
   ]
  },
  {
   "cell_type": "code",
   "execution_count": null,
   "metadata": {},
   "outputs": [],
   "source": [
    "prec_nn_t = precip_from_fsl(src.sl, data.SHF)\n",
    "\n",
    "prec_nn = precip_from_fqt(src.qt.isel(z=slice(0,-15)), data.LHF)\n",
    "\n",
    "precip = precip.assign(nn=prec_nn, nnt=prec_nn_t).compute()"
   ]
  },
  {
   "cell_type": "code",
   "execution_count": null,
   "metadata": {},
   "outputs": [],
   "source": [
    "%%opts Curve[width=500](color=Cycle(['k', 'b', 'light green', 'brown', 'c']))\n",
    "ds = hv.Dataset(precip.mean(['x','time']).to_array().to_dataset(name=\"Precip\"))\n",
    "ds.to.curve(\"y\").overlay().redim.unit(Precip=\"mm/day\")"
   ]
  },
  {
   "cell_type": "markdown",
   "metadata": {},
   "source": [
    "From this it looks like the precipitation estimated from the neural networks temperature equation gives the best match. It does even better than the terms predicted from the actual budgets. For some reason the moisture equation significantly over-estimates the precip. It could just be the model has not trained sufficiently, or perhaps this is just a random effect of the initialization of the weights in the training procedure."
   ]
  }
 ],
 "metadata": {
  "kernelspec": {
   "display_name": "Python 3",
   "language": "python",
   "name": "python3"
  },
  "language_info": {
   "codemirror_mode": {
    "name": "ipython",
    "version": 3
   },
   "file_extension": ".py",
   "mimetype": "text/x-python",
   "name": "python",
   "nbconvert_exporter": "python",
   "pygments_lexer": "ipython3",
   "version": "3.6.3"
  }
 },
 "nbformat": 4,
 "nbformat_minor": 2
}
