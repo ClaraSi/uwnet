{
 "cells": [
  {
   "cell_type": "code",
   "execution_count": null,
   "metadata": {},
   "outputs": [],
   "source": [
    "%matplotlib inline"
   ]
  },
  {
   "cell_type": "code",
   "execution_count": null,
   "metadata": {},
   "outputs": [],
   "source": [
    "import numpy as np\n",
    "import pandas as pd\n",
    "import xarray as xr\n",
    "from lib.models import weights_to_np, WeightedOutput, get_lrf, plot_lrf\n",
    "from xnoah.data_matrix import stack_cat, unstack_cat, compute_weighted_scale\n",
    "import os\n",
    "\n",
    "from sklearn.model_selection import ParameterGrid\n",
    "from sklearn.feature_selection import VarianceThreshold\n",
    "from sklearn.pipeline import make_pipeline\n",
    "from sklearn.linear_model import Ridge\n",
    "from sklearn.base import BaseEstimator, TransformerMixin\n",
    "\n",
    "# plotting\n",
    "import seaborn as sns\n",
    "import matplotlib.pyplot as plt"
   ]
  },
  {
   "cell_type": "markdown",
   "metadata": {},
   "source": [
    "# Load data"
   ]
  },
  {
   "cell_type": "code",
   "execution_count": null,
   "metadata": {},
   "outputs": [],
   "source": [
    "def ngaqua(filename):\n",
    "    \"\"\"Get the files from the NgAqua data pipeline\"\"\"\n",
    "    return os.path.join(\"../2017-09-28/ngaqua/\", filename)\n",
    "\n",
    "\n",
    "def get_data():\n",
    "    X = xr.open_dataset(ngaqua(\"X.nc\"))\n",
    "    Y = xr.open_dataset(ngaqua(\"Y.nc\"))\n",
    "    w = xr.open_dataarray(ngaqua(\"w.nc\"))\n",
    "    p = xr.open_dataset(ngaqua(\"stat.nc\")).p\n",
    "    # train test split\n",
    "\n",
    "    return X, Y, w, p\n",
    "\n",
    "\n",
    "def train_test_split(X, t=50):\n",
    "    return X.sel(time=slice(0, t)), X.sel(time=slice(t, None))\n",
    "    \n",
    "\n",
    "def prepvar(X):\n",
    "    return stack_cat(X, \"features\", [\"z\"])\\\n",
    "                  .stack(samples=[\"x\", \"time\", \"y\"])\\\n",
    "                  .transpose(\"samples\", \"features\")\n",
    "\n",
    "def get_ml_data():\n",
    "    t_split = 50.0\n",
    "    X, Y, w, p  = get_data()\n",
    "    X_train, X_test = map(prepvar, train_test_split(X, t=t_split))\n",
    "    Y_train, Y_test = map(prepvar, train_test_split(Y, t=t_split))\n",
    "    w_output = weights_to_np(w, Y_test.features)\n",
    "    \n",
    "    return (X_train, X_test), (Y_train, Y_test), w_output, p"
   ]
  },
  {
   "cell_type": "code",
   "execution_count": null,
   "metadata": {},
   "outputs": [],
   "source": [
    "(X_train, X_test), (Y_train, Y_test), w_output, p = get_ml_data()"
   ]
  },
  {
   "cell_type": "markdown",
   "metadata": {},
   "source": [
    "# Perform Ridge Regression"
   ]
  },
  {
   "cell_type": "code",
   "execution_count": null,
   "metadata": {},
   "outputs": [],
   "source": [
    "pipe = WeightedOutput(make_pipeline(VarianceThreshold(.001), Ridge(.1, normalize=True)), w_output,\n",
    "                     nfit=100000)\n",
    "pipe.fit(X_train, Y_train)\n",
    "pipe.score(X_test, Y_test)"
   ]
  },
  {
   "cell_type": "code",
   "execution_count": null,
   "metadata": {},
   "outputs": [],
   "source": [
    "lrf = get_lrf(pipe, X_train, Y_train)\n",
    "plot_lrf(lrf, p,'QT SL LHF SHF'.split(' '), 'Q1 Q2'.split(' '));"
   ]
  },
  {
   "cell_type": "markdown",
   "metadata": {},
   "source": [
    "## Cross validation"
   ]
  },
  {
   "cell_type": "code",
   "execution_count": null,
   "metadata": {},
   "outputs": [],
   "source": [
    "param_grid = dict(ridge__alpha=np.logspace(-10, 3, 8), ridge__normalize=[True, False])\n",
    "\n",
    "cv = []\n",
    "\n",
    "for param in ParameterGrid(param_grid):\n",
    "    print(f\"Cross validating {param}\")\n",
    "    pipe.set_params(**param)\n",
    "    pipe.fit(X_train, Y_train)\n",
    "    score = pipe.score(X_test, Y_test)\n",
    "    print(f\"score={score}\")\n",
    "    cv.append({'score': score, 'param': param})\n"
   ]
  },
  {
   "cell_type": "code",
   "execution_count": null,
   "metadata": {},
   "outputs": [],
   "source": [
    "\n",
    "\n",
    "df = pd.DataFrame([(p['param']['ridge__alpha'], p['param']['ridge__normalize'], p['score']) for p in cv],\n",
    "                   columns=['alpha', 'normalized', 'score'])"
   ]
  },
  {
   "cell_type": "code",
   "execution_count": null,
   "metadata": {},
   "outputs": [],
   "source": [
    "fg =sns.FacetGrid(df, hue=\"normalized\", aspect=1.61) \n",
    "fg.map(plt.plot, \"alpha\", \"score\")\n",
    "fg.add_legend()\n",
    "plt.gca().set_xscale('log')"
   ]
  },
  {
   "cell_type": "code",
   "execution_count": null,
   "metadata": {},
   "outputs": [],
   "source": [
    "df.iloc[df.score.argmax(),:]"
   ]
  },
  {
   "cell_type": "markdown",
   "metadata": {},
   "source": [
    "## Chosen scheme"
   ]
  },
  {
   "cell_type": "markdown",
   "metadata": {},
   "source": [
    "Given my experience with the last dataset, I worry about the stability of these schemes, so I am just going to use $\\alpha=10^{-4}$ and normalized = False."
   ]
  },
  {
   "cell_type": "code",
   "execution_count": null,
   "metadata": {},
   "outputs": [],
   "source": [
    "pipe.set_params(ridge__alpha=1e-6, ridge__normalize=False)\n",
    "pipe.fit(X_train, Y_train)\n",
    "pipe.score(X_test, Y_test)"
   ]
  },
  {
   "cell_type": "code",
   "execution_count": null,
   "metadata": {},
   "outputs": [],
   "source": [
    "lrf = get_lrf(pipe, X_train, Y_train)\n",
    "plot_lrf(lrf, p,'QT SL LHF SHF'.split(' '), 'Q1 Q2'.split(' '));"
   ]
  },
  {
   "cell_type": "markdown",
   "metadata": {},
   "source": [
    "# Prettify lrf\n",
    "\n",
    "\n",
    "Let's prettify this by projectiving it onto the EOFs of data."
   ]
  },
  {
   "cell_type": "code",
   "execution_count": null,
   "metadata": {},
   "outputs": [],
   "source": [
    "from sklearn.decomposition import PCA\n",
    "\n",
    "unstack_cat(X_train, \"features\") * w_output"
   ]
  }
 ],
 "metadata": {
  "kernelspec": {
   "display_name": "Python 3",
   "language": "python",
   "name": "python3"
  },
  "language_info": {
   "codemirror_mode": {
    "name": "ipython",
    "version": 3
   },
   "file_extension": ".py",
   "mimetype": "text/x-python",
   "name": "python",
   "nbconvert_exporter": "python",
   "pygments_lexer": "ipython3",
   "version": "3.6.3"
  }
 },
 "nbformat": 4,
 "nbformat_minor": 2
}
