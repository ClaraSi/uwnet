{
 "cells": [
  {
   "cell_type": "code",
   "execution_count": null,
   "metadata": {},
   "outputs": [],
   "source": [
    "%pylab inline\n",
    "\n",
    "import numpy as np\n",
    "from sklearn.externals import joblib\n",
    "\n",
    "import pandas as pd"
   ]
  },
  {
   "cell_type": "code",
   "execution_count": null,
   "metadata": {},
   "outputs": [],
   "source": [
    "\n",
    "\n",
    "def get_lrf(mod):    \n",
    "    mod, idxs = mod['mod'], mod['idx']\n",
    "    \n",
    "    m, n = map(len, idxs)\n",
    "    \n",
    "    # get intercept\n",
    "    intercept = mod.predict(np.zeros((m,m)))\n",
    "    \n",
    "    I = np.eye(m)\n",
    "    lrf =  mod.predict(I) - intercept\n",
    "    \n",
    "    return pd.DataFrame(lrf, index=idxs[0], columns=idxs[1])\n",
    "\n",
    "\n",
    "\n",
    "\n",
    "mod = joblib.load(\"ml/ridge/model.pkl\")\n",
    "df = get_lrf(mod)"
   ]
  },
  {
   "cell_type": "code",
   "execution_count": null,
   "metadata": {},
   "outputs": [],
   "source": [
    "plt.pcolormesh(df.loc[\"SL\"][\"Q1\"].T, vmin=-1, vmax=1)\n",
    "plt.colorbar()"
   ]
  },
  {
   "cell_type": "code",
   "execution_count": null,
   "metadata": {},
   "outputs": [],
   "source": [
    "plt.pcolormesh(df.loc[\"QT\"][\"Q1\"].T, vmin=-1, vmax=1)\n",
    "plt.colorbar()"
   ]
  },
  {
   "cell_type": "markdown",
   "metadata": {},
   "source": [
    "I think more regularization is required to make the LRF look realistic. I bet this eyeball metric is more important for predictive modeling than the raw R2 score."
   ]
  }
 ],
 "metadata": {
  "kernelspec": {
   "display_name": "Python 3",
   "language": "python",
   "name": "python3"
  },
  "language_info": {
   "codemirror_mode": {
    "name": "ipython",
    "version": 3
   },
   "file_extension": ".py",
   "mimetype": "text/x-python",
   "name": "python",
   "nbconvert_exporter": "python",
   "pygments_lexer": "ipython3",
   "version": "3.6.2"
  }
 },
 "nbformat": 4,
 "nbformat_minor": 2
}
