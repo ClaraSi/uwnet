{
 "cells": [
  {
   "cell_type": "markdown",
   "metadata": {},
   "source": [
    "# WARNING\n",
    "\n",
    "The results using linear regression below worked when I generate the report for chris, but they are no longer very reproducible. I think Ridge Regression is actually necessary to generate stable linear response functions!\n",
    "\n",
    "# WARNING"
   ]
  },
  {
   "cell_type": "code",
   "execution_count": null,
   "metadata": {},
   "outputs": [],
   "source": [
    "%pylab inline\n",
    "\n",
    "import sys\n",
    "sys.path.insert(0, \"../\")\n",
    "\n",
    "import numpy as np\n",
    "from sklearn.externals import joblib\n",
    "import xarray as xr\n",
    "from xnoah.data_matrix import unstack_cat, stack_cat\n",
    "import pandas as pd\n",
    "\n",
    "from sklearn.linear_model import LinearRegression, Ridge\n",
    "from sklearn.pipeline import make_pipeline\n",
    "from sklearn.decomposition import PCA\n",
    "\n",
    "from matplotlib import gridspec\n",
    "from matplotlib.colors import SymLogNorm\n",
    "\n",
    "from lib.models import WeightedOutput, get_lrf, weights_to_np"
   ]
  },
  {
   "cell_type": "code",
   "execution_count": null,
   "metadata": {},
   "outputs": [],
   "source": [
    "!conda list"
   ]
  },
  {
   "cell_type": "markdown",
   "metadata": {},
   "source": [
    "In this notebook I analyze the NgAqua data which includes the radiative component. In the future I will change this analysis to only look at the convective component of the signal $Q_{1c}= Q_1 - Q_{rad}$."
   ]
  },
  {
   "cell_type": "code",
   "execution_count": null,
   "metadata": {},
   "outputs": [],
   "source": [
    "\n",
    "\n",
    "\n",
    "def compute_dp(o):\n",
    "    p_ghosted = np.hstack((2*p[0]-p[1], p, 0))\n",
    "    p_interface = (p_ghosted[1:] + p_ghosted[:-1])/2\n",
    "    dp = -np.diff(p_interface)\n",
    "    \n",
    "    return dp\n",
    "\n",
    "\n",
    "\n",
    "def plot_lrf(lrf, p, input_vars, output_vars,\n",
    "             width_ratios=[1, 1, .3, .3],\n",
    "            figsize=(10,5),\n",
    "            image_kwargs={}):\n",
    "    p = np.asarray(p)\n",
    "    ni, no = len(input_vars), len(output_vars)\n",
    "    print(\"Making figure with\", ni,\"by\", no, \"panes\")\n",
    "\n",
    "    fig, axs = plt.subplots(no, ni, figsize=figsize)\n",
    "    \n",
    "    grid = gridspec.GridSpec(2, len(input_vars), width_ratios=width_ratios)\n",
    "\n",
    "    for j, input_var in enumerate(input_vars):\n",
    "        for i, output_var in enumerate(output_vars):\n",
    "            ax = plt.subplot(grid[i,j])\n",
    "            lrf_pane = np.asarray(lrf.loc[input_var][output_var])\n",
    "    #             print(lrf_pane.shape)\n",
    "            if lrf_pane.shape[0] == 1:\n",
    "                ax.plot(lrf_pane.ravel(), p)\n",
    "                ax.invert_yaxis()\n",
    "            else:\n",
    "                # compute pressure difference\n",
    "                dp = compute_dp(p)\n",
    "                im = ax.pcolormesh(p, p, (lrf_pane).T/dp, **image_kwargs)\n",
    "                # make colorbar\n",
    "                cbar = plt.colorbar(im, orientation='vertical', pad=.02)\n",
    "                # invert y axis for pressure coordinates\n",
    "                ax.invert_yaxis()\n",
    "                ax.invert_xaxis()\n",
    "                \n",
    "            # turn off axes ylabels\n",
    "            if j > 0:\n",
    "                ax.set_yticks([])\n",
    "            if i < no-1:\n",
    "                ax.set_xticks([])\n",
    "                \n",
    "            # Add variable names\n",
    "            if j == 0:\n",
    "                ax.set_ylabel(output_var)\n",
    "                \n",
    "            if i == 0:\n",
    "                ax.set_title(input_var)\n",
    "\n",
    "            \n",
    "    return fig, axs\n",
    "    "
   ]
  },
  {
   "cell_type": "code",
   "execution_count": null,
   "metadata": {},
   "outputs": [],
   "source": [
    "X = xr.open_dataset(\"X.nc\")#.pipe(mysel)\n",
    "Y = xr.open_dataset(\"Y.nc\")#.pipe(mysel)\n",
    "w = xr.open_dataarray(\"w.nc\")\n",
    "p = xr.open_dataset(\"stat.nc\").p\n",
    "\n",
    "# mu = X.mean(['time', 'x', 'y'])"
   ]
  },
  {
   "cell_type": "code",
   "execution_count": null,
   "metadata": {},
   "outputs": [],
   "source": [
    "d = WeightedOutput.quickfit(\"X.nc\", \"Y.nc\", \"w.nc\")\n",
    "x, y, mod = map(d.get, ['x', 'y', 'mod'])\n",
    "mod.score(x,y)"
   ]
  },
  {
   "cell_type": "markdown",
   "metadata": {},
   "source": [
    "Let's plot the estimate linear response functions normalized. As in Kuang (2010?), each column in the plots below is normalized by the layer thickness there."
   ]
  },
  {
   "cell_type": "code",
   "execution_count": null,
   "metadata": {},
   "outputs": [],
   "source": [
    "lrf = get_lrf(mod, x, y)\n",
    "plot_lrf(lrf, p, ['QT', 'SL', 'SHF', 'LHF'], ['Q1', 'Q2']);"
   ]
  },
  {
   "cell_type": "markdown",
   "metadata": {},
   "source": [
    "These linear response functions are nuts! They don't look anything like Zhiming Kuangs'."
   ]
  },
  {
   "cell_type": "markdown",
   "metadata": {},
   "source": [
    "The height level of this point is 19800 m. The index corresponding to this height is 28. Let's look at what the data is like around there."
   ]
  },
  {
   "cell_type": "code",
   "execution_count": null,
   "metadata": {},
   "outputs": [],
   "source": [
    "def unprep(x):\n",
    "    x_d = unstack_cat(x, \"features\").unstack(\"samples\")\n",
    "    # need to fix the fact that x_d['z'] has dtype object\n",
    "    x_d['z'] = np.asarray(x_d['z'], dtype=float)\n",
    "    return x_d\n",
    "\n",
    "x_d = unprep(x)\n",
    "y_d = unprep(y)"
   ]
  },
  {
   "cell_type": "code",
   "execution_count": null,
   "metadata": {},
   "outputs": [],
   "source": [
    "x_d.isel(z=28, time=-21).QT.plot()"
   ]
  },
  {
   "cell_type": "code",
   "execution_count": null,
   "metadata": {},
   "outputs": [],
   "source": [
    "x_d.QT.isel(time=-21, y=8).plot()"
   ]
  },
  {
   "cell_type": "code",
   "execution_count": null,
   "metadata": {},
   "outputs": [],
   "source": [
    "qt = x_d.QT.mean(['x', 'y', 'time'])\n",
    "semilogx(qt, qt.z)\n",
    "plt.plot(qt[28], qt.z[28], '*', markersize=20)"
   ]
  },
  {
   "cell_type": "markdown",
   "metadata": {},
   "source": [
    "My guess is that 19800m is the highest level at which $q_t$ is still dynamically influenced and correlated with convection in some way. Because it is the highest level, it is also least moist so the corresponding cofficients in the linear response function must be very large. I am not sure why Zhiming Kuang did not have this problem. Did he constrain his analysis to the troposphere?\n",
    "\n",
    "Overall, this indicates that we needs a more effective way to normalize the data."
   ]
  },
  {
   "cell_type": "markdown",
   "metadata": {},
   "source": [
    "# Plotting weighted by standard deviation of the inputs\n",
    "\n",
    "The coefficient in the matrix is the important thing. It is the coefficient times the typical deviation of the signal that matters, so here I weight the matrix by the standard deviation of the input fields."
   ]
  },
  {
   "cell_type": "code",
   "execution_count": null,
   "metadata": {},
   "outputs": [],
   "source": [
    "def xarray_std_to_df(std):\n",
    "    input_std = stack_cat(std, \"features\", ['z'])\n",
    "    \n",
    "    return pd.Series(input_std.data, index=input_std.indexes['features'], )\n",
    "\n",
    "\n",
    "def weight_lrf(lrf, sig):\n",
    "    sig = xarray_std_to_df(sig)\n",
    "    sig_weighted_lrf  = lrf.apply(lambda x: x*sig)\n",
    "    return sig_weighted_lrf"
   ]
  },
  {
   "cell_type": "code",
   "execution_count": null,
   "metadata": {},
   "outputs": [],
   "source": [
    "\n",
    "sig_weighted_lrf = weight_lrf(lrf, X.std(['x', 'y', 'time']))\n",
    "plot_lrf(lrf, p, ['QT', 'SL', 'SHF', 'LHF'], ['Q1', 'Q2']);"
   ]
  },
  {
   "cell_type": "markdown",
   "metadata": {},
   "source": [
    "This shows that the top of the domain actually doesn't contribute much, but the signal in the lower part of the atmosphere is still very strange."
   ]
  },
  {
   "cell_type": "markdown",
   "metadata": {},
   "source": [
    "# Remove LHF and SHF from the analysis\n",
    "\n",
    "It appears that latent heat and sensible heat flux have vert consistent structures.\n",
    "\n",
    "**Are the QT and SL matrices above strange because the coherent signals are all captured by SHF and LHF?**\n",
    "\n",
    "We can test this by performing an analysis with and without the heat fluxes."
   ]
  },
  {
   "cell_type": "markdown",
   "metadata": {},
   "source": [
    "## Q1, Q2 ~ LHF + SHF"
   ]
  },
  {
   "cell_type": "code",
   "execution_count": null,
   "metadata": {},
   "outputs": [],
   "source": [
    "from lib.models import weights_to_np, prepvar, WeightedOutput\n",
    "\n",
    "\n",
    "def fit_linear_response_model(mod=LinearRegression(), input_vars = ['SHF', 'LHF']):\n",
    "    x = prepvar(X[input_vars], sample_dims=['x', 'time', 'y'], feature_dims=[])\n",
    "    \n",
    "    y = prepvar(Y, sample_dims=['x', 'time', 'y'])\n",
    "    \n",
    "    mod = WeightedOutput(mod, weights_to_np(w, y.features))\n",
    "    mod.fit(x, y)\n",
    "    return x, y, mod"
   ]
  },
  {
   "cell_type": "code",
   "execution_count": null,
   "metadata": {},
   "outputs": [],
   "source": [
    "xmat, ymat, mod = fit_linear_response_model(input_vars = ['LHF', 'SHF'])\n",
    "lrf = get_lrf(mod, xmat, ymat)\n",
    "mod.score(xmat, ymat)"
   ]
  },
  {
   "cell_type": "code",
   "execution_count": null,
   "metadata": {},
   "outputs": [],
   "source": [
    "lrf"
   ]
  },
  {
   "cell_type": "markdown",
   "metadata": {},
   "source": [
    "The R2 *much* lower now. Here are the corresponding linear response functions."
   ]
  },
  {
   "cell_type": "code",
   "execution_count": null,
   "metadata": {},
   "outputs": [],
   "source": [
    "fig, axs = plt.subplots(2,2, figsize=(3,5))\n",
    "\n",
    "\n",
    "for i, in_var in enumerate(['SHF', 'LHF']):\n",
    "    for j, out_var in enumerate(['Q1', 'Q2']):\n",
    "        \n",
    "        resp = np.asarray(lrf.loc[in_var][out_var]).ravel()\n",
    "        ax = axs[j,i]\n",
    "        axs[j,i].plot(resp, p)\n",
    "        axs[j,i].invert_yaxis()\n",
    "        \n",
    "        if i == 0:\n",
    "            ax.set_ylabel(out_var)\n",
    "        else:\n",
    "            ax.set_yticks([])\n",
    "        if j == 0:\n",
    "            ax.set_title(in_var)\n",
    "        \n",
    "        "
   ]
  },
  {
   "cell_type": "markdown",
   "metadata": {},
   "source": [
    "## Q1, Q2 ~ QT + SL"
   ]
  },
  {
   "cell_type": "code",
   "execution_count": null,
   "metadata": {},
   "outputs": [],
   "source": [
    "xmat, ymat, mod = fit_linear_response_model(input_vars = ['QT', 'SL'])\n",
    "lrf = get_lrf(mod, xmat, ymat)\n",
    "sig_weighted_lrf = weight_lrf(lrf, X[['QT', 'SL']].std(['x', 'y', 'time']))\n",
    "mod.score(xmat, ymat)"
   ]
  },
  {
   "cell_type": "markdown",
   "metadata": {},
   "source": [
    "It appears that adding SHF and LHF does not improve the skill by very much."
   ]
  },
  {
   "cell_type": "code",
   "execution_count": null,
   "metadata": {},
   "outputs": [],
   "source": [
    "assert np.isnan(np.asarray(sig_weighted_lrf)).sum() == 0"
   ]
  },
  {
   "cell_type": "code",
   "execution_count": null,
   "metadata": {},
   "outputs": [],
   "source": [
    "plot_lrf(sig_weighted_lrf, p, ['QT', 'SL'], ['Q1', 'Q2'],\n",
    "         width_ratios=[1,1]);\n",
    "#          image_kwargs=dict(norm=SymLogNorm(5)));"
   ]
  },
  {
   "cell_type": "markdown",
   "metadata": {},
   "source": [
    "The linear response functions appear visually identical."
   ]
  },
  {
   "cell_type": "markdown",
   "metadata": {},
   "source": [
    "# Discussion\n",
    "\n",
    "1. The linear response functions need to be weighted by sigma to avoid a spurious visual plot of the linear response functions. Why doesn't this show up in Kuang et al?\n",
    "\n",
    "2. The LRFs are actually quite skillful at predicting the data, but they don't do as good of a job by the eyeball norm.\n",
    "\n",
    "3. These linear response functions indicate that the boundary layer is effectively controlling convection in these simulations. "
   ]
  },
  {
   "cell_type": "markdown",
   "metadata": {},
   "source": [
    "## Addendum Ridge Regression"
   ]
  },
  {
   "cell_type": "code",
   "execution_count": null,
   "metadata": {},
   "outputs": [],
   "source": [
    "\n",
    "def plot_ridge_alpha(mod):\n",
    "    xmat, ymat, mod = fit_linear_response_model(mod=mod, input_vars = ['QT', 'SL'])\n",
    "    lrf = get_lrf(mod, xmat, ymat)\n",
    "    sig_weighted_lrf = weight_lrf(lrf, X[['QT', 'SL']].std(['x', 'y', 'time']))\n",
    "    score = mod.score(xmat, ymat)\n",
    "    plot_lrf(sig_weighted_lrf, p, ['QT', 'SL'], ['Q1', 'Q2'],\n",
    "             width_ratios=[1,1]);\n",
    "    print(f\"model: {mod};\\n R2={score}\")"
   ]
  },
  {
   "cell_type": "code",
   "execution_count": null,
   "metadata": {},
   "outputs": [],
   "source": [
    "from sklearn.feature_selection import VarianceThreshold"
   ]
  },
  {
   "cell_type": "code",
   "execution_count": null,
   "metadata": {},
   "outputs": [],
   "source": [
    "plot_ridge_alpha(make_pipeline(VarianceThreshold(.001), Ridge(0.01, normalize=True)))"
   ]
  },
  {
   "cell_type": "markdown",
   "metadata": {},
   "source": [
    "The R2 of this fit is only slightly different, but the answer is visually very different!"
   ]
  }
 ],
 "metadata": {
  "kernelspec": {
   "display_name": "Python 3",
   "language": "python",
   "name": "python3"
  },
  "language_info": {
   "codemirror_mode": {
    "name": "ipython",
    "version": 3
   },
   "file_extension": ".py",
   "mimetype": "text/x-python",
   "name": "python",
   "nbconvert_exporter": "python",
   "pygments_lexer": "ipython3",
   "version": "3.6.1"
  },
  "snakemake_inputs": [
   "X.nc",
   "Y.nc",
   "w.nc"
  ]
 },
 "nbformat": 4,
 "nbformat_minor": 2
}
