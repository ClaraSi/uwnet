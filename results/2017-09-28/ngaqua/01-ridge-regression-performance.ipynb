{
 "cells": [
  {
   "cell_type": "code",
   "execution_count": null,
   "metadata": {},
   "outputs": [],
   "source": [
    "%pylab inline\n",
    "%config InlineBackend.figure_format = 'retina'\n"
   ]
  },
  {
   "cell_type": "code",
   "execution_count": null,
   "metadata": {},
   "outputs": [],
   "source": [
    "import json\n",
    "import pandas as pd\n",
    "import seaborn as sns\n",
    "sns.set_style(\"darkgrid\")"
   ]
  },
  {
   "cell_type": "code",
   "execution_count": null,
   "metadata": {},
   "outputs": [],
   "source": [
    "def read_cv(file):\n",
    "    cv = json.load(open(file))\n",
    "    def parse_cv(cv):\n",
    "        for item in cv:\n",
    "            params = item['params']\n",
    "            for key in item['test_scores']:\n",
    "                yield (key, 'test', params['ridge__alpha'], item['test_scores'][key])\n",
    "                yield (key, 'train', params['ridge__alpha'], item['train_scores'][key])\n",
    "                \n",
    "    return pd.DataFrame(parse_cv(cv), columns='variable score_type param value'.split(' '))\n",
    "    \n",
    "df = read_cv(\"cv/ridge/cv.json\")"
   ]
  },
  {
   "cell_type": "code",
   "execution_count": null,
   "metadata": {},
   "outputs": [],
   "source": [
    "dplot =df.set_index(['score_type', 'variable', 'param']).unstack(level=[0])\n",
    "dplot.columns = dplot.columns.get_level_values(1)\n",
    "\n",
    "\n",
    "dplot.head()"
   ]
  },
  {
   "cell_type": "code",
   "execution_count": null,
   "metadata": {},
   "outputs": [],
   "source": [
    "fg= sns.FacetGrid(dplot.reset_index(), hue=\"variable\", legend_out=False, size=4, aspect=1.61)\n",
    "\n",
    "fg.map(plt.semilogx, \"param\", \"train\", ls='--')\n",
    "fg.map(plt.semilogx, \"param\", \"test\")\n",
    "fg.add_legend()\n",
    "\n",
    "plt.xlabel(r\"$\\alpha$\")\n",
    "plt.ylabel(r\"$R^2$\")\n",
    "plt.title(\"Cross Validation Ridge Regression\\n\"\n",
    "         \"test (-) ; train(--)\")"
   ]
  },
  {
   "cell_type": "markdown",
   "metadata": {},
   "source": [
    "The 160km grid boxes in NgAqua average over many more degrees of freedome than in the 2D simulation. Therefore, the linear fts we are getting are not as noisy, and much more robust. We probably don't even need any regularization here. Is the condition number really that good now? I guess the data matrix is less likely to be ill conditioned when many many samples are included."
   ]
  }
 ],
 "metadata": {
  "kernelspec": {
   "display_name": "Python 3",
   "language": "python",
   "name": "python3"
  },
  "language_info": {
   "codemirror_mode": {
    "name": "ipython",
    "version": 3
   },
   "file_extension": ".py",
   "mimetype": "text/x-python",
   "name": "python",
   "nbconvert_exporter": "python",
   "pygments_lexer": "ipython3",
   "version": "3.6.2"
  },
  "snakemake_inputs": [
   "cv/ridge/cv.json"
  ]
 },
 "nbformat": 4,
 "nbformat_minor": 2
}
