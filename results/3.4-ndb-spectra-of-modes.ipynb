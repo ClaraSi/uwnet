{
 "cells": [
  {
   "cell_type": "markdown",
   "metadata": {},
   "source": [
    "Plot the spectra of our linear operators. They have very weird spectra."
   ]
  },
  {
   "cell_type": "code",
   "execution_count": null,
   "metadata": {},
   "outputs": [],
   "source": [
    "from sklearn.externals import joblib\n",
    "import xarray as xr\n",
    "import pandas as pd\n",
    "import numpy as np\n",
    "\n",
    "\n",
    "import matplotlib.pyplot as plt\n",
    "%matplotlib inline\n",
    "\n",
    "\n",
    "import holoviews as hv\n",
    "import datashader as ds\n",
    "hv.extension('matplotlib')"
   ]
  },
  {
   "cell_type": "code",
   "execution_count": null,
   "metadata": {},
   "outputs": [],
   "source": [
    "def eigval_plot(lm_data):\n",
    "    mat = lm_data['mat']\n",
    "\n",
    "    # get pushforward operator\n",
    "    A = 3/24*mat + np.eye(mat.shape[0])\n",
    "\n",
    "    lam, P = np.linalg.eig(A)\n",
    "\n",
    "    return hv.Points((lam.real, lam.imag), kdims=[r'$\\Re$', r'$\\Im$']) * hv.Ellipse(0,0,2)"
   ]
  },
  {
   "cell_type": "code",
   "execution_count": null,
   "metadata": {},
   "outputs": [],
   "source": [
    "eigval_plot(joblib.load(\"../data/ml/ngaqua/mca_regression.pkl\"))"
   ]
  },
  {
   "cell_type": "code",
   "execution_count": null,
   "metadata": {},
   "outputs": [],
   "source": [
    "%%opts Points[aspect=2]\n",
    "eigval_plot(joblib.load(\"../data/ml/ngaqua/linear_model.pkl\"))"
   ]
  },
  {
   "cell_type": "markdown",
   "metadata": {},
   "source": [
    "It is definitely a problem that these modes are all growing!"
   ]
  },
  {
   "cell_type": "code",
   "execution_count": null,
   "metadata": {},
   "outputs": [],
   "source": [
    "A = joblib.load(\"../data/ml/ngaqua/mca_regression.pkl\")['mat']\n",
    "lam, P = np.linalg.eig(A)\n",
    "\n",
    "sort_idx = np.argsort(np.abs(lam))\n",
    "P = P[:, sort_idx[::-1]]\n",
    "lam = lam[sort_idx[::-1]]"
   ]
  },
  {
   "cell_type": "code",
   "execution_count": null,
   "metadata": {},
   "outputs": [],
   "source": [
    "%%output size=50\n",
    "%%opts Curve[invert_axes=True, aspect=.25] {+axiswise +framewise}\n",
    "\n",
    "hmap = hv.HoloMap(kdims=[\"Mode\", \"Component\"])\n",
    "\n",
    "for k, y in enumerate(P.T[:10]):\n",
    "    y = y/y[0]\n",
    "    lam_lab = \"%.2f + i%.2f\"%(lam[k].real, lam[k].imag)\n",
    "    hmap[k, \"r\"]= hv.Curve(np.abs(y), kdims=\"z\") * hv.Text(0,0, lam_lab)\n",
    "    \n",
    "    tht = np.arctan(y.imag/y.real)\n",
    "    hmap[k, \"tht\"]= hv.Overlay((hv.Curve(tht, kdims=\"z\", label=lam_lab),))\n",
    "    \n",
    "\n",
    "hmap.layout(\"Component\")"
   ]
  }
 ],
 "metadata": {
  "kernelspec": {
   "display_name": "Python 3",
   "language": "python",
   "name": "python3"
  },
  "language_info": {
   "codemirror_mode": {
    "name": "ipython",
    "version": 3
   },
   "file_extension": ".py",
   "mimetype": "text/x-python",
   "name": "python",
   "nbconvert_exporter": "python",
   "pygments_lexer": "ipython3",
   "version": "3.6.3"
  }
 },
 "nbformat": 4,
 "nbformat_minor": 2
}
