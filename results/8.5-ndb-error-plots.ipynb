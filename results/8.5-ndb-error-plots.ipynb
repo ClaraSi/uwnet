{
 "cells": [
  {
   "cell_type": "code",
   "execution_count": 1,
   "metadata": {},
   "outputs": [],
   "source": [
    "%matplotlib inline\n",
    "import xarray as xr\n",
    "import matplotlib.pyplot as plt"
   ]
  },
  {
   "cell_type": "code",
   "execution_count": 2,
   "metadata": {},
   "outputs": [],
   "source": [
    "errors = xr.open_dataset(\"../data/output/test_error.nc\")"
   ]
  },
  {
   "cell_type": "code",
   "execution_count": 3,
   "metadata": {},
   "outputs": [],
   "source": [
    "def mass_weight(w, err):\n",
    "    mass = w.sum('z')\n",
    "    mw =  (w * err).sum('z')/mass\n",
    "    return mw.median('seed').mean('y')\n",
    "\n",
    "ds = xr.Dataset(dict(\n",
    "    mqt = mass_weight(errors.w, errors.qt),\n",
    "    msl = mass_weight(errors.w, errors.sl),\n",
    "    nhidden=errors.nhidden.isel(seed=0),\n",
    "    window_size=errors.window_size.isel(seed=0),\n",
    "\n",
    "))\n",
    "\n",
    "df = ds.to_dataframe().reset_index()"
   ]
  },
  {
   "cell_type": "code",
   "execution_count": 4,
   "metadata": {},
   "outputs": [],
   "source": [
    "varyn = df[(df.window_size == 10) & (df.epoch >= 1)]\n",
    "varyt = df[df.nhidden == 128]"
   ]
  },
  {
   "cell_type": "code",
   "execution_count": 5,
   "metadata": {},
   "outputs": [
    {
     "data": {
      "text/html": [
       "<div>\n",
       "<style scoped>\n",
       "    .dataframe tbody tr th:only-of-type {\n",
       "        vertical-align: middle;\n",
       "    }\n",
       "\n",
       "    .dataframe tbody tr th {\n",
       "        vertical-align: top;\n",
       "    }\n",
       "\n",
       "    .dataframe thead th {\n",
       "        text-align: right;\n",
       "    }\n",
       "</style>\n",
       "<table border=\"1\" class=\"dataframe\">\n",
       "  <thead>\n",
       "    <tr style=\"text-align: right;\">\n",
       "      <th></th>\n",
       "      <th>epoch</th>\n",
       "      <th>model</th>\n",
       "      <th>seed</th>\n",
       "      <th>mqt</th>\n",
       "      <th>msl</th>\n",
       "      <th>nhidden</th>\n",
       "      <th>window_size</th>\n",
       "    </tr>\n",
       "  </thead>\n",
       "  <tbody>\n",
       "    <tr>\n",
       "      <th>9</th>\n",
       "      <td>1</td>\n",
       "      <td>VaryNHid-128</td>\n",
       "      <td>0</td>\n",
       "      <td>0.382443</td>\n",
       "      <td>0.654440</td>\n",
       "      <td>128</td>\n",
       "      <td>10</td>\n",
       "    </tr>\n",
       "    <tr>\n",
       "      <th>10</th>\n",
       "      <td>1</td>\n",
       "      <td>VaryNHid-256</td>\n",
       "      <td>0</td>\n",
       "      <td>0.399519</td>\n",
       "      <td>0.708726</td>\n",
       "      <td>256</td>\n",
       "      <td>10</td>\n",
       "    </tr>\n",
       "    <tr>\n",
       "      <th>11</th>\n",
       "      <td>1</td>\n",
       "      <td>VaryNHid-5</td>\n",
       "      <td>0</td>\n",
       "      <td>0.729930</td>\n",
       "      <td>1.406783</td>\n",
       "      <td>5</td>\n",
       "      <td>10</td>\n",
       "    </tr>\n",
       "    <tr>\n",
       "      <th>12</th>\n",
       "      <td>1</td>\n",
       "      <td>VaryNHid-64</td>\n",
       "      <td>0</td>\n",
       "      <td>0.464101</td>\n",
       "      <td>0.857954</td>\n",
       "      <td>64</td>\n",
       "      <td>10</td>\n",
       "    </tr>\n",
       "    <tr>\n",
       "      <th>13</th>\n",
       "      <td>1</td>\n",
       "      <td>VaryT-10</td>\n",
       "      <td>0</td>\n",
       "      <td>0.401179</td>\n",
       "      <td>0.682181</td>\n",
       "      <td>128</td>\n",
       "      <td>10</td>\n",
       "    </tr>\n",
       "  </tbody>\n",
       "</table>\n",
       "</div>"
      ],
      "text/plain": [
       "    epoch         model seed       mqt       msl  nhidden  window_size\n",
       "9       1  VaryNHid-128    0  0.382443  0.654440      128           10\n",
       "10      1  VaryNHid-256    0  0.399519  0.708726      256           10\n",
       "11      1    VaryNHid-5    0  0.729930  1.406783        5           10\n",
       "12      1   VaryNHid-64    0  0.464101  0.857954       64           10\n",
       "13      1      VaryT-10    0  0.401179  0.682181      128           10"
      ]
     },
     "execution_count": 5,
     "metadata": {},
     "output_type": "execute_result"
    }
   ],
   "source": [
    "varyn.head()"
   ]
  },
  {
   "cell_type": "code",
   "execution_count": 6,
   "metadata": {},
   "outputs": [],
   "source": [
    "def plot_error_series(x, y, hue, data, ax=None, **kwargs):\n",
    "    \n",
    "    if not ax:\n",
    "        ax = plt.gca()\n",
    "    \n",
    "    lines = []\n",
    "    ns = []\n",
    "    for n, val in data.groupby(hue):\n",
    "        val = val.groupby(x).min().reset_index()\n",
    "        val = val.sort_values(x)\n",
    "        line, = ax.plot(val[x], val[y], label=n, **kwargs)\n",
    "        lines.append(line)\n",
    "        ns.append(n)\n",
    "    return ns, lines\n",
    "\n",
    "\n",
    "def plot_parameter_experiments(y, df, ax=None):\n",
    "    if not ax:\n",
    "        ax = plt.gca()\n",
    "        \n",
    "    ax.set_prop_cycle(plt.cycler('alpha', [.2, .4, .6, .8, 1.0]))\n",
    "\n",
    "    t, wind = plot_error_series(\"epoch\", y, \"nhidden\",\n",
    "                      df[(df.window_size == 10) & (df.epoch >= 1)],\n",
    "                      marker='s', color='k', ax=ax)\n",
    "\n",
    "    n, nhid = plot_error_series(\"epoch\", y, \"window_size\",\n",
    "                      df[(df.nhidden == 128) & (df.epoch >= 1) & (df.window_size > 2)],\n",
    "                      marker='s', color='r', ax=ax)\n",
    "    \n",
    "    return t, wind, n, nhid\n",
    "\n",
    "\n",
    "def add_legend(args, ax):\n",
    "    t, wind, n, nhid = args\n",
    "    leg1 = plt.legend(wind, t, title='Number Hidden')\n",
    "    ax.add_artist(leg1)\n",
    "    leg2 = plt.legend(nhid, n, title='Window Size')\n"
   ]
  },
  {
   "cell_type": "code",
   "execution_count": 8,
   "metadata": {
    "scrolled": false
   },
   "outputs": [
    {
     "data": {
      "image/png": "[encoded data removed]",
      "text/plain": [
       "<matplotlib.figure.Figure at 0x120808f60>"
      ]
     },
     "metadata": {},
     "output_type": "display_data"
    }
   ],
   "source": [
    "fig, axs = plt.subplots(1, 3)\n",
    "\n",
    "\n",
    "plot_parameter_experiments(\"mqt\", df, ax=axs[1])\n",
    "args = plot_parameter_experiments(\"msl\", df, ax=axs[2])\n",
    "add_legend(args, ax=axs[2])"
   ]
  }
 ],
 "metadata": {
  "kernelspec": {
   "display_name": "Python 3",
   "language": "python",
   "name": "python3"
  },
  "language_info": {
   "codemirror_mode": {
    "name": "ipython",
    "version": 3
   },
   "file_extension": ".py",
   "mimetype": "text/x-python",
   "name": "python",
   "nbconvert_exporter": "python",
   "pygments_lexer": "ipython3",
   "version": "3.6.3"
  },
  "toc": {
   "nav_menu": {},
   "number_sections": true,
   "sideBar": true,
   "skip_h1_title": false,
   "title_cell": "Table of Contents",
   "title_sidebar": "Contents",
   "toc_cell": false,
   "toc_position": {},
   "toc_section_display": true,
   "toc_window_display": false
  },
  "varInspector": {
   "cols": {
    "lenName": 16,
    "lenType": 16,
    "lenVar": 40
   },
   "kernels_config": {
    "python": {
     "delete_cmd_postfix": "",
     "delete_cmd_prefix": "del ",
     "library": "var_list.py",
     "varRefreshCmd": "print(var_dic_list())"
    },
    "r": {
     "delete_cmd_postfix": ") ",
     "delete_cmd_prefix": "rm(",
     "library": "var_list.r",
     "varRefreshCmd": "cat(var_dic_list()) "
    }
   },
   "types_to_exclude": [
    "module",
    "function",
    "builtin_function_or_method",
    "instance",
    "_Feature"
   ],
   "window_display": false
  }
 },
 "nbformat": 4,
 "nbformat_minor": 2
}
