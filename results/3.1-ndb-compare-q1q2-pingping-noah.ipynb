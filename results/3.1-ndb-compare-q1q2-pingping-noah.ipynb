{
 "cells": [
  {
   "cell_type": "markdown",
   "metadata": {},
   "source": [
    "In this notebook, I compare  Q1c and Q2 for my work and ping pings."
   ]
  },
  {
   "cell_type": "code",
   "execution_count": null,
   "metadata": {},
   "outputs": [],
   "source": [
    "import xarray as xr\n",
    "import holoviews as hv\n",
    "hv.extension('bokeh')"
   ]
  },
  {
   "cell_type": "code",
   "execution_count": null,
   "metadata": {},
   "outputs": [],
   "source": [
    "D = xr.open_mfdataset(\"../data/calc/ngaqua/*.nc\").isel(y=slice(24,40)).load()\n",
    "\n",
    "D "
   ]
  },
  {
   "cell_type": "code",
   "execution_count": null,
   "metadata": {},
   "outputs": [],
   "source": [
    "sig = D.std(['x', 'y', 'time'])\n",
    "mu = D.mean(['x', 'y', 'time'])"
   ]
  },
  {
   "cell_type": "code",
   "execution_count": null,
   "metadata": {},
   "outputs": [],
   "source": [
    "%%opts Curve[invert_axes=True]\n",
    "hv.Dataset(mu.sl, vdims=[\"SL [K]\"]).to.curve(\"z\") \\\n",
    "+ hv.Dataset(mu.qt, vdims=[\"QT [g/kg]\"]).to.curve(\"z\")"
   ]
  },
  {
   "cell_type": "markdown",
   "metadata": {},
   "source": [
    "Mean of ping ping q1"
   ]
  },
  {
   "cell_type": "code",
   "execution_count": null,
   "metadata": {},
   "outputs": [],
   "source": [
    "%%opts Curve[invert_axes=True]\n",
    "\n",
    "q1 =xr.open_dataset(\"../data/ngaqua/3d/Q1.nc\")\n",
    "qr = xr.open_dataset(\"../data/ngaqua/3d/QRAD.nc\")\n",
    "\n",
    "mup2 = (q1.Q1).mean(['x','y', 'time']).to_dataset(name='Q1c')\n",
    "\n",
    "hv.Dataset(mup2).to.curve(\"z\", label=\"Ping Ping\")\\\n",
    "*hv.Dataset(mu.Q1).to.curve(\"z\", label=\"Noah\")"
   ]
  },
  {
   "cell_type": "markdown",
   "metadata": {},
   "source": [
    "Why is the pattern on the right twice the amplitude of the one on the left?"
   ]
  },
  {
   "cell_type": "code",
   "execution_count": null,
   "metadata": {},
   "outputs": [],
   "source": [
    "%%opts Curve[invert_axes=True]\n",
    "\n",
    "q2 =xr.open_dataset(\"../data/ngaqua/3d/Q2.nc\")\n",
    "mup2 = q2.Q2.mean(['x','y', 'time'])\n",
    "\n",
    "hv.Dataset(mup2).to.curve(\"z\", label=\"Ping Ping\")\\\n",
    "*hv.Dataset(mu.Q2).to.curve(\"z\", label=\"Noah\")"
   ]
  },
  {
   "cell_type": "markdown",
   "metadata": {},
   "source": [
    "Is this factor of two error in my code or ping pings? Why would the problem only show up with Q1c and not with Q2?"
   ]
  },
  {
   "cell_type": "markdown",
   "metadata": {},
   "source": [
    "What about for some specific location?"
   ]
  },
  {
   "cell_type": "code",
   "execution_count": null,
   "metadata": {},
   "outputs": [],
   "source": [
    "%%opts Curve[invert_axes=True]\n",
    "\n",
    "def mysel(x=0,y=0,time=0):\n",
    "    \n",
    "    layout = hv.Dataset(q1.isel(x=x, y=y,time=time)).to.curve(\"z\", label=\"Ping Ping\").redim(Q1=\"Q1 [K/d]\") *\\\n",
    "    hv.Dataset(D.Q1.isel(x=x, y=y,time=time)).to.curve(\"z\", label=\"Noah\")\n",
    "    return layout\n",
    "   \n",
    "\n",
    "m = hv.DynamicMap(mysel,kdims=['x','y','time'])\n",
    "m.redim.range(x=(0, 64), y=(0,16), time=(0,640))"
   ]
  },
  {
   "cell_type": "markdown",
   "metadata": {},
   "source": [
    "We can see the answer is still pretty similar in an individual location, although there are some slight differences."
   ]
  }
 ],
 "metadata": {
  "kernelspec": {
   "display_name": "Python 3",
   "language": "python",
   "name": "python3"
  },
  "language_info": {
   "codemirror_mode": {
    "name": "ipython",
    "version": 3
   },
   "file_extension": ".py",
   "mimetype": "text/x-python",
   "name": "python",
   "nbconvert_exporter": "python",
   "pygments_lexer": "ipython3",
   "version": "3.6.3"
  }
 },
 "nbformat": 4,
 "nbformat_minor": 2
}
