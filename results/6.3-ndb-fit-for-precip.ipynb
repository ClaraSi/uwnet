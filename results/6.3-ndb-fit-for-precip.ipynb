{
 "cells": [
  {
   "cell_type": "code",
   "execution_count": null,
   "metadata": {},
   "outputs": [],
   "source": [
    "%matplotlib inline\n",
    "import numpy as np"
   ]
  },
  {
   "cell_type": "code",
   "execution_count": null,
   "metadata": {},
   "outputs": [],
   "source": [
    "import xarray as xr"
   ]
  },
  {
   "cell_type": "code",
   "execution_count": null,
   "metadata": {},
   "outputs": [],
   "source": [
    "fields_3d = xr.open_mfdataset(\"../data/raw/2/NG_5120x2560x34_4km_10s_QOBS_EQX/coarse/3d/*.nc\")\n",
    "fields_2d = xr.open_dataset(\"../data/raw/2/NG_5120x2560x34_4km_10s_QOBS_EQX/coarse/2d/all.nc\")\n",
    "\n",
    "# for some reason the time values are all scrambled up.\n",
    "fields_2d = fields_2d.isel(time=fields_2d.time.values.argsort())\n",
    "data = xr.merge((fields_2d, fields_3d), join='inner').isel(y=slice(24, 40))"
   ]
  },
  {
   "cell_type": "code",
   "execution_count": null,
   "metadata": {},
   "outputs": [],
   "source": [
    "plt.figure(figsize=(4,10))\n",
    "data.Prec.mean('y').plot()"
   ]
  },
  {
   "cell_type": "code",
   "execution_count": null,
   "metadata": {},
   "outputs": [],
   "source": [
    "inputs = data[['QV', 'TABS']]\n",
    "output = data.Prec"
   ]
  },
  {
   "cell_type": "code",
   "execution_count": null,
   "metadata": {},
   "outputs": [],
   "source": [
    "mu = inputs.mean(['x','y', 'time'])\n",
    "sig2 = ((inputs - mu)**2).mean()\n",
    "sig  = sig2.compute().apply(np.sqrt)\n",
    "\n",
    "def prepare_inputs(inputs):\n",
    "    \n",
    "    sample_dims = [dim for dim in ['x', 'y', 'time']\n",
    "                  if dim in inputs.dims]\n",
    "\n",
    "    inputs = (inputs-mu)/sig\n",
    "    X = inputs.to_array().stack(samples=sample_dims, features=['variable', 'z']).compute()\n",
    "    \n",
    "    return X\n",
    "\n",
    "X = prepare_inputs(inputs)\n",
    "y  = output.stack(samples=['x', 'y', 'time']).compute()"
   ]
  },
  {
   "cell_type": "code",
   "execution_count": null,
   "metadata": {},
   "outputs": [],
   "source": [
    "import keras\n",
    "from keras.datasets import mnist\n",
    "from keras.models import Sequential\n",
    "from keras.layers import Dense, Dropout\n",
    "from keras.optimizers import RMSprop\n",
    "\n",
    "\n",
    "inds = np.random.choice(X.shape[0], 100000)\n",
    "\n",
    "model = Sequential()\n",
    "model.add(Dense(200, activation='relu', input_shape=(68,)))\n",
    "model.add(Dropout(0.2))\n",
    "model.add(Dense(200, activation='relu'))\n",
    "model.add(Dropout(0.2))\n",
    "model.add(Dense(1, activation='relu'))\n",
    "\n",
    "model.compile(loss='mse',\n",
    "              optimizer=RMSprop(),\n",
    "              metrics=['accuracy'])\n",
    "\n",
    "model.fit(X[inds], y[inds], epochs=5)"
   ]
  },
  {
   "cell_type": "code",
   "execution_count": null,
   "metadata": {},
   "outputs": [],
   "source": [
    "pred = model.predict(prepare_inputs(inputs.isel(x=0,y=8)))"
   ]
  },
  {
   "cell_type": "code",
   "execution_count": null,
   "metadata": {},
   "outputs": [],
   "source": [
    "pred = xr.DataArray(pred[:,0], coords=data.Prec.isel(x=0, y=8).coords)"
   ]
  },
  {
   "cell_type": "code",
   "execution_count": null,
   "metadata": {},
   "outputs": [],
   "source": [
    "comp = xr.Dataset({'truth': data.Prec, 'pred': pred})"
   ]
  },
  {
   "cell_type": "code",
   "execution_count": null,
   "metadata": {},
   "outputs": [],
   "source": [
    "import holoviews as hv\n",
    "hv.extension('bokeh')"
   ]
  },
  {
   "cell_type": "code",
   "execution_count": null,
   "metadata": {},
   "outputs": [],
   "source": [
    "%%opts Curve[width=600]\n",
    "ds = hv.Dataset(comp.isel(x=0, y=8).to_array().to_dataset(name= \"Precip\"))\n",
    "ds.to.curve(\"time\").overlay()"
   ]
  }
 ],
 "metadata": {
  "kernelspec": {
   "display_name": "Python 3",
   "language": "python",
   "name": "python3"
  },
  "language_info": {
   "codemirror_mode": {
    "name": "ipython",
    "version": 3
   },
   "file_extension": ".py",
   "mimetype": "text/x-python",
   "name": "python",
   "nbconvert_exporter": "python",
   "pygments_lexer": "ipython3",
   "version": "3.6.3"
  }
 },
 "nbformat": 4,
 "nbformat_minor": 2
}
