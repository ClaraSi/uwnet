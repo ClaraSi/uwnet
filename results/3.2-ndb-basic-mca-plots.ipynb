{
 "cells": [
  {
   "cell_type": "markdown",
   "metadata": {},
   "source": [
    "I will develop some nice visualizations of the MCA modes in this notebook.\n",
    "\n",
    "First some header information:"
   ]
  },
  {
   "cell_type": "code",
   "execution_count": null,
   "metadata": {},
   "outputs": [],
   "source": [
    "!git rev-parse HEAD\n",
    "!git status"
   ]
  },
  {
   "cell_type": "code",
   "execution_count": null,
   "metadata": {},
   "outputs": [],
   "source": [
    "from sklearn.externals import joblib\n",
    "import xarray as xr\n",
    "import pandas as pd\n",
    "import numpy as np\n",
    "\n",
    "\n",
    "import matplotlib.pyplot as plt\n",
    "%matplotlib inline\n",
    "\n",
    "\n",
    "import holoviews as hv\n",
    "import datashader as ds\n",
    "from holoviews.operation.datashader import aggregate, shade, datashade, dynspread\n",
    "hv.extension('bokeh')"
   ]
  },
  {
   "cell_type": "code",
   "execution_count": null,
   "metadata": {},
   "outputs": [],
   "source": [
    "from lib.util import mat_to_xarray\n",
    "\n",
    "def transformed_to_xarray(mat, samples_idx):\n",
    "    \"\"\"Create DataArray from input and output MCA scores\"\"\"\n",
    "    return mat_to_xarray(mat, {0: samples_idx}).unstack('dim_0')"
   ]
  },
  {
   "cell_type": "code",
   "execution_count": null,
   "metadata": {},
   "outputs": [],
   "source": [
    "mca_output = joblib.load(\"../data/ml/ngaqua/mca.pkl\")\n",
    "\n",
    "# get samples idx from training data\n",
    "data = joblib.load(\"../data/ml/ngaqua/data.pkl\")\n",
    "samples_idx = data['train'][1].indexes['samples']\n",
    "\n",
    "input_scores = transformed_to_xarray(mca_output['transformed'][0], samples_idx)\n",
    "output_scores = transformed_to_xarray(mca_output['transformed'][1], samples_idx)"
   ]
  },
  {
   "cell_type": "markdown",
   "metadata": {},
   "source": [
    "## Zonal Hovmoller Diagrams\n"
   ]
  },
  {
   "cell_type": "code",
   "execution_count": null,
   "metadata": {},
   "outputs": [],
   "source": [
    "def plot_zonal_hovmoller(input_scores, output_scores):\n",
    "    \"\"\"Plot the Hovmoller diagram of the meridionally averaged data\"\"\"\n",
    "\n",
    "\n",
    "    def adjust_dims(x):\n",
    "        return x.assign(x=x.x/1e6, dim_1=x.dim_1+1)\n",
    "\n",
    "    in_score_yavg = input_scores.mean('y').to_dataset(name='X').pipe(adjust_dims)\n",
    "    out_score_yavg = output_scores.mean('y').to_dataset(name='Y').pipe(adjust_dims)\n",
    "    \n",
    "    hmap = (hv.Dataset(in_score_yavg).to.image(kdims=[\"x\", \"time\"], label=\"SL, QT\")\n",
    "       +hv.Dataset(out_score_yavg).to.image(kdims=[\"x\", \"time\"], label=\"Q1, Q2\"))\\\n",
    "    .redim.label(dim_1=\"Mode\")\\\n",
    "    .redim.unit(x=\"1000 km\", time=\"d\")\n",
    "    return hmap\n"
   ]
  },
  {
   "cell_type": "code",
   "execution_count": null,
   "metadata": {},
   "outputs": [],
   "source": [
    "%%opts Image[width=200, height=400](cmap='RdBu') {+framewise}\n",
    "\n",
    "plot_zonal_hovmoller(input_scores, output_scores)"
   ]
  },
  {
   "cell_type": "markdown",
   "metadata": {},
   "source": [
    "Unfortunately, these Hovmoller diagrams are not that informative. It looks like there are some large eastward moving disturbances, but that is about all the insight I can get from these plots.\n",
    "\n",
    "Why are the values on the right so positive or and negative (or is this just a plotting artifact)."
   ]
  },
  {
   "cell_type": "markdown",
   "metadata": {},
   "source": [
    "# Time Series"
   ]
  },
  {
   "cell_type": "code",
   "execution_count": null,
   "metadata": {},
   "outputs": [],
   "source": [
    "def plot_ts(x=0,y=0,dim_1=0):\n",
    "    return (hv.Dataset(input_scores.to_dataset(name=\"X\")\\\n",
    "                      .isel(x=x,y=y,dim_1=dim_1-1))\\\n",
    "                  .to.curve(\"time\") \n",
    "    + hv.Dataset(output_scores.to_dataset(name=\"Y\")\\\n",
    "                      .isel(x=x,y=y,dim_1=dim_1-1))\\\n",
    "                  .to.curve(\"time\")).cols(1)"
   ]
  },
  {
   "cell_type": "code",
   "execution_count": null,
   "metadata": {},
   "outputs": [],
   "source": [
    "%%opts Curve[width=600, height=200] {+framewise}\n",
    "\n",
    "dmap = (hv.DynamicMap(plot_ts, kdims=[\"x\", \"y\", \"dim_1\"])\n",
    ".redim.range(x=(0, 10), y=(0,16), dim_1=(1,4))\n",
    ".redim(dim_1=\"Mode\"))\n",
    "dmap"
   ]
  },
  {
   "cell_type": "code",
   "execution_count": null,
   "metadata": {},
   "outputs": [],
   "source": [
    "%%output filename=\"../docs/images/mca_ts\" fig=\"png\"\n",
    "dmap[0, 8,1]"
   ]
  },
  {
   "cell_type": "markdown",
   "metadata": {},
   "source": [
    "The most obvious feature of these diagrams is that the input scores have much longer time-scales than the output scores do. However, the input scores do correlate with the output scores."
   ]
  },
  {
   "cell_type": "markdown",
   "metadata": {},
   "source": [
    "Here is a scatter plot of first x score compared versus the first y score. Because this is about 100,000 points, I will use datashader to make the scatter plot."
   ]
  },
  {
   "cell_type": "code",
   "execution_count": null,
   "metadata": {},
   "outputs": [],
   "source": [
    "%%opts RGB[width=400, height=400]\n",
    "\n",
    "pts = dynspread(\n",
    "    datashade(hv.Scatter((input_scores[...,0].values.ravel(),\n",
    "                          output_scores[...,0].values.ravel())),\n",
    "              cmap='blue'))\n",
    "pts.redim.range(y=(-100,100))"
   ]
  },
  {
   "cell_type": "markdown",
   "metadata": {},
   "source": [
    "# Vertical Structure of the modes"
   ]
  },
  {
   "cell_type": "code",
   "execution_count": null,
   "metadata": {},
   "outputs": [],
   "source": [
    "\n",
    "from xnoah.data_matrix import unstack_cat\n",
    "plt.style.use('seaborn')\n",
    "\n",
    "\n",
    "# scale modes by max of qt between 0 and  8000 m\n",
    "def get_scale(qt):\n",
    "    idx_max = np.abs(qt.sel(z=slice(0, 8000))).argmax('z')\n",
    "    pts = qt.isel_points(dim_0=range(4), z=idx_max.values)\n",
    "    \n",
    "    return xr.DataArray(pts.values, (pts.dim_0,)).rename({'points': 'dim_0'})\n",
    "\n",
    "def plot_scaled_modes(mca_output):\n",
    "    \n",
    "    # load data\n",
    "    x_modes, y_modes = [unstack_cat(x, 'features') for x in mca_output['modes']]\n",
    "\n",
    "    # scale output\n",
    "    scale = get_scale(x_modes.qt)\n",
    "    x_modes = x_modes/scale\n",
    "    y_modes = y_modes/scale\n",
    "\n",
    "\n",
    "    # open figure and plot\n",
    "    fig, axs = plt.subplots(2,2, figsize=(4,6), sharey=True)\n",
    "\n",
    "    for i in range(2):\n",
    "        x = x_modes.isel(dim_0=i)\n",
    "        y = y_modes.isel(dim_0=i)\n",
    "        z  =x.z/1e3\n",
    "        axs[i,0].plot(x.qt, z, label=\"QT [g/kg]\")\n",
    "        axs[i,0].plot(x.sl, z, label=\"SL [g/kg]\")\n",
    "        axs[i,0].legend()\n",
    "\n",
    "        axs[i,0].set_xticks([-.5,0, .5, 1.0])\n",
    "\n",
    "        axs[i,0].set_title(f\"Mode {i+1}\")\n",
    "\n",
    "        axs[i,1].plot(y.Q1c, z, label=\"Q1c [K/d]\")\n",
    "        axs[i,1].plot(y.Q2, z, label=\"Q2 [K/d]\")\n",
    "        axs[i,1].legend()\n",
    "\n",
    "    for ax in axs[:,0]:\n",
    "        ax.set_ylabel('z [km]')\n",
    "\n",
    "    plt.tight_layout()\n",
    "    \n",
    "    \n",
    "plot_scaled_modes(mca_output)\n",
    "plt.savefig(\"../docs/images/mca_modes.pdf\")"
   ]
  },
  {
   "cell_type": "markdown",
   "metadata": {},
   "source": [
    "Convection shallows(deepens) when the sign of mode 2 is positive."
   ]
  }
 ],
 "metadata": {
  "kernelspec": {
   "display_name": "Python 3",
   "language": "python",
   "name": "python3"
  },
  "language_info": {
   "codemirror_mode": {
    "name": "ipython",
    "version": 3
   },
   "file_extension": ".py",
   "mimetype": "text/x-python",
   "name": "python",
   "nbconvert_exporter": "python",
   "pygments_lexer": "ipython3",
   "version": "3.6.3"
  }
 },
 "nbformat": 4,
 "nbformat_minor": 2
}
