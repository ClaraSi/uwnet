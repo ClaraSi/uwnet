{
 "cells": [
  {
   "cell_type": "markdown",
   "metadata": {},
   "source": [
    "I need to plot the training vs testing error as a function of time. We will define the error as \n",
    " $$ MSE(x_{ s \\leq t \\leq T}, \\tilde{x}^s_{ s \\leq t \\leq T}) $$\n",
    "where $\\tilde{x}^{s}_{x \\leq t \\leq T}$ is the time series of the prediction made using the forced initial value problem. We will use the first 40 days of the simulation as a training set, and the second 40 as a testing set.\n",
    "\n",
    "The expected prediction error will be taken over all points in the testing dataset."
   ]
  },
  {
   "cell_type": "code",
   "execution_count": null,
   "metadata": {},
   "outputs": [],
   "source": [
    "%matplotlib inline\n",
    "import seaborn as sns\n",
    "\n",
    "sns.set_style('whitegrid')"
   ]
  },
  {
   "cell_type": "code",
   "execution_count": null,
   "metadata": {},
   "outputs": [],
   "source": [
    "import json, glob, os, re\n",
    "from toolz import merge\n",
    "import pandas as pd"
   ]
  },
  {
   "cell_type": "code",
   "execution_count": null,
   "metadata": {},
   "outputs": [],
   "source": [
    "def open_json(path, **kwargs):\n",
    "    d = json.load(open(path))\n",
    "    \n",
    "    metadata = merge(d['args'], kwargs)\n",
    "    metadata['path'] = path\n",
    "    metadata['nhidden'] = metadata['nhidden'][0]\n",
    "    \n",
    "    df = pd.DataFrame(d['training']).assign(**metadata)\n",
    "    return df\n",
    "\n",
    "def open_model(path, **kwargs):\n",
    "    seeds = glob.glob(path + \"/*.json\")\n",
    "    for seed in seeds:\n",
    "        i = os.path.splitext(os.path.basename(seed))[0]\n",
    "        yield open_json(seed, seed=i, **kwargs)\n",
    "\n",
    "\n",
    "def _open_jsons(path):\n",
    "    models = glob.glob(path + \"/model.*\")\n",
    "    models = filter(os.path.isdir, models)\n",
    "    for model in models:\n",
    "        m = re.search(r\"model\\.(.+)\", os.path.basename(model))\n",
    "        yield from open_model(model, model=m.group(1))\n",
    "    \n",
    "    \n",
    "def open_jsons(path):\n",
    "    return pd.concat(_open_jsons(path), axis=0)\n",
    "    "
   ]
  },
  {
   "cell_type": "code",
   "execution_count": null,
   "metadata": {},
   "outputs": [],
   "source": [
    "df = open_jsons(\"../data/output/\")\n",
    "\n",
    "# fill in Na to training loss when batch = 0\n",
    "df.loc[df.batch == 0, 'train_loss'] = np.NaN\n",
    "# only keep a subet of the variables\n",
    "variables = ['nhidden', 'window_size', 'test_loss', 'train_loss', 'epoch', 'batch', 'seed']\n",
    "df = df[variables]\n",
    "\n",
    "df[variables].head()"
   ]
  },
  {
   "cell_type": "markdown",
   "metadata": {},
   "source": [
    "The test error decreases strongly based on the number of trainin batches. Unfortunately, this is not a fair measure, because the total number of training steps is much smaller between samples."
   ]
  },
  {
   "cell_type": "markdown",
   "metadata": {},
   "source": [
    "Median loss statistics"
   ]
  },
  {
   "cell_type": "markdown",
   "metadata": {},
   "source": [
    "# Sensitivity to hyper parameters"
   ]
  },
  {
   "cell_type": "code",
   "execution_count": null,
   "metadata": {},
   "outputs": [],
   "source": [
    "# Get vary num hidden experiment\n",
    "nhid = df[df.window_size == 10]\n",
    "vt = df[df.nhidden == 128]"
   ]
  },
  {
   "cell_type": "code",
   "execution_count": null,
   "metadata": {},
   "outputs": [],
   "source": [
    "nhid[(nhid.test_loss > 200) & (nhid.epoch > 1)]"
   ]
  },
  {
   "cell_type": "markdown",
   "metadata": {},
   "source": [
    "It looks like seed 6 of the 256 hidden layer experiment is very far off, so let's just remove it. Also, the window_size = 2 experiment does not converge at all."
   ]
  },
  {
   "cell_type": "code",
   "execution_count": null,
   "metadata": {},
   "outputs": [],
   "source": [
    "nhid = nhid[~ ((nhid.seed == '6') & (nhid.nhidden == 256))]\n",
    "vt = vt[vt.window_size != 2]"
   ]
  },
  {
   "cell_type": "markdown",
   "metadata": {},
   "source": [
    "Here, lets plot the distirbution of the test errors"
   ]
  },
  {
   "cell_type": "code",
   "execution_count": null,
   "metadata": {},
   "outputs": [],
   "source": [
    "fig, (axn, axt) = plt.subplots(1, 2, sharey=True, figsize=(7,3),\n",
    "                              gridspec_kw=dict(width_ratios=(.66, .34), wspace=0.0))\n",
    "\n",
    "sns.boxplot(x=\"epoch\", y=\"test_loss\", hue=\"nhidden\", data=nhid, ax=axn)\n",
    "sns.boxplot(x=\"epoch\", y=\"test_loss\", hue=\"window_size\", data=vt, ax=axt)\n",
    "\n",
    "axn.legend(loc=\"lower left\", ncol=2, title=\"Hidden Nodes\")\n",
    "\n",
    "axt.set_ylabel('')\n",
    "axn.set_ylabel('Test Error')\n",
    "\n",
    "axt.set_ylim([75, 200])\n",
    "\n",
    "axt.set_xlabel(\"Epoch\")\n",
    "# plt.ylim([100, 200])"
   ]
  },
  {
   "cell_type": "markdown",
   "metadata": {},
   "source": [
    "This plot is a little busy, so it is probably better to just the performance over the last 4 epochs."
   ]
  },
  {
   "cell_type": "code",
   "execution_count": null,
   "metadata": {},
   "outputs": [],
   "source": [
    "fig, (axn, axt) = plt.subplots(1, 2, figsize=(6, 6/1.62), sharey=True,\n",
    "                              gridspec_kw=dict(width_ratios=(.67, .33), wspace=0))\n",
    "\n",
    "kws = dict(capsize=.2, join=True)\n",
    "\n",
    "sns.pointplot(x=\"nhidden\", y=\"test_loss\", data=nhid[nhid.epoch > 2], ax=axn, **kws)\n",
    "sns.pointplot(x=\"window_size\", y=\"test_loss\", data=vt[vt.epoch>2], ax=axt, **kws)\n",
    "\n",
    "plt.ylim([120, 155])\n",
    "axt.set_ylabel('')\n",
    "axn.set_ylabel('Error')\n",
    "\n",
    "axn.set_xlabel(\"Hidden Nodes\")\n",
    "axt.set_xlabel(\"Window Size\")\n",
    "fig.suptitle(\"Test error for last 4 epochs\")"
   ]
  },
  {
   "cell_type": "markdown",
   "metadata": {},
   "source": [
    "# Median Training Error\n",
    "\n",
    "I do not show the testing/training loss after a number of steps in the analysis above because it is kind of noisy. Here I will plot the median training and testing errors for each epoch."
   ]
  },
  {
   "cell_type": "code",
   "execution_count": null,
   "metadata": {},
   "outputs": [],
   "source": [
    "def plot_train_test(val, axtrain, axtest, **kwargs):\n",
    "    stats = val.groupby('epoch').median()\n",
    "    stats.test_loss.plot(ax=axtest, **kwargs)\n",
    "    stats.train_loss.plot(ax=axtrain, **kwargs)\n",
    "    \n",
    "\n",
    "legend_box = (1.0, .7)\n",
    "fig, (axtrain, axtest) = plt.subplots(1, 2, figsize=(6, 3))\n",
    "\n",
    "\n",
    "kws = dict(marker='s')\n",
    "\n",
    "lines_nhid = []\n",
    "lines_vt  =[] \n",
    "\n",
    "alpha = .2\n",
    "for n, val in nhid.groupby('nhidden'):\n",
    "    plot_train_test(val, axtrain, axtest, color='b', alpha=alpha, label=n, **kws)\n",
    "    lines_nhid.append(n)\n",
    "    alpha += .2\n",
    "    \n",
    "    \n",
    "\n",
    "leg1 = plt.legend(axtest.get_lines(), lines_nhid, title='Hidden Nodes',\n",
    "                  loc=\"upper left\", bbox_to_anchor=legend_box)\n",
    "    \n",
    "alpha = .5\n",
    "for T, val in vt.groupby('window_size'):\n",
    "    plot_train_test(val, axtrain, axtest, color='r', label=T, alpha=alpha, **kws)\n",
    "    lines_vt.append(T)\n",
    "    alpha += .5\n",
    "    \n",
    "axtest.add_artist(leg1)\n",
    "\n",
    "\n",
    "leg2 = plt.legend(axtest.get_lines()[-2:], lines_vt, title='Window Size',\n",
    "                  loc=\"lower left\", bbox_to_anchor=legend_box)\n",
    "\n",
    "\n",
    "axtest.set_ylim([120, 160])\n",
    "\n",
    "\n",
    "# labels\n",
    "axtrain.set_title('Training Loss')\n",
    "axtest.set_title('Median Test Error')\n",
    "    \n",
    "# axtest.legend(title='Window Size')"
   ]
  }
 ],
 "metadata": {
  "kernelspec": {
   "display_name": "Python 3",
   "language": "python",
   "name": "python3"
  },
  "language_info": {
   "codemirror_mode": {
    "name": "ipython",
    "version": 3
   },
   "file_extension": ".py",
   "mimetype": "text/x-python",
   "name": "python",
   "nbconvert_exporter": "python",
   "pygments_lexer": "ipython3",
   "version": "3.6.3"
  },
  "toc": {
   "nav_menu": {},
   "number_sections": true,
   "sideBar": true,
   "skip_h1_title": false,
   "title_cell": "Table of Contents",
   "title_sidebar": "Contents",
   "toc_cell": false,
   "toc_position": {},
   "toc_section_display": true,
   "toc_window_display": false
  },
  "varInspector": {
   "cols": {
    "lenName": 16,
    "lenType": 16,
    "lenVar": 40
   },
   "kernels_config": {
    "python": {
     "delete_cmd_postfix": "",
     "delete_cmd_prefix": "del ",
     "library": "var_list.py",
     "varRefreshCmd": "print(var_dic_list())"
    },
    "r": {
     "delete_cmd_postfix": ") ",
     "delete_cmd_prefix": "rm(",
     "library": "var_list.r",
     "varRefreshCmd": "cat(var_dic_list()) "
    }
   },
   "types_to_exclude": [
    "module",
    "function",
    "builtin_function_or_method",
    "instance",
    "_Feature"
   ],
   "window_display": false
  }
 },
 "nbformat": 4,
 "nbformat_minor": 2
}
