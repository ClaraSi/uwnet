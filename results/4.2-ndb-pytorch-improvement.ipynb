{
 "cells": [
  {
   "cell_type": "code",
   "execution_count": null,
   "metadata": {},
   "outputs": [],
   "source": [
    "from lib.models.torch_models import single_layer_perceptron, TorchRegressor\n",
    "from lib.models.encdec import get_data_loaders\n",
    "from sklearn.preprocessing import StandardScaler\n",
    "from sklearn.feature_selection import VarianceThreshold\n",
    "from sklearn.externals import joblib\n",
    "from sklearn.pipeline import make_pipeline\n",
    "\n",
    "from torch.autograd import Variable\n",
    "import torch\n",
    "from torch import nn\n",
    "\n",
    "import numpy as np"
   ]
  },
  {
   "cell_type": "code",
   "execution_count": null,
   "metadata": {},
   "outputs": [],
   "source": [
    "train_loader, test_loader = get_data_loaders(\"../data/ml/ngaqua/data.pkl\")"
   ]
  },
  {
   "cell_type": "code",
   "execution_count": null,
   "metadata": {},
   "outputs": [],
   "source": [
    "\n",
    "\n",
    "data = joblib.load(\"../data/ml/ngaqua/data.pkl\")\n",
    "\n",
    "# load weight data\n",
    "w = data['w'][1]/data['scale'][1]**2\n",
    "w_torch = Variable(torch.FloatTensor(w))\n",
    "\n",
    "# mass weighted loss\n",
    "mse = nn.MSELoss()\n",
    "\n",
    "def loss_function(output, y):\n",
    "    return torch.mean(torch.pow(output-y, 2).mul(w_torch))\n",
    "\n",
    "\n",
    "net = TorchRegressor(single_layer_perceptron, loss_function, num_epochs=5,\n",
    "                    optim_kwargs={'lr':.001})\n",
    "mod = make_pipeline(VarianceThreshold(.001), StandardScaler(), net)\n"
   ]
  },
  {
   "cell_type": "code",
   "execution_count": null,
   "metadata": {},
   "outputs": [],
   "source": [
    "xtrain, ytrain = map(np.asarray, data['train'])\n",
    "mod.fit(xtrain, ytrain)"
   ]
  },
  {
   "cell_type": "code",
   "execution_count": null,
   "metadata": {},
   "outputs": [],
   "source": [
    "from lib.models import weighted_r2_score"
   ]
  },
  {
   "cell_type": "code",
   "execution_count": null,
   "metadata": {},
   "outputs": [],
   "source": [
    "x_test, y_test = data['test']\n",
    "\n",
    "pred = mod.predict(x_test)\n",
    "\n",
    "weighted_r2_score(y_test, pred, weight=w)"
   ]
  },
  {
   "cell_type": "markdown",
   "metadata": {},
   "source": [
    "It seems like keras tends to give better performance? Why?"
   ]
  }
 ],
 "metadata": {
  "kernelspec": {
   "display_name": "Python 3",
   "language": "python",
   "name": "python3"
  },
  "language_info": {
   "codemirror_mode": {
    "name": "ipython",
    "version": 3
   },
   "file_extension": ".py",
   "mimetype": "text/x-python",
   "name": "python",
   "nbconvert_exporter": "python",
   "pygments_lexer": "ipython3",
   "version": "3.6.3"
  }
 },
 "nbformat": 4,
 "nbformat_minor": 2
}
