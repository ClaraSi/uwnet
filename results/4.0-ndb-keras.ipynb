{
 "cells": [
  {
   "cell_type": "code",
   "execution_count": null,
   "metadata": {},
   "outputs": [],
   "source": [
    "import xarray as xr\n",
    "\n",
    "%matplotlib inline\n",
    "\n",
    "import matplotlib.pyplot as plt\n",
    "\n",
    "import numpy as np\n",
    "import keras\n",
    "from keras.layers import Dense, Input\n",
    "from keras.models import Model, Sequential\n",
    "from keras.optimizers import Adam\n",
    "from keras.losses import MSE\n",
    "\n",
    "from sklearn.externals import joblib\n",
    "from sklearn.preprocessing import StandardScaler\n",
    "from sklearn.feature_selection import VarianceThreshold\n",
    "\n",
    "from sklearn.pipeline import make_pipeline\n",
    "from sklearn.metrics import r2_score\n",
    "\n",
    "\n",
    "from lib.util import output_to_xr, dict_to_xr, swap_coord"
   ]
  },
  {
   "cell_type": "code",
   "execution_count": null,
   "metadata": {},
   "outputs": [],
   "source": [
    "preproc = make_pipeline(VarianceThreshold(.001), StandardScaler())"
   ]
  },
  {
   "cell_type": "code",
   "execution_count": null,
   "metadata": {},
   "outputs": [],
   "source": [
    "data = joblib.load(\"../data/ml/ngaqua/data.pkl\")\n",
    "p = xr.open_dataset(\"../data/raw/ngaqua/stat.nc\").p\n",
    "\n",
    "x_train, y_train = preproc.fit_transform(data['train'][0]), data['train'][1]\n",
    "x_test, y_test = preproc.transform(data['test'][0]), data['test'][1]\n",
    "\n",
    "w_out = data['w'][1]"
   ]
  },
  {
   "cell_type": "code",
   "execution_count": null,
   "metadata": {},
   "outputs": [],
   "source": [
    "n_in, n_out = x_train.shape[1], y_train.shape[1]"
   ]
  },
  {
   "cell_type": "code",
   "execution_count": null,
   "metadata": {},
   "outputs": [],
   "source": [
    "model = Sequential([\n",
    "    Dense(256, activation='relu', input_shape=(n_in,)),\n",
    "    Dense(256, activation='relu', input_shape=(n_in,)),\n",
    "\n",
    "\n",
    "#     Dense(100, activation='relu'),\n",
    "#     Dense(100, activation='relu'),\n",
    "#     Dense(100, activation='relu'),\n",
    "#     Dense(256, activation='relu'),\n",
    "#     Dense(256, activation='relu'),\n",
    "#     Dense(256, activation='relu'),\n",
    "#     Dense(256, activation='relu'),\n",
    "    Dense(n_out, activation='linear')])\n",
    "\n",
    "optimizer = Adam(lr=.001)\n",
    "\n",
    "import tensorflow as tf\n",
    "\n",
    "def myloss(true, pred):\n",
    "    return tf.reduce_mean((tf.pow(true - pred, 2) * w_out))\n",
    "\n",
    "model.compile(optimizer, myloss)"
   ]
  },
  {
   "cell_type": "code",
   "execution_count": null,
   "metadata": {},
   "outputs": [],
   "source": [
    "inds = np.random.choice(x_train.shape[0], 10000)\n",
    "model.compile(optimizer, myloss)"
   ]
  },
  {
   "cell_type": "code",
   "execution_count": null,
   "metadata": {},
   "outputs": [],
   "source": [
    "model.fit(x_train, y_train, batch_size=40, epochs=3)"
   ]
  },
  {
   "cell_type": "code",
   "execution_count": null,
   "metadata": {},
   "outputs": [],
   "source": [
    "from lib.models import weighted_r2_score\n",
    "\n",
    "pred=  model.predict(x_test)\n",
    "weighted_r2_score(y_test, pred, w_out)"
   ]
  },
  {
   "cell_type": "code",
   "execution_count": null,
   "metadata": {},
   "outputs": [],
   "source": [
    "predictions= dict(pred = output_to_xr(pred, y_test.coords),\n",
    "                  true = output_to_xr(y_test, y_test.coords))\n",
    "\n",
    "preds_xr = dict_to_xr(predictions, dim_name=\"model\")\\\n",
    ".pipe(lambda x: swap_coord(x, z=p))"
   ]
  },
  {
   "cell_type": "code",
   "execution_count": null,
   "metadata": {},
   "outputs": [],
   "source": [
    "axs = preds_xr.isel(x=0, y=8).Q1c.plot(col='model', col_wrap=1, cmap=\"inferno\", vmin=-20, vmax=100,\n",
    "                                figsize=(8,4))\n",
    "plt.gca().invert_yaxis()"
   ]
  }
 ],
 "metadata": {
  "kernelspec": {
   "display_name": "Python 3",
   "language": "python",
   "name": "python3"
  },
  "language_info": {
   "codemirror_mode": {
    "name": "ipython",
    "version": 3
   },
   "file_extension": ".py",
   "mimetype": "text/x-python",
   "name": "python",
   "nbconvert_exporter": "python",
   "pygments_lexer": "ipython3",
   "version": "3.6.3"
  }
 },
 "nbformat": 4,
 "nbformat_minor": 2
}
