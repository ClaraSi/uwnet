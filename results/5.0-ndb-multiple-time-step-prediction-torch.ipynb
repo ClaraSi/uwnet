{
 "cells": [
  {
   "cell_type": "markdown",
   "metadata": {},
   "source": [
    "The data we are using are only evaulated with a coarse sampling time step of 3 hours. On the other hand, we will probably use 10-20 minute time step for the coarse resolution model. This means that the dynamical model we are trying to fit is \n",
    "$$ x^i_{n+1} = \\underbrace{f(f(\\ldots f}_{\\text{m times}}(x^i_n))) + \\int_{t_n}^{t_{n+1}} g(x(t), t) dt$$ \n",
    "where $i$ is the horizontal spatial index, and $n$ is the time step. The number of times the function $f$ is applied is $m=\\frac{\\Delta t}{h}$ where $h$ is the GCMs time step, and $\\Delta t$ is the sampling interval of the stored output. The integral on the right represents the approximately known terms such as advection, and $f$ represents the unknown source terms.\n",
    "\n",
    "We solve a minimization problem to find $f$. This is given by \n",
    "$$\n",
    "\\min_{a} \\lim_{m \\rightarrow \\infty} \\sum_{i,n} ||x^{i}_{n+1} - F^{(m)} x^i_{n} - g_n^{i}||_W^2 \\quad \\text{s.t.}\\quad F^{(m)}(\\cdot) = \\underbrace{f(f(\\ldots f}_{\\text{m times}}(\\cdot))),\\ f(x) = x +  \\frac{ \\Delta t}{m} a(x).\n",
    "$$\n",
    "Intuitively, the forward operator $F^{(m)}$ is the result applying $m$ forward euler steps to the system $a$.\n",
    "\n",
    "Let's try performing this fit. First, we need to import the appropriate models, and load the data\n",
    "\n",
    "# TODO\n",
    "\n",
    "- [x] Implement torch-only preprocessing routine.\n",
    "- [ ] Implement euler time stepping routine. This can be based off `torch_cli.py`"
   ]
  },
  {
   "cell_type": "code",
   "execution_count": null,
   "metadata": {},
   "outputs": [],
   "source": [
    "import matplotlib.pyplot as plt\n",
    "%matplotlib inline"
   ]
  },
  {
   "cell_type": "code",
   "execution_count": null,
   "metadata": {},
   "outputs": [],
   "source": [
    "import numpy as np\n",
    "import xarray as xr\n",
    "import torch"
   ]
  },
  {
   "cell_type": "markdown",
   "metadata": {},
   "source": [
    "This is the coarse sampling time step"
   ]
  },
  {
   "cell_type": "code",
   "execution_count": null,
   "metadata": {},
   "outputs": [],
   "source": [
    "dt = 3/24"
   ]
  },
  {
   "cell_type": "markdown",
   "metadata": {},
   "source": [
    "Let's now define a torch module for the function $a$. It will just be a single layer perceptron, which appropriately scales the inputs first. Let's first compute the appropriate scaling"
   ]
  },
  {
   "cell_type": "code",
   "execution_count": null,
   "metadata": {},
   "outputs": [],
   "source": [
    "data = np.load(\"../data/ml/ngaqua/time_series_data.npz\")\n",
    "\n",
    "X = data['X']\n",
    "G = data['G']\n",
    "scale = data['scales']\n",
    "w = data['w']"
   ]
  },
  {
   "cell_type": "code",
   "execution_count": null,
   "metadata": {},
   "outputs": [],
   "source": [
    "x = X[:-1,8,0,:]\n",
    "xp = X[1:, 8,0,:]\n",
    "g = G[:-1,8,0,:]"
   ]
  },
  {
   "cell_type": "markdown",
   "metadata": {},
   "source": [
    "plt.pcolormesh(x[:,:34]-a.mu)"
   ]
  },
  {
   "cell_type": "code",
   "execution_count": null,
   "metadata": {},
   "outputs": [],
   "source": [
    "def plot_q(x):\n",
    "    plt.pcolormesh(x[:,34:].T)\n",
    "    \n",
    "def plot_t(x):\n",
    "    plt.figure(figsize=(12,2))\n",
    "    plt.pcolormesh(x[:,:34].T, vmin=0,vmax=50)"
   ]
  },
  {
   "cell_type": "code",
   "execution_count": null,
   "metadata": {},
   "outputs": [],
   "source": [
    "plot_t((xp-x)/dt-g)\n",
    "plt.colorbar()"
   ]
  },
  {
   "cell_type": "code",
   "execution_count": null,
   "metadata": {},
   "outputs": [],
   "source": [
    "from lib.models.torch_models import predict"
   ]
  },
  {
   "cell_type": "code",
   "execution_count": null,
   "metadata": {},
   "outputs": [],
   "source": [
    "net = torch.load(\"../data/ml/ngaqua/time_series_fit.torch\")"
   ]
  },
  {
   "cell_type": "markdown",
   "metadata": {},
   "source": [
    "now let's use it to make a prediction"
   ]
  },
  {
   "cell_type": "code",
   "execution_count": null,
   "metadata": {},
   "outputs": [],
   "source": [
    "plot_t(predict(net, x))\n",
    "plt.colorbar()"
   ]
  },
  {
   "cell_type": "markdown",
   "metadata": {},
   "source": [
    "It seems to do a pretty good job compared to the run above."
   ]
  }
 ],
 "metadata": {
  "kernelspec": {
   "display_name": "Python 3",
   "language": "python",
   "name": "python3"
  },
  "language_info": {
   "codemirror_mode": {
    "name": "ipython",
    "version": 3
   },
   "file_extension": ".py",
   "mimetype": "text/x-python",
   "name": "python",
   "nbconvert_exporter": "python",
   "pygments_lexer": "ipython3",
   "version": "3.6.3"
  }
 },
 "nbformat": 4,
 "nbformat_minor": 2
}
