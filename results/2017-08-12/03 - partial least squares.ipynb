{
 "cells": [
  {
   "cell_type": "code",
   "execution_count": null,
   "metadata": {},
   "outputs": [],
   "source": [
    "%pylab inline"
   ]
  },
  {
   "cell_type": "code",
   "execution_count": null,
   "metadata": {},
   "outputs": [],
   "source": [
    "import numpy as np\n",
    "from gnl.xarray import xr2mat, xr, integrate"
   ]
  },
  {
   "cell_type": "code",
   "execution_count": null,
   "metadata": {},
   "outputs": [],
   "source": [
    "\n",
    "input_variables = ['qt', 'sl']\n",
    "output_variables = ['q1c', 'q2']\n",
    "filenames = [\"wd/calc/q1.nc\", \"wd/calc/q2.nc\", \"wd/calc/sl.nc\", \"wd/calc/qt.nc\"]\n",
    "sample_dims = ('x', 'time')\n",
    "feature_dims = ('z',)\n",
    "\n",
    "stat_file = 'wd/stat.nc'\n",
    "\n",
    "# open datasets\n",
    "D = xr.open_mfdataset(filenames)\n",
    "# subtract tend\n",
    "D['q1c' ] = D['q1'] - D['tend']\n",
    "\n",
    "\n",
    "rho = xr.open_dataset(stat_file).RHO[-1]\n",
    "p   = xr.open_dataset(stat_file).p\n",
    "# compute appropriate weight\n",
    "weight = np.sqrt(rho)\n",
    "# demean data\n",
    "D_nomean = D-D.mean(sample_dims)\n",
    "# form data matrices\n",
    "X, x_scale = xr2mat(D_nomean[input_variables], sample_dims, feature_dims, weight=weight, scale=False)\n",
    "Y, y_scale = xr2mat(D_nomean[output_variables],sample_dims, feature_dims, weight=weight, scale=False)\n",
    "# copmute data\n",
    "X.load()\n",
    "Y.load();"
   ]
  },
  {
   "cell_type": "markdown",
   "metadata": {},
   "source": [
    "The condition number of $X$ is very large because there is alot of collinearity in the solutions"
   ]
  },
  {
   "cell_type": "code",
   "execution_count": null,
   "metadata": {},
   "outputs": [],
   "source": [
    "np.linalg.cond(X)"
   ]
  },
  {
   "cell_type": "code",
   "execution_count": null,
   "metadata": {},
   "outputs": [],
   "source": [
    "from sklearn.cross_decomposition import PLSRegression"
   ]
  },
  {
   "cell_type": "code",
   "execution_count": null,
   "metadata": {},
   "outputs": [],
   "source": [
    "mod = PLSRegression(n_components=4, scale=False)\n",
    "mod.fit(X, Y)"
   ]
  },
  {
   "cell_type": "code",
   "execution_count": null,
   "metadata": {},
   "outputs": [],
   "source": [
    "Y_pred = mod.predict(X)\n",
    "Y_pred = xr.DataArray(Y_pred, Y.coords).unstack('samples').unstack('features')\\\n",
    "           .to_dataset('variable')"
   ]
  },
  {
   "cell_type": "code",
   "execution_count": null,
   "metadata": {},
   "outputs": [],
   "source": [
    "pcolormesh(mod.x_weights_)\n",
    "figure()\n",
    "pcolormesh(mod.y_weights_)"
   ]
  },
  {
   "cell_type": "code",
   "execution_count": null,
   "metadata": {},
   "outputs": [],
   "source": []
  },
  {
   "cell_type": "code",
   "execution_count": null,
   "metadata": {},
   "outputs": [],
   "source": [
    "import pandas as pd\n",
    "\n",
    "output_name = \"out.nc\"\n",
    "\n",
    "def flatten_output(x):\n",
    "    \n",
    "    for dim in ['features', 'samples']:\n",
    "        try:\n",
    "            x = x.unstack(dim)\n",
    "        except ValueError:\n",
    "            pass\n",
    "    return x.to_dataset(dim='variable')\n",
    "\n",
    "def parse_pls_output(mod, X, Y):\n",
    "    ncomp = mod.n_components\n",
    "    m = pd.Index(range(ncomp), name='m')\n",
    "    # get weights\n",
    "    xw = xr.DataArray(mod.x_weights_, (X.coords['features'], m), name=\"xw\")\n",
    "    yw = xr.DataArray(mod.y_weights_, (Y.coords['features'], m), name=\"yw\")\n",
    "    # get prediction\n",
    "    y_pred = xr.DataArray(mod.predict(X), Y.coords, name=\"pred\")\n",
    "    return xw, yw, y_pred\n",
    "    \n",
    "def save_pls(mod, X, Y, output_name):\n",
    "    xw, yw, y_pred = parse_pls_output(mod, X, Y)\n",
    "    xw.pipe(flatten_output).to_netcdf(output_name, group=\"x_weights\")\n",
    "    yw.pipe(flatten_output).to_netcdf(output_name, group=\"y_weights\", mode=\"a\")\n",
    "    xw.pipe(flatten_output).to_netcdf(output_name, group=\"pred\", mode=\"a\")\n",
    "    \n",
    "save_pls(mod, X, Y, \"out.nc\")"
   ]
  },
  {
   "cell_type": "code",
   "execution_count": null,
   "metadata": {},
   "outputs": [],
   "source": [
    "Y_pred.isel(x=0).q2.plot()"
   ]
  },
  {
   "cell_type": "code",
   "execution_count": null,
   "metadata": {},
   "outputs": [],
   "source": [
    "p0 = integrate(Y_pred.q1c + D.q1c.mean(sample_dims), 'z')/(2488)"
   ]
  },
  {
   "cell_type": "code",
   "execution_count": null,
   "metadata": {},
   "outputs": [],
   "source": [
    "plt.figure(figsize=(3,6))\n",
    "p0.plot(x='x', y='time')"
   ]
  },
  {
   "cell_type": "code",
   "execution_count": null,
   "metadata": {},
   "outputs": [],
   "source": [
    "import gnl.plots"
   ]
  },
  {
   "cell_type": "code",
   "execution_count": null,
   "metadata": {},
   "outputs": [],
   "source": [
    "gnl.plots.loghist(p0.values.ravel())"
   ]
  },
  {
   "cell_type": "markdown",
   "metadata": {},
   "source": [
    "This shows that the predicted precipitation does not have the typical fat tailed characteristics of realistic precipitation. Which indicates that a linear model---even if it is a good one---cannot possibly reproduce the observed nongaussianeity even for coarse grids."
   ]
  },
  {
   "cell_type": "markdown",
   "metadata": {},
   "source": [
    "## Linear response functiosn"
   ]
  },
  {
   "cell_type": "code",
   "execution_count": null,
   "metadata": {},
   "outputs": [],
   "source": [
    "lrf = np.load(\"wd/calc/lrf.npz\")['arr_0']"
   ]
  }
 ],
 "metadata": {
  "kernelspec": {
   "display_name": "Python 3",
   "language": "python",
   "name": "python3"
  },
  "language_info": {
   "codemirror_mode": {
    "name": "ipython",
    "version": 3
   },
   "file_extension": ".py",
   "mimetype": "text/x-python",
   "name": "python",
   "nbconvert_exporter": "python",
   "pygments_lexer": "ipython3",
   "version": "3.6.1"
  }
 },
 "nbformat": 4,
 "nbformat_minor": 2
}
