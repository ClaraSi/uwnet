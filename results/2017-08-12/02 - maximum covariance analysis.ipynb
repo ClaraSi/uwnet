{
 "cells": [
  {
   "cell_type": "code",
   "execution_count": null,
   "metadata": {},
   "outputs": [],
   "source": [
    "%pylab inline\n",
    "import matplotlib.pyplot as plt\n",
    "import seaborn as sns\n",
    "import xarray as xr\n",
    "\n",
    "plt.rc(\"savefig\", dpi=150)\n",
    "plt.rc(\"figure\", figsize=(3.5,3.5/1.61))\n",
    "\n",
    "plt.rcParams['savefig.dpi'] = 150"
   ]
  },
  {
   "cell_type": "code",
   "execution_count": null,
   "metadata": {},
   "outputs": [],
   "source": [
    "d = xr.open_dataset(\"wd/calc/mca.nc\")\n",
    "p = xr.open_dataset(\"wd/stat.nc\").p\n",
    "d['p'] = p"
   ]
  },
  {
   "cell_type": "markdown",
   "metadata": {},
   "source": [
    "# Maximum Covariance Analysis"
   ]
  },
  {
   "cell_type": "code",
   "execution_count": null,
   "metadata": {},
   "outputs": [],
   "source": [
    "\n",
    "plt.bar(np.r_[:20],d.eig*100)\n",
    "plt.xticks(np.r_[:20])\n",
    "plt.ylabel(\"Percent Variance Explained\")\n",
    "plt.xlabel(\"Mode\")\n",
    "plt.savefig(\"doc/mca-var-exp.png\")"
   ]
  },
  {
   "cell_type": "code",
   "execution_count": null,
   "metadata": {},
   "outputs": [],
   "source": [
    "def plot_modes(d, modes):\n",
    "\n",
    "    colors = [\"blue\", \"dark red\", \"medium green\", \"dark blue\"]\n",
    "    sns.set_palette(sns.xkcd_palette(colors))\n",
    "\n",
    "    fig, axs = plt.subplots(1,4, sharey=True)\n",
    "\n",
    "    # keep lines for making figure\n",
    "    lines = []\n",
    "    for m in modes:\n",
    "        dm = d.isel(m=m)\n",
    "        z = dm.z/1000\n",
    "\n",
    "        lines.append((axs[0].plot(dm.q1,d.p)[0], f\"m = {m}\"))\n",
    "        axs[1].plot(dm.q2,d.p)\n",
    "        axs[2].plot(dm.sl,d.p)\n",
    "        axs[3].plot(dm.qt,d.p)\n",
    "        plt.ylim([1000, 10])\n",
    "\n",
    "        for ax, title in zip(axs.flat, [r'$Q_1$', r'$Q_2$', r'$s_l$', r'$q_t$']):\n",
    "            ax.set_title(title)\n",
    "\n",
    "\n",
    "    axs[0].set_ylabel('p [hPa]')        \n",
    "    fig.legend(*zip(*lines),loc='center right')\n",
    "    \n",
    "plot_modes(d, range(3))\n",
    "plt.savefig(\"doc/mca-0-2.png\")\n",
    "plot_modes(d, range(3,6))\n",
    "plt.savefig(\"doc/mca-3-6.png\")\n",
    "plot_modes(d, range(6,9))\n",
    "plt.savefig(\"doc/mca-6-9.png\")"
   ]
  }
 ],
 "metadata": {
  "kernelspec": {
   "display_name": "Python 3",
   "language": "python",
   "name": "python3"
  },
  "language_info": {
   "codemirror_mode": {
    "name": "ipython",
    "version": 3
   },
   "file_extension": ".py",
   "mimetype": "text/x-python",
   "name": "python",
   "nbconvert_exporter": "python",
   "pygments_lexer": "ipython3",
   "version": "3.6.1"
  }
 },
 "nbformat": 4,
 "nbformat_minor": 2
}
