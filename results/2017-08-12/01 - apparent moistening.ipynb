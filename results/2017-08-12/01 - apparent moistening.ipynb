{
 "cells": [
  {
   "cell_type": "code",
   "execution_count": null,
   "metadata": {},
   "outputs": [],
   "source": [
    "import gnl.xarray\n",
    "\n",
    "def get_2d_field(name):\n",
    "    return xr.open_dataset(f\"/home/disk/eos4/nbren12/Data/id/0c31ce4c6763d8ec2abccafe6bde2fa0bed8124d/data/2d/{name}.nc\",\n",
    "                           chunks={'time':100})\n",
    "\n",
    "def plot_field_2d(name):\n",
    "    a  = get_2d_field(name)[name].coarsen(x=8).compute()\n",
    "    plt.figure(figsize=(4,8))\n",
    "    a.plot()"
   ]
  },
  {
   "cell_type": "code",
   "execution_count": null,
   "metadata": {},
   "outputs": [],
   "source": [
    "%pylab inline"
   ]
  },
  {
   "cell_type": "code",
   "execution_count": null,
   "metadata": {},
   "outputs": [],
   "source": [
    "import xarray as xr\n",
    "from gnl.xarray import integrate\n",
    "from thermo import *\n",
    "\n",
    "import seaborn as sns\n",
    "sns.set_palette('colorblind')"
   ]
  },
  {
   "cell_type": "code",
   "execution_count": null,
   "metadata": {},
   "outputs": [],
   "source": [
    "q1 = xr.open_dataset(\"wd/calc/q1.nc\").q1\n",
    "q2 = xr.open_dataset(\"wd/calc/q2.nc\").q2\n",
    "\n",
    "stats= xr.open_dataset(\"wd/stat.nc\")\n",
    "rho =stats.RHO[-1]\n",
    "p = stats.p"
   ]
  },
  {
   "cell_type": "code",
   "execution_count": null,
   "metadata": {},
   "outputs": [],
   "source": [
    "q1p = q1.sel(time=slice(20,None)).mean(['x','time'])\n",
    "q2p = q2.sel(time=slice(20,None)).mean(['x','time'])"
   ]
  },
  {
   "cell_type": "code",
   "execution_count": null,
   "metadata": {},
   "outputs": [],
   "source": [
    "plt.figure(figsize=(3,5))\n",
    "plt.plot(q1p.values-1.5, p, label=r'$Q_1$')\n",
    "plt.plot(-q2p.values, p, label=r'$-Q_2$')\n",
    "plt.plot(stats.TTEND[-1], p, label=r'$Q_r$')\n",
    "ylim([1000, 10])\n",
    "plt.legend(loc=\"upper right\")\n",
    "plt.ylabel(['p [hPa]'])\n",
    "plt.xlabel('K/day')\n",
    "plt.savefig(\"doc/average_q1q2.png\")"
   ]
  },
  {
   "cell_type": "code",
   "execution_count": null,
   "metadata": {},
   "outputs": [],
   "source": [
    "heating_col_int_fac=(Q_(1, \"K/day * kg/m^2\")* mc.Cp_d).to(\"W/m^2\").magnitude\n",
    "P1 = integrate(q1*rho, 'z') *heating_col_int_fac\n",
    "P2 = integrate(q2*rho, 'z') * heating_col_int_fac"
   ]
  },
  {
   "cell_type": "code",
   "execution_count": null,
   "metadata": {},
   "outputs": [],
   "source": [
    "fac=  (Q_(1, \"W/m^2\") / mc.Lv / Q_(1e3, \"kg/m^3\")).to(\"mm/day\")\n",
    "shf = get_2d_field(\"SHF\").SHF.coarsen(x=64)\n",
    "lhf = get_2d_field(\"LHF\").LHF.coarsen(x=64)\n",
    "\n",
    "prec = get_2d_field(\"Prec\").Prec.coarsen(x=64)\n",
    "\n",
    "\n",
    "\n",
    "truth = prec + shf"
   ]
  },
  {
   "cell_type": "code",
   "execution_count": null,
   "metadata": {},
   "outputs": [],
   "source": [
    "def resample_scatter(x,y, **kwargs):\n",
    "    y = y.reindex_like(x)\n",
    "    \n",
    "    return plt.hexbin(x.values.ravel(), y.values.ravel(), **kwargs)"
   ]
  },
  {
   "cell_type": "code",
   "execution_count": null,
   "metadata": {},
   "outputs": [],
   "source": [
    "((Q_(1, \"W/m^2\")/mc.Lv).to(\"kg/m^2/s\")/Q_(1e3,\"kg/m^3\")).to(\"mm/day\")"
   ]
  },
  {
   "cell_type": "code",
   "execution_count": null,
   "metadata": {},
   "outputs": [],
   "source": [
    "prec_fac = Q_(1, \"mm/day\") * Q_(1e3, \"kg/m^3\") * mc.Lv\n",
    "prec_wm2 = prec * prec_fac.to(\"W/m^2\").magnitude\n",
    "\n",
    "P1.mean('x').plot()\n",
    "((lhf-P2).mean('x')).plot()\n",
    "\n",
    "prec_wm2.mean('x').plot()\n",
    "(shf+prec_wm2).mean('x').plot()\n",
    "\n",
    "xlim([40,50])\n",
    "ylim([75, 250])\n",
    "title('Heat Flux and Precip [W/m^2]')\n",
    "legend(['P1', 'P2', 'Prec','Prec+SHF'])\n",
    "plt.savefig(\"doc/q1q2-vs-precip.png\")"
   ]
  },
  {
   "cell_type": "markdown",
   "metadata": {},
   "source": [
    "## 2D plots"
   ]
  },
  {
   "cell_type": "code",
   "execution_count": null,
   "metadata": {},
   "outputs": [],
   "source": [
    "plot_field_2d(\"U850\")\n",
    "plt.savefig(\"doc/U850.png\")"
   ]
  },
  {
   "cell_type": "code",
   "execution_count": null,
   "metadata": {},
   "outputs": [],
   "source": [
    "plot_field_2d(\"TB\")\n",
    "plt.savefig(\"doc/TB.png\")"
   ]
  }
 ],
 "metadata": {
  "kernelspec": {
   "display_name": "Python 3",
   "language": "python",
   "name": "python3"
  },
  "language_info": {
   "codemirror_mode": {
    "name": "ipython",
    "version": 3
   },
   "file_extension": ".py",
   "mimetype": "text/x-python",
   "name": "python",
   "nbconvert_exporter": "python",
   "pygments_lexer": "ipython3",
   "version": "3.6.1"
  }
 },
 "nbformat": 4,
 "nbformat_minor": 2
}
