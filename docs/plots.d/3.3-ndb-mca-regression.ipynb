{
 "cells": [
  {
   "cell_type": "markdown",
   "metadata": {},
   "source": [
    "I will develop some nice visualizations of the MCA modes in this notebook.\n",
    "\n",
    "First some header information:"
   ]
  },
  {
   "cell_type": "code",
   "execution_count": null,
   "metadata": {},
   "outputs": [],
   "source": [
    "from sklearn.externals import joblib\n",
    "import xarray as xr\n",
    "import pandas as pd\n",
    "import numpy as np\n",
    "\n",
    "\n",
    "import holoviews as hv\n",
    "hv.extension('matplotlib')"
   ]
  },
  {
   "cell_type": "code",
   "execution_count": null,
   "metadata": {},
   "outputs": [],
   "source": [
    "from lib.util import mat_to_xarray\n",
    "from xnoah.data_matrix import unstack_cat"
   ]
  },
  {
   "cell_type": "code",
   "execution_count": null,
   "metadata": {},
   "outputs": [],
   "source": [
    "mcr_data = joblib.load(\"../../data/ml/ngaqua/mca_regression.pkl\")\n",
    "# get coeff matrix\n",
    "lm = mcr_data['model'].mod.named_steps['linearregression']\n",
    "preds = lm.predict(np.eye(4))\n",
    "# get idx\n",
    "idx = mcr_data['features']['out']\n",
    "coef = unstack_cat(mat_to_xarray(preds, {1:idx}), \"dim_1\")\n",
    "coef['dim_0'] +=1"
   ]
  },
  {
   "cell_type": "code",
   "execution_count": null,
   "metadata": {},
   "outputs": [],
   "source": [
    "%%output fig=\"png\", filename=\"../images/mca-regression-coef\" size=50\n",
    "%%opts Curve[invert_axes=True, aspect=.5] {+axiswise}\n",
    "\n",
    "\n",
    "hv.Dataset(coef.to_array().to_dataset(name=\"data\"))\\\n",
    ".to.curve(\"z\")\\\n",
    ".overlay(\"variable\")\\\n",
    ".layout()\\\n",
    ".redim.label(dim_0=\"Mode\", data=\"K/d\")\\\n",
    ".cols(4)"
   ]
  }
 ],
 "metadata": {
  "kernelspec": {
   "display_name": "Python 3",
   "language": "python",
   "name": "python3"
  },
  "language_info": {
   "codemirror_mode": {
    "name": "ipython",
    "version": 3
   },
   "file_extension": ".py",
   "mimetype": "text/x-python",
   "name": "python",
   "nbconvert_exporter": "python",
   "pygments_lexer": "ipython3",
   "version": "3.6.3"
  }
 },
 "nbformat": 4,
 "nbformat_minor": 2
}
