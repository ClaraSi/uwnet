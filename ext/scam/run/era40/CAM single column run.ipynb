{
 "cells": [
  {
   "cell_type": "code",
   "execution_count": null,
   "metadata": {},
   "outputs": [],
   "source": [
    "%matplotlib inline\n",
    "import matplotlib.pyplot as plt\n",
    "plt.style.use('seaborn')"
   ]
  },
  {
   "cell_type": "code",
   "execution_count": null,
   "metadata": {},
   "outputs": [],
   "source": [
    "import xarray as xr"
   ]
  },
  {
   "cell_type": "code",
   "execution_count": null,
   "metadata": {},
   "outputs": [],
   "source": [
    "cam = xr.open_dataset(\"cam.nc\", decode_times=False)\n",
    "cam.time.attrs['units'] = 'days since 1999-09-12 00:00:00'\n",
    "cam = xr.decode_cf(cam)\n",
    "\n",
    "\n",
    "truth = xr.open_dataset(\"epic_renamed.nc\", decode_times=False)\n",
    "truth.tsec.attrs['units'] = 'seconds since 1999-09-12'\n",
    "truth = xr.decode_cf(truth)"
   ]
  },
  {
   "cell_type": "markdown",
   "metadata": {},
   "source": [
    "Fix units of precip"
   ]
  },
  {
   "cell_type": "code",
   "execution_count": null,
   "metadata": {},
   "outputs": [],
   "source": [
    "truth['prec'] = truth.prec*24"
   ]
  },
  {
   "cell_type": "code",
   "execution_count": null,
   "metadata": {},
   "outputs": [],
   "source": [
    "truth.prec.plot(label='ERA40')\n",
    "((cam.PRECC+cam.PRECL)*86400 * 1000 ).plot(label='CAM')\n",
    "plt.legend()"
   ]
  },
  {
   "cell_type": "code",
   "execution_count": null,
   "metadata": {},
   "outputs": [],
   "source": [
    "def plot_q(x):\n",
    "    q_levels = 2.5*np.arange(10)\n",
    "    plt.figure(figsize=(8,4), dpi=100)\n",
    "    cs = x.plot.contour(levels=q_levels)\n",
    "    x.plot.contourf(levels=q_levels)\n",
    "    plt.clabel(cs, q_levels, colors='w', fmt='%1.1f')\n",
    "    plt.gca().invert_yaxis()\n",
    "    plt.xticks(rotation=30)"
   ]
  },
  {
   "cell_type": "markdown",
   "metadata": {},
   "source": [
    "Here is the humidity from the IOP data:"
   ]
  },
  {
   "cell_type": "code",
   "execution_count": null,
   "metadata": {},
   "outputs": [],
   "source": [
    "plot_q(truth.q.T.squeeze() * 1000)"
   ]
  },
  {
   "cell_type": "markdown",
   "metadata": {},
   "source": [
    "This is the humidity from the CAM single column model:"
   ]
  },
  {
   "cell_type": "code",
   "execution_count": null,
   "metadata": {},
   "outputs": [],
   "source": [
    "plot_q(cam.Q.T.squeeze() * 1000)"
   ]
  }
 ],
 "metadata": {
  "kernelspec": {
   "display_name": "Python [default]",
   "language": "python",
   "name": "python3"
  },
  "language_info": {
   "codemirror_mode": {
    "name": "ipython",
    "version": 3
   },
   "file_extension": ".py",
   "mimetype": "text/x-python",
   "name": "python",
   "nbconvert_exporter": "python",
   "pygments_lexer": "ipython3",
   "version": "3.6.3"
  }
 },
 "nbformat": 4,
 "nbformat_minor": 2
}
