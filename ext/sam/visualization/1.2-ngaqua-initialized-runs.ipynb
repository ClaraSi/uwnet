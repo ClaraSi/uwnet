{
 "cells": [
  {
   "cell_type": "code",
   "execution_count": null,
   "metadata": {},
   "outputs": [],
   "source": [
    "%matplotlib inline"
   ]
  },
  {
   "cell_type": "code",
   "execution_count": null,
   "metadata": {},
   "outputs": [],
   "source": [
    "true_path = \"/Users/noah/workspace/research/uw-machine-learning/data/raw/2/NG_5120x2560x34_4km_10s_QOBS_EQX/coarse/\"\n",
    "    "
   ]
  },
  {
   "cell_type": "code",
   "execution_count": null,
   "metadata": {},
   "outputs": [],
   "source": [
    "import re\n",
    "\n",
    "def open_caseid(caseid):\n",
    "    out_3d_path = \"/Users/noah/workspace/models/SAMUWgh/OUT_3D\"\n",
    "    out_2d_path = \"/Users/noah/workspace/models/SAMUWgh/OUT_2D\"\n",
    "   \n",
    "    d3 = xr.open_mfdataset(f\"{out_3d_path}/{caseid}_*.nc\", autoclose=True)\n",
    "    d2 = xr.open_mfdataset(f\"{out_2d_path}/{caseid}_*.nc\")\n",
    "    \n",
    "    return d2, d3\n",
    "\n",
    "\n",
    "def open_caseid_3d(caseid):\n",
    "    out_3d_path = \"/Users/noah/workspace/models/SAMUWgh/OUT_3D\"   \n",
    "    ds = xr.open_mfdataset(f\"{out_3d_path}/{caseid}_*.nc\", autoclose=True)\n",
    "    return ds\n",
    "\n",
    "\n",
    "def swap_z_for_pres(ds):\n",
    "    ds['p'] = ds.p[0].drop('time')\n",
    "    return ds.swap_dims({'z': 'p'})\n",
    "\n",
    "\n",
    "def list_caseids():\n",
    "    \"\"\"List the available caseids\"\"\"\n",
    "    ncs = !ls ../OUT_3D/*.nc\n",
    "    pat = re.compile(\"^../OUT_3D/(.*?)_\\d_\\d+.nc$\")\n",
    "    return set(pat.search(nc).group(1) for nc in ncs)\n",
    "\n",
    "\n",
    "def plot_zonal_velocity(mean):\n",
    "    im = plt.contourf(mean.y, mean.p, mean,\n",
    "                      levels=np.r_[-40:45:5], cmap='RdBu_r',\n",
    "                      extend='both')\n",
    "\n",
    "\n",
    "    plt.contour(mean.y, mean.p, mean, levels=[-10, -8,-6,-4,-2,0], colors='k')\n",
    "    plt.ylim([1000,10])\n",
    "    plt.colorbar(im)\n",
    "    plt.title(\"Zonal Velocity\")\n",
    "    plt.xlabel(\"y\")\n",
    "    plt.ylabel(\"p\");\n"
   ]
  },
  {
   "cell_type": "code",
   "execution_count": null,
   "metadata": {},
   "outputs": [],
   "source": [
    "list_caseids()"
   ]
  },
  {
   "cell_type": "code",
   "execution_count": null,
   "metadata": {},
   "outputs": [],
   "source": [
    "d2, d3 = open_caseid(\"NGAqua_ngaqua.dt30\")"
   ]
  },
  {
   "cell_type": "markdown",
   "metadata": {},
   "source": [
    "# Climate"
   ]
  },
  {
   "cell_type": "code",
   "execution_count": null,
   "metadata": {},
   "outputs": [],
   "source": [
    "mean = swap_z_for_pres(d3).mean(['time', 'x'])"
   ]
  },
  {
   "cell_type": "code",
   "execution_count": null,
   "metadata": {},
   "outputs": [],
   "source": [
    "p = mean.p\n",
    "tm = mean.TABS\n",
    "\n",
    "tht  = tm * (1000/p)**(2/7)\n",
    "\n",
    "levels = np.r_[270:350:5]\n",
    "im = tht.plot.contourf(x='y', y='p', levels=levels, extend='both')\n",
    "plt.clabel(im, colors='black', inline=False, fmt=\"%.0f\")\n",
    "plt.ylim([1000, 10])\n",
    "plt.title(\"Potential Temperature\")\n",
    "plt.xlabel(\"y\")\n",
    "plt.ylabel(\"p\")\n",
    "# tht.plot.contourf(levels=levels)"
   ]
  },
  {
   "cell_type": "code",
   "execution_count": null,
   "metadata": {},
   "outputs": [],
   "source": [
    "plt.contourf(tm.y, p, tm)\n",
    "plt.ylim([1000,10])\n",
    "plt.colorbar()\n",
    "plt.title(\"Absolute Temperature\")\n",
    "plt.xlabel(\"y\")\n",
    "plt.ylabel(\"p\");"
   ]
  },
  {
   "cell_type": "code",
   "execution_count": null,
   "metadata": {},
   "outputs": [],
   "source": [
    "plot_zonal_velocity(mean.U)"
   ]
  },
  {
   "cell_type": "code",
   "execution_count": null,
   "metadata": {},
   "outputs": [],
   "source": [
    "im = plt.contourf(mean.y, mean.p, mean.V, cmap='RdBu_r',\n",
    "                  levels=np.r_[-30:35:5])\n",
    "\n",
    "plt.ylim([1000,10])\n",
    "plt.colorbar(im)\n",
    "plt.title(\"Meridional Velocity\")\n",
    "plt.xlabel(\"y\")\n",
    "plt.ylabel(\"p\");"
   ]
  },
  {
   "cell_type": "code",
   "execution_count": null,
   "metadata": {},
   "outputs": [],
   "source": [
    "ic = xr.open_dataset(\"../NGAqua/ic.nc\")\n",
    "ic.V[:,:,15].plot()"
   ]
  },
  {
   "cell_type": "markdown",
   "metadata": {},
   "source": [
    "# Spin-up\n",
    "\n",
    "Now I plot the temporal evolution of some different fields at a lower atmosphere height as the simulation spins up"
   ]
  },
  {
   "cell_type": "markdown",
   "metadata": {},
   "source": [
    "Here is the zonal velocity"
   ]
  },
  {
   "cell_type": "code",
   "execution_count": null,
   "metadata": {},
   "outputs": [],
   "source": [
    "d3.U[::4, 5].plot(col='time', col_wrap=4)"
   ]
  },
  {
   "cell_type": "markdown",
   "metadata": {},
   "source": [
    "and the meridional velocity"
   ]
  },
  {
   "cell_type": "code",
   "execution_count": null,
   "metadata": {},
   "outputs": [],
   "source": [
    "d3.V[::4, 5].plot(col='time', col_wrap=4)"
   ]
  },
  {
   "cell_type": "markdown",
   "metadata": {},
   "source": [
    "and the absolute temperature"
   ]
  },
  {
   "cell_type": "code",
   "execution_count": null,
   "metadata": {},
   "outputs": [],
   "source": [
    "d3.TABS[::4, 10].plot(col='time', col_wrap=4)"
   ]
  },
  {
   "cell_type": "markdown",
   "metadata": {},
   "source": [
    "Why does the model seem to setup a N-S temperature gradient? Why do easterly flows above the equator set in?"
   ]
  },
  {
   "cell_type": "markdown",
   "metadata": {},
   "source": [
    "# What happens if I turn off all physics?"
   ]
  },
  {
   "cell_type": "code",
   "execution_count": null,
   "metadata": {},
   "outputs": [],
   "source": [
    "d3 = open_caseid_3d(\"NGAqua_dt30.noPhys\")"
   ]
  },
  {
   "cell_type": "code",
   "execution_count": null,
   "metadata": {},
   "outputs": [],
   "source": [
    "d3.U[::4,5].plot(col='time', col_wrap=4)"
   ]
  },
  {
   "cell_type": "code",
   "execution_count": null,
   "metadata": {},
   "outputs": [],
   "source": [
    "d3.TABS[::4,2].plot(col='time', col_wrap=4)"
   ]
  },
  {
   "cell_type": "markdown",
   "metadata": {},
   "source": [
    "This issue with the boundaries is also present in the noPhys run. \n",
    "\n",
    "\n",
    "Chris thinks this issue might be due to the staggering of the meridional velocity field. This problem can be diagnosed by seeing how much the velocity field changes after a very small time step. "
   ]
  },
  {
   "cell_type": "code",
   "execution_count": null,
   "metadata": {},
   "outputs": [],
   "source": [
    "def test_dataset(caseid):\n",
    "    paths = [f\"../OUT_3D/{caseid}_1_0000000000.nc\", \n",
    "             f\"../OUT_3D/{caseid}_1_0000000001.nc\"]\n",
    "    return xr.open_mfdataset(paths, concat_dim='time').assign_coords(time=[0,1])\n",
    "\n",
    "ds = test_dataset(\"NGAqua_test.ic\")"
   ]
  },
  {
   "cell_type": "code",
   "execution_count": null,
   "metadata": {},
   "outputs": [],
   "source": [
    "\n",
    "ds.U[0,5].plot()"
   ]
  },
  {
   "cell_type": "code",
   "execution_count": null,
   "metadata": {},
   "outputs": [],
   "source": [
    "ds.U[1,5].plot()"
   ]
  },
  {
   "cell_type": "markdown",
   "metadata": {},
   "source": [
    "The zonal velocity looks pretty similar after this number of steps, so let's now look at the meridional velocity equation."
   ]
  },
  {
   "cell_type": "code",
   "execution_count": null,
   "metadata": {},
   "outputs": [],
   "source": [
    "def plot_v_slice(ds):\n",
    "\n",
    "    ds.V[0,5,:,0].plot(label='T0', marker='.')\n",
    "    ds.V[1,5,:,0].plot(label='T1', marker='o', alpha=.5)\n",
    "\n",
    "    plt.legend()"
   ]
  },
  {
   "cell_type": "code",
   "execution_count": null,
   "metadata": {},
   "outputs": [],
   "source": [
    "plot_v_slice(ds)"
   ]
  },
  {
   "cell_type": "markdown",
   "metadata": {},
   "source": [
    "As we can see there is a big discrepency in the northern part of the domain after a single 1e-8 second time step. This implies that we should check the velocity staggering. What is the velocity at the southern and northern boundaries?"
   ]
  },
  {
   "cell_type": "code",
   "execution_count": null,
   "metadata": {},
   "outputs": [],
   "source": [
    "ds.V.isel(y=0).plot(col='time')"
   ]
  },
  {
   "cell_type": "code",
   "execution_count": null,
   "metadata": {},
   "outputs": [],
   "source": [
    "ds.V.isel(y=-1).plot(col='time')"
   ]
  },
  {
   "cell_type": "markdown",
   "metadata": {},
   "source": [
    "# Interface initial conditions"
   ]
  },
  {
   "cell_type": "markdown",
   "metadata": {},
   "source": [
    "The meridional velocity at the northern boundary is much larger than at the southern boundary. I need to be careful about the staggering of these variables. Instead, let's initialize the model with the data averaged along the interfaces."
   ]
  },
  {
   "cell_type": "code",
   "execution_count": null,
   "metadata": {},
   "outputs": [],
   "source": [
    "ds_stag = test_dataset(\"NGAqua_test.ic.staggered\")\n",
    "plot_v_slice(ds_stag)"
   ]
  },
  {
   "cell_type": "markdown",
   "metadata": {},
   "source": [
    "We can see that the V velocity is essentially unchanged by the pressure projection."
   ]
  },
  {
   "cell_type": "code",
   "execution_count": null,
   "metadata": {},
   "outputs": [],
   "source": [
    "np.abs(ds_stag.diff('time')).mean().load()"
   ]
  },
  {
   "cell_type": "markdown",
   "metadata": {},
   "source": [
    "More quantitiavely, we can see that the MAD of the velocities from between the time steps is very small. Therefore, we should initialize the model with the data from the interfaces. Let's now try, running a dry dynamics simulation with this new initial condition for longer."
   ]
  },
  {
   "cell_type": "code",
   "execution_count": null,
   "metadata": {},
   "outputs": [],
   "source": [
    "ds = open_caseid_3d(\"NGAqua_icStag.dt30\").pipe(swap_z_for_pres)"
   ]
  },
  {
   "cell_type": "code",
   "execution_count": null,
   "metadata": {},
   "outputs": [],
   "source": [
    "ds.U[::8,5].plot(col='time', col_wrap=3)"
   ]
  },
  {
   "cell_type": "code",
   "execution_count": null,
   "metadata": {},
   "outputs": [],
   "source": [
    "ds.V[::8,5].plot(col='time', col_wrap=3)"
   ]
  },
  {
   "cell_type": "code",
   "execution_count": null,
   "metadata": {},
   "outputs": [],
   "source": [
    "v = 'TABS'\n",
    "\n",
    "anom = ds[v] - ds[v][0].mean('x')\n",
    "anom[::4, 5].plot(col='time', col_wrap=3)"
   ]
  },
  {
   "cell_type": "markdown",
   "metadata": {},
   "source": [
    "The simulations are much improved near the boundaries, but the data develops a **grainy appearance** after a few days. I would expect it to get smoother as time progesses since this is a coarse resolution model. Is this caused by the SGS scheme or some other problem? Is the initial data too rough somehow? Is it related to the north/south boundary conditions?"
   ]
  },
  {
   "cell_type": "markdown",
   "metadata": {},
   "source": [
    "## With SGS"
   ]
  },
  {
   "cell_type": "code",
   "execution_count": null,
   "metadata": {},
   "outputs": [],
   "source": [
    "ds = open_caseid_3d('NGAqua_icStag.SGS.dt30')"
   ]
  },
  {
   "cell_type": "code",
   "execution_count": null,
   "metadata": {},
   "outputs": [],
   "source": [
    "v = 'TABS'\n",
    "\n",
    "anom = ds[v] - ds[v][0].mean('x')\n",
    "anom[::4, 5].plot(col='time', col_wrap=3)"
   ]
  },
  {
   "cell_type": "markdown",
   "metadata": {},
   "source": [
    "This looks exactly the same. maybe there is some mistake."
   ]
  },
  {
   "cell_type": "markdown",
   "metadata": {},
   "source": [
    "## With Microphysics, Radiation, etc\n",
    "\n",
    "Now, lets turn on the rest of the physics packages in SAM, and see what the solutions looks like."
   ]
  },
  {
   "cell_type": "code",
   "execution_count": null,
   "metadata": {},
   "outputs": [],
   "source": [
    "ds = open_caseid_3d('NGAqua_icStag.SGS.MICRO.RAD.dt30')"
   ]
  },
  {
   "cell_type": "code",
   "execution_count": null,
   "metadata": {},
   "outputs": [],
   "source": [
    "v = 'TABS'\n",
    "\n",
    "anom = ds[v] - ds[v][0].mean('x')\n",
    "anom[::4, 5].plot(col='time', col_wrap=3)"
   ]
  },
  {
   "cell_type": "markdown",
   "metadata": {},
   "source": [
    "Turning on the various physics packages makes it work better. The graininess is from the grid-scale storms in the SAM model."
   ]
  }
 ],
 "metadata": {
  "kernelspec": {
   "display_name": "Python [conda env:geoviews]",
   "language": "python",
   "name": "conda-env-geoviews-py"
  },
  "language_info": {
   "codemirror_mode": {
    "name": "ipython",
    "version": 3
   },
   "file_extension": ".py",
   "mimetype": "text/x-python",
   "name": "python",
   "nbconvert_exporter": "python",
   "pygments_lexer": "ipython3",
   "version": "3.6.5"
  },
  "toc": {
   "nav_menu": {},
   "number_sections": true,
   "sideBar": true,
   "skip_h1_title": false,
   "title_cell": "Table of Contents",
   "title_sidebar": "Contents",
   "toc_cell": false,
   "toc_position": {},
   "toc_section_display": true,
   "toc_window_display": false
  },
  "varInspector": {
   "cols": {
    "lenName": 16,
    "lenType": 16,
    "lenVar": 40
   },
   "kernels_config": {
    "python": {
     "delete_cmd_postfix": "",
     "delete_cmd_prefix": "del ",
     "library": "var_list.py",
     "varRefreshCmd": "print(var_dic_list())"
    },
    "r": {
     "delete_cmd_postfix": ") ",
     "delete_cmd_prefix": "rm(",
     "library": "var_list.r",
     "varRefreshCmd": "cat(var_dic_list()) "
    }
   },
   "types_to_exclude": [
    "module",
    "function",
    "builtin_function_or_method",
    "instance",
    "_Feature"
   ],
   "window_display": false
  }
 },
 "nbformat": 4,
 "nbformat_minor": 2
}
