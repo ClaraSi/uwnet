{
 "cells": [
  {
   "cell_type": "code",
   "execution_count": null,
   "metadata": {},
   "outputs": [],
   "source": [
    "%matplotlib inline"
   ]
  },
  {
   "cell_type": "code",
   "execution_count": null,
   "metadata": {},
   "outputs": [],
   "source": [
    "# import glob, os\n",
    "# caseid = \"HeldSuarez_dt120\"\n",
    "# paths = glob.glob(f\"../OUT_3D/{caseid}*.bin3D\")\n",
    "# path = paths[-1][3:]\n",
    "# path = os.path.splitext(path)[0]\n",
    "\n",
    "# ncpath = \"../\" + path + \".nc\"\n",
    "# !docker run -v  $(pwd)/../:/tmp -w /tmp nbren12/sam bin3D2nc {path}.bin3D\n",
    "\n",
    "# ds = xr.open_dataset(ncpath)"
   ]
  },
  {
   "cell_type": "code",
   "execution_count": null,
   "metadata": {},
   "outputs": [],
   "source": [
    "caseid = \"NGAqua_ngaqua.dt15.QOBS\"\n",
    "out_3d_path = \"/Users/noah/workspace/models/SAMUWgh/OUT_3D\"\n",
    "out_2d_path = \"/Users/noah/workspace/models/SAMUWgh/OUT_2D\"\n",
    "true_path = \"/Users/noah/workspace/research/uw-machine-learning/data/raw/2/NG_5120x2560x34_4km_10s_QOBS_EQX/coarse/\""
   ]
  },
  {
   "cell_type": "code",
   "execution_count": null,
   "metadata": {},
   "outputs": [],
   "source": [
    "ds = xr.open_mfdataset(f\"{out_3d_path}/{caseid}_*.nc\", autoclose=True)"
   ]
  },
  {
   "cell_type": "markdown",
   "metadata": {},
   "source": [
    "# Climate"
   ]
  },
  {
   "cell_type": "code",
   "execution_count": null,
   "metadata": {},
   "outputs": [],
   "source": [
    "mean = ds.mean(['time', 'x'])"
   ]
  },
  {
   "cell_type": "code",
   "execution_count": null,
   "metadata": {},
   "outputs": [],
   "source": [
    "p = mean.p\n",
    "tm = mean.TABS\n",
    "\n",
    "tht  = tm * (1000/p)**(2/7)\n",
    "\n",
    "levels = np.r_[270:350:5]\n",
    "\n",
    "im = plt.contourf(tht.y, p, tht, levels=levels, extend='both')\n",
    "plt.colorbar()\n",
    "plt.clabel(im, colors='black', inline=False, fmt=\"%.0f\")\n",
    "plt.ylim([1000, 10])\n",
    "plt.title(\"Potential Temperature\")\n",
    "plt.xlabel(\"y\")\n",
    "plt.ylabel(\"p\")\n",
    "# tht.plot.contourf(levels=levels)"
   ]
  },
  {
   "cell_type": "code",
   "execution_count": null,
   "metadata": {},
   "outputs": [],
   "source": [
    "plt.contourf(tm.y, p, tm)\n",
    "plt.ylim([1000,10])\n",
    "plt.colorbar()\n",
    "plt.title(\"Absolute Temperature\")\n",
    "plt.xlabel(\"y\")\n",
    "plt.ylabel(\"p\");"
   ]
  },
  {
   "cell_type": "code",
   "execution_count": null,
   "metadata": {},
   "outputs": [],
   "source": [
    "im = plt.contourf(mean.y, mean.p, mean.U,\n",
    "                  levels=np.r_[-40:45:5], cmap='RdBu_r',\n",
    "                  extend='both')\n",
    "\n",
    "\n",
    "plt.contour(mean.y, mean.p, mean.U, levels=[-10, -8,-6,-4,-2,0], colors='k')\n",
    "plt.ylim([1000,10])\n",
    "plt.colorbar(im)\n",
    "plt.title(\"Zonal Velocity\")\n",
    "plt.xlabel(\"y\")\n",
    "plt.ylabel(\"p\");"
   ]
  },
  {
   "cell_type": "markdown",
   "metadata": {},
   "source": [
    "# Spin-up\n",
    "\n",
    "Now I plot the temporal evolution of some different fields at a lower atmosphere height as the simulation spins up"
   ]
  },
  {
   "cell_type": "markdown",
   "metadata": {},
   "source": [
    "Here is the zonal velocity"
   ]
  },
  {
   "cell_type": "code",
   "execution_count": null,
   "metadata": {},
   "outputs": [],
   "source": [
    "ds.U[::20, 5].plot(col='time', col_wrap=4)"
   ]
  },
  {
   "cell_type": "markdown",
   "metadata": {},
   "source": [
    "and the meridional velocity"
   ]
  },
  {
   "cell_type": "code",
   "execution_count": null,
   "metadata": {},
   "outputs": [],
   "source": [
    "ds.V[::20, 5].plot(col='time', col_wrap=4)"
   ]
  },
  {
   "cell_type": "markdown",
   "metadata": {},
   "source": [
    "and the absolute temperature"
   ]
  },
  {
   "cell_type": "code",
   "execution_count": null,
   "metadata": {},
   "outputs": [],
   "source": [
    "ds.TABS[::20, 5].plot(col='time', col_wrap=4)"
   ]
  },
  {
   "cell_type": "markdown",
   "metadata": {},
   "source": [
    "We can see that the equilibrium of the coarse-resolution NG-Aqua is very different than the true simulation. The N-S assymetry is especially strange. Why is that happening? Something with the radiation? We can look at the 2D fields to find this out"
   ]
  },
  {
   "cell_type": "code",
   "execution_count": null,
   "metadata": {},
   "outputs": [],
   "source": [
    "d2d = xr.open_mfdataset(f\"../OUT_2D/{caseid}*.nc\")"
   ]
  },
  {
   "cell_type": "code",
   "execution_count": null,
   "metadata": {},
   "outputs": [],
   "source": [
    "d2d.SOLIN[5].plot()"
   ]
  },
  {
   "cell_type": "markdown",
   "metadata": {},
   "source": [
    "mmmm. there is no meridional variation in SOLIN. I must have configured the run incorrectly. Is the diurnal cycle there?"
   ]
  },
  {
   "cell_type": "code",
   "execution_count": null,
   "metadata": {},
   "outputs": [],
   "source": [
    "d2d.SOLIN[:,32, 0].plot()"
   ]
  },
  {
   "cell_type": "markdown",
   "metadata": {},
   "source": [
    "No. I will have to make sure the radiation matches. How is the SST?"
   ]
  },
  {
   "cell_type": "code",
   "execution_count": null,
   "metadata": {},
   "outputs": [],
   "source": [
    "d2_true = xr.open_dataset(true_path + \"2d/all.nc\").sortby('time')"
   ]
  },
  {
   "cell_type": "code",
   "execution_count": null,
   "metadata": {},
   "outputs": [],
   "source": [
    "d2_true.SST[0,:,0].plot(label='NG-Aqua')\n",
    "d2d.SST[0,:,0].plot(label='QOBS')\n",
    "plt.legend()"
   ]
  },
  {
   "cell_type": "markdown",
   "metadata": {},
   "source": [
    "That does match either...damn. Maybe I should just initialize it from the netCDF as well? NG-Aqua doesn't look like it's using the QOBS profile weirdly enough. Let's do some reverse engineering."
   ]
  },
  {
   "cell_type": "code",
   "execution_count": null,
   "metadata": {},
   "outputs": [],
   "source": [
    "y = d2_true.y.values\n",
    "lat = (y-y.mean()) *2.5e-8 * 2 * np.pi\n",
    "\n",
    "c = np.cos(lat*1.5)\n",
    "s = np.sin(lat*1.5)\n",
    "qobs = 273.15 + 27/2  *( 3 * c**2 - c**4)\n",
    "# qobs = 273.15 + 27/2 * (2 - s**2 - s**4)"
   ]
  },
  {
   "cell_type": "code",
   "execution_count": null,
   "metadata": {},
   "outputs": [],
   "source": [
    "plt.plot(y, qobs, label='QOBS')\n",
    "plt.plot(y, d2_true.SST[0,:,0], label='NGAqus')\n",
    "plt.legend()"
   ]
  },
  {
   "cell_type": "markdown",
   "metadata": {},
   "source": [
    "I have tried to fix these discrepencies."
   ]
  },
  {
   "cell_type": "code",
   "execution_count": null,
   "metadata": {},
   "outputs": [],
   "source": [
    "caseid = \"NGAqua_ngaqua.dt30.fixRad.fixQOBS\"\n",
    "ds = xr.open_mfdataset(f\"{out_2d_path}/{caseid}_*.nc\", autoclose=True)"
   ]
  },
  {
   "cell_type": "code",
   "execution_count": null,
   "metadata": {},
   "outputs": [],
   "source": [
    "ds.SST[0,:,0].plot(label='Fixed')\n",
    "d2_true.SST[0,:,0].plot(label='NG-Aqua')"
   ]
  },
  {
   "cell_type": "markdown",
   "metadata": {},
   "source": [
    "Nice...the SST patterns line up nicely. What about the insolation?"
   ]
  },
  {
   "cell_type": "code",
   "execution_count": null,
   "metadata": {},
   "outputs": [],
   "source": [
    "\n",
    "\n",
    "y = ds.SOLIN.y\n",
    "sol_coarse = ds.SOLIN[0,:,0]\n",
    "sol_true = d2_true.SOLIN[23,:,0]\n",
    "\n",
    "plt.plot(y, sol_coarse, label='Coarse')\n",
    "plt.plot(y, sol_true, label='NGAqua')\n",
    "\n",
    "\n",
    "plt.legend()"
   ]
  },
  {
   "cell_type": "code",
   "execution_count": null,
   "metadata": {},
   "outputs": [],
   "source": [
    "float(ds.SOLIN.max())"
   ]
  },
  {
   "cell_type": "code",
   "execution_count": null,
   "metadata": {},
   "outputs": [],
   "source": [
    "float(d2_true.SOLIN.max())"
   ]
  },
  {
   "cell_type": "markdown",
   "metadata": {},
   "source": [
    "It looks the the solar constant is not the same between these simulations for some reason. Maybe because I did some averaging in the y-direction?"
   ]
  }
 ],
 "metadata": {
  "kernelspec": {
   "display_name": "Python [conda env:geoviews]",
   "language": "python",
   "name": "conda-env-geoviews-py"
  },
  "language_info": {
   "codemirror_mode": {
    "name": "ipython",
    "version": 3
   },
   "file_extension": ".py",
   "mimetype": "text/x-python",
   "name": "python",
   "nbconvert_exporter": "python",
   "pygments_lexer": "ipython3",
   "version": "3.6.5"
  },
  "toc": {
   "nav_menu": {},
   "number_sections": true,
   "sideBar": true,
   "skip_h1_title": false,
   "title_cell": "Table of Contents",
   "title_sidebar": "Contents",
   "toc_cell": false,
   "toc_position": {},
   "toc_section_display": true,
   "toc_window_display": false
  },
  "varInspector": {
   "cols": {
    "lenName": 16,
    "lenType": 16,
    "lenVar": 40
   },
   "kernels_config": {
    "python": {
     "delete_cmd_postfix": "",
     "delete_cmd_prefix": "del ",
     "library": "var_list.py",
     "varRefreshCmd": "print(var_dic_list())"
    },
    "r": {
     "delete_cmd_postfix": ") ",
     "delete_cmd_prefix": "rm(",
     "library": "var_list.r",
     "varRefreshCmd": "cat(var_dic_list()) "
    }
   },
   "types_to_exclude": [
    "module",
    "function",
    "builtin_function_or_method",
    "instance",
    "_Feature"
   ],
   "window_display": false
  }
 },
 "nbformat": 4,
 "nbformat_minor": 2
}
